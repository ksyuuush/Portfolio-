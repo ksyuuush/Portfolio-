{
 "cells": [
  {
   "cell_type": "markdown",
   "metadata": {},
   "source": [
    "# Выпускной Проект: Анализ оттока клиентов в банке «Метанпром»\n",
    "## Материалы\n",
    "\n",
    "Презентация (https://disk.yandex.ru/i/Xz_1oqe2qPZoww)"
   ]
  },
  {
   "cell_type": "markdown",
   "metadata": {},
   "source": [
    "Дашборд (https://public.tableau.com/views/_16857273533280/Dashboard1?:language=en-US&publish=yes&:display_count=n&:origin=viz_share_link)"
   ]
  },
  {
   "cell_type": "markdown",
   "metadata": {},
   "source": [
    "## Декомпозиция\n",
    "Датасет содержит данные о клиентах банка «Метанпром». Банк располагается в Ярославле и областных городах: Ростов Великий и Рыбинск.\n",
    "\n",
    "**Цель исследования** - Для отдела марркетинга банка:\n",
    "\n",
    "Разобраться в причинах увеличения оттока в банке, выделить отточные сегменты, дать рекомендации по снижению оттока.\n",
    "\n",
    "**Мое исследование пройдет в 7 этапов (задач):**\n",
    "\n",
    "1. Обзор данных\n",
    "\n",
    "Необходимо загрузить датасет и посмотреть на данные, дать комментарии по ним, что сразу видно нужно обработать и исправить.\n",
    "\n",
    "2. Предобработка данных\n",
    "- привести названия столбцов датасета к нижнему змеиному регистру\n",
    "- проверить типы данных на соответстивие значениям\n",
    "- проверить явные и неявные дубликаты\n",
    "- анализ природы пропусков и их разумная обработка;\n",
    "- кодирование (для использования в анализе корреляции).\n",
    "\n",
    "3. EDA:\n",
    "- анализ распределения признаков, в тч в разрезе оттока;\n",
    "- анализ портретов клиентов в разрезе оттока;\n",
    "- корреляционный анализ (в тч интерпретация).\n",
    "\n",
    "4. Формулировка, обосноварие метода проверки и проверка статистических гипотез:\n",
    "- Проверить гипотезу различия дохода между теми клиентами, которые ушли и теми, которые остались.\n",
    "- В процессе исследования сформулировать вторую статистическую гипотезу для проверки.\n",
    "\n",
    "5. Подведение промежуточных выводов\n",
    "- Выводы по предыдущим пунктам\n",
    "- выделение признаков влияющих на отток\n",
    "\n",
    "6. Сегментация:\n",
    "- выбирать неузкие сегменты\n",
    "- обратить внимание чтобы отток у сегментов был лучше, чем средний уровень оттока по банку\n",
    "- построить графики в разрезе признака, по которому ведется сегментация\n",
    "- описать портрет получившихся сегментов\n",
    "\n",
    "7. Выводы и рекомендации:\n",
    "- приоритизация сегментов и формирование рекомендаций (не общих, а основанных на выводах)"
   ]
  },
  {
   "cell_type": "markdown",
   "metadata": {},
   "source": [
    "## Работа над проектом\n",
    "\n",
    "### Обзор данных"
   ]
  },
  {
   "cell_type": "code",
   "execution_count": 1,
   "metadata": {},
   "outputs": [
    {
     "name": "stdout",
     "output_type": "stream",
     "text": [
      "Requirement already satisfied: phik in /opt/conda/lib/python3.9/site-packages (0.12.3)\r\n",
      "Requirement already satisfied: numpy>=1.18.0 in /opt/conda/lib/python3.9/site-packages (from phik) (1.21.1)\r\n",
      "Requirement already satisfied: matplotlib>=2.2.3 in /opt/conda/lib/python3.9/site-packages (from phik) (3.3.4)\r\n",
      "Requirement already satisfied: joblib>=0.14.1 in /opt/conda/lib/python3.9/site-packages (from phik) (1.1.0)\r\n",
      "Requirement already satisfied: scipy>=1.5.2 in /opt/conda/lib/python3.9/site-packages (from phik) (1.9.1)\r\n",
      "Requirement already satisfied: pandas>=0.25.1 in /opt/conda/lib/python3.9/site-packages (from phik) (1.2.4)\r\n",
      "Requirement already satisfied: python-dateutil>=2.1 in /opt/conda/lib/python3.9/site-packages (from matplotlib>=2.2.3->phik) (2.8.1)\r\n",
      "Requirement already satisfied: pyparsing!=2.0.4,!=2.1.2,!=2.1.6,>=2.0.3 in /opt/conda/lib/python3.9/site-packages (from matplotlib>=2.2.3->phik) (2.4.7)\r\n",
      "Requirement already satisfied: kiwisolver>=1.0.1 in /opt/conda/lib/python3.9/site-packages (from matplotlib>=2.2.3->phik) (1.4.4)\r\n",
      "Requirement already satisfied: pillow>=6.2.0 in /opt/conda/lib/python3.9/site-packages (from matplotlib>=2.2.3->phik) (8.4.0)\r\n",
      "Requirement already satisfied: cycler>=0.10 in /opt/conda/lib/python3.9/site-packages (from matplotlib>=2.2.3->phik) (0.11.0)\r\n",
      "Requirement already satisfied: pytz>=2017.3 in /opt/conda/lib/python3.9/site-packages (from pandas>=0.25.1->phik) (2021.1)\r\n",
      "Requirement already satisfied: six>=1.5 in /opt/conda/lib/python3.9/site-packages (from python-dateutil>=2.1->matplotlib>=2.2.3->phik) (1.16.0)\r\n"
     ]
    }
   ],
   "source": [
    "# импорт библиотек\n",
    "import pandas as pd \n",
    "import numpy as np\n",
    "import datetime as dt\n",
    "import seaborn as sns\n",
    "pd.set_option('display.max_columns', 0)\n",
    "import matplotlib.pyplot as plt\n",
    "import plotly.express as px\n",
    "import plotly.graph_objects as go\n",
    "import warnings\n",
    "warnings.filterwarnings(\"ignore\")\n",
    "import numpy as np\n",
    "import matplotlib\n",
    "from scipy import stats as st\n",
    "! pip install phik\n",
    "import phik"
   ]
  },
  {
   "cell_type": "code",
   "execution_count": 2,
   "metadata": {},
   "outputs": [],
   "source": [
    "path = \"https://drive.google.com/uc?export=download&id=1-U61mhTz_N1ARjy2XSAZ7IlQqGjeqP0F\"\n",
    "df = pd.read_csv(path)"
   ]
  },
  {
   "cell_type": "code",
   "execution_count": 3,
   "metadata": {},
   "outputs": [
    {
     "name": "stdout",
     "output_type": "stream",
     "text": [
      "<class 'pandas.core.frame.DataFrame'>\n",
      "RangeIndex: 10000 entries, 0 to 9999\n",
      "Data columns (total 12 columns):\n",
      " #   Column         Non-Null Count  Dtype  \n",
      "---  ------         --------------  -----  \n",
      " 0   USERID         10000 non-null  int64  \n",
      " 1   score          10000 non-null  float64\n",
      " 2   city           10000 non-null  object \n",
      " 3   gender         10000 non-null  object \n",
      " 4   age            9974 non-null   float64\n",
      " 5   equity         10000 non-null  int64  \n",
      " 6   balance        7705 non-null   float64\n",
      " 7   products       10000 non-null  int64  \n",
      " 8   credit_card    10000 non-null  int64  \n",
      " 9   last_activity  10000 non-null  int64  \n",
      " 10  EST_SALARY     10000 non-null  float64\n",
      " 11  churn          10000 non-null  int64  \n",
      "dtypes: float64(4), int64(6), object(2)\n",
      "memory usage: 937.6+ KB\n"
     ]
    },
    {
     "data": {
      "text/html": [
       "<div>\n",
       "<style scoped>\n",
       "    .dataframe tbody tr th:only-of-type {\n",
       "        vertical-align: middle;\n",
       "    }\n",
       "\n",
       "    .dataframe tbody tr th {\n",
       "        vertical-align: top;\n",
       "    }\n",
       "\n",
       "    .dataframe thead th {\n",
       "        text-align: right;\n",
       "    }\n",
       "</style>\n",
       "<table border=\"1\" class=\"dataframe\">\n",
       "  <thead>\n",
       "    <tr style=\"text-align: right;\">\n",
       "      <th></th>\n",
       "      <th>USERID</th>\n",
       "      <th>score</th>\n",
       "      <th>city</th>\n",
       "      <th>gender</th>\n",
       "      <th>age</th>\n",
       "      <th>equity</th>\n",
       "      <th>balance</th>\n",
       "      <th>products</th>\n",
       "      <th>credit_card</th>\n",
       "      <th>last_activity</th>\n",
       "      <th>EST_SALARY</th>\n",
       "      <th>churn</th>\n",
       "    </tr>\n",
       "  </thead>\n",
       "  <tbody>\n",
       "    <tr>\n",
       "      <th>0</th>\n",
       "      <td>183012</td>\n",
       "      <td>850.0</td>\n",
       "      <td>Рыбинск</td>\n",
       "      <td>Ж</td>\n",
       "      <td>25.0</td>\n",
       "      <td>1</td>\n",
       "      <td>59214.82</td>\n",
       "      <td>2</td>\n",
       "      <td>0</td>\n",
       "      <td>1</td>\n",
       "      <td>75719.14</td>\n",
       "      <td>1</td>\n",
       "    </tr>\n",
       "    <tr>\n",
       "      <th>1</th>\n",
       "      <td>146556</td>\n",
       "      <td>861.0</td>\n",
       "      <td>Рыбинск</td>\n",
       "      <td>Ж</td>\n",
       "      <td>37.0</td>\n",
       "      <td>5</td>\n",
       "      <td>850594.33</td>\n",
       "      <td>3</td>\n",
       "      <td>1</td>\n",
       "      <td>0</td>\n",
       "      <td>86621.77</td>\n",
       "      <td>0</td>\n",
       "    </tr>\n",
       "    <tr>\n",
       "      <th>2</th>\n",
       "      <td>120722</td>\n",
       "      <td>892.0</td>\n",
       "      <td>Рыбинск</td>\n",
       "      <td>Ж</td>\n",
       "      <td>30.0</td>\n",
       "      <td>0</td>\n",
       "      <td>NaN</td>\n",
       "      <td>1</td>\n",
       "      <td>1</td>\n",
       "      <td>1</td>\n",
       "      <td>107683.34</td>\n",
       "      <td>0</td>\n",
       "    </tr>\n",
       "    <tr>\n",
       "      <th>3</th>\n",
       "      <td>225363</td>\n",
       "      <td>866.0</td>\n",
       "      <td>Ярославль</td>\n",
       "      <td>Ж</td>\n",
       "      <td>51.0</td>\n",
       "      <td>5</td>\n",
       "      <td>1524746.26</td>\n",
       "      <td>2</td>\n",
       "      <td>0</td>\n",
       "      <td>1</td>\n",
       "      <td>174423.53</td>\n",
       "      <td>1</td>\n",
       "    </tr>\n",
       "    <tr>\n",
       "      <th>4</th>\n",
       "      <td>157978</td>\n",
       "      <td>730.0</td>\n",
       "      <td>Ярославль</td>\n",
       "      <td>М</td>\n",
       "      <td>34.0</td>\n",
       "      <td>5</td>\n",
       "      <td>174.00</td>\n",
       "      <td>1</td>\n",
       "      <td>1</td>\n",
       "      <td>0</td>\n",
       "      <td>67353.16</td>\n",
       "      <td>1</td>\n",
       "    </tr>\n",
       "  </tbody>\n",
       "</table>\n",
       "</div>"
      ],
      "text/plain": [
       "   USERID  score       city  ... last_activity  EST_SALARY  churn\n",
       "0  183012  850.0    Рыбинск  ...             1    75719.14      1\n",
       "1  146556  861.0    Рыбинск  ...             0    86621.77      0\n",
       "2  120722  892.0    Рыбинск  ...             1   107683.34      0\n",
       "3  225363  866.0  Ярославль  ...             1   174423.53      1\n",
       "4  157978  730.0  Ярославль  ...             0    67353.16      1\n",
       "\n",
       "[5 rows x 12 columns]"
      ]
     },
     "execution_count": 3,
     "metadata": {},
     "output_type": "execute_result"
    }
   ],
   "source": [
    "df.info()\n",
    "df.head()"
   ]
  },
  {
   "cell_type": "markdown",
   "metadata": {},
   "source": [
    "**При первом взгляде на данные можно сказать, что:**\n",
    "\n",
    "- есть пропущенные значения в датасете в столбцах age, balance\n",
    "- название столбцов USERID, EST_SALARY в датасете необходимо привести к нижнему змеиному регистру\n",
    "- столбец age в датасете можноо заменить тип на int64 для корректного отображения возраста, однако, пока не разберемся с пропусками в этом столбце, это сделать будет проблематично."
   ]
  },
  {
   "cell_type": "markdown",
   "metadata": {},
   "source": [
    "### Предобработка данных"
   ]
  },
  {
   "cell_type": "markdown",
   "metadata": {},
   "source": [
    "**Заменим названия столбцов на змеиный регистр**"
   ]
  },
  {
   "cell_type": "code",
   "execution_count": 4,
   "metadata": {},
   "outputs": [
    {
     "data": {
      "text/html": [
       "<div>\n",
       "<style scoped>\n",
       "    .dataframe tbody tr th:only-of-type {\n",
       "        vertical-align: middle;\n",
       "    }\n",
       "\n",
       "    .dataframe tbody tr th {\n",
       "        vertical-align: top;\n",
       "    }\n",
       "\n",
       "    .dataframe thead th {\n",
       "        text-align: right;\n",
       "    }\n",
       "</style>\n",
       "<table border=\"1\" class=\"dataframe\">\n",
       "  <thead>\n",
       "    <tr style=\"text-align: right;\">\n",
       "      <th></th>\n",
       "      <th>user_id</th>\n",
       "      <th>score</th>\n",
       "      <th>city</th>\n",
       "      <th>gender</th>\n",
       "      <th>age</th>\n",
       "      <th>equity</th>\n",
       "      <th>balance</th>\n",
       "      <th>products</th>\n",
       "      <th>credit_card</th>\n",
       "      <th>last_activity</th>\n",
       "      <th>est_salary</th>\n",
       "      <th>churn</th>\n",
       "    </tr>\n",
       "  </thead>\n",
       "  <tbody>\n",
       "    <tr>\n",
       "      <th>0</th>\n",
       "      <td>183012</td>\n",
       "      <td>850.0</td>\n",
       "      <td>Рыбинск</td>\n",
       "      <td>Ж</td>\n",
       "      <td>25.0</td>\n",
       "      <td>1</td>\n",
       "      <td>59214.82</td>\n",
       "      <td>2</td>\n",
       "      <td>0</td>\n",
       "      <td>1</td>\n",
       "      <td>75719.14</td>\n",
       "      <td>1</td>\n",
       "    </tr>\n",
       "    <tr>\n",
       "      <th>1</th>\n",
       "      <td>146556</td>\n",
       "      <td>861.0</td>\n",
       "      <td>Рыбинск</td>\n",
       "      <td>Ж</td>\n",
       "      <td>37.0</td>\n",
       "      <td>5</td>\n",
       "      <td>850594.33</td>\n",
       "      <td>3</td>\n",
       "      <td>1</td>\n",
       "      <td>0</td>\n",
       "      <td>86621.77</td>\n",
       "      <td>0</td>\n",
       "    </tr>\n",
       "    <tr>\n",
       "      <th>2</th>\n",
       "      <td>120722</td>\n",
       "      <td>892.0</td>\n",
       "      <td>Рыбинск</td>\n",
       "      <td>Ж</td>\n",
       "      <td>30.0</td>\n",
       "      <td>0</td>\n",
       "      <td>NaN</td>\n",
       "      <td>1</td>\n",
       "      <td>1</td>\n",
       "      <td>1</td>\n",
       "      <td>107683.34</td>\n",
       "      <td>0</td>\n",
       "    </tr>\n",
       "    <tr>\n",
       "      <th>3</th>\n",
       "      <td>225363</td>\n",
       "      <td>866.0</td>\n",
       "      <td>Ярославль</td>\n",
       "      <td>Ж</td>\n",
       "      <td>51.0</td>\n",
       "      <td>5</td>\n",
       "      <td>1524746.26</td>\n",
       "      <td>2</td>\n",
       "      <td>0</td>\n",
       "      <td>1</td>\n",
       "      <td>174423.53</td>\n",
       "      <td>1</td>\n",
       "    </tr>\n",
       "    <tr>\n",
       "      <th>4</th>\n",
       "      <td>157978</td>\n",
       "      <td>730.0</td>\n",
       "      <td>Ярославль</td>\n",
       "      <td>М</td>\n",
       "      <td>34.0</td>\n",
       "      <td>5</td>\n",
       "      <td>174.00</td>\n",
       "      <td>1</td>\n",
       "      <td>1</td>\n",
       "      <td>0</td>\n",
       "      <td>67353.16</td>\n",
       "      <td>1</td>\n",
       "    </tr>\n",
       "  </tbody>\n",
       "</table>\n",
       "</div>"
      ],
      "text/plain": [
       "   user_id  score       city  ... last_activity  est_salary  churn\n",
       "0   183012  850.0    Рыбинск  ...             1    75719.14      1\n",
       "1   146556  861.0    Рыбинск  ...             0    86621.77      0\n",
       "2   120722  892.0    Рыбинск  ...             1   107683.34      0\n",
       "3   225363  866.0  Ярославль  ...             1   174423.53      1\n",
       "4   157978  730.0  Ярославль  ...             0    67353.16      1\n",
       "\n",
       "[5 rows x 12 columns]"
      ]
     },
     "execution_count": 4,
     "metadata": {},
     "output_type": "execute_result"
    }
   ],
   "source": [
    "df = df.rename(columns={\n",
    "    'USERID': 'user_id',\n",
    "    'EST_SALARY': 'est_salary'\n",
    "})\n",
    "df.head()"
   ]
  },
  {
   "cell_type": "markdown",
   "metadata": {},
   "source": [
    "**Проверим дубликаты**"
   ]
  },
  {
   "cell_type": "code",
   "execution_count": 5,
   "metadata": {},
   "outputs": [
    {
     "data": {
      "text/plain": [
       "0"
      ]
     },
     "execution_count": 5,
     "metadata": {},
     "output_type": "execute_result"
    }
   ],
   "source": [
    "df.duplicated().sum()"
   ]
  },
  {
   "cell_type": "markdown",
   "metadata": {},
   "source": [
    "Явных дубликатов нет, посмотрим что с неявными"
   ]
  },
  {
   "cell_type": "code",
   "execution_count": 6,
   "metadata": {},
   "outputs": [
    {
     "name": "stdout",
     "output_type": "stream",
     "text": [
      "10000\n",
      "9927\n"
     ]
    }
   ],
   "source": [
    "df.duplicated(subset=['user_id']).sum()\n",
    "print(len(df))\n",
    "df = df.drop_duplicates(subset=['user_id'])\n",
    "print(len(df))"
   ]
  },
  {
   "cell_type": "markdown",
   "metadata": {},
   "source": [
    "Удалили неявные дубликаты."
   ]
  },
  {
   "cell_type": "markdown",
   "metadata": {},
   "source": [
    "**Работа с пропусками**"
   ]
  },
  {
   "cell_type": "code",
   "execution_count": 7,
   "metadata": {},
   "outputs": [
    {
     "data": {
      "text/html": [
       "<style  type=\"text/css\" >\n",
       "#T_7c6d0_row0_col0,#T_7c6d0_row1_col0,#T_7c6d0_row2_col0,#T_7c6d0_row3_col0,#T_7c6d0_row4_col0,#T_7c6d0_row5_col0,#T_7c6d0_row7_col0,#T_7c6d0_row8_col0,#T_7c6d0_row9_col0,#T_7c6d0_row10_col0,#T_7c6d0_row11_col0{\n",
       "            background-color:  #3b4cc0;\n",
       "            color:  #f1f1f1;\n",
       "        }#T_7c6d0_row6_col0{\n",
       "            background-color:  #b40426;\n",
       "            color:  #f1f1f1;\n",
       "        }</style><table id=\"T_7c6d0_\" ><thead>    <tr>        <th class=\"blank level0\" ></th>        <th class=\"col_heading level0 col0\" >0</th>    </tr></thead><tbody>\n",
       "                <tr>\n",
       "                        <th id=\"T_7c6d0_level0_row0\" class=\"row_heading level0 row0\" >user_id</th>\n",
       "                        <td id=\"T_7c6d0_row0_col0\" class=\"data row0 col0\" >0.000000</td>\n",
       "            </tr>\n",
       "            <tr>\n",
       "                        <th id=\"T_7c6d0_level0_row1\" class=\"row_heading level0 row1\" >score</th>\n",
       "                        <td id=\"T_7c6d0_row1_col0\" class=\"data row1 col0\" >0.000000</td>\n",
       "            </tr>\n",
       "            <tr>\n",
       "                        <th id=\"T_7c6d0_level0_row2\" class=\"row_heading level0 row2\" >city</th>\n",
       "                        <td id=\"T_7c6d0_row2_col0\" class=\"data row2 col0\" >0.000000</td>\n",
       "            </tr>\n",
       "            <tr>\n",
       "                        <th id=\"T_7c6d0_level0_row3\" class=\"row_heading level0 row3\" >gender</th>\n",
       "                        <td id=\"T_7c6d0_row3_col0\" class=\"data row3 col0\" >0.000000</td>\n",
       "            </tr>\n",
       "            <tr>\n",
       "                        <th id=\"T_7c6d0_level0_row4\" class=\"row_heading level0 row4\" >age</th>\n",
       "                        <td id=\"T_7c6d0_row4_col0\" class=\"data row4 col0\" >0.000000</td>\n",
       "            </tr>\n",
       "            <tr>\n",
       "                        <th id=\"T_7c6d0_level0_row5\" class=\"row_heading level0 row5\" >equity</th>\n",
       "                        <td id=\"T_7c6d0_row5_col0\" class=\"data row5 col0\" >0.000000</td>\n",
       "            </tr>\n",
       "            <tr>\n",
       "                        <th id=\"T_7c6d0_level0_row6\" class=\"row_heading level0 row6\" >balance</th>\n",
       "                        <td id=\"T_7c6d0_row6_col0\" class=\"data row6 col0\" >23.000000</td>\n",
       "            </tr>\n",
       "            <tr>\n",
       "                        <th id=\"T_7c6d0_level0_row7\" class=\"row_heading level0 row7\" >products</th>\n",
       "                        <td id=\"T_7c6d0_row7_col0\" class=\"data row7 col0\" >0.000000</td>\n",
       "            </tr>\n",
       "            <tr>\n",
       "                        <th id=\"T_7c6d0_level0_row8\" class=\"row_heading level0 row8\" >credit_card</th>\n",
       "                        <td id=\"T_7c6d0_row8_col0\" class=\"data row8 col0\" >0.000000</td>\n",
       "            </tr>\n",
       "            <tr>\n",
       "                        <th id=\"T_7c6d0_level0_row9\" class=\"row_heading level0 row9\" >last_activity</th>\n",
       "                        <td id=\"T_7c6d0_row9_col0\" class=\"data row9 col0\" >0.000000</td>\n",
       "            </tr>\n",
       "            <tr>\n",
       "                        <th id=\"T_7c6d0_level0_row10\" class=\"row_heading level0 row10\" >est_salary</th>\n",
       "                        <td id=\"T_7c6d0_row10_col0\" class=\"data row10 col0\" >0.000000</td>\n",
       "            </tr>\n",
       "            <tr>\n",
       "                        <th id=\"T_7c6d0_level0_row11\" class=\"row_heading level0 row11\" >churn</th>\n",
       "                        <td id=\"T_7c6d0_row11_col0\" class=\"data row11 col0\" >0.000000</td>\n",
       "            </tr>\n",
       "    </tbody></table>"
      ],
      "text/plain": [
       "<pandas.io.formats.style.Styler at 0x7fb734df0cd0>"
      ]
     },
     "execution_count": 7,
     "metadata": {},
     "output_type": "execute_result"
    }
   ],
   "source": [
    "pd.DataFrame(round(df.isna().mean()*100,)).style.background_gradient('coolwarm')"
   ]
  },
  {
   "cell_type": "markdown",
   "metadata": {},
   "source": [
    "- В столбце age пропуски минимальны - можем ими принебречь и удалить их. \n",
    "- Столбец balance имеет классификацию MNAR — пропуски зависят от данных (скорее всего от возраста, семейного положения, количества недвижимости и т.п.), без дополнительного обоснования их нельзя отбрасывать или заполнять одним значением, т.к. это приведёт к заметным искажениям. Поэтому столбец не будем трогать."
   ]
  },
  {
   "cell_type": "code",
   "execution_count": 8,
   "metadata": {},
   "outputs": [],
   "source": [
    "df = df.dropna(subset=['age']).reset_index(drop=True)"
   ]
  },
  {
   "cell_type": "code",
   "execution_count": 9,
   "metadata": {},
   "outputs": [
    {
     "data": {
      "text/html": [
       "<div>\n",
       "<style scoped>\n",
       "    .dataframe tbody tr th:only-of-type {\n",
       "        vertical-align: middle;\n",
       "    }\n",
       "\n",
       "    .dataframe tbody tr th {\n",
       "        vertical-align: top;\n",
       "    }\n",
       "\n",
       "    .dataframe thead th {\n",
       "        text-align: right;\n",
       "    }\n",
       "</style>\n",
       "<table border=\"1\" class=\"dataframe\">\n",
       "  <thead>\n",
       "    <tr style=\"text-align: right;\">\n",
       "      <th></th>\n",
       "      <th>count</th>\n",
       "      <th>mean</th>\n",
       "      <th>std</th>\n",
       "      <th>min</th>\n",
       "      <th>25%</th>\n",
       "      <th>50%</th>\n",
       "      <th>75%</th>\n",
       "      <th>max</th>\n",
       "    </tr>\n",
       "  </thead>\n",
       "  <tbody>\n",
       "    <tr>\n",
       "      <th>user_id</th>\n",
       "      <td>9923.0</td>\n",
       "      <td>171731.481205</td>\n",
       "      <td>3.369437e+04</td>\n",
       "      <td>94561.0</td>\n",
       "      <td>142720.000</td>\n",
       "      <td>172635.00</td>\n",
       "      <td>201157.500</td>\n",
       "      <td>2.291450e+05</td>\n",
       "    </tr>\n",
       "    <tr>\n",
       "      <th>score</th>\n",
       "      <td>9923.0</td>\n",
       "      <td>848.732339</td>\n",
       "      <td>6.540011e+01</td>\n",
       "      <td>642.0</td>\n",
       "      <td>802.000</td>\n",
       "      <td>853.00</td>\n",
       "      <td>900.000</td>\n",
       "      <td>1.000000e+03</td>\n",
       "    </tr>\n",
       "    <tr>\n",
       "      <th>age</th>\n",
       "      <td>9923.0</td>\n",
       "      <td>42.729215</td>\n",
       "      <td>1.217701e+01</td>\n",
       "      <td>18.0</td>\n",
       "      <td>33.000</td>\n",
       "      <td>40.00</td>\n",
       "      <td>51.000</td>\n",
       "      <td>8.600000e+01</td>\n",
       "    </tr>\n",
       "    <tr>\n",
       "      <th>equity</th>\n",
       "      <td>9923.0</td>\n",
       "      <td>2.634284</td>\n",
       "      <td>1.979328e+00</td>\n",
       "      <td>0.0</td>\n",
       "      <td>0.000</td>\n",
       "      <td>3.00</td>\n",
       "      <td>4.000</td>\n",
       "      <td>9.000000e+00</td>\n",
       "    </tr>\n",
       "    <tr>\n",
       "      <th>balance</th>\n",
       "      <td>7663.0</td>\n",
       "      <td>828248.159829</td>\n",
       "      <td>1.984248e+06</td>\n",
       "      <td>0.0</td>\n",
       "      <td>295498.985</td>\n",
       "      <td>524961.22</td>\n",
       "      <td>980801.490</td>\n",
       "      <td>1.191136e+08</td>\n",
       "    </tr>\n",
       "    <tr>\n",
       "      <th>products</th>\n",
       "      <td>9923.0</td>\n",
       "      <td>1.871511</td>\n",
       "      <td>7.931103e-01</td>\n",
       "      <td>0.0</td>\n",
       "      <td>1.000</td>\n",
       "      <td>2.00</td>\n",
       "      <td>2.000</td>\n",
       "      <td>5.000000e+00</td>\n",
       "    </tr>\n",
       "    <tr>\n",
       "      <th>credit_card</th>\n",
       "      <td>9923.0</td>\n",
       "      <td>0.680036</td>\n",
       "      <td>4.664857e-01</td>\n",
       "      <td>0.0</td>\n",
       "      <td>0.000</td>\n",
       "      <td>1.00</td>\n",
       "      <td>1.000</td>\n",
       "      <td>1.000000e+00</td>\n",
       "    </tr>\n",
       "    <tr>\n",
       "      <th>last_activity</th>\n",
       "      <td>9923.0</td>\n",
       "      <td>0.523330</td>\n",
       "      <td>4.994806e-01</td>\n",
       "      <td>0.0</td>\n",
       "      <td>0.000</td>\n",
       "      <td>1.00</td>\n",
       "      <td>1.000</td>\n",
       "      <td>1.000000e+00</td>\n",
       "    </tr>\n",
       "    <tr>\n",
       "      <th>est_salary</th>\n",
       "      <td>9923.0</td>\n",
       "      <td>147886.494764</td>\n",
       "      <td>1.393639e+05</td>\n",
       "      <td>2546.3</td>\n",
       "      <td>75252.125</td>\n",
       "      <td>119719.33</td>\n",
       "      <td>174673.285</td>\n",
       "      <td>1.395064e+06</td>\n",
       "    </tr>\n",
       "    <tr>\n",
       "      <th>churn</th>\n",
       "      <td>9923.0</td>\n",
       "      <td>0.183311</td>\n",
       "      <td>3.869412e-01</td>\n",
       "      <td>0.0</td>\n",
       "      <td>0.000</td>\n",
       "      <td>0.00</td>\n",
       "      <td>0.000</td>\n",
       "      <td>1.000000e+00</td>\n",
       "    </tr>\n",
       "  </tbody>\n",
       "</table>\n",
       "</div>"
      ],
      "text/plain": [
       "                count           mean  ...         75%           max\n",
       "user_id        9923.0  171731.481205  ...  201157.500  2.291450e+05\n",
       "score          9923.0     848.732339  ...     900.000  1.000000e+03\n",
       "age            9923.0      42.729215  ...      51.000  8.600000e+01\n",
       "equity         9923.0       2.634284  ...       4.000  9.000000e+00\n",
       "balance        7663.0  828248.159829  ...  980801.490  1.191136e+08\n",
       "products       9923.0       1.871511  ...       2.000  5.000000e+00\n",
       "credit_card    9923.0       0.680036  ...       1.000  1.000000e+00\n",
       "last_activity  9923.0       0.523330  ...       1.000  1.000000e+00\n",
       "est_salary     9923.0  147886.494764  ...  174673.285  1.395064e+06\n",
       "churn          9923.0       0.183311  ...       0.000  1.000000e+00\n",
       "\n",
       "[10 rows x 8 columns]"
      ]
     },
     "execution_count": 9,
     "metadata": {},
     "output_type": "execute_result"
    }
   ],
   "source": [
    "df.describe().T"
   ]
  },
  {
   "cell_type": "code",
   "execution_count": 10,
   "metadata": {},
   "outputs": [
    {
     "data": {
      "text/html": [
       "<div>\n",
       "<style scoped>\n",
       "    .dataframe tbody tr th:only-of-type {\n",
       "        vertical-align: middle;\n",
       "    }\n",
       "\n",
       "    .dataframe tbody tr th {\n",
       "        vertical-align: top;\n",
       "    }\n",
       "\n",
       "    .dataframe thead th {\n",
       "        text-align: right;\n",
       "    }\n",
       "</style>\n",
       "<table border=\"1\" class=\"dataframe\">\n",
       "  <thead>\n",
       "    <tr style=\"text-align: right;\">\n",
       "      <th></th>\n",
       "      <th>count</th>\n",
       "      <th>mean</th>\n",
       "      <th>std</th>\n",
       "      <th>min</th>\n",
       "      <th>25%</th>\n",
       "      <th>50%</th>\n",
       "      <th>75%</th>\n",
       "      <th>max</th>\n",
       "    </tr>\n",
       "  </thead>\n",
       "  <tbody>\n",
       "    <tr>\n",
       "      <th>user_id</th>\n",
       "      <td>2260.0</td>\n",
       "      <td>171975.568584</td>\n",
       "      <td>33277.188448</td>\n",
       "      <td>114182.00</td>\n",
       "      <td>143067.000</td>\n",
       "      <td>172498.50</td>\n",
       "      <td>201354.2500</td>\n",
       "      <td>229145.00</td>\n",
       "    </tr>\n",
       "    <tr>\n",
       "      <th>score</th>\n",
       "      <td>2260.0</td>\n",
       "      <td>865.334956</td>\n",
       "      <td>89.669447</td>\n",
       "      <td>642.00</td>\n",
       "      <td>871.000</td>\n",
       "      <td>903.00</td>\n",
       "      <td>922.0000</td>\n",
       "      <td>990.00</td>\n",
       "    </tr>\n",
       "    <tr>\n",
       "      <th>age</th>\n",
       "      <td>2260.0</td>\n",
       "      <td>42.125664</td>\n",
       "      <td>11.953138</td>\n",
       "      <td>18.00</td>\n",
       "      <td>33.000</td>\n",
       "      <td>40.00</td>\n",
       "      <td>49.0000</td>\n",
       "      <td>86.00</td>\n",
       "    </tr>\n",
       "    <tr>\n",
       "      <th>equity</th>\n",
       "      <td>2260.0</td>\n",
       "      <td>0.051770</td>\n",
       "      <td>0.227525</td>\n",
       "      <td>0.00</td>\n",
       "      <td>0.000</td>\n",
       "      <td>0.00</td>\n",
       "      <td>0.0000</td>\n",
       "      <td>3.00</td>\n",
       "    </tr>\n",
       "    <tr>\n",
       "      <th>balance</th>\n",
       "      <td>0.0</td>\n",
       "      <td>NaN</td>\n",
       "      <td>NaN</td>\n",
       "      <td>NaN</td>\n",
       "      <td>NaN</td>\n",
       "      <td>NaN</td>\n",
       "      <td>NaN</td>\n",
       "      <td>NaN</td>\n",
       "    </tr>\n",
       "    <tr>\n",
       "      <th>products</th>\n",
       "      <td>2260.0</td>\n",
       "      <td>1.161504</td>\n",
       "      <td>0.401442</td>\n",
       "      <td>0.00</td>\n",
       "      <td>1.000</td>\n",
       "      <td>1.00</td>\n",
       "      <td>1.0000</td>\n",
       "      <td>3.00</td>\n",
       "    </tr>\n",
       "    <tr>\n",
       "      <th>credit_card</th>\n",
       "      <td>2260.0</td>\n",
       "      <td>0.815487</td>\n",
       "      <td>0.387988</td>\n",
       "      <td>0.00</td>\n",
       "      <td>1.000</td>\n",
       "      <td>1.00</td>\n",
       "      <td>1.0000</td>\n",
       "      <td>1.00</td>\n",
       "    </tr>\n",
       "    <tr>\n",
       "      <th>last_activity</th>\n",
       "      <td>2260.0</td>\n",
       "      <td>0.549115</td>\n",
       "      <td>0.497692</td>\n",
       "      <td>0.00</td>\n",
       "      <td>0.000</td>\n",
       "      <td>1.00</td>\n",
       "      <td>1.0000</td>\n",
       "      <td>1.00</td>\n",
       "    </tr>\n",
       "    <tr>\n",
       "      <th>est_salary</th>\n",
       "      <td>2260.0</td>\n",
       "      <td>226700.563111</td>\n",
       "      <td>199981.667262</td>\n",
       "      <td>20274.03</td>\n",
       "      <td>120457.015</td>\n",
       "      <td>174755.35</td>\n",
       "      <td>240451.8125</td>\n",
       "      <td>1333687.36</td>\n",
       "    </tr>\n",
       "    <tr>\n",
       "      <th>churn</th>\n",
       "      <td>2260.0</td>\n",
       "      <td>0.005752</td>\n",
       "      <td>0.075642</td>\n",
       "      <td>0.00</td>\n",
       "      <td>0.000</td>\n",
       "      <td>0.00</td>\n",
       "      <td>0.0000</td>\n",
       "      <td>1.00</td>\n",
       "    </tr>\n",
       "  </tbody>\n",
       "</table>\n",
       "</div>"
      ],
      "text/plain": [
       "                count           mean  ...          75%         max\n",
       "user_id        2260.0  171975.568584  ...  201354.2500   229145.00\n",
       "score          2260.0     865.334956  ...     922.0000      990.00\n",
       "age            2260.0      42.125664  ...      49.0000       86.00\n",
       "equity         2260.0       0.051770  ...       0.0000        3.00\n",
       "balance           0.0            NaN  ...          NaN         NaN\n",
       "products       2260.0       1.161504  ...       1.0000        3.00\n",
       "credit_card    2260.0       0.815487  ...       1.0000        1.00\n",
       "last_activity  2260.0       0.549115  ...       1.0000        1.00\n",
       "est_salary     2260.0  226700.563111  ...  240451.8125  1333687.36\n",
       "churn          2260.0       0.005752  ...       0.0000        1.00\n",
       "\n",
       "[10 rows x 8 columns]"
      ]
     },
     "execution_count": 10,
     "metadata": {},
     "output_type": "execute_result"
    }
   ],
   "source": [
    "df[(df['balance'].isna() == True)].describe().T"
   ]
  },
  {
   "cell_type": "markdown",
   "metadata": {},
   "source": [
    "В пропущенных данных в сравнении с общими данными по признаку баланс склонность к оттоку клиентов ниже."
   ]
  },
  {
   "cell_type": "code",
   "execution_count": 11,
   "metadata": {
    "scrolled": true
   },
   "outputs": [
    {
     "data": {
      "text/html": [
       "<div>\n",
       "<style scoped>\n",
       "    .dataframe tbody tr th:only-of-type {\n",
       "        vertical-align: middle;\n",
       "    }\n",
       "\n",
       "    .dataframe tbody tr th {\n",
       "        vertical-align: top;\n",
       "    }\n",
       "\n",
       "    .dataframe thead th {\n",
       "        text-align: right;\n",
       "    }\n",
       "</style>\n",
       "<table border=\"1\" class=\"dataframe\">\n",
       "  <thead>\n",
       "    <tr style=\"text-align: right;\">\n",
       "      <th></th>\n",
       "      <th>user_id</th>\n",
       "      <th>score</th>\n",
       "      <th>age</th>\n",
       "      <th>equity</th>\n",
       "      <th>balance</th>\n",
       "      <th>products</th>\n",
       "      <th>credit_card</th>\n",
       "      <th>last_activity</th>\n",
       "      <th>est_salary</th>\n",
       "      <th>churn</th>\n",
       "    </tr>\n",
       "  </thead>\n",
       "  <tbody>\n",
       "    <tr>\n",
       "      <th>user_id</th>\n",
       "      <td>1.000000</td>\n",
       "      <td>0.009128</td>\n",
       "      <td>0.016432</td>\n",
       "      <td>0.004451</td>\n",
       "      <td>0.005697</td>\n",
       "      <td>-0.004377</td>\n",
       "      <td>0.004045</td>\n",
       "      <td>-0.031956</td>\n",
       "      <td>-0.000975</td>\n",
       "      <td>-0.010565</td>\n",
       "    </tr>\n",
       "    <tr>\n",
       "      <th>score</th>\n",
       "      <td>0.009128</td>\n",
       "      <td>1.000000</td>\n",
       "      <td>-0.011542</td>\n",
       "      <td>0.065586</td>\n",
       "      <td>0.235191</td>\n",
       "      <td>-0.003873</td>\n",
       "      <td>-0.095938</td>\n",
       "      <td>-0.030659</td>\n",
       "      <td>0.164474</td>\n",
       "      <td>0.106377</td>\n",
       "    </tr>\n",
       "    <tr>\n",
       "      <th>age</th>\n",
       "      <td>0.016432</td>\n",
       "      <td>-0.011542</td>\n",
       "      <td>1.000000</td>\n",
       "      <td>0.019764</td>\n",
       "      <td>0.070075</td>\n",
       "      <td>0.016862</td>\n",
       "      <td>-0.123113</td>\n",
       "      <td>-0.008697</td>\n",
       "      <td>-0.039372</td>\n",
       "      <td>-0.049763</td>\n",
       "    </tr>\n",
       "    <tr>\n",
       "      <th>equity</th>\n",
       "      <td>0.004451</td>\n",
       "      <td>0.065586</td>\n",
       "      <td>0.019764</td>\n",
       "      <td>1.000000</td>\n",
       "      <td>0.163711</td>\n",
       "      <td>0.431099</td>\n",
       "      <td>-0.167460</td>\n",
       "      <td>-0.001513</td>\n",
       "      <td>-0.171375</td>\n",
       "      <td>0.270195</td>\n",
       "    </tr>\n",
       "    <tr>\n",
       "      <th>balance</th>\n",
       "      <td>0.005697</td>\n",
       "      <td>0.235191</td>\n",
       "      <td>0.070075</td>\n",
       "      <td>0.163711</td>\n",
       "      <td>1.000000</td>\n",
       "      <td>0.075829</td>\n",
       "      <td>-0.059870</td>\n",
       "      <td>0.024767</td>\n",
       "      <td>0.338839</td>\n",
       "      <td>0.085698</td>\n",
       "    </tr>\n",
       "    <tr>\n",
       "      <th>products</th>\n",
       "      <td>-0.004377</td>\n",
       "      <td>-0.003873</td>\n",
       "      <td>0.016862</td>\n",
       "      <td>0.431099</td>\n",
       "      <td>0.075829</td>\n",
       "      <td>1.000000</td>\n",
       "      <td>-0.251698</td>\n",
       "      <td>0.038480</td>\n",
       "      <td>-0.117074</td>\n",
       "      <td>0.301393</td>\n",
       "    </tr>\n",
       "    <tr>\n",
       "      <th>credit_card</th>\n",
       "      <td>0.004045</td>\n",
       "      <td>-0.095938</td>\n",
       "      <td>-0.123113</td>\n",
       "      <td>-0.167460</td>\n",
       "      <td>-0.059870</td>\n",
       "      <td>-0.251698</td>\n",
       "      <td>1.000000</td>\n",
       "      <td>-0.033492</td>\n",
       "      <td>0.036183</td>\n",
       "      <td>-0.130649</td>\n",
       "    </tr>\n",
       "    <tr>\n",
       "      <th>last_activity</th>\n",
       "      <td>-0.031956</td>\n",
       "      <td>-0.030659</td>\n",
       "      <td>-0.008697</td>\n",
       "      <td>-0.001513</td>\n",
       "      <td>0.024767</td>\n",
       "      <td>0.038480</td>\n",
       "      <td>-0.033492</td>\n",
       "      <td>1.000000</td>\n",
       "      <td>0.002307</td>\n",
       "      <td>0.169514</td>\n",
       "    </tr>\n",
       "    <tr>\n",
       "      <th>est_salary</th>\n",
       "      <td>-0.000975</td>\n",
       "      <td>0.164474</td>\n",
       "      <td>-0.039372</td>\n",
       "      <td>-0.171375</td>\n",
       "      <td>0.338839</td>\n",
       "      <td>-0.117074</td>\n",
       "      <td>0.036183</td>\n",
       "      <td>0.002307</td>\n",
       "      <td>1.000000</td>\n",
       "      <td>0.001371</td>\n",
       "    </tr>\n",
       "    <tr>\n",
       "      <th>churn</th>\n",
       "      <td>-0.010565</td>\n",
       "      <td>0.106377</td>\n",
       "      <td>-0.049763</td>\n",
       "      <td>0.270195</td>\n",
       "      <td>0.085698</td>\n",
       "      <td>0.301393</td>\n",
       "      <td>-0.130649</td>\n",
       "      <td>0.169514</td>\n",
       "      <td>0.001371</td>\n",
       "      <td>1.000000</td>\n",
       "    </tr>\n",
       "  </tbody>\n",
       "</table>\n",
       "</div>"
      ],
      "text/plain": [
       "                user_id     score  ...  est_salary     churn\n",
       "user_id        1.000000  0.009128  ...   -0.000975 -0.010565\n",
       "score          0.009128  1.000000  ...    0.164474  0.106377\n",
       "age            0.016432 -0.011542  ...   -0.039372 -0.049763\n",
       "equity         0.004451  0.065586  ...   -0.171375  0.270195\n",
       "balance        0.005697  0.235191  ...    0.338839  0.085698\n",
       "products      -0.004377 -0.003873  ...   -0.117074  0.301393\n",
       "credit_card    0.004045 -0.095938  ...    0.036183 -0.130649\n",
       "last_activity -0.031956 -0.030659  ...    0.002307  0.169514\n",
       "est_salary    -0.000975  0.164474  ...    1.000000  0.001371\n",
       "churn         -0.010565  0.106377  ...    0.001371  1.000000\n",
       "\n",
       "[10 rows x 10 columns]"
      ]
     },
     "execution_count": 11,
     "metadata": {},
     "output_type": "execute_result"
    }
   ],
   "source": [
    "df.corr()"
   ]
  },
  {
   "cell_type": "markdown",
   "metadata": {},
   "source": [
    "У столбца balance не найдено высоко коррелирующих признаков\n",
    "\n",
    "Можно выдвинуть предположение о том, что пропуски в столбце balance датасета имеют случайное происхождение. \n",
    "  -  заполнение такого большого количества пропусков приведет к искажению распределения признака. \n",
    "  -  отвечая на главный вопрос нашего исследования мы выяснили, что в целом эти клиенты не склонны к оттоку. "
   ]
  },
  {
   "cell_type": "markdown",
   "metadata": {},
   "source": [
    "**Изменим тип данных в столбце age**"
   ]
  },
  {
   "cell_type": "code",
   "execution_count": 12,
   "metadata": {},
   "outputs": [
    {
     "data": {
      "text/html": [
       "<div>\n",
       "<style scoped>\n",
       "    .dataframe tbody tr th:only-of-type {\n",
       "        vertical-align: middle;\n",
       "    }\n",
       "\n",
       "    .dataframe tbody tr th {\n",
       "        vertical-align: top;\n",
       "    }\n",
       "\n",
       "    .dataframe thead th {\n",
       "        text-align: right;\n",
       "    }\n",
       "</style>\n",
       "<table border=\"1\" class=\"dataframe\">\n",
       "  <thead>\n",
       "    <tr style=\"text-align: right;\">\n",
       "      <th></th>\n",
       "      <th>user_id</th>\n",
       "      <th>score</th>\n",
       "      <th>city</th>\n",
       "      <th>gender</th>\n",
       "      <th>age</th>\n",
       "      <th>equity</th>\n",
       "      <th>balance</th>\n",
       "      <th>products</th>\n",
       "      <th>credit_card</th>\n",
       "      <th>last_activity</th>\n",
       "      <th>est_salary</th>\n",
       "      <th>churn</th>\n",
       "    </tr>\n",
       "  </thead>\n",
       "  <tbody>\n",
       "    <tr>\n",
       "      <th>0</th>\n",
       "      <td>183012</td>\n",
       "      <td>850.0</td>\n",
       "      <td>Рыбинск</td>\n",
       "      <td>Ж</td>\n",
       "      <td>25</td>\n",
       "      <td>1</td>\n",
       "      <td>59214.82</td>\n",
       "      <td>2</td>\n",
       "      <td>0</td>\n",
       "      <td>1</td>\n",
       "      <td>75719.14</td>\n",
       "      <td>1</td>\n",
       "    </tr>\n",
       "    <tr>\n",
       "      <th>1</th>\n",
       "      <td>146556</td>\n",
       "      <td>861.0</td>\n",
       "      <td>Рыбинск</td>\n",
       "      <td>Ж</td>\n",
       "      <td>37</td>\n",
       "      <td>5</td>\n",
       "      <td>850594.33</td>\n",
       "      <td>3</td>\n",
       "      <td>1</td>\n",
       "      <td>0</td>\n",
       "      <td>86621.77</td>\n",
       "      <td>0</td>\n",
       "    </tr>\n",
       "    <tr>\n",
       "      <th>2</th>\n",
       "      <td>120722</td>\n",
       "      <td>892.0</td>\n",
       "      <td>Рыбинск</td>\n",
       "      <td>Ж</td>\n",
       "      <td>30</td>\n",
       "      <td>0</td>\n",
       "      <td>NaN</td>\n",
       "      <td>1</td>\n",
       "      <td>1</td>\n",
       "      <td>1</td>\n",
       "      <td>107683.34</td>\n",
       "      <td>0</td>\n",
       "    </tr>\n",
       "    <tr>\n",
       "      <th>3</th>\n",
       "      <td>225363</td>\n",
       "      <td>866.0</td>\n",
       "      <td>Ярославль</td>\n",
       "      <td>Ж</td>\n",
       "      <td>51</td>\n",
       "      <td>5</td>\n",
       "      <td>1524746.26</td>\n",
       "      <td>2</td>\n",
       "      <td>0</td>\n",
       "      <td>1</td>\n",
       "      <td>174423.53</td>\n",
       "      <td>1</td>\n",
       "    </tr>\n",
       "    <tr>\n",
       "      <th>4</th>\n",
       "      <td>157978</td>\n",
       "      <td>730.0</td>\n",
       "      <td>Ярославль</td>\n",
       "      <td>М</td>\n",
       "      <td>34</td>\n",
       "      <td>5</td>\n",
       "      <td>174.00</td>\n",
       "      <td>1</td>\n",
       "      <td>1</td>\n",
       "      <td>0</td>\n",
       "      <td>67353.16</td>\n",
       "      <td>1</td>\n",
       "    </tr>\n",
       "  </tbody>\n",
       "</table>\n",
       "</div>"
      ],
      "text/plain": [
       "   user_id  score       city  ... last_activity  est_salary  churn\n",
       "0   183012  850.0    Рыбинск  ...             1    75719.14      1\n",
       "1   146556  861.0    Рыбинск  ...             0    86621.77      0\n",
       "2   120722  892.0    Рыбинск  ...             1   107683.34      0\n",
       "3   225363  866.0  Ярославль  ...             1   174423.53      1\n",
       "4   157978  730.0  Ярославль  ...             0    67353.16      1\n",
       "\n",
       "[5 rows x 12 columns]"
      ]
     },
     "execution_count": 12,
     "metadata": {},
     "output_type": "execute_result"
    }
   ],
   "source": [
    "df['age'] = df['age'].astype('int')\n",
    "df.head()"
   ]
  },
  {
   "cell_type": "markdown",
   "metadata": {},
   "source": [
    "**Кодирование (для использования в анализе корреляции)**\n",
    "\n",
    "Закодируем данные в категориальных столбцах city, gender"
   ]
  },
  {
   "cell_type": "code",
   "execution_count": 13,
   "metadata": {},
   "outputs": [
    {
     "data": {
      "text/html": [
       "<div>\n",
       "<style scoped>\n",
       "    .dataframe tbody tr th:only-of-type {\n",
       "        vertical-align: middle;\n",
       "    }\n",
       "\n",
       "    .dataframe tbody tr th {\n",
       "        vertical-align: top;\n",
       "    }\n",
       "\n",
       "    .dataframe thead th {\n",
       "        text-align: right;\n",
       "    }\n",
       "</style>\n",
       "<table border=\"1\" class=\"dataframe\">\n",
       "  <thead>\n",
       "    <tr style=\"text-align: right;\">\n",
       "      <th></th>\n",
       "      <th>user_id</th>\n",
       "      <th>score</th>\n",
       "      <th>city</th>\n",
       "      <th>gender</th>\n",
       "      <th>age</th>\n",
       "      <th>equity</th>\n",
       "      <th>balance</th>\n",
       "      <th>products</th>\n",
       "      <th>credit_card</th>\n",
       "      <th>last_activity</th>\n",
       "      <th>est_salary</th>\n",
       "      <th>churn</th>\n",
       "      <th>city_one_Ростов</th>\n",
       "      <th>city_one_Рыбинск</th>\n",
       "      <th>city_one_Ярославль</th>\n",
       "      <th>gender_one_М</th>\n",
       "    </tr>\n",
       "  </thead>\n",
       "  <tbody>\n",
       "    <tr>\n",
       "      <th>0</th>\n",
       "      <td>183012</td>\n",
       "      <td>850.0</td>\n",
       "      <td>Рыбинск</td>\n",
       "      <td>Ж</td>\n",
       "      <td>25</td>\n",
       "      <td>1</td>\n",
       "      <td>59214.82</td>\n",
       "      <td>2</td>\n",
       "      <td>0</td>\n",
       "      <td>1</td>\n",
       "      <td>75719.14</td>\n",
       "      <td>1</td>\n",
       "      <td>0</td>\n",
       "      <td>1</td>\n",
       "      <td>0</td>\n",
       "      <td>0</td>\n",
       "    </tr>\n",
       "    <tr>\n",
       "      <th>1</th>\n",
       "      <td>146556</td>\n",
       "      <td>861.0</td>\n",
       "      <td>Рыбинск</td>\n",
       "      <td>Ж</td>\n",
       "      <td>37</td>\n",
       "      <td>5</td>\n",
       "      <td>850594.33</td>\n",
       "      <td>3</td>\n",
       "      <td>1</td>\n",
       "      <td>0</td>\n",
       "      <td>86621.77</td>\n",
       "      <td>0</td>\n",
       "      <td>0</td>\n",
       "      <td>1</td>\n",
       "      <td>0</td>\n",
       "      <td>0</td>\n",
       "    </tr>\n",
       "    <tr>\n",
       "      <th>2</th>\n",
       "      <td>120722</td>\n",
       "      <td>892.0</td>\n",
       "      <td>Рыбинск</td>\n",
       "      <td>Ж</td>\n",
       "      <td>30</td>\n",
       "      <td>0</td>\n",
       "      <td>NaN</td>\n",
       "      <td>1</td>\n",
       "      <td>1</td>\n",
       "      <td>1</td>\n",
       "      <td>107683.34</td>\n",
       "      <td>0</td>\n",
       "      <td>0</td>\n",
       "      <td>1</td>\n",
       "      <td>0</td>\n",
       "      <td>0</td>\n",
       "    </tr>\n",
       "    <tr>\n",
       "      <th>3</th>\n",
       "      <td>225363</td>\n",
       "      <td>866.0</td>\n",
       "      <td>Ярославль</td>\n",
       "      <td>Ж</td>\n",
       "      <td>51</td>\n",
       "      <td>5</td>\n",
       "      <td>1524746.26</td>\n",
       "      <td>2</td>\n",
       "      <td>0</td>\n",
       "      <td>1</td>\n",
       "      <td>174423.53</td>\n",
       "      <td>1</td>\n",
       "      <td>0</td>\n",
       "      <td>0</td>\n",
       "      <td>1</td>\n",
       "      <td>0</td>\n",
       "    </tr>\n",
       "    <tr>\n",
       "      <th>4</th>\n",
       "      <td>157978</td>\n",
       "      <td>730.0</td>\n",
       "      <td>Ярославль</td>\n",
       "      <td>М</td>\n",
       "      <td>34</td>\n",
       "      <td>5</td>\n",
       "      <td>174.00</td>\n",
       "      <td>1</td>\n",
       "      <td>1</td>\n",
       "      <td>0</td>\n",
       "      <td>67353.16</td>\n",
       "      <td>1</td>\n",
       "      <td>0</td>\n",
       "      <td>0</td>\n",
       "      <td>1</td>\n",
       "      <td>1</td>\n",
       "    </tr>\n",
       "    <tr>\n",
       "      <th>...</th>\n",
       "      <td>...</td>\n",
       "      <td>...</td>\n",
       "      <td>...</td>\n",
       "      <td>...</td>\n",
       "      <td>...</td>\n",
       "      <td>...</td>\n",
       "      <td>...</td>\n",
       "      <td>...</td>\n",
       "      <td>...</td>\n",
       "      <td>...</td>\n",
       "      <td>...</td>\n",
       "      <td>...</td>\n",
       "      <td>...</td>\n",
       "      <td>...</td>\n",
       "      <td>...</td>\n",
       "      <td>...</td>\n",
       "    </tr>\n",
       "    <tr>\n",
       "      <th>9918</th>\n",
       "      <td>120553</td>\n",
       "      <td>814.0</td>\n",
       "      <td>Рыбинск</td>\n",
       "      <td>М</td>\n",
       "      <td>27</td>\n",
       "      <td>1</td>\n",
       "      <td>78144.65</td>\n",
       "      <td>1</td>\n",
       "      <td>0</td>\n",
       "      <td>1</td>\n",
       "      <td>18943.64</td>\n",
       "      <td>0</td>\n",
       "      <td>0</td>\n",
       "      <td>1</td>\n",
       "      <td>0</td>\n",
       "      <td>1</td>\n",
       "    </tr>\n",
       "    <tr>\n",
       "      <th>9919</th>\n",
       "      <td>139170</td>\n",
       "      <td>894.0</td>\n",
       "      <td>Ярославль</td>\n",
       "      <td>М</td>\n",
       "      <td>46</td>\n",
       "      <td>0</td>\n",
       "      <td>NaN</td>\n",
       "      <td>1</td>\n",
       "      <td>1</td>\n",
       "      <td>0</td>\n",
       "      <td>196898.29</td>\n",
       "      <td>0</td>\n",
       "      <td>0</td>\n",
       "      <td>0</td>\n",
       "      <td>1</td>\n",
       "      <td>1</td>\n",
       "    </tr>\n",
       "    <tr>\n",
       "      <th>9920</th>\n",
       "      <td>115639</td>\n",
       "      <td>903.0</td>\n",
       "      <td>Ярославль</td>\n",
       "      <td>М</td>\n",
       "      <td>24</td>\n",
       "      <td>0</td>\n",
       "      <td>NaN</td>\n",
       "      <td>2</td>\n",
       "      <td>1</td>\n",
       "      <td>1</td>\n",
       "      <td>108905.09</td>\n",
       "      <td>0</td>\n",
       "      <td>0</td>\n",
       "      <td>0</td>\n",
       "      <td>1</td>\n",
       "      <td>1</td>\n",
       "    </tr>\n",
       "    <tr>\n",
       "      <th>9921</th>\n",
       "      <td>148700</td>\n",
       "      <td>777.0</td>\n",
       "      <td>Ярославль</td>\n",
       "      <td>Ж</td>\n",
       "      <td>68</td>\n",
       "      <td>3</td>\n",
       "      <td>865457.97</td>\n",
       "      <td>3</td>\n",
       "      <td>0</td>\n",
       "      <td>1</td>\n",
       "      <td>86874.90</td>\n",
       "      <td>0</td>\n",
       "      <td>0</td>\n",
       "      <td>0</td>\n",
       "      <td>1</td>\n",
       "      <td>0</td>\n",
       "    </tr>\n",
       "    <tr>\n",
       "      <th>9922</th>\n",
       "      <td>96267</td>\n",
       "      <td>828.0</td>\n",
       "      <td>Рыбинск</td>\n",
       "      <td>Ж</td>\n",
       "      <td>58</td>\n",
       "      <td>3</td>\n",
       "      <td>1180886.70</td>\n",
       "      <td>4</td>\n",
       "      <td>0</td>\n",
       "      <td>1</td>\n",
       "      <td>21422.37</td>\n",
       "      <td>0</td>\n",
       "      <td>0</td>\n",
       "      <td>1</td>\n",
       "      <td>0</td>\n",
       "      <td>0</td>\n",
       "    </tr>\n",
       "  </tbody>\n",
       "</table>\n",
       "<p>9923 rows × 16 columns</p>\n",
       "</div>"
      ],
      "text/plain": [
       "      user_id  score  ... city_one_Ярославль gender_one_М\n",
       "0      183012  850.0  ...                  0            0\n",
       "1      146556  861.0  ...                  0            0\n",
       "2      120722  892.0  ...                  0            0\n",
       "3      225363  866.0  ...                  1            0\n",
       "4      157978  730.0  ...                  1            1\n",
       "...       ...    ...  ...                ...          ...\n",
       "9918   120553  814.0  ...                  0            1\n",
       "9919   139170  894.0  ...                  1            1\n",
       "9920   115639  903.0  ...                  1            1\n",
       "9921   148700  777.0  ...                  1            0\n",
       "9922    96267  828.0  ...                  0            0\n",
       "\n",
       "[9923 rows x 16 columns]"
      ]
     },
     "execution_count": 13,
     "metadata": {},
     "output_type": "execute_result"
    }
   ],
   "source": [
    "df['city_one'] = df['city']\n",
    "df['gender_one'] = df['gender']\n",
    "df = pd.get_dummies(df, columns=['city_one'], drop_first=False)\n",
    "df = pd.get_dummies(df, columns=['gender_one'], drop_first=True)\n",
    "df"
   ]
  },
  {
   "cell_type": "code",
   "execution_count": 14,
   "metadata": {},
   "outputs": [
    {
     "name": "stdout",
     "output_type": "stream",
     "text": [
      "<class 'pandas.core.frame.DataFrame'>\n",
      "RangeIndex: 9923 entries, 0 to 9922\n",
      "Data columns (total 16 columns):\n",
      " #   Column              Non-Null Count  Dtype  \n",
      "---  ------              --------------  -----  \n",
      " 0   user_id             9923 non-null   int64  \n",
      " 1   score               9923 non-null   float64\n",
      " 2   city                9923 non-null   object \n",
      " 3   gender              9923 non-null   object \n",
      " 4   age                 9923 non-null   int64  \n",
      " 5   equity              9923 non-null   int64  \n",
      " 6   balance             7663 non-null   float64\n",
      " 7   products            9923 non-null   int64  \n",
      " 8   credit_card         9923 non-null   int64  \n",
      " 9   last_activity       9923 non-null   int64  \n",
      " 10  est_salary          9923 non-null   float64\n",
      " 11  churn               9923 non-null   int64  \n",
      " 12  city_one_Ростов     9923 non-null   uint8  \n",
      " 13  city_one_Рыбинск    9923 non-null   uint8  \n",
      " 14  city_one_Ярославль  9923 non-null   uint8  \n",
      " 15  gender_one_М        9923 non-null   uint8  \n",
      "dtypes: float64(3), int64(7), object(2), uint8(4)\n",
      "memory usage: 969.2+ KB\n"
     ]
    }
   ],
   "source": [
    "df.info()"
   ]
  },
  {
   "cell_type": "markdown",
   "metadata": {},
   "source": [
    "В результате предобработки:\n",
    "\n",
    "- удалили пропущенные значения в датасете в столбце age, в столюце balance\n",
    "- название столбцов USERID, EST_SALARY в датасете приведены к нижнему змеиному регистру\n",
    "- столбец age в датасете заменен тип на int64 для корректного отображения возраста\n",
    "- датасет проверен на явные и неявные дубликаты\n",
    "- категориальные данные закодированы для использования в анализе корреляции"
   ]
  },
  {
   "cell_type": "markdown",
   "metadata": {},
   "source": [
    "### EDA"
   ]
  },
  {
   "cell_type": "markdown",
   "metadata": {},
   "source": [
    "**Анализ распределения признаков**"
   ]
  },
  {
   "cell_type": "code",
   "execution_count": 15,
   "metadata": {},
   "outputs": [
    {
     "data": {
      "image/png": "[encoded data removed]",
      "text/plain": [
       "<Figure size 432x288 with 1 Axes>"
      ]
     },
     "metadata": {},
     "output_type": "display_data"
    },
    {
     "data": {
      "image/png": "[encoded data removed]",
      "text/plain": [
       "<Figure size 432x288 with 1 Axes>"
      ]
     },
     "metadata": {},
     "output_type": "display_data"
    },
    {
     "data": {
      "image/png": "[encoded data removed]",
      "text/plain": [
       "<Figure size 432x288 with 1 Axes>"
      ]
     },
     "metadata": {},
     "output_type": "display_data"
    },
    {
     "data": {
      "image/png": "[encoded data removed]",
      "text/plain": [
       "<Figure size 432x288 with 1 Axes>"
      ]
     },
     "metadata": {},
     "output_type": "display_data"
    },
    {
     "data": {
      "image/png": "[encoded data removed]",
      "text/plain": [
       "<Figure size 432x288 with 1 Axes>"
      ]
     },
     "metadata": {},
     "output_type": "display_data"
    }
   ],
   "source": [
    "for column in ['city','gender','credit_card','last_activity','churn']:\n",
    "    data = df.groupby(column).agg({'user_id': 'count'})\n",
    "    fig1,ax1 = plt.subplots()\n",
    "    ax1.pie(data['user_id'], labels=data.index, autopct='%1.1f%%')\n",
    "    ax1.set_title(f'Распределение клиентов по признаку {column}')\n",
    "    plt.show()"
   ]
  },
  {
   "cell_type": "code",
   "execution_count": 16,
   "metadata": {},
   "outputs": [
    {
     "data": {
      "image/png": "[encoded data removed]",
      "text/plain": [
       "<Figure size 1440x504 with 1 Axes>"
      ]
     },
     "metadata": {
      "needs_background": "light"
     },
     "output_type": "display_data"
    },
    {
     "data": {
      "image/png": "[encoded data removed]",
      "text/plain": [
       "<Figure size 1440x504 with 1 Axes>"
      ]
     },
     "metadata": {
      "needs_background": "light"
     },
     "output_type": "display_data"
    },
    {
     "data": {
      "image/png": "[encoded data removed]",
      "text/plain": [
       "<Figure size 1440x504 with 1 Axes>"
      ]
     },
     "metadata": {
      "needs_background": "light"
     },
     "output_type": "display_data"
    }
   ],
   "source": [
    "for column in ['age', 'equity', 'products']:\n",
    "    plt.figure(figsize=(20,7))\n",
    "    sns.countplot(df[column])\n",
    "    plt.title(f'Распределение клиентов по признаку {column}')\n",
    "    plt.show()"
   ]
  },
  {
   "cell_type": "code",
   "execution_count": 17,
   "metadata": {},
   "outputs": [
    {
     "data": {
      "text/html": [
       "<div>\n",
       "<style scoped>\n",
       "    .dataframe tbody tr th:only-of-type {\n",
       "        vertical-align: middle;\n",
       "    }\n",
       "\n",
       "    .dataframe tbody tr th {\n",
       "        vertical-align: top;\n",
       "    }\n",
       "\n",
       "    .dataframe thead th {\n",
       "        text-align: right;\n",
       "    }\n",
       "</style>\n",
       "<table border=\"1\" class=\"dataframe\">\n",
       "  <thead>\n",
       "    <tr style=\"text-align: right;\">\n",
       "      <th></th>\n",
       "      <th>user_id</th>\n",
       "      <th>score</th>\n",
       "      <th>city</th>\n",
       "      <th>gender</th>\n",
       "      <th>age</th>\n",
       "      <th>equity</th>\n",
       "      <th>balance</th>\n",
       "      <th>products</th>\n",
       "      <th>credit_card</th>\n",
       "      <th>last_activity</th>\n",
       "      <th>est_salary</th>\n",
       "      <th>churn</th>\n",
       "      <th>city_one_Ростов</th>\n",
       "      <th>city_one_Рыбинск</th>\n",
       "      <th>city_one_Ярославль</th>\n",
       "      <th>gender_one_М</th>\n",
       "    </tr>\n",
       "  </thead>\n",
       "  <tbody>\n",
       "    <tr>\n",
       "      <th>8901</th>\n",
       "      <td>147837</td>\n",
       "      <td>962.0</td>\n",
       "      <td>Рыбинск</td>\n",
       "      <td>Ж</td>\n",
       "      <td>79</td>\n",
       "      <td>3</td>\n",
       "      <td>NaN</td>\n",
       "      <td>0</td>\n",
       "      <td>0</td>\n",
       "      <td>0</td>\n",
       "      <td>25063.96</td>\n",
       "      <td>1</td>\n",
       "      <td>0</td>\n",
       "      <td>1</td>\n",
       "      <td>0</td>\n",
       "      <td>0</td>\n",
       "    </tr>\n",
       "  </tbody>\n",
       "</table>\n",
       "</div>"
      ],
      "text/plain": [
       "      user_id  score  ... city_one_Ярославль gender_one_М\n",
       "8901   147837  962.0  ...                  0            0\n",
       "\n",
       "[1 rows x 16 columns]"
      ]
     },
     "execution_count": 17,
     "metadata": {},
     "output_type": "execute_result"
    }
   ],
   "source": [
    "df[(df['products']==0)]\n"
   ]
  },
  {
   "cell_type": "markdown",
   "metadata": {},
   "source": [
    "Клиентов с кличеством продуктов равным нулю -всего один чпеловек. Можно считать это аномальным значением и отбросить его."
   ]
  },
  {
   "cell_type": "code",
   "execution_count": 18,
   "metadata": {},
   "outputs": [],
   "source": [
    "df = df[(df['products']!=0)]\n"
   ]
  },
  {
   "cell_type": "code",
   "execution_count": 19,
   "metadata": {},
   "outputs": [
    {
     "data": {
      "image/png": "[encoded data removed]",
      "text/plain": [
       "<Figure size 1440x504 with 1 Axes>"
      ]
     },
     "metadata": {
      "needs_background": "light"
     },
     "output_type": "display_data"
    }
   ],
   "source": [
    "plt.figure(figsize=(20,7))\n",
    "sns.countplot(df['products'])\n",
    "plt.title('Распределение клиентов по признаку products')\n",
    "plt.show()"
   ]
  },
  {
   "cell_type": "code",
   "execution_count": 20,
   "metadata": {},
   "outputs": [
    {
     "data": {
      "image/png": "[encoded data removed]",
      "text/plain": [
       "<Figure size 432x288 with 1 Axes>"
      ]
     },
     "metadata": {
      "needs_background": "light"
     },
     "output_type": "display_data"
    },
    {
     "data": {
      "image/png": "[encoded data removed]",
      "text/plain": [
       "<Figure size 432x288 with 1 Axes>"
      ]
     },
     "metadata": {
      "needs_background": "light"
     },
     "output_type": "display_data"
    },
    {
     "data": {
      "image/png": "[encoded data removed]",
      "text/plain": [
       "<Figure size 432x288 with 1 Axes>"
      ]
     },
     "metadata": {
      "needs_background": "light"
     },
     "output_type": "display_data"
    }
   ],
   "source": [
    "for column in ['score','balance','est_salary']:\n",
    "    sns.distplot(df[column], hist=True,  bins=30, color = 'red', hist_kws={'edgecolor':'black'})\n",
    "    plt.title(f'Распределение клиентов по признаку {column}')\n",
    "    plt.show()"
   ]
  },
  {
   "cell_type": "markdown",
   "metadata": {},
   "source": [
    "При первичном исследовании данных можно сказать:\n",
    "- Больше половины клиентов банка обслуживаются в г.Ярославль - 56%, в Рыбинске - 26% и Ростове по 14% клиентов. \n",
    "- Клиентов мужчин такое же количество, что и женщин ( что странно, возможно сделано специально для задания?)\n",
    "- Кредитная карта есть у 68% клиентов\n",
    "- 52% от общего числа клиентов являются активными\n",
    "- Общий отток клиентов в банке составляет 18%\n",
    "- Возраст клиентов имеет нормальное распределние, пик приходится на 30-45 лет\n",
    "- От 1 до 5 объектов в собственности имеют примерно большинство клиентов. Самый большая доля клиентов не имеет ни одного объекта в собственности.\n",
    "- Большая часть клиентов пользуются либо одним, либо двумя продуктами банка\n",
    "- Большинство клиентов имеют кредитный рейтинг от 750 до 920. \n",
    "- Средний баланс клиентов банка до 100 т.р.\n",
    "- Заработная плата клиентов в большинстве своем находится в диапозоне от 0 руб до 250 т.р. "
   ]
  },
  {
   "cell_type": "markdown",
   "metadata": {},
   "source": [
    "**Анализ распределения признаков в разрезе оттока**"
   ]
  },
  {
   "cell_type": "code",
   "execution_count": 21,
   "metadata": {},
   "outputs": [
    {
     "data": {
      "image/png": "[encoded data removed]",
      "text/plain": [
       "<Figure size 432x288 with 1 Axes>"
      ]
     },
     "metadata": {
      "needs_background": "light"
     },
     "output_type": "display_data"
    }
   ],
   "source": [
    "df_hist_age = df[['age','churn']]\n",
    "sns.histplot(data = df_hist_age, x = 'age',  hue='churn',  stat=\"density\", common_norm=False, binwidth=1)    \n",
    "plt.xlim(left = np.nanpercentile(df['age'], 0), right=np.nanpercentile(df['age'], 95))\n",
    "plt.title(f'Распределение клиентов по признаку age')    \n",
    "plt.show()"
   ]
  },
  {
   "cell_type": "markdown",
   "metadata": {},
   "source": [
    "Наиболее подвержены оттоку клиенты в возрасте от 25-32 лет и от 50-60 лет. Клиенты в возрасте от 60 лет и от 40 до 50 лет склонны к постоянству в выборе банка."
   ]
  },
  {
   "cell_type": "code",
   "execution_count": 22,
   "metadata": {},
   "outputs": [
    {
     "data": {
      "image/png": "[encoded data removed]",
      "text/plain": [
       "<Figure size 432x288 with 1 Axes>"
      ]
     },
     "metadata": {
      "needs_background": "light"
     },
     "output_type": "display_data"
    }
   ],
   "source": [
    "df_hist_score = df[['score','churn']]\n",
    "sns.histplot(data = df_hist_score, x = 'score',  hue='churn',  stat=\"density\", common_norm=False)\n",
    "plt.title(f'Распределение клиентов по признаку score')    \n",
    "plt.show()"
   ]
  },
  {
   "cell_type": "markdown",
   "metadata": {},
   "source": [
    "Наиболее склонны к оттоку клиенты со скорингом от 825 до 900 баллов."
   ]
  },
  {
   "cell_type": "code",
   "execution_count": 23,
   "metadata": {},
   "outputs": [
    {
     "data": {
      "image/png": "[encoded data removed]",
      "text/plain": [
       "<Figure size 432x288 with 1 Axes>"
      ]
     },
     "metadata": {
      "needs_background": "light"
     },
     "output_type": "display_data"
    }
   ],
   "source": [
    "df_hist_balance = df[['balance','churn']]\n",
    "sns.histplot(data = df_hist_balance, x = 'balance',  hue='churn',  stat=\"density\", common_norm=False)    \n",
    "plt.xlim(left = np.nanpercentile(df['balance'], 0), right=np.nanpercentile(df['balance'], 95))\n",
    "plt.title(f'Распределение клиентов по признаку balance')    \n",
    "plt.show()"
   ]
  },
  {
   "cell_type": "markdown",
   "metadata": {},
   "source": [
    "Наиболее склонны к оттоку клиенты с балансом от 1,1 млн и выше."
   ]
  },
  {
   "cell_type": "code",
   "execution_count": 24,
   "metadata": {},
   "outputs": [
    {
     "data": {
      "image/png": "[encoded data removed]",
      "text/plain": [
       "<Figure size 432x288 with 1 Axes>"
      ]
     },
     "metadata": {
      "needs_background": "light"
     },
     "output_type": "display_data"
    }
   ],
   "source": [
    "df_hist_est_salary = df[['est_salary','churn']]\n",
    "sns.histplot(data = df_hist_est_salary, x = 'est_salary',  hue='churn',  stat=\"density\", common_norm=False)    \n",
    "plt.xlim(left = np.nanpercentile(df['est_salary'], 0), right=np.nanpercentile(df['est_salary'], 95))\n",
    "plt.title(f'Распределение клиентов по признаку est_salary')    \n",
    "plt.show()"
   ]
  },
  {
   "cell_type": "markdown",
   "metadata": {},
   "source": [
    "Наиболее склонны к оттоку клиенты с зп от 100000 до 225000."
   ]
  },
  {
   "cell_type": "code",
   "execution_count": 25,
   "metadata": {},
   "outputs": [
    {
     "data": {
      "image/png": "[encoded data removed]",
      "text/plain": [
       "<Figure size 432x288 with 1 Axes>"
      ]
     },
     "metadata": {
      "needs_background": "light"
     },
     "output_type": "display_data"
    },
    {
     "data": {
      "image/png": "[encoded data removed]",
      "text/plain": [
       "<Figure size 432x288 with 1 Axes>"
      ]
     },
     "metadata": {
      "needs_background": "light"
     },
     "output_type": "display_data"
    },
    {
     "data": {
      "image/png": "[encoded data removed]",
      "text/plain": [
       "<Figure size 432x288 with 1 Axes>"
      ]
     },
     "metadata": {
      "needs_background": "light"
     },
     "output_type": "display_data"
    },
    {
     "data": {
      "image/png": "[encoded data removed]",
      "text/plain": [
       "<Figure size 432x288 with 1 Axes>"
      ]
     },
     "metadata": {
      "needs_background": "light"
     },
     "output_type": "display_data"
    },
    {
     "data": {
      "image/png": "[encoded data removed]",
      "text/plain": [
       "<Figure size 432x288 with 1 Axes>"
      ]
     },
     "metadata": {
      "needs_background": "light"
     },
     "output_type": "display_data"
    },
    {
     "data": {
      "image/png": "[encoded data removed]",
      "text/plain": [
       "<Figure size 432x288 with 1 Axes>"
      ]
     },
     "metadata": {
      "needs_background": "light"
     },
     "output_type": "display_data"
    }
   ],
   "source": [
    "for column in ['city', 'gender', 'credit_card', 'last_activity', 'equity', 'products']:\n",
    "        ax = sns.barplot(x=column, y='churn', data=df);\n",
    "        plt.title(f'Доля оттока по признаку {column}', fontsize = 16, color = 'black')\n",
    "        plt.axhline(y=np.nanmean(df.churn), linewidth=1, color='r',zorder=1)\n",
    "        plt.show()   "
   ]
  },
  {
   "cell_type": "markdown",
   "metadata": {},
   "source": [
    "- Больше всего клиентов ушло из филиала банка в Ярославле, меньше всего оттока в филиале банка в Рыбинске. \n",
    "- Чаще уходят мужчины, чем женщины\n",
    "- Без кредитной карты доля оттока выше, чем с кредитной \n",
    "- Неактивные клиенты уходят реже, чем активные.\n",
    "- Наибольший отток у клиентов с недвижимостью в количестве 7 и 9 единиц.\n",
    "- Самые отточные клиенты с 4 продуктами"
   ]
  },
  {
   "cell_type": "markdown",
   "metadata": {},
   "source": [
    "**Корреляционный анализ**"
   ]
  },
  {
   "cell_type": "code",
   "execution_count": 26,
   "metadata": {
    "scrolled": true
   },
   "outputs": [
    {
     "data": {
      "image/png": "[encoded data removed]",
      "text/plain": [
       "<Figure size 1152x720 with 2 Axes>"
      ]
     },
     "metadata": {
      "needs_background": "light"
     },
     "output_type": "display_data"
    }
   ],
   "source": [
    "df_cor = df.drop(['user_id', 'city', 'gender'], axis=1)\n",
    "plt.figure(figsize=(16, 10)) \n",
    "heatmap = sns.heatmap(df_cor.corr(), annot=True, cmap='coolwarm', center=0) \n",
    "\n",
    "heatmap.set_title('Корреляция признаков', fontdict={'fontsize':12}, pad=16);"
   ]
  },
  {
   "cell_type": "code",
   "execution_count": 27,
   "metadata": {},
   "outputs": [
    {
     "data": {
      "image/png": "[encoded data removed]",
      "text/plain": [
       "<Figure size 1152x720 with 2 Axes>"
      ]
     },
     "metadata": {
      "needs_background": "light"
     },
     "output_type": "display_data"
    }
   ],
   "source": [
    "matrix = df_cor.corr()\n",
    "matrix = matrix.loc[:, ['churn']].sort_values(by='churn', ascending=False)\n",
    "plt.figure(figsize=(16, 10)) \n",
    "heatmap = sns.heatmap(matrix, annot=True, cmap='coolwarm', center=0) \n",
    "\n",
    "heatmap.set_title('Корреляция признаков', fontdict={'fontsize':12}, pad=16);"
   ]
  },
  {
   "cell_type": "markdown",
   "metadata": {},
   "source": [
    "Сильной зависимости между признаками не наблюдается. Больше всего отток коррелирует с количеством продуктов у клиента и количеством имущества, зависимость по шкале Чеддока до 0,3 - слабая."
   ]
  },
  {
   "cell_type": "markdown",
   "metadata": {},
   "source": [
    "**Портрет клиента в разрезе оттока**"
   ]
  },
  {
   "cell_type": "code",
   "execution_count": 28,
   "metadata": {},
   "outputs": [
    {
     "data": {
      "text/html": [
       "<div>\n",
       "<style scoped>\n",
       "    .dataframe tbody tr th:only-of-type {\n",
       "        vertical-align: middle;\n",
       "    }\n",
       "\n",
       "    .dataframe tbody tr th {\n",
       "        vertical-align: top;\n",
       "    }\n",
       "\n",
       "    .dataframe thead th {\n",
       "        text-align: right;\n",
       "    }\n",
       "</style>\n",
       "<table border=\"1\" class=\"dataframe\">\n",
       "  <thead>\n",
       "    <tr style=\"text-align: right;\">\n",
       "      <th></th>\n",
       "      <th>remained</th>\n",
       "      <th>gone</th>\n",
       "    </tr>\n",
       "  </thead>\n",
       "  <tbody>\n",
       "    <tr>\n",
       "      <th>score</th>\n",
       "      <td>845.44</td>\n",
       "      <td>863.36</td>\n",
       "    </tr>\n",
       "    <tr>\n",
       "      <th>age</th>\n",
       "      <td>43.02</td>\n",
       "      <td>41.43</td>\n",
       "    </tr>\n",
       "    <tr>\n",
       "      <th>equity</th>\n",
       "      <td>3</td>\n",
       "      <td>4</td>\n",
       "    </tr>\n",
       "    <tr>\n",
       "      <th>balance</th>\n",
       "      <td>733828.6</td>\n",
       "      <td>1134458.21</td>\n",
       "    </tr>\n",
       "    <tr>\n",
       "      <th>products</th>\n",
       "      <td>2</td>\n",
       "      <td>2</td>\n",
       "    </tr>\n",
       "    <tr>\n",
       "      <th>credit_card</th>\n",
       "      <td>0.45</td>\n",
       "      <td>0.5</td>\n",
       "    </tr>\n",
       "    <tr>\n",
       "      <th>last_activity</th>\n",
       "      <td>0.5</td>\n",
       "      <td>0.46</td>\n",
       "    </tr>\n",
       "    <tr>\n",
       "      <th>est_salary</th>\n",
       "      <td>147795.99</td>\n",
       "      <td>148357.48</td>\n",
       "    </tr>\n",
       "    <tr>\n",
       "      <th>city</th>\n",
       "      <td>Ярославль</td>\n",
       "      <td>Ярославль</td>\n",
       "    </tr>\n",
       "    <tr>\n",
       "      <th>gender</th>\n",
       "      <td>Ж</td>\n",
       "      <td>М</td>\n",
       "    </tr>\n",
       "  </tbody>\n",
       "</table>\n",
       "</div>"
      ],
      "text/plain": [
       "                remained        gone\n",
       "score             845.44      863.36\n",
       "age                43.02       41.43\n",
       "equity                 3           4\n",
       "balance         733828.6  1134458.21\n",
       "products               2           2\n",
       "credit_card         0.45         0.5\n",
       "last_activity        0.5        0.46\n",
       "est_salary     147795.99   148357.48\n",
       "city           Ярославль   Ярославль\n",
       "gender                 Ж           М"
      ]
     },
     "execution_count": 28,
     "metadata": {},
     "output_type": "execute_result"
    }
   ],
   "source": [
    "# создадим словарь для агрегирующей функции\n",
    "agg_func = {\n",
    "    'score': 'mean',\n",
    "    'age': 'mean',\n",
    "    'equity': 'median',\n",
    "    'balance': 'mean',\n",
    "    'products': 'median',\n",
    "    'credit_card': lambda x: x.describe()[2],\n",
    "    'last_activity': lambda x: x.describe()[2],\n",
    "    'est_salary': 'mean',\n",
    "    'city': lambda x: x.describe()[2],\n",
    "    'gender': lambda x: x.describe()[2]\n",
    "}\n",
    "\n",
    "mean_churn = df.groupby('churn').agg(agg_func).round(2).T\n",
    "mean_churn.columns=['remained', 'gone']\n",
    "mean_churn"
   ]
  },
  {
   "cell_type": "markdown",
   "metadata": {},
   "source": [
    "**Среднестатистический портрет клиента банка в разрезе оттока:**\n",
    "- Средний рейтинг отточных клиентов и неооточных примерно одинаковый.\n",
    "- Возраст: Наиболее подвержены оттоку клиенты в возрасте от 25-32 лет и от 50-60 лет. Клиенты в возрасте от 60 лет и от 40 до 50 лет склонны к постоянству в выборе банка.\n",
    "- По количеству объектов собственности - - Наибольший отток у клиентов с недвижимостью в количестве 7 и 9 единиц.\n",
    "- Наличие отстатков на балансе клиентов и подтвержденной зп существенно не влияет на отток, зависимости не прослеживаются. Однако, средний баланс отточных клиентов почти в два раза выше неооточных. Наиболее склонны к оттоку клиенты с зп от 100000 до 225000. Наиболее склонны к оттоку клиенты с балансом от 1,1 млн и выше.\n",
    "- По количеству используемых продуктов - Самые отточные клиенты с 4 продуктами, с 1-им, 3-мя и 5-ти реже всего.\n",
    "- Больше всего клиентов ушло из филиала банка в Ярославле, меньше всего оттока в филиале банка в Рыбинске. \n",
    "- Чаще уходят мужчины, чем женщины\n",
    "- Без кредитной карты доля оттока выше, чем с кредитной \n",
    "- Неактивные клиенты уходят реже, чем активные."
   ]
  },
  {
   "cell_type": "markdown",
   "metadata": {},
   "source": [
    "### Формулировка, обосноварие метода проверки и проверка статистических гипотез"
   ]
  },
  {
   "cell_type": "markdown",
   "metadata": {},
   "source": [
    "**Гипотеза 1. Проверим гипотезу различия дохода между теми клиентами, которые ушли и теми, которые остались.**"
   ]
  },
  {
   "cell_type": "markdown",
   "metadata": {},
   "source": [
    "Н_0: Средний доход клиентов, которые ушли из банка равен среднему доходу клиентов, которые остались\n",
    "\n",
    "Н_1: Средний доход клиентов, которые ушли из банка не равен среднему доходу клиентов, которые остались"
   ]
  },
  {
   "cell_type": "code",
   "execution_count": 29,
   "metadata": {},
   "outputs": [
    {
     "name": "stdout",
     "output_type": "stream",
     "text": [
      "Количество сохраненных клиентов: 8104\n",
      "Количество отточных клиентов: 1818\n"
     ]
    }
   ],
   "source": [
    "remained_clients = df[(df['churn']==0)]['est_salary']\n",
    "gone_clients = df[(df['churn']==1)]['est_salary']\n",
    "print('Количество сохраненных клиентов:',len(remained_clients))\n",
    "print('Количество отточных клиентов:',len(gone_clients))"
   ]
  },
  {
   "cell_type": "code",
   "execution_count": 30,
   "metadata": {},
   "outputs": [
    {
     "data": {
      "text/plain": [
       "Text(0, 0.5, 'Количество клиентов')"
      ]
     },
     "execution_count": 30,
     "metadata": {},
     "output_type": "execute_result"
    },
    {
     "data": {
      "image/png": "[encoded data removed]",
      "text/plain": [
       "<Figure size 432x288 with 1 Axes>"
      ]
     },
     "metadata": {
      "needs_background": "light"
     },
     "output_type": "display_data"
    }
   ],
   "source": [
    "remained_clients.hist(bins = 30, alpha=0.5)\n",
    "gone_clients.hist(bins = 30, alpha=0.5, label='churn');\n",
    "plt.title(f'Отток в разрезе зарплаты', fontsize = 16, color = 'black')\n",
    "plt.xlabel('Зарплата')\n",
    "plt.ylabel('Количество клиентов');"
   ]
  },
  {
   "cell_type": "markdown",
   "metadata": {},
   "source": [
    "Исследуемые выборки не зависимы друг от друга, распределение скошено влево с длинным правым хвостом. Это распределение Пуассона. Проверять гипотезу будем с помощью t-теста."
   ]
  },
  {
   "cell_type": "code",
   "execution_count": 31,
   "metadata": {},
   "outputs": [
    {
     "name": "stdout",
     "output_type": "stream",
     "text": [
      "0.8645271013531297\n",
      "Не получилось отвергнуть нулевую гипотезу\n"
     ]
    }
   ],
   "source": [
    "results = st.ttest_ind(remained_clients, gone_clients, equal_var=False)\n",
    "\n",
    "alpha = 0.05\n",
    "\n",
    "print(results.pvalue) \n",
    "if results.pvalue < alpha:\n",
    "    print(\"Отвергаем нулевую гипотезу\")\n",
    "else:\n",
    "    print(\"Не получилось отвергнуть нулевую гипотезу\")"
   ]
  },
  {
   "cell_type": "markdown",
   "metadata": {},
   "source": [
    "Не получилось отвергнуть нулевую гипотезу: разницы в средних доходах у клиентов, которые склонны к оттоку и нет, не наблюдается с большой долей вероятности."
   ]
  },
  {
   "cell_type": "markdown",
   "metadata": {},
   "source": [
    "**Гипотеза 2. Проверим гипотезу различия количества продуктов, которые есть у клиентов, между теми клиентами, которые ушли и теми, которые остались.**"
   ]
  },
  {
   "cell_type": "markdown",
   "metadata": {},
   "source": [
    "Н-0: Среднее колличесво продуктов клиентов, ушедших в отток, равняется среднему количеству продуктов у клиентов, которые оствлись в банке.\n",
    "\n",
    "Н_1: Среднее колличесво продуктов клиентов, ушедших в отток,  не равно среднему количеству продуктов у клиентов, которые оствлись в банке."
   ]
  },
  {
   "cell_type": "code",
   "execution_count": 32,
   "metadata": {},
   "outputs": [],
   "source": [
    "product_1 = df[(df['churn']==0)]['products']\n",
    "product_2 = df[(df['churn']==1)]['products']"
   ]
  },
  {
   "cell_type": "code",
   "execution_count": 33,
   "metadata": {},
   "outputs": [
    {
     "data": {
      "image/png": "[encoded data removed]",
      "text/plain": [
       "<Figure size 432x288 with 1 Axes>"
      ]
     },
     "metadata": {
      "needs_background": "light"
     },
     "output_type": "display_data"
    }
   ],
   "source": [
    "ax1 = sns.barplot(x='products', y='churn', data=df);\n",
    "plt.title(f'Отток в разрезе продуктов', fontsize = 16, color = 'black')\n",
    "\n",
    "plt.show()   \n"
   ]
  },
  {
   "cell_type": "markdown",
   "metadata": {},
   "source": [
    "Благодаря ЦПТ, если размер выборки составляет хотя бы несколько десятков значений, выборочные средние, которые можно получить из одной и той же генеральной совокупности, будут распределены нормально вокруг истинного среднего этой совокупности."
   ]
  },
  {
   "cell_type": "code",
   "execution_count": 34,
   "metadata": {},
   "outputs": [
    {
     "name": "stdout",
     "output_type": "stream",
     "text": [
      "8.186736545091533e-139\n",
      "Отвергаем нулевую гипотезу\n"
     ]
    }
   ],
   "source": [
    "results = st.ttest_ind(product_1, product_2, equal_var=False)\n",
    "\n",
    "alpha = 0.05\n",
    "\n",
    "print(results.pvalue) \n",
    "if results.pvalue < alpha:\n",
    "    print(\"Отвергаем нулевую гипотезу\")\n",
    "else:\n",
    "    print(\"Не получилось отвергнуть нулевую гипотезу\")"
   ]
  },
  {
   "cell_type": "markdown",
   "metadata": {},
   "source": [
    "Отвергаем нулевую гипотезу. Значит cреднее колличесво продуктов клиентов, ушедших в отток, не равно среднему количеству продуктов у клиентов, которые оствлись в банке, как мы и предполагали."
   ]
  },
  {
   "cell_type": "markdown",
   "metadata": {},
   "source": [
    "### Промежуточные выводы"
   ]
  },
  {
   "cell_type": "markdown",
   "metadata": {},
   "source": [
    "**Среднестатистический портрет клиента банка в разрезе оттока:**\n",
    "- Средний рейтинг отточных клиентов и неооточных примерно одинаковый.\n",
    "- Возраст: Наиболее подвержены оттоку клиенты в возрасте от 25-32 лет и от 50-60 лет. Клиенты в возрасте от 60 лет и от 40 до 50 лет склонны к постоянству в выборе банка.\n",
    "- По количеству объектов собственности - - Наибольший отток у клиентов с недвижимостью в количестве 7 и 9 единиц.\n",
    "- Наличие отстатков на балансе клиентов и подтвержденной зп существенно не влияет на отток, зависимости не прослеживаются. Однако, средний баланс отточных клиентов почти в два раза выше неооточных. Наиболее склонны к оттоку клиенты с зп от 100000 до 225000. Наиболее склонны к оттоку клиенты с балансом от 1,1 млн и выше.\n",
    "- По количеству используемых продуктов - Самые отточные клиенты с 4 продуктами, с 1-им, 3-мя и 5-ти реже всего.\n",
    "- Больше всего клиентов ушло из филиала банка в Ярославле, меньше всего оттока в филиале банка в Рыбинске. \n",
    "- Чаще уходят мужчины, чем женщины\n",
    "- Без кредитной карты доля оттока выше, чем с кредитной \n",
    "- Неактивные клиенты уходят реже, чем активные.\n",
    "\n",
    "**Гипотеза 1. Проверим гипотезу различия дохода между теми клиентами, которые ушли и теми, которые остались.**\n",
    "Не получилось отвергнуть нулевую гипотезу: разницы в средних доходах у клиентов, которые склонны к оттоку и нет, не наблюдается с большой долей вероятности.\n",
    "\n",
    "**Гипотеза 2. Проверим гипотезу различия количества продуктов, которые есть у клиентов (1 продукт и 2 продукта), между теми клиентами, которые ушли и теми, которые остались.**\n",
    "Среднее колличесво продуктов клиентов, ушедших в отток, не равно среднему количеству продуктов у клиентов, которые оствлись в банке"
   ]
  },
  {
   "cell_type": "markdown",
   "metadata": {},
   "source": [
    "### Сегментация"
   ]
  },
  {
   "cell_type": "markdown",
   "metadata": {},
   "source": [
    "По результатам работы в прошлых блоках, выделим несколько высокоотточных сегментов пользователей. Доля оттока в них должна превышать среднюю по банку - 18,2%\n",
    "\n",
    "В качестве критериев для выделения выберем следующие параметры:\n",
    "\n",
    "мужской пол;\n",
    "возраст 40-60 лет;\n",
    "количество используемых продуктов;\n",
    "Количество объектов в собственности;\n",
    "город филлиала,\n",
    "наличие КК,\n",
    "активность клиента."
   ]
  },
  {
   "cell_type": "markdown",
   "metadata": {},
   "source": [
    "**Сегмент №1**\n",
    "\n",
    "- Пол: мужской\n",
    "- Возраст: от 25-32 лет"
   ]
  },
  {
   "cell_type": "code",
   "execution_count": 35,
   "metadata": {},
   "outputs": [
    {
     "name": "stdout",
     "output_type": "stream",
     "text": [
      "Общее число пользователей в сегменте №1: 1108\n",
      "Число отточных пользователей в сегменте №1: 297\n",
      "Доля отточных пользователей в сегменте №1: 26.805054151624546\n"
     ]
    }
   ],
   "source": [
    "# Рассчитаем общее число пользователей в этом сегменте:\n",
    "seg1 = df.query (\n",
    "    'gender_one_М == 1 and age >= 25 and age <= 32')['user_id'].count() \n",
    "print ('Общее число пользователей в сегменте №1:', seg1)\n",
    "\n",
    "\n",
    "# Рассчитаем число отточных пользователей в этом сегменте:\n",
    "gone_seg1_count = df.query (\n",
    "    'gender_one_М == 1 and age >= 25 and age <= 32 and churn==1')['user_id'].count()\n",
    "print ('Число отточных пользователей в сегменте №1:', gone_seg1_count)\n",
    "\n",
    "#  Рассчитаем долю отточных пользователей:\n",
    "gone_seg1_share = gone_seg1_count / seg1 * 100\n",
    "print ('Доля отточных пользователей в сегменте №1:', gone_seg1_share)"
   ]
  },
  {
   "cell_type": "markdown",
   "metadata": {},
   "source": [
    "**Сегмент №2**\n",
    "\n",
    "- Пол: все\n",
    "- Баланс больше - 1,1 млн"
   ]
  },
  {
   "cell_type": "code",
   "execution_count": 36,
   "metadata": {},
   "outputs": [
    {
     "name": "stdout",
     "output_type": "stream",
     "text": [
      "Общее число пользователей в сегменте №2: 1609\n",
      "Число отточных пользователей в сегменте №2: 663\n",
      "Доля отточных пользователей в сегменте №2: 41.20571783716594\n"
     ]
    }
   ],
   "source": [
    "# Рассчитаем общее число пользователей в этом сегменте:\n",
    "seg2 = df.query (\n",
    "    'balance >= 1100000')['user_id'].count() \n",
    "print ('Общее число пользователей в сегменте №2:', seg2)\n",
    "\n",
    "\n",
    "# Рассчитаем число отточных пользователей в этом сегменте:\n",
    "gone_seg2_count = df.query (\n",
    "    'balance >= 1100000 and churn==1')['user_id'].count()\n",
    "print ('Число отточных пользователей в сегменте №2:', gone_seg2_count)\n",
    "\n",
    "#  Рассчитаем долю отточных пользователей:\n",
    "gone_seg2_share = gone_seg2_count / seg2 * 100\n",
    "print ('Доля отточных пользователей в сегменте №2:', gone_seg2_share)"
   ]
  },
  {
   "cell_type": "markdown",
   "metadata": {},
   "source": [
    "**Сегмент №3**\n",
    "\n",
    "- Пол: все\n",
    "- Возраст: все\n",
    "- Город: все\n",
    "- Количество продуктов - 4 шт"
   ]
  },
  {
   "cell_type": "code",
   "execution_count": 37,
   "metadata": {},
   "outputs": [
    {
     "name": "stdout",
     "output_type": "stream",
     "text": [
      "Общее число пользователей в сегменте №3: 474\n",
      "Число отточных пользователей в сегменте №3: 300\n",
      "Доля отточных пользователей в сегменте №3: 63.29113924050633\n"
     ]
    }
   ],
   "source": [
    "# Рассчитаем общее число пользователей в этом сегменте:\n",
    "seg3 = df.query (\n",
    "    'products == 4')['user_id'].count() \n",
    "print ('Общее число пользователей в сегменте №3:', seg3)\n",
    "\n",
    "\n",
    "# Рассчитаем число отточных пользователей в этом сегменте:\n",
    "gone_seg3_count = df.query (\n",
    "    'products == 4 and churn==1')['user_id'].count()\n",
    "print ('Число отточных пользователей в сегменте №3:', gone_seg3_count)\n",
    "\n",
    "#  Рассчитаем долю отточных пользователей:\n",
    "gone_seg3_share = gone_seg3_count / seg3 * 100\n",
    "print ('Доля отточных пользователей в сегменте №3:', gone_seg3_share)"
   ]
  },
  {
   "cell_type": "markdown",
   "metadata": {},
   "source": [
    "### Общий вывод"
   ]
  },
  {
   "cell_type": "markdown",
   "metadata": {},
   "source": [
    "**Итоговые выводы**\n",
    "\n",
    "**Параметры, влияющим на отток:**\n",
    "\n",
    "- Средний рейтинг отточных клиентов и неооточных примерно одинаковый.\n",
    "- Возраст: Наиболее подвержены оттоку клиенты в возрасте от 25-32 лет и от 50-60 лет. Клиенты в возрасте от 60 лет и от 40 до 50 лет склонны к постоянству в выборе банка.\n",
    "- По количеству объектов собственности - - Наибольший отток у клиентов с недвижимостью в количестве 7 и 9 единиц.\n",
    "- Наличие отстатков на балансе клиентов и подтвержденной зп существенно не влияет на отток, зависимости не прослеживаются. Однако, средний баланс отточных клиентов почти в два раза выше неооточных. Наиболее склонны к оттоку клиенты с зп от 100000 до 225000. Наиболее склонны к оттоку клиенты с балансом от 1,1 млн и выше.\n",
    "- По количеству используемых продуктов - Самые отточные клиенты с 4 продуктами, с 1-им, 3-мя и 5-ти реже всего.\n",
    "- Больше всего клиентов ушло из филиала банка в Ярославле, меньше всего оттока в филиале банка в Рыбинске.\n",
    "- Чаще уходят мужчины, чем женщины\n",
    "- Без кредитной карты доля оттока выше, чем с кредитной\n",
    "- Неактивные клиенты уходят реже, чем активные.\n",
    "**Был проведен статистический анализ следующих гипотез:**\n",
    "Гипотеза 1. О различии дохода между теми клиентами, которые ушли и теми, которые остались. Не подтвердилась\n",
    "Гипотеза №2 О различии количества продуктов, которые есть у клиентов (1 продукт и 2 продукта), между теми клиентами, которые ушли и теми, которые остались. Подтвердилась\n",
    "\n",
    "\n",
    "**Были выделены сегменты, в наибольшей степени подверженных оттоку (от 25 до 63 % отточных клиентов)**"
   ]
  },
  {
   "cell_type": "markdown",
   "metadata": {},
   "source": [
    "**Приоритизация сегментов и рекомендации для отдела маркетинга**"
   ]
  },
  {
   "cell_type": "markdown",
   "metadata": {},
   "source": [
    "### Расположим сегменты в порядке убывания доли отточных клиентов:\n",
    "\n",
    "Наиболее высокая доля отточных клиентов в сегменте **№3 - почти 63%** отточных клиентов\n",
    "\n",
    "- Пол: все\n",
    "- Возраст: все\n",
    "- Город: все\n",
    "- Количество продуктов - 4 шт\n",
    "\n",
    "**Рекомендации:**\n",
    "- Посмотреть, что не так с сегментом клиентов имеющих 4 продукта (мб это продукты не значительны для клиента и не дают понимание, что этот банк является основным для него)\n",
    "- Предложить выгодные условия по долгосрочным продуктам (кредитованию, ипотеке)\n",
    "- Увеличить проникновение кредитных карт в данный сегмент, Предложить специальные условия по КК(например, бесплатное годовое обслуживание, увеличение льготного периода или льготная %ставка);\n",
    "\n",
    "\n",
    "Далее сегмент **№2 - 41%** отточных клиентов\n",
    "- Пол: все\n",
    "- Баланс больше - 1,1 млн\n",
    "\n",
    "**Рекомендации:**\n",
    "- Посмотреть на работу премиальных менеджеров банка, так как это сегмент средне-состоятельных и состоятельных клиентов.\n",
    "- Проанализировать условия по депозитным и инвестиционным условиям банка и предложениям для клиентов по ним. Возможно в других банках предложения лучше и клиенты уходят к конкурентам.\n",
    "- Сделать предложения по ипотеки для таких клиентов, чтобы вложить данные средства в неджижимость и оставить клиента в банке на долгое время.\n",
    "\n",
    "\n",
    "На третьем месте **сегмент №1 - более 26%** оттока\n",
    "Пол: мужской\n",
    "Возраст: от 25-32 лет\n",
    "\n",
    "**Рекомендации:**\n",
    "- Увеличить активность клиентов данного сегмента\n",
    "- Запустить акцию по транзакционной активности с призом для победителей;\n",
    "- Настроить автоплатеж в мобильном приложении за телефон или коммунальные услуги\n",
    "- Выгодные условия по кешбеку соответствующие категориям интересов клиентов этого возраста.\n",
    "- Предложение долгосрочных креждитных и инвестиционных продуктов."
   ]
  }
 ],
 "metadata": {
  "ExecuteTimeLog": [
   {
    "duration": 1883,
    "start_time": "2023-05-30T06:54:33.091Z"
   },
   {
    "duration": 145,
    "start_time": "2023-05-30T06:59:25.944Z"
   },
   {
    "duration": 3154,
    "start_time": "2023-05-30T06:59:32.041Z"
   },
   {
    "duration": 1037,
    "start_time": "2023-05-30T07:00:18.250Z"
   },
   {
    "duration": 44,
    "start_time": "2023-05-30T07:01:44.169Z"
   },
   {
    "duration": 16,
    "start_time": "2023-05-30T07:01:54.204Z"
   },
   {
    "duration": 46,
    "start_time": "2023-05-30T07:04:21.460Z"
   },
   {
    "duration": 126,
    "start_time": "2023-05-30T07:17:09.263Z"
   },
   {
    "duration": 125,
    "start_time": "2023-05-30T07:19:02.323Z"
   },
   {
    "duration": 11,
    "start_time": "2023-05-30T07:21:06.388Z"
   },
   {
    "duration": 22,
    "start_time": "2023-05-30T07:21:19.420Z"
   },
   {
    "duration": 306,
    "start_time": "2023-05-30T07:22:29.934Z"
   },
   {
    "duration": 25,
    "start_time": "2023-05-30T07:23:07.636Z"
   },
   {
    "duration": 14,
    "start_time": "2023-05-30T07:23:48.638Z"
   },
   {
    "duration": 451,
    "start_time": "2023-05-30T07:25:10.501Z"
   },
   {
    "duration": 4,
    "start_time": "2023-05-30T07:28:17.724Z"
   },
   {
    "duration": 24,
    "start_time": "2023-05-30T07:28:39.307Z"
   },
   {
    "duration": 15,
    "start_time": "2023-05-30T07:30:33.637Z"
   },
   {
    "duration": 126,
    "start_time": "2023-05-30T07:39:45.160Z"
   },
   {
    "duration": 8,
    "start_time": "2023-05-30T07:40:13.196Z"
   },
   {
    "duration": 10,
    "start_time": "2023-05-30T07:40:21.963Z"
   },
   {
    "duration": 112,
    "start_time": "2023-05-30T07:40:54.772Z"
   },
   {
    "duration": 10,
    "start_time": "2023-05-30T07:44:03.781Z"
   },
   {
    "duration": 31,
    "start_time": "2023-05-30T07:53:31.160Z"
   },
   {
    "duration": 11,
    "start_time": "2023-05-30T07:55:03.907Z"
   },
   {
    "duration": 13,
    "start_time": "2023-05-30T07:59:02.191Z"
   },
   {
    "duration": 12,
    "start_time": "2023-05-30T07:59:18.611Z"
   },
   {
    "duration": 12,
    "start_time": "2023-05-30T07:59:27.346Z"
   },
   {
    "duration": 5324,
    "start_time": "2023-05-30T07:59:45.932Z"
   },
   {
    "duration": 17,
    "start_time": "2023-05-30T08:00:25.380Z"
   },
   {
    "duration": 16,
    "start_time": "2023-05-30T08:06:44.275Z"
   },
   {
    "duration": 7,
    "start_time": "2023-05-30T08:08:32.931Z"
   },
   {
    "duration": 23,
    "start_time": "2023-05-30T08:08:42.795Z"
   },
   {
    "duration": 6,
    "start_time": "2023-05-30T08:36:49.260Z"
   },
   {
    "duration": 23,
    "start_time": "2023-05-30T08:36:56.312Z"
   },
   {
    "duration": 10,
    "start_time": "2023-05-30T08:39:38.944Z"
   },
   {
    "duration": 16,
    "start_time": "2023-05-30T08:39:47.984Z"
   },
   {
    "duration": 13,
    "start_time": "2023-05-30T08:40:22.873Z"
   },
   {
    "duration": 14,
    "start_time": "2023-05-30T08:40:28.409Z"
   },
   {
    "duration": 13,
    "start_time": "2023-05-30T08:42:03.720Z"
   },
   {
    "duration": 15,
    "start_time": "2023-05-30T08:45:50.096Z"
   },
   {
    "duration": 115,
    "start_time": "2023-05-30T08:48:10.121Z"
   },
   {
    "duration": 14,
    "start_time": "2023-05-30T08:48:15.856Z"
   },
   {
    "duration": 20,
    "start_time": "2023-05-30T08:48:21.663Z"
   },
   {
    "duration": 1570,
    "start_time": "2023-05-30T13:53:14.368Z"
   },
   {
    "duration": 3901,
    "start_time": "2023-05-30T13:53:15.941Z"
   },
   {
    "duration": 45,
    "start_time": "2023-05-30T13:53:19.844Z"
   },
   {
    "duration": 31,
    "start_time": "2023-05-30T13:53:19.891Z"
   },
   {
    "duration": 17,
    "start_time": "2023-05-30T13:53:19.925Z"
   },
   {
    "duration": 10,
    "start_time": "2023-05-30T13:53:19.944Z"
   },
   {
    "duration": 53,
    "start_time": "2023-05-30T13:53:19.955Z"
   },
   {
    "duration": 7,
    "start_time": "2023-05-30T13:53:20.010Z"
   },
   {
    "duration": 52,
    "start_time": "2023-05-30T13:53:20.019Z"
   },
   {
    "duration": 41,
    "start_time": "2023-05-30T13:53:20.073Z"
   },
   {
    "duration": 132,
    "start_time": "2023-05-30T13:53:59.570Z"
   },
   {
    "duration": 14,
    "start_time": "2023-05-30T13:54:11.910Z"
   },
   {
    "duration": 12,
    "start_time": "2023-05-30T13:54:25.230Z"
   },
   {
    "duration": 1661,
    "start_time": "2023-05-30T13:54:53.222Z"
   },
   {
    "duration": 1189,
    "start_time": "2023-05-30T13:54:54.886Z"
   },
   {
    "duration": 36,
    "start_time": "2023-05-30T13:54:56.082Z"
   },
   {
    "duration": 29,
    "start_time": "2023-05-30T13:54:56.121Z"
   },
   {
    "duration": 42,
    "start_time": "2023-05-30T13:54:56.152Z"
   },
   {
    "duration": 9,
    "start_time": "2023-05-30T13:54:56.196Z"
   },
   {
    "duration": 37,
    "start_time": "2023-05-30T13:54:56.206Z"
   },
   {
    "duration": 9,
    "start_time": "2023-05-30T13:54:56.245Z"
   },
   {
    "duration": 53,
    "start_time": "2023-05-30T13:54:56.255Z"
   },
   {
    "duration": 37,
    "start_time": "2023-05-30T13:54:56.310Z"
   },
   {
    "duration": 154,
    "start_time": "2023-05-30T13:55:32.067Z"
   },
   {
    "duration": 1529,
    "start_time": "2023-05-30T13:55:41.490Z"
   },
   {
    "duration": 1067,
    "start_time": "2023-05-30T13:55:43.021Z"
   },
   {
    "duration": 53,
    "start_time": "2023-05-30T13:55:44.090Z"
   },
   {
    "duration": 40,
    "start_time": "2023-05-30T13:55:44.145Z"
   },
   {
    "duration": 18,
    "start_time": "2023-05-30T13:55:44.187Z"
   },
   {
    "duration": 10,
    "start_time": "2023-05-30T13:55:44.207Z"
   },
   {
    "duration": 33,
    "start_time": "2023-05-30T13:55:44.218Z"
   },
   {
    "duration": 31,
    "start_time": "2023-05-30T13:55:44.253Z"
   },
   {
    "duration": 39,
    "start_time": "2023-05-30T13:55:44.285Z"
   },
   {
    "duration": 64,
    "start_time": "2023-05-30T13:55:44.327Z"
   },
   {
    "duration": 122,
    "start_time": "2023-05-30T13:56:21.486Z"
   },
   {
    "duration": 1620,
    "start_time": "2023-05-30T13:56:31.068Z"
   },
   {
    "duration": 3536,
    "start_time": "2023-05-30T13:56:32.691Z"
   },
   {
    "duration": 39,
    "start_time": "2023-05-30T13:56:36.229Z"
   },
   {
    "duration": 27,
    "start_time": "2023-05-30T13:56:36.270Z"
   },
   {
    "duration": 32,
    "start_time": "2023-05-30T13:56:36.300Z"
   },
   {
    "duration": 12,
    "start_time": "2023-05-30T13:56:36.333Z"
   },
   {
    "duration": 30,
    "start_time": "2023-05-30T13:56:36.347Z"
   },
   {
    "duration": 13,
    "start_time": "2023-05-30T13:56:36.381Z"
   },
   {
    "duration": 40,
    "start_time": "2023-05-30T13:56:36.396Z"
   },
   {
    "duration": 37,
    "start_time": "2023-05-30T13:56:36.437Z"
   },
   {
    "duration": 1957,
    "start_time": "2023-05-30T13:57:45.110Z"
   },
   {
    "duration": 1770,
    "start_time": "2023-05-30T13:58:10.075Z"
   },
   {
    "duration": 1639,
    "start_time": "2023-05-30T13:58:22.798Z"
   },
   {
    "duration": 972,
    "start_time": "2023-05-30T13:58:24.439Z"
   },
   {
    "duration": 33,
    "start_time": "2023-05-30T13:58:25.413Z"
   },
   {
    "duration": 22,
    "start_time": "2023-05-30T13:58:25.448Z"
   },
   {
    "duration": 17,
    "start_time": "2023-05-30T13:58:25.472Z"
   },
   {
    "duration": 10,
    "start_time": "2023-05-30T13:58:25.490Z"
   },
   {
    "duration": 27,
    "start_time": "2023-05-30T13:58:25.502Z"
   },
   {
    "duration": 6,
    "start_time": "2023-05-30T13:58:25.531Z"
   },
   {
    "duration": 52,
    "start_time": "2023-05-30T13:58:25.538Z"
   },
   {
    "duration": 37,
    "start_time": "2023-05-30T13:58:25.591Z"
   },
   {
    "duration": 1641,
    "start_time": "2023-05-30T14:00:07.272Z"
   },
   {
    "duration": 3655,
    "start_time": "2023-05-30T14:00:08.915Z"
   },
   {
    "duration": 50,
    "start_time": "2023-05-30T14:00:12.572Z"
   },
   {
    "duration": 23,
    "start_time": "2023-05-30T14:00:12.623Z"
   },
   {
    "duration": 12,
    "start_time": "2023-05-30T14:00:12.648Z"
   },
   {
    "duration": 28,
    "start_time": "2023-05-30T14:00:12.662Z"
   },
   {
    "duration": 36,
    "start_time": "2023-05-30T14:00:12.692Z"
   },
   {
    "duration": 8,
    "start_time": "2023-05-30T14:00:12.730Z"
   },
   {
    "duration": 41,
    "start_time": "2023-05-30T14:00:12.739Z"
   },
   {
    "duration": 46,
    "start_time": "2023-05-30T14:00:12.782Z"
   },
   {
    "duration": 113,
    "start_time": "2023-05-30T14:00:54.892Z"
   },
   {
    "duration": 13,
    "start_time": "2023-05-30T14:00:59.931Z"
   },
   {
    "duration": 6,
    "start_time": "2023-05-30T14:02:15.763Z"
   },
   {
    "duration": 1505,
    "start_time": "2023-05-30T14:02:49.382Z"
   },
   {
    "duration": 1269,
    "start_time": "2023-05-30T14:02:50.894Z"
   },
   {
    "duration": 38,
    "start_time": "2023-05-30T14:02:52.164Z"
   },
   {
    "duration": 21,
    "start_time": "2023-05-30T14:02:52.204Z"
   },
   {
    "duration": 26,
    "start_time": "2023-05-30T14:02:52.227Z"
   },
   {
    "duration": 8,
    "start_time": "2023-05-30T14:02:52.255Z"
   },
   {
    "duration": 33,
    "start_time": "2023-05-30T14:02:52.265Z"
   },
   {
    "duration": 7,
    "start_time": "2023-05-30T14:02:52.300Z"
   },
   {
    "duration": 26,
    "start_time": "2023-05-30T14:02:52.309Z"
   },
   {
    "duration": 67,
    "start_time": "2023-05-30T14:02:52.337Z"
   },
   {
    "duration": 12,
    "start_time": "2023-05-30T14:02:52.406Z"
   },
   {
    "duration": 4,
    "start_time": "2023-05-30T14:02:52.420Z"
   },
   {
    "duration": 1489,
    "start_time": "2023-05-30T14:06:48.623Z"
   },
   {
    "duration": 915,
    "start_time": "2023-05-30T14:06:50.114Z"
   },
   {
    "duration": 36,
    "start_time": "2023-05-30T14:06:51.030Z"
   },
   {
    "duration": 30,
    "start_time": "2023-05-30T14:06:51.067Z"
   },
   {
    "duration": 11,
    "start_time": "2023-05-30T14:06:51.099Z"
   },
   {
    "duration": 9,
    "start_time": "2023-05-30T14:06:51.112Z"
   },
   {
    "duration": 26,
    "start_time": "2023-05-30T14:06:51.122Z"
   },
   {
    "duration": 26,
    "start_time": "2023-05-30T14:06:51.150Z"
   },
   {
    "duration": 32,
    "start_time": "2023-05-30T14:06:51.177Z"
   },
   {
    "duration": 48,
    "start_time": "2023-05-30T14:06:51.211Z"
   },
   {
    "duration": 29,
    "start_time": "2023-05-30T14:06:51.260Z"
   },
   {
    "duration": 211,
    "start_time": "2023-05-31T08:42:16.003Z"
   },
   {
    "duration": 155,
    "start_time": "2023-05-31T08:42:37.337Z"
   },
   {
    "duration": 418,
    "start_time": "2023-05-31T08:42:53.441Z"
   },
   {
    "duration": 1797,
    "start_time": "2023-05-31T08:52:15.490Z"
   },
   {
    "duration": 2050,
    "start_time": "2023-05-31T08:52:29.949Z"
   },
   {
    "duration": 1748,
    "start_time": "2023-05-31T08:52:53.712Z"
   },
   {
    "duration": 16,
    "start_time": "2023-05-31T08:53:47.495Z"
   },
   {
    "duration": 14,
    "start_time": "2023-05-31T08:53:51.276Z"
   },
   {
    "duration": 10,
    "start_time": "2023-05-31T08:54:35.216Z"
   },
   {
    "duration": 10,
    "start_time": "2023-05-31T08:55:30.760Z"
   },
   {
    "duration": 11,
    "start_time": "2023-05-31T08:55:40.935Z"
   },
   {
    "duration": 14,
    "start_time": "2023-05-31T08:55:56.424Z"
   },
   {
    "duration": 14,
    "start_time": "2023-05-31T08:58:41.650Z"
   },
   {
    "duration": 14,
    "start_time": "2023-05-31T09:03:32.434Z"
   },
   {
    "duration": 3203,
    "start_time": "2023-05-31T09:06:20.145Z"
   },
   {
    "duration": 1808,
    "start_time": "2023-05-31T09:08:34.936Z"
   },
   {
    "duration": 1625,
    "start_time": "2023-05-31T09:11:56.984Z"
   },
   {
    "duration": 1137,
    "start_time": "2023-05-31T09:11:58.611Z"
   },
   {
    "duration": 40,
    "start_time": "2023-05-31T09:11:59.750Z"
   },
   {
    "duration": 27,
    "start_time": "2023-05-31T09:11:59.793Z"
   },
   {
    "duration": 12,
    "start_time": "2023-05-31T09:11:59.822Z"
   },
   {
    "duration": 14,
    "start_time": "2023-05-31T09:11:59.836Z"
   },
   {
    "duration": 65,
    "start_time": "2023-05-31T09:11:59.853Z"
   },
   {
    "duration": 7,
    "start_time": "2023-05-31T09:11:59.920Z"
   },
   {
    "duration": 24,
    "start_time": "2023-05-31T09:11:59.929Z"
   },
   {
    "duration": 75,
    "start_time": "2023-05-31T09:11:59.954Z"
   },
   {
    "duration": 23,
    "start_time": "2023-05-31T09:12:00.031Z"
   },
   {
    "duration": 487,
    "start_time": "2023-05-31T09:12:00.055Z"
   },
   {
    "duration": 1602,
    "start_time": "2023-05-31T09:13:55.150Z"
   },
   {
    "duration": 1192,
    "start_time": "2023-05-31T09:13:56.755Z"
   },
   {
    "duration": 51,
    "start_time": "2023-05-31T09:13:57.949Z"
   },
   {
    "duration": 30,
    "start_time": "2023-05-31T09:13:58.002Z"
   },
   {
    "duration": 20,
    "start_time": "2023-05-31T09:13:58.035Z"
   },
   {
    "duration": 28,
    "start_time": "2023-05-31T09:13:58.058Z"
   },
   {
    "duration": 35,
    "start_time": "2023-05-31T09:13:58.093Z"
   },
   {
    "duration": 8,
    "start_time": "2023-05-31T09:13:58.130Z"
   },
   {
    "duration": 44,
    "start_time": "2023-05-31T09:13:58.140Z"
   },
   {
    "duration": 56,
    "start_time": "2023-05-31T09:13:58.187Z"
   },
   {
    "duration": 42,
    "start_time": "2023-05-31T09:13:58.245Z"
   },
   {
    "duration": 552,
    "start_time": "2023-05-31T09:13:58.289Z"
   },
   {
    "duration": 1652,
    "start_time": "2023-05-31T09:16:23.842Z"
   },
   {
    "duration": 991,
    "start_time": "2023-05-31T09:16:25.496Z"
   },
   {
    "duration": 36,
    "start_time": "2023-05-31T09:16:26.488Z"
   },
   {
    "duration": 25,
    "start_time": "2023-05-31T09:16:26.525Z"
   },
   {
    "duration": 29,
    "start_time": "2023-05-31T09:16:26.552Z"
   },
   {
    "duration": 18,
    "start_time": "2023-05-31T09:16:26.582Z"
   },
   {
    "duration": 30,
    "start_time": "2023-05-31T09:16:26.601Z"
   },
   {
    "duration": 7,
    "start_time": "2023-05-31T09:16:26.632Z"
   },
   {
    "duration": 49,
    "start_time": "2023-05-31T09:16:26.640Z"
   },
   {
    "duration": 45,
    "start_time": "2023-05-31T09:16:26.691Z"
   },
   {
    "duration": 13,
    "start_time": "2023-05-31T09:16:26.738Z"
   },
   {
    "duration": 472,
    "start_time": "2023-05-31T09:16:26.752Z"
   },
   {
    "duration": 6065,
    "start_time": "2023-05-31T09:16:27.225Z"
   },
   {
    "duration": 274479,
    "start_time": "2023-05-31T09:16:33.294Z"
   },
   {
    "duration": 103,
    "start_time": "2023-05-31T09:28:34.523Z"
   },
   {
    "duration": 112,
    "start_time": "2023-05-31T09:28:53.687Z"
   },
   {
    "duration": 19,
    "start_time": "2023-05-31T09:29:23.441Z"
   },
   {
    "duration": 14,
    "start_time": "2023-05-31T09:29:43.846Z"
   },
   {
    "duration": 1853,
    "start_time": "2023-05-31T11:17:26.818Z"
   },
   {
    "duration": 2290,
    "start_time": "2023-05-31T11:17:37.746Z"
   },
   {
    "duration": 2222,
    "start_time": "2023-05-31T11:17:46.881Z"
   },
   {
    "duration": 2204,
    "start_time": "2023-05-31T11:17:54.158Z"
   },
   {
    "duration": 2300,
    "start_time": "2023-05-31T11:18:33.945Z"
   },
   {
    "duration": 2286,
    "start_time": "2023-05-31T11:18:44.035Z"
   },
   {
    "duration": 842,
    "start_time": "2023-05-31T11:33:10.289Z"
   },
   {
    "duration": 1360,
    "start_time": "2023-05-31T11:36:09.554Z"
   },
   {
    "duration": 621,
    "start_time": "2023-05-31T11:36:41.992Z"
   },
   {
    "duration": 11,
    "start_time": "2023-05-31T11:57:54.776Z"
   },
   {
    "duration": 19,
    "start_time": "2023-05-31T11:58:14.219Z"
   },
   {
    "duration": 17,
    "start_time": "2023-05-31T11:58:36.272Z"
   },
   {
    "duration": 162,
    "start_time": "2023-05-31T11:58:59.127Z"
   },
   {
    "duration": 203,
    "start_time": "2023-05-31T12:00:00.680Z"
   },
   {
    "duration": 168,
    "start_time": "2023-05-31T12:00:56.304Z"
   },
   {
    "duration": 134,
    "start_time": "2023-05-31T12:01:10.464Z"
   },
   {
    "duration": 18,
    "start_time": "2023-05-31T12:13:47.960Z"
   },
   {
    "duration": 176,
    "start_time": "2023-05-31T12:14:07.551Z"
   },
   {
    "duration": 149,
    "start_time": "2023-05-31T12:15:58.128Z"
   },
   {
    "duration": 134,
    "start_time": "2023-05-31T12:17:40.256Z"
   },
   {
    "duration": 1815,
    "start_time": "2023-05-31T12:18:04.719Z"
   },
   {
    "duration": 133,
    "start_time": "2023-05-31T12:18:15.694Z"
   },
   {
    "duration": 1611,
    "start_time": "2023-05-31T12:18:57.723Z"
   },
   {
    "duration": 3729,
    "start_time": "2023-05-31T12:18:59.336Z"
   },
   {
    "duration": 37,
    "start_time": "2023-05-31T12:19:03.068Z"
   },
   {
    "duration": 26,
    "start_time": "2023-05-31T12:19:03.108Z"
   },
   {
    "duration": 13,
    "start_time": "2023-05-31T12:19:03.136Z"
   },
   {
    "duration": 32,
    "start_time": "2023-05-31T12:19:03.150Z"
   },
   {
    "duration": 35,
    "start_time": "2023-05-31T12:19:03.184Z"
   },
   {
    "duration": 8,
    "start_time": "2023-05-31T12:19:03.221Z"
   },
   {
    "duration": 61,
    "start_time": "2023-05-31T12:19:03.231Z"
   },
   {
    "duration": 48,
    "start_time": "2023-05-31T12:19:03.295Z"
   },
   {
    "duration": 31,
    "start_time": "2023-05-31T12:19:03.344Z"
   },
   {
    "duration": 477,
    "start_time": "2023-05-31T12:19:03.376Z"
   },
   {
    "duration": 1406,
    "start_time": "2023-05-31T12:19:03.854Z"
   },
   {
    "duration": 632,
    "start_time": "2023-05-31T12:19:05.262Z"
   },
   {
    "duration": 275,
    "start_time": "2023-05-31T12:19:05.896Z"
   },
   {
    "duration": 135,
    "start_time": "2023-05-31T12:23:18.479Z"
   },
   {
    "duration": 248,
    "start_time": "2023-05-31T12:23:38.608Z"
   },
   {
    "duration": 127,
    "start_time": "2023-05-31T12:23:46.872Z"
   },
   {
    "duration": 158,
    "start_time": "2023-05-31T12:23:57.086Z"
   },
   {
    "duration": 188,
    "start_time": "2023-05-31T12:24:11.136Z"
   },
   {
    "duration": 201,
    "start_time": "2023-05-31T12:24:24.488Z"
   },
   {
    "duration": 9,
    "start_time": "2023-05-31T12:25:20.759Z"
   },
   {
    "duration": 1333,
    "start_time": "2023-05-31T12:27:03.654Z"
   },
   {
    "duration": 3505,
    "start_time": "2023-05-31T12:27:04.989Z"
   },
   {
    "duration": 35,
    "start_time": "2023-05-31T12:27:08.496Z"
   },
   {
    "duration": 24,
    "start_time": "2023-05-31T12:27:08.533Z"
   },
   {
    "duration": 27,
    "start_time": "2023-05-31T12:27:08.558Z"
   },
   {
    "duration": 9,
    "start_time": "2023-05-31T12:27:08.586Z"
   },
   {
    "duration": 49,
    "start_time": "2023-05-31T12:27:08.597Z"
   },
   {
    "duration": 33,
    "start_time": "2023-05-31T12:27:08.648Z"
   },
   {
    "duration": 23,
    "start_time": "2023-05-31T12:27:08.683Z"
   },
   {
    "duration": 43,
    "start_time": "2023-05-31T12:27:08.708Z"
   },
   {
    "duration": 32,
    "start_time": "2023-05-31T12:27:08.753Z"
   },
   {
    "duration": 380,
    "start_time": "2023-05-31T12:27:08.787Z"
   },
   {
    "duration": 1336,
    "start_time": "2023-05-31T12:27:09.168Z"
   },
   {
    "duration": 656,
    "start_time": "2023-05-31T12:27:10.506Z"
   },
   {
    "duration": 112,
    "start_time": "2023-05-31T12:27:11.164Z"
   },
   {
    "duration": 16,
    "start_time": "2023-05-31T12:27:29.086Z"
   },
   {
    "duration": 13,
    "start_time": "2023-05-31T12:37:13.823Z"
   },
   {
    "duration": 12,
    "start_time": "2023-05-31T12:37:45.111Z"
   },
   {
    "duration": 120,
    "start_time": "2023-05-31T12:38:02.199Z"
   },
   {
    "duration": 217,
    "start_time": "2023-05-31T12:38:14.543Z"
   },
   {
    "duration": 13,
    "start_time": "2023-05-31T12:38:30.247Z"
   },
   {
    "duration": 13,
    "start_time": "2023-05-31T12:39:03.287Z"
   },
   {
    "duration": 13,
    "start_time": "2023-05-31T12:41:23.431Z"
   },
   {
    "duration": 13,
    "start_time": "2023-05-31T12:41:37.176Z"
   },
   {
    "duration": 12,
    "start_time": "2023-05-31T12:43:43.079Z"
   },
   {
    "duration": 1929,
    "start_time": "2023-05-31T13:04:25.468Z"
   },
   {
    "duration": 409,
    "start_time": "2023-05-31T13:04:34.911Z"
   },
   {
    "duration": 1243,
    "start_time": "2023-05-31T13:05:37.543Z"
   },
   {
    "duration": 3722,
    "start_time": "2023-05-31T13:05:38.788Z"
   },
   {
    "duration": 34,
    "start_time": "2023-05-31T13:05:42.512Z"
   },
   {
    "duration": 23,
    "start_time": "2023-05-31T13:05:42.547Z"
   },
   {
    "duration": 12,
    "start_time": "2023-05-31T13:05:42.572Z"
   },
   {
    "duration": 9,
    "start_time": "2023-05-31T13:05:42.585Z"
   },
   {
    "duration": 49,
    "start_time": "2023-05-31T13:05:42.596Z"
   },
   {
    "duration": 29,
    "start_time": "2023-05-31T13:05:42.646Z"
   },
   {
    "duration": 33,
    "start_time": "2023-05-31T13:05:42.677Z"
   },
   {
    "duration": 69,
    "start_time": "2023-05-31T13:05:42.712Z"
   },
   {
    "duration": 17,
    "start_time": "2023-05-31T13:05:42.783Z"
   },
   {
    "duration": 378,
    "start_time": "2023-05-31T13:05:42.802Z"
   },
   {
    "duration": 1384,
    "start_time": "2023-05-31T13:05:43.181Z"
   },
   {
    "duration": 595,
    "start_time": "2023-05-31T13:05:44.574Z"
   },
   {
    "duration": 443,
    "start_time": "2023-05-31T13:05:45.170Z"
   },
   {
    "duration": 1282,
    "start_time": "2023-05-31T13:06:13.997Z"
   },
   {
    "duration": 992,
    "start_time": "2023-05-31T13:06:15.281Z"
   },
   {
    "duration": 39,
    "start_time": "2023-05-31T13:06:16.274Z"
   },
   {
    "duration": 32,
    "start_time": "2023-05-31T13:06:16.314Z"
   },
   {
    "duration": 29,
    "start_time": "2023-05-31T13:06:16.347Z"
   },
   {
    "duration": 8,
    "start_time": "2023-05-31T13:06:16.378Z"
   },
   {
    "duration": 52,
    "start_time": "2023-05-31T13:06:16.388Z"
   },
   {
    "duration": 16,
    "start_time": "2023-05-31T13:06:16.442Z"
   },
   {
    "duration": 34,
    "start_time": "2023-05-31T13:06:16.460Z"
   },
   {
    "duration": 43,
    "start_time": "2023-05-31T13:06:16.496Z"
   },
   {
    "duration": 12,
    "start_time": "2023-05-31T13:06:16.541Z"
   },
   {
    "duration": 379,
    "start_time": "2023-05-31T13:06:16.555Z"
   },
   {
    "duration": 1316,
    "start_time": "2023-05-31T13:06:16.936Z"
   },
   {
    "duration": 580,
    "start_time": "2023-05-31T13:06:18.254Z"
   },
   {
    "duration": 467,
    "start_time": "2023-05-31T13:06:18.835Z"
   },
   {
    "duration": 8032,
    "start_time": "2023-05-31T13:07:08.830Z"
   },
   {
    "duration": 102,
    "start_time": "2023-05-31T13:16:50.178Z"
   },
   {
    "duration": 4506,
    "start_time": "2023-05-31T13:16:55.401Z"
   },
   {
    "duration": 4584,
    "start_time": "2023-05-31T13:17:11.639Z"
   },
   {
    "duration": 4389,
    "start_time": "2023-05-31T13:34:42.559Z"
   },
   {
    "duration": 4465,
    "start_time": "2023-05-31T13:44:47.640Z"
   },
   {
    "duration": 4079,
    "start_time": "2023-05-31T13:45:17.303Z"
   },
   {
    "duration": 4507,
    "start_time": "2023-05-31T13:45:29.312Z"
   },
   {
    "duration": 4536,
    "start_time": "2023-05-31T13:45:37.264Z"
   },
   {
    "duration": 609,
    "start_time": "2023-05-31T13:45:58.646Z"
   },
   {
    "duration": 17,
    "start_time": "2023-05-31T14:06:57.808Z"
   },
   {
    "duration": 14,
    "start_time": "2023-05-31T14:07:05.807Z"
   },
   {
    "duration": 1352,
    "start_time": "2023-05-31T14:07:14.239Z"
   },
   {
    "duration": 1277,
    "start_time": "2023-05-31T14:08:38.326Z"
   },
   {
    "duration": 1290,
    "start_time": "2023-05-31T14:09:08.887Z"
   },
   {
    "duration": 499,
    "start_time": "2023-05-31T14:09:19.490Z"
   },
   {
    "duration": 1505,
    "start_time": "2023-05-31T14:09:25.342Z"
   },
   {
    "duration": 1371,
    "start_time": "2023-05-31T14:09:32.702Z"
   },
   {
    "duration": 1371,
    "start_time": "2023-05-31T14:09:43.070Z"
   },
   {
    "duration": 109,
    "start_time": "2023-05-31T14:24:49.886Z"
   },
   {
    "duration": 10,
    "start_time": "2023-05-31T14:35:17.343Z"
   },
   {
    "duration": 17,
    "start_time": "2023-05-31T14:35:34.526Z"
   },
   {
    "duration": 10,
    "start_time": "2023-05-31T14:35:45.654Z"
   },
   {
    "duration": 19,
    "start_time": "2023-05-31T14:36:02.430Z"
   },
   {
    "duration": 21,
    "start_time": "2023-05-31T14:43:11.166Z"
   },
   {
    "duration": 16,
    "start_time": "2023-05-31T14:44:09.566Z"
   },
   {
    "duration": 23,
    "start_time": "2023-05-31T14:44:13.454Z"
   },
   {
    "duration": 21,
    "start_time": "2023-05-31T14:45:40.966Z"
   },
   {
    "duration": 1234,
    "start_time": "2023-06-01T10:57:51.627Z"
   },
   {
    "duration": 3705,
    "start_time": "2023-06-01T10:57:52.863Z"
   },
   {
    "duration": 44,
    "start_time": "2023-06-01T10:57:56.570Z"
   },
   {
    "duration": 24,
    "start_time": "2023-06-01T10:57:56.615Z"
   },
   {
    "duration": 12,
    "start_time": "2023-06-01T10:57:56.641Z"
   },
   {
    "duration": 33,
    "start_time": "2023-06-01T10:57:56.654Z"
   },
   {
    "duration": 48,
    "start_time": "2023-06-01T10:57:56.690Z"
   },
   {
    "duration": 6,
    "start_time": "2023-06-01T10:57:56.739Z"
   },
   {
    "duration": 45,
    "start_time": "2023-06-01T10:57:56.746Z"
   },
   {
    "duration": 46,
    "start_time": "2023-06-01T10:57:56.793Z"
   },
   {
    "duration": 14,
    "start_time": "2023-06-01T10:57:56.841Z"
   },
   {
    "duration": 401,
    "start_time": "2023-06-01T10:57:56.877Z"
   },
   {
    "duration": 1534,
    "start_time": "2023-06-01T10:57:57.281Z"
   },
   {
    "duration": 674,
    "start_time": "2023-06-01T10:57:58.819Z"
   },
   {
    "duration": 5231,
    "start_time": "2023-06-01T10:57:59.495Z"
   },
   {
    "duration": 5012,
    "start_time": "2023-06-01T10:58:04.728Z"
   },
   {
    "duration": 583,
    "start_time": "2023-06-01T10:58:09.742Z"
   },
   {
    "duration": 1522,
    "start_time": "2023-06-01T10:58:10.327Z"
   },
   {
    "duration": 31,
    "start_time": "2023-06-01T10:58:11.850Z"
   },
   {
    "duration": 7,
    "start_time": "2023-06-01T11:54:45.003Z"
   },
   {
    "duration": 108,
    "start_time": "2023-06-01T11:56:30.214Z"
   },
   {
    "duration": 233,
    "start_time": "2023-06-01T11:56:41.526Z"
   },
   {
    "duration": 11,
    "start_time": "2023-06-01T12:00:02.990Z"
   },
   {
    "duration": 1275,
    "start_time": "2023-06-01T12:01:09.469Z"
   },
   {
    "duration": 7459,
    "start_time": "2023-06-01T12:01:10.746Z"
   },
   {
    "duration": 33,
    "start_time": "2023-06-01T12:01:18.207Z"
   },
   {
    "duration": 22,
    "start_time": "2023-06-01T12:01:18.242Z"
   },
   {
    "duration": 23,
    "start_time": "2023-06-01T12:01:18.266Z"
   },
   {
    "duration": 9,
    "start_time": "2023-06-01T12:01:18.291Z"
   },
   {
    "duration": 50,
    "start_time": "2023-06-01T12:01:18.301Z"
   },
   {
    "duration": 28,
    "start_time": "2023-06-01T12:01:18.352Z"
   },
   {
    "duration": 26,
    "start_time": "2023-06-01T12:01:18.382Z"
   },
   {
    "duration": 44,
    "start_time": "2023-06-01T12:01:18.410Z"
   },
   {
    "duration": 39,
    "start_time": "2023-06-01T12:01:18.456Z"
   },
   {
    "duration": 406,
    "start_time": "2023-06-01T12:01:18.496Z"
   },
   {
    "duration": 1393,
    "start_time": "2023-06-01T12:01:18.904Z"
   },
   {
    "duration": 639,
    "start_time": "2023-06-01T12:01:20.300Z"
   },
   {
    "duration": 4858,
    "start_time": "2023-06-01T12:01:20.940Z"
   },
   {
    "duration": 4992,
    "start_time": "2023-06-01T12:01:25.799Z"
   },
   {
    "duration": 577,
    "start_time": "2023-06-01T12:01:30.794Z"
   },
   {
    "duration": 1532,
    "start_time": "2023-06-01T12:01:31.374Z"
   },
   {
    "duration": 22,
    "start_time": "2023-06-01T12:01:32.908Z"
   },
   {
    "duration": 7,
    "start_time": "2023-06-01T12:01:32.932Z"
   },
   {
    "duration": 256,
    "start_time": "2023-06-01T12:01:32.940Z"
   },
   {
    "duration": 6,
    "start_time": "2023-06-01T12:01:33.197Z"
   },
   {
    "duration": 1888,
    "start_time": "2023-06-01T12:09:41.894Z"
   },
   {
    "duration": 8,
    "start_time": "2023-06-01T12:10:05.757Z"
   },
   {
    "duration": 19,
    "start_time": "2023-06-01T12:12:18.571Z"
   },
   {
    "duration": 8,
    "start_time": "2023-06-01T12:12:37.422Z"
   },
   {
    "duration": 1344,
    "start_time": "2023-06-01T12:12:45.594Z"
   },
   {
    "duration": 1249,
    "start_time": "2023-06-01T12:12:46.940Z"
   },
   {
    "duration": 38,
    "start_time": "2023-06-01T12:12:48.190Z"
   },
   {
    "duration": 22,
    "start_time": "2023-06-01T12:12:48.230Z"
   },
   {
    "duration": 38,
    "start_time": "2023-06-01T12:12:48.254Z"
   },
   {
    "duration": 10,
    "start_time": "2023-06-01T12:12:48.295Z"
   },
   {
    "duration": 69,
    "start_time": "2023-06-01T12:12:48.307Z"
   },
   {
    "duration": 9,
    "start_time": "2023-06-01T12:12:48.378Z"
   },
   {
    "duration": 28,
    "start_time": "2023-06-01T12:12:48.389Z"
   },
   {
    "duration": 74,
    "start_time": "2023-06-01T12:12:48.421Z"
   },
   {
    "duration": 13,
    "start_time": "2023-06-01T12:12:48.497Z"
   },
   {
    "duration": 398,
    "start_time": "2023-06-01T12:12:48.511Z"
   },
   {
    "duration": 1390,
    "start_time": "2023-06-01T12:12:48.911Z"
   },
   {
    "duration": 631,
    "start_time": "2023-06-01T12:12:50.302Z"
   },
   {
    "duration": 4815,
    "start_time": "2023-06-01T12:12:50.934Z"
   },
   {
    "duration": 5575,
    "start_time": "2023-06-01T12:12:55.751Z"
   },
   {
    "duration": 638,
    "start_time": "2023-06-01T12:13:01.328Z"
   },
   {
    "duration": 1555,
    "start_time": "2023-06-01T12:13:01.968Z"
   },
   {
    "duration": 23,
    "start_time": "2023-06-01T12:13:03.525Z"
   },
   {
    "duration": 8,
    "start_time": "2023-06-01T12:13:03.550Z"
   },
   {
    "duration": 243,
    "start_time": "2023-06-01T12:13:03.560Z"
   },
   {
    "duration": 5,
    "start_time": "2023-06-01T12:13:03.805Z"
   },
   {
    "duration": 8,
    "start_time": "2023-06-01T12:13:03.812Z"
   },
   {
    "duration": 9,
    "start_time": "2023-06-01T12:15:34.050Z"
   },
   {
    "duration": 7,
    "start_time": "2023-06-01T12:15:59.792Z"
   },
   {
    "duration": 189,
    "start_time": "2023-06-01T12:16:38.854Z"
   },
   {
    "duration": 130,
    "start_time": "2023-06-01T12:16:59.719Z"
   },
   {
    "duration": 5,
    "start_time": "2023-06-01T12:21:07.063Z"
   },
   {
    "duration": 103,
    "start_time": "2023-06-01T12:34:57.037Z"
   },
   {
    "duration": 14,
    "start_time": "2023-06-01T12:35:01.886Z"
   },
   {
    "duration": 16,
    "start_time": "2023-06-01T12:35:09.470Z"
   },
   {
    "duration": 43,
    "start_time": "2023-06-02T11:42:11.400Z"
   },
   {
    "duration": 105,
    "start_time": "2023-06-02T11:43:50.318Z"
   },
   {
    "duration": 221,
    "start_time": "2023-06-02T11:57:54.400Z"
   },
   {
    "duration": 177,
    "start_time": "2023-06-02T11:58:17.701Z"
   },
   {
    "duration": 152,
    "start_time": "2023-06-02T11:58:36.324Z"
   },
   {
    "duration": 59,
    "start_time": "2023-06-02T11:59:26.096Z"
   },
   {
    "duration": 52,
    "start_time": "2023-06-02T12:00:15.141Z"
   },
   {
    "duration": 60,
    "start_time": "2023-06-02T12:02:42.372Z"
   },
   {
    "duration": 61,
    "start_time": "2023-06-02T12:03:06.394Z"
   },
   {
    "duration": 37,
    "start_time": "2023-06-02T12:08:20.075Z"
   },
   {
    "duration": 149,
    "start_time": "2023-06-02T12:19:40.609Z"
   },
   {
    "duration": 14,
    "start_time": "2023-06-02T12:20:57.330Z"
   },
   {
    "duration": 13,
    "start_time": "2023-06-02T12:24:42.026Z"
   },
   {
    "duration": 25,
    "start_time": "2023-06-02T12:26:57.975Z"
   },
   {
    "duration": 164,
    "start_time": "2023-06-02T12:28:22.360Z"
   },
   {
    "duration": 1441,
    "start_time": "2023-06-02T13:54:05.120Z"
   },
   {
    "duration": 1385,
    "start_time": "2023-06-02T13:54:06.563Z"
   },
   {
    "duration": 49,
    "start_time": "2023-06-02T13:54:07.949Z"
   },
   {
    "duration": 30,
    "start_time": "2023-06-02T13:54:08.000Z"
   },
   {
    "duration": 10,
    "start_time": "2023-06-02T13:54:08.032Z"
   },
   {
    "duration": 18,
    "start_time": "2023-06-02T13:54:08.044Z"
   },
   {
    "duration": 81,
    "start_time": "2023-06-02T13:54:08.064Z"
   },
   {
    "duration": 8,
    "start_time": "2023-06-02T13:54:08.146Z"
   },
   {
    "duration": 39,
    "start_time": "2023-06-02T13:54:08.156Z"
   },
   {
    "duration": 55,
    "start_time": "2023-06-02T13:54:08.198Z"
   },
   {
    "duration": 13,
    "start_time": "2023-06-02T13:54:08.255Z"
   },
   {
    "duration": 454,
    "start_time": "2023-06-02T13:54:08.270Z"
   },
   {
    "duration": 1509,
    "start_time": "2023-06-02T13:54:08.725Z"
   },
   {
    "duration": 691,
    "start_time": "2023-06-02T13:54:10.236Z"
   },
   {
    "duration": 5416,
    "start_time": "2023-06-02T13:54:10.928Z"
   },
   {
    "duration": 5560,
    "start_time": "2023-06-02T13:54:16.346Z"
   },
   {
    "duration": 622,
    "start_time": "2023-06-02T13:54:21.911Z"
   },
   {
    "duration": 1695,
    "start_time": "2023-06-02T13:54:22.535Z"
   },
   {
    "duration": 92,
    "start_time": "2023-06-02T13:54:24.232Z"
   },
   {
    "duration": 9,
    "start_time": "2023-06-02T13:54:24.329Z"
   },
   {
    "duration": 308,
    "start_time": "2023-06-02T13:54:24.340Z"
   },
   {
    "duration": 5,
    "start_time": "2023-06-02T13:54:24.650Z"
   },
   {
    "duration": 18,
    "start_time": "2023-06-02T13:54:24.656Z"
   },
   {
    "duration": 160,
    "start_time": "2023-06-02T13:54:24.682Z"
   },
   {
    "duration": 6,
    "start_time": "2023-06-02T13:54:24.843Z"
   },
   {
    "duration": 150,
    "start_time": "2023-06-02T13:54:24.851Z"
   },
   {
    "duration": 0,
    "start_time": "2023-06-02T13:54:25.004Z"
   },
   {
    "duration": 0,
    "start_time": "2023-06-02T13:54:25.005Z"
   },
   {
    "duration": 0,
    "start_time": "2023-06-02T13:54:25.007Z"
   },
   {
    "duration": 15,
    "start_time": "2023-06-02T13:56:12.052Z"
   },
   {
    "duration": 1406,
    "start_time": "2023-06-02T13:56:26.828Z"
   },
   {
    "duration": 1027,
    "start_time": "2023-06-02T13:56:28.237Z"
   },
   {
    "duration": 79,
    "start_time": "2023-06-02T13:56:29.266Z"
   },
   {
    "duration": 32,
    "start_time": "2023-06-02T13:56:29.348Z"
   },
   {
    "duration": 39,
    "start_time": "2023-06-02T13:56:29.382Z"
   },
   {
    "duration": 25,
    "start_time": "2023-06-02T13:56:29.423Z"
   },
   {
    "duration": 82,
    "start_time": "2023-06-02T13:56:29.450Z"
   },
   {
    "duration": 9,
    "start_time": "2023-06-02T13:56:29.534Z"
   },
   {
    "duration": 35,
    "start_time": "2023-06-02T13:56:29.545Z"
   },
   {
    "duration": 79,
    "start_time": "2023-06-02T13:56:29.584Z"
   },
   {
    "duration": 26,
    "start_time": "2023-06-02T13:56:29.665Z"
   },
   {
    "duration": 430,
    "start_time": "2023-06-02T13:56:29.693Z"
   },
   {
    "duration": 1684,
    "start_time": "2023-06-02T13:56:30.125Z"
   },
   {
    "duration": 910,
    "start_time": "2023-06-02T13:56:31.829Z"
   },
   {
    "duration": 5698,
    "start_time": "2023-06-02T13:56:32.741Z"
   },
   {
    "duration": 5746,
    "start_time": "2023-06-02T13:56:38.440Z"
   },
   {
    "duration": 757,
    "start_time": "2023-06-02T13:56:44.190Z"
   },
   {
    "duration": 1642,
    "start_time": "2023-06-02T13:56:44.950Z"
   },
   {
    "duration": 59,
    "start_time": "2023-06-02T13:56:46.594Z"
   },
   {
    "duration": 6,
    "start_time": "2023-06-02T13:56:46.655Z"
   },
   {
    "duration": 343,
    "start_time": "2023-06-02T13:56:46.662Z"
   },
   {
    "duration": 6,
    "start_time": "2023-06-02T13:56:47.006Z"
   },
   {
    "duration": 16,
    "start_time": "2023-06-02T13:56:47.014Z"
   },
   {
    "duration": 195,
    "start_time": "2023-06-02T13:56:47.032Z"
   },
   {
    "duration": 6,
    "start_time": "2023-06-02T13:56:47.229Z"
   },
   {
    "duration": 22,
    "start_time": "2023-06-02T13:56:47.236Z"
   },
   {
    "duration": 37,
    "start_time": "2023-06-02T13:56:47.260Z"
   },
   {
    "duration": 20,
    "start_time": "2023-06-02T13:56:47.303Z"
   },
   {
    "duration": 15,
    "start_time": "2023-06-02T13:56:47.325Z"
   },
   {
    "duration": 19,
    "start_time": "2023-06-02T14:26:00.290Z"
   },
   {
    "duration": 21,
    "start_time": "2023-06-02T14:26:03.212Z"
   },
   {
    "duration": 28,
    "start_time": "2023-06-02T14:26:08.082Z"
   },
   {
    "duration": 1803,
    "start_time": "2023-06-02T17:38:17.472Z"
   },
   {
    "duration": 1171,
    "start_time": "2023-06-02T17:38:19.282Z"
   },
   {
    "duration": 71,
    "start_time": "2023-06-02T17:38:20.455Z"
   },
   {
    "duration": 57,
    "start_time": "2023-06-02T17:38:20.535Z"
   },
   {
    "duration": 31,
    "start_time": "2023-06-02T17:38:20.601Z"
   },
   {
    "duration": 24,
    "start_time": "2023-06-02T17:38:20.638Z"
   },
   {
    "duration": 89,
    "start_time": "2023-06-02T17:38:20.664Z"
   },
   {
    "duration": 9,
    "start_time": "2023-06-02T17:38:20.755Z"
   },
   {
    "duration": 327,
    "start_time": "2023-06-02T17:38:20.766Z"
   },
   {
    "duration": 123,
    "start_time": "2023-06-02T17:38:21.106Z"
   },
   {
    "duration": 23,
    "start_time": "2023-06-02T17:38:21.235Z"
   },
   {
    "duration": 620,
    "start_time": "2023-06-02T17:38:21.261Z"
   },
   {
    "duration": 1970,
    "start_time": "2023-06-02T17:38:21.887Z"
   },
   {
    "duration": 945,
    "start_time": "2023-06-02T17:38:23.864Z"
   },
   {
    "duration": 7659,
    "start_time": "2023-06-02T17:38:24.811Z"
   },
   {
    "duration": 7085,
    "start_time": "2023-06-02T17:38:32.472Z"
   },
   {
    "duration": 710,
    "start_time": "2023-06-02T17:38:39.559Z"
   },
   {
    "duration": 1862,
    "start_time": "2023-06-02T17:38:40.271Z"
   },
   {
    "duration": 82,
    "start_time": "2023-06-02T17:38:42.135Z"
   },
   {
    "duration": 30,
    "start_time": "2023-06-02T17:38:42.219Z"
   },
   {
    "duration": 370,
    "start_time": "2023-06-02T17:38:42.254Z"
   },
   {
    "duration": 20,
    "start_time": "2023-06-02T17:38:42.635Z"
   },
   {
    "duration": 8,
    "start_time": "2023-06-02T17:38:42.658Z"
   },
   {
    "duration": 191,
    "start_time": "2023-06-02T17:38:42.668Z"
   },
   {
    "duration": 5,
    "start_time": "2023-06-02T17:38:42.861Z"
   },
   {
    "duration": 35,
    "start_time": "2023-06-02T17:38:42.868Z"
   },
   {
    "duration": 18,
    "start_time": "2023-06-02T17:38:42.911Z"
   },
   {
    "duration": 35,
    "start_time": "2023-06-02T17:38:42.931Z"
   },
   {
    "duration": 185,
    "start_time": "2023-06-02T17:38:42.968Z"
   },
   {
    "duration": 28,
    "start_time": "2023-06-02T17:39:31.021Z"
   },
   {
    "duration": 1677,
    "start_time": "2023-06-02T17:39:44.970Z"
   },
   {
    "duration": 1115,
    "start_time": "2023-06-02T17:39:46.651Z"
   },
   {
    "duration": 70,
    "start_time": "2023-06-02T17:39:47.767Z"
   },
   {
    "duration": 48,
    "start_time": "2023-06-02T17:39:47.850Z"
   },
   {
    "duration": 25,
    "start_time": "2023-06-02T17:39:47.900Z"
   },
   {
    "duration": 21,
    "start_time": "2023-06-02T17:39:47.927Z"
   },
   {
    "duration": 91,
    "start_time": "2023-06-02T17:39:47.949Z"
   },
   {
    "duration": 11,
    "start_time": "2023-06-02T17:39:48.042Z"
   },
   {
    "duration": 42,
    "start_time": "2023-06-02T17:39:48.059Z"
   },
   {
    "duration": 80,
    "start_time": "2023-06-02T17:39:48.104Z"
   },
   {
    "duration": 25,
    "start_time": "2023-06-02T17:39:48.186Z"
   },
   {
    "duration": 517,
    "start_time": "2023-06-02T17:39:48.213Z"
   },
   {
    "duration": 1810,
    "start_time": "2023-06-02T17:39:48.736Z"
   },
   {
    "duration": 865,
    "start_time": "2023-06-02T17:39:50.552Z"
   },
   {
    "duration": 6546,
    "start_time": "2023-06-02T17:39:51.419Z"
   },
   {
    "duration": 6835,
    "start_time": "2023-06-02T17:39:57.967Z"
   },
   {
    "duration": 728,
    "start_time": "2023-06-02T17:40:04.808Z"
   },
   {
    "duration": 1810,
    "start_time": "2023-06-02T17:40:05.539Z"
   },
   {
    "duration": 78,
    "start_time": "2023-06-02T17:40:07.351Z"
   },
   {
    "duration": 21,
    "start_time": "2023-06-02T17:40:07.431Z"
   },
   {
    "duration": 270,
    "start_time": "2023-06-02T17:40:07.455Z"
   },
   {
    "duration": 7,
    "start_time": "2023-06-02T17:40:07.727Z"
   },
   {
    "duration": 8,
    "start_time": "2023-06-02T17:40:07.736Z"
   },
   {
    "duration": 184,
    "start_time": "2023-06-02T17:40:07.746Z"
   },
   {
    "duration": 14,
    "start_time": "2023-06-02T17:40:07.932Z"
   },
   {
    "duration": 20,
    "start_time": "2023-06-02T17:40:07.948Z"
   },
   {
    "duration": 40,
    "start_time": "2023-06-02T17:40:07.969Z"
   },
   {
    "duration": 47,
    "start_time": "2023-06-02T17:40:08.020Z"
   },
   {
    "duration": 44,
    "start_time": "2023-06-02T17:40:08.069Z"
   },
   {
    "duration": 1720,
    "start_time": "2023-06-04T13:06:40.034Z"
   },
   {
    "duration": 1468,
    "start_time": "2023-06-04T13:06:41.765Z"
   },
   {
    "duration": 55,
    "start_time": "2023-06-04T13:06:43.239Z"
   },
   {
    "duration": 38,
    "start_time": "2023-06-04T13:06:43.300Z"
   },
   {
    "duration": 18,
    "start_time": "2023-06-04T13:06:43.345Z"
   },
   {
    "duration": 15,
    "start_time": "2023-06-04T13:06:43.369Z"
   },
   {
    "duration": 95,
    "start_time": "2023-06-04T13:06:43.389Z"
   },
   {
    "duration": 10,
    "start_time": "2023-06-04T13:06:43.490Z"
   },
   {
    "duration": 37,
    "start_time": "2023-06-04T13:06:43.505Z"
   },
   {
    "duration": 82,
    "start_time": "2023-06-04T13:06:43.548Z"
   },
   {
    "duration": 23,
    "start_time": "2023-06-04T13:06:43.637Z"
   },
   {
    "duration": 555,
    "start_time": "2023-06-04T13:06:43.667Z"
   },
   {
    "duration": 1919,
    "start_time": "2023-06-04T13:06:44.228Z"
   },
   {
    "duration": 843,
    "start_time": "2023-06-04T13:06:46.154Z"
   },
   {
    "duration": 6370,
    "start_time": "2023-06-04T13:06:46.998Z"
   },
   {
    "duration": 7240,
    "start_time": "2023-06-04T13:06:53.370Z"
   },
   {
    "duration": 897,
    "start_time": "2023-06-04T13:07:00.614Z"
   },
   {
    "duration": 1908,
    "start_time": "2023-06-04T13:07:01.518Z"
   },
   {
    "duration": 88,
    "start_time": "2023-06-04T13:07:03.429Z"
   },
   {
    "duration": 14,
    "start_time": "2023-06-04T13:07:03.519Z"
   },
   {
    "duration": 409,
    "start_time": "2023-06-04T13:07:03.535Z"
   },
   {
    "duration": 7,
    "start_time": "2023-06-04T13:07:03.949Z"
   },
   {
    "duration": 11,
    "start_time": "2023-06-04T13:07:03.958Z"
   },
   {
    "duration": 180,
    "start_time": "2023-06-04T13:07:47.707Z"
   },
   {
    "duration": 10,
    "start_time": "2023-06-04T13:07:50.555Z"
   },
   {
    "duration": 6,
    "start_time": "2023-06-04T13:07:54.707Z"
   },
   {
    "duration": 250,
    "start_time": "2023-06-04T13:08:40.642Z"
   },
   {
    "duration": 33,
    "start_time": "2023-06-04T13:08:47.922Z"
   },
   {
    "duration": 12,
    "start_time": "2023-06-04T13:08:50.708Z"
   },
   {
    "duration": 17,
    "start_time": "2023-06-04T18:46:32.075Z"
   },
   {
    "duration": 1383,
    "start_time": "2023-06-04T18:48:16.729Z"
   },
   {
    "duration": 1254,
    "start_time": "2023-06-04T18:48:18.114Z"
   },
   {
    "duration": 51,
    "start_time": "2023-06-04T18:48:19.369Z"
   },
   {
    "duration": 22,
    "start_time": "2023-06-04T18:48:19.422Z"
   },
   {
    "duration": 12,
    "start_time": "2023-06-04T18:48:19.445Z"
   },
   {
    "duration": 12,
    "start_time": "2023-06-04T18:48:19.477Z"
   },
   {
    "duration": 58,
    "start_time": "2023-06-04T18:48:19.490Z"
   },
   {
    "duration": 7,
    "start_time": "2023-06-04T18:48:19.550Z"
   },
   {
    "duration": 47,
    "start_time": "2023-06-04T18:48:19.559Z"
   },
   {
    "duration": 48,
    "start_time": "2023-06-04T18:48:19.609Z"
   },
   {
    "duration": 34,
    "start_time": "2023-06-04T18:48:19.660Z"
   },
   {
    "duration": 476,
    "start_time": "2023-06-04T18:48:19.696Z"
   },
   {
    "duration": 1536,
    "start_time": "2023-06-04T18:48:20.174Z"
   },
   {
    "duration": 680,
    "start_time": "2023-06-04T18:48:21.712Z"
   },
   {
    "duration": 5016,
    "start_time": "2023-06-04T18:48:22.396Z"
   },
   {
    "duration": 5104,
    "start_time": "2023-06-04T18:48:27.413Z"
   },
   {
    "duration": 544,
    "start_time": "2023-06-04T18:48:32.519Z"
   },
   {
    "duration": 1521,
    "start_time": "2023-06-04T18:48:33.064Z"
   },
   {
    "duration": 53,
    "start_time": "2023-06-04T18:48:34.588Z"
   },
   {
    "duration": 6,
    "start_time": "2023-06-04T18:48:34.642Z"
   },
   {
    "duration": 279,
    "start_time": "2023-06-04T18:48:34.650Z"
   },
   {
    "duration": 5,
    "start_time": "2023-06-04T18:48:34.930Z"
   },
   {
    "duration": 9,
    "start_time": "2023-06-04T18:48:34.937Z"
   },
   {
    "duration": 152,
    "start_time": "2023-06-04T18:48:34.948Z"
   },
   {
    "duration": 7,
    "start_time": "2023-06-04T18:48:35.102Z"
   },
   {
    "duration": 15,
    "start_time": "2023-06-04T18:48:35.111Z"
   },
   {
    "duration": 12,
    "start_time": "2023-06-04T18:48:35.128Z"
   },
   {
    "duration": 47,
    "start_time": "2023-06-04T18:48:35.142Z"
   },
   {
    "duration": 14,
    "start_time": "2023-06-04T18:48:35.191Z"
   },
   {
    "duration": 11,
    "start_time": "2023-06-04T19:01:22.760Z"
   },
   {
    "duration": 54,
    "start_time": "2023-06-04T19:03:00.792Z"
   },
   {
    "duration": 56,
    "start_time": "2023-06-04T19:04:15.531Z"
   },
   {
    "duration": 1719,
    "start_time": "2023-06-04T19:04:55.026Z"
   },
   {
    "duration": 53,
    "start_time": "2023-06-04T19:05:15.770Z"
   },
   {
    "duration": 57,
    "start_time": "2023-06-04T19:05:31.591Z"
   },
   {
    "duration": 33,
    "start_time": "2023-06-04T19:09:05.387Z"
   },
   {
    "duration": 32,
    "start_time": "2023-06-04T19:09:15.575Z"
   },
   {
    "duration": 34,
    "start_time": "2023-06-04T19:09:27.353Z"
   },
   {
    "duration": 108,
    "start_time": "2023-06-04T19:13:26.854Z"
   },
   {
    "duration": 48,
    "start_time": "2023-06-04T19:13:45.764Z"
   },
   {
    "duration": 1334,
    "start_time": "2023-06-09T10:14:46.759Z"
   },
   {
    "duration": 1208,
    "start_time": "2023-06-09T10:14:48.095Z"
   },
   {
    "duration": 33,
    "start_time": "2023-06-09T10:14:49.305Z"
   },
   {
    "duration": 23,
    "start_time": "2023-06-09T10:14:49.339Z"
   },
   {
    "duration": 36,
    "start_time": "2023-06-09T10:14:49.364Z"
   },
   {
    "duration": 7,
    "start_time": "2023-06-09T10:14:49.402Z"
   },
   {
    "duration": 47,
    "start_time": "2023-06-09T10:14:49.410Z"
   },
   {
    "duration": 18,
    "start_time": "2023-06-09T10:14:49.459Z"
   },
   {
    "duration": 54,
    "start_time": "2023-06-09T10:14:49.478Z"
   },
   {
    "duration": 58,
    "start_time": "2023-06-09T10:14:49.534Z"
   },
   {
    "duration": 25,
    "start_time": "2023-06-09T10:14:49.594Z"
   },
   {
    "duration": 21,
    "start_time": "2023-06-09T10:14:49.620Z"
   },
   {
    "duration": 79,
    "start_time": "2023-06-09T10:14:49.642Z"
   },
   {
    "duration": 11,
    "start_time": "2023-06-09T10:14:49.723Z"
   },
   {
    "duration": 425,
    "start_time": "2023-06-09T10:14:49.736Z"
   },
   {
    "duration": 1390,
    "start_time": "2023-06-09T10:14:50.163Z"
   },
   {
    "duration": 7,
    "start_time": "2023-06-09T10:14:51.554Z"
   },
   {
    "duration": 647,
    "start_time": "2023-06-09T10:14:51.575Z"
   },
   {
    "duration": 4899,
    "start_time": "2023-06-09T10:14:52.224Z"
   },
   {
    "duration": 5389,
    "start_time": "2023-06-09T10:14:57.125Z"
   },
   {
    "duration": 548,
    "start_time": "2023-06-09T10:15:02.515Z"
   },
   {
    "duration": 1564,
    "start_time": "2023-06-09T10:15:03.064Z"
   },
   {
    "duration": 75,
    "start_time": "2023-06-09T10:15:04.630Z"
   },
   {
    "duration": 7,
    "start_time": "2023-06-09T10:15:04.707Z"
   },
   {
    "duration": 253,
    "start_time": "2023-06-09T10:15:04.716Z"
   },
   {
    "duration": 6,
    "start_time": "2023-06-09T10:15:04.975Z"
   },
   {
    "duration": 16,
    "start_time": "2023-06-09T10:15:04.982Z"
   },
   {
    "duration": 155,
    "start_time": "2023-06-09T10:15:05.001Z"
   },
   {
    "duration": 6,
    "start_time": "2023-06-09T10:15:05.158Z"
   },
   {
    "duration": 39,
    "start_time": "2023-06-09T10:15:05.177Z"
   },
   {
    "duration": 13,
    "start_time": "2023-06-09T10:15:05.218Z"
   },
   {
    "duration": 14,
    "start_time": "2023-06-09T10:15:05.233Z"
   },
   {
    "duration": 34,
    "start_time": "2023-06-09T10:15:05.249Z"
   },
   {
    "duration": 18,
    "start_time": "2023-06-09T10:16:17.171Z"
   },
   {
    "duration": 8,
    "start_time": "2023-06-09T10:16:46.048Z"
   },
   {
    "duration": 1381,
    "start_time": "2023-06-09T10:20:54.902Z"
   },
   {
    "duration": 1111,
    "start_time": "2023-06-09T10:20:56.288Z"
   },
   {
    "duration": 40,
    "start_time": "2023-06-09T10:20:57.400Z"
   },
   {
    "duration": 44,
    "start_time": "2023-06-09T10:20:57.442Z"
   },
   {
    "duration": 18,
    "start_time": "2023-06-09T10:20:57.492Z"
   },
   {
    "duration": 9,
    "start_time": "2023-06-09T10:20:57.512Z"
   },
   {
    "duration": 89,
    "start_time": "2023-06-09T10:20:57.524Z"
   },
   {
    "duration": 9,
    "start_time": "2023-06-09T10:20:57.615Z"
   },
   {
    "duration": 75,
    "start_time": "2023-06-09T10:20:57.626Z"
   },
   {
    "duration": 46,
    "start_time": "2023-06-09T10:20:57.707Z"
   },
   {
    "duration": 48,
    "start_time": "2023-06-09T10:20:57.755Z"
   },
   {
    "duration": 34,
    "start_time": "2023-06-09T10:20:57.807Z"
   },
   {
    "duration": 77,
    "start_time": "2023-06-09T10:20:57.843Z"
   },
   {
    "duration": 14,
    "start_time": "2023-06-09T10:20:57.923Z"
   },
   {
    "duration": 473,
    "start_time": "2023-06-09T10:20:57.938Z"
   },
   {
    "duration": 1507,
    "start_time": "2023-06-09T10:20:58.413Z"
   },
   {
    "duration": 7,
    "start_time": "2023-06-09T10:20:59.922Z"
   },
   {
    "duration": 1783,
    "start_time": "2023-06-09T10:20:59.931Z"
   },
   {
    "duration": 0,
    "start_time": "2023-06-09T10:21:01.716Z"
   },
   {
    "duration": 0,
    "start_time": "2023-06-09T10:21:01.718Z"
   },
   {
    "duration": 0,
    "start_time": "2023-06-09T10:21:01.720Z"
   },
   {
    "duration": 0,
    "start_time": "2023-06-09T10:21:01.721Z"
   },
   {
    "duration": 0,
    "start_time": "2023-06-09T10:21:01.722Z"
   },
   {
    "duration": 0,
    "start_time": "2023-06-09T10:21:01.724Z"
   },
   {
    "duration": 0,
    "start_time": "2023-06-09T10:21:01.725Z"
   },
   {
    "duration": 0,
    "start_time": "2023-06-09T10:21:01.727Z"
   },
   {
    "duration": 0,
    "start_time": "2023-06-09T10:21:01.728Z"
   },
   {
    "duration": 0,
    "start_time": "2023-06-09T10:21:01.730Z"
   },
   {
    "duration": 0,
    "start_time": "2023-06-09T10:21:01.732Z"
   },
   {
    "duration": 0,
    "start_time": "2023-06-09T10:21:01.734Z"
   },
   {
    "duration": 0,
    "start_time": "2023-06-09T10:21:01.735Z"
   },
   {
    "duration": 0,
    "start_time": "2023-06-09T10:21:01.736Z"
   },
   {
    "duration": 0,
    "start_time": "2023-06-09T10:21:01.738Z"
   },
   {
    "duration": 1752,
    "start_time": "2023-06-09T10:21:46.757Z"
   },
   {
    "duration": 1979,
    "start_time": "2023-06-09T10:21:57.456Z"
   },
   {
    "duration": 1485,
    "start_time": "2023-06-09T10:22:17.168Z"
   },
   {
    "duration": 1066,
    "start_time": "2023-06-09T10:22:18.655Z"
   },
   {
    "duration": 36,
    "start_time": "2023-06-09T10:22:19.723Z"
   },
   {
    "duration": 41,
    "start_time": "2023-06-09T10:22:19.761Z"
   },
   {
    "duration": 20,
    "start_time": "2023-06-09T10:22:19.804Z"
   },
   {
    "duration": 9,
    "start_time": "2023-06-09T10:22:19.826Z"
   },
   {
    "duration": 71,
    "start_time": "2023-06-09T10:22:19.837Z"
   },
   {
    "duration": 13,
    "start_time": "2023-06-09T10:22:19.910Z"
   },
   {
    "duration": 67,
    "start_time": "2023-06-09T10:22:19.925Z"
   },
   {
    "duration": 58,
    "start_time": "2023-06-09T10:22:20.003Z"
   },
   {
    "duration": 53,
    "start_time": "2023-06-09T10:22:20.063Z"
   },
   {
    "duration": 28,
    "start_time": "2023-06-09T10:22:20.120Z"
   },
   {
    "duration": 67,
    "start_time": "2023-06-09T10:22:20.150Z"
   },
   {
    "duration": 14,
    "start_time": "2023-06-09T10:22:20.222Z"
   },
   {
    "duration": 459,
    "start_time": "2023-06-09T10:22:20.238Z"
   },
   {
    "duration": 1630,
    "start_time": "2023-06-09T10:22:20.709Z"
   },
   {
    "duration": 8,
    "start_time": "2023-06-09T10:22:22.340Z"
   },
   {
    "duration": 736,
    "start_time": "2023-06-09T10:22:22.350Z"
   },
   {
    "duration": 5632,
    "start_time": "2023-06-09T10:22:23.088Z"
   },
   {
    "duration": 5473,
    "start_time": "2023-06-09T10:22:28.725Z"
   },
   {
    "duration": 664,
    "start_time": "2023-06-09T10:22:34.200Z"
   },
   {
    "duration": 1658,
    "start_time": "2023-06-09T10:22:34.866Z"
   },
   {
    "duration": 88,
    "start_time": "2023-06-09T10:22:36.526Z"
   },
   {
    "duration": 10,
    "start_time": "2023-06-09T10:22:36.616Z"
   },
   {
    "duration": 262,
    "start_time": "2023-06-09T10:22:36.628Z"
   },
   {
    "duration": 7,
    "start_time": "2023-06-09T10:22:36.892Z"
   },
   {
    "duration": 15,
    "start_time": "2023-06-09T10:22:36.903Z"
   },
   {
    "duration": 169,
    "start_time": "2023-06-09T10:22:36.922Z"
   },
   {
    "duration": 6,
    "start_time": "2023-06-09T10:22:37.093Z"
   },
   {
    "duration": 28,
    "start_time": "2023-06-09T10:22:37.101Z"
   },
   {
    "duration": 19,
    "start_time": "2023-06-09T10:22:37.131Z"
   },
   {
    "duration": 37,
    "start_time": "2023-06-09T10:22:37.152Z"
   },
   {
    "duration": 15,
    "start_time": "2023-06-09T10:22:37.201Z"
   },
   {
    "duration": 37,
    "start_time": "2023-06-09T10:23:14.756Z"
   },
   {
    "duration": 3,
    "start_time": "2023-06-09T10:29:10.637Z"
   },
   {
    "duration": 123,
    "start_time": "2023-06-09T10:30:22.090Z"
   },
   {
    "duration": 11,
    "start_time": "2023-06-09T10:30:52.637Z"
   },
   {
    "duration": 9,
    "start_time": "2023-06-09T10:31:24.538Z"
   },
   {
    "duration": 11,
    "start_time": "2023-06-09T10:32:01.659Z"
   },
   {
    "duration": 9,
    "start_time": "2023-06-09T10:32:22.049Z"
   },
   {
    "duration": 1306,
    "start_time": "2023-06-09T10:32:55.953Z"
   },
   {
    "duration": 1095,
    "start_time": "2023-06-09T10:32:57.261Z"
   },
   {
    "duration": 46,
    "start_time": "2023-06-09T10:32:58.357Z"
   },
   {
    "duration": 23,
    "start_time": "2023-06-09T10:32:58.405Z"
   },
   {
    "duration": 19,
    "start_time": "2023-06-09T10:32:58.429Z"
   },
   {
    "duration": 7,
    "start_time": "2023-06-09T10:32:58.450Z"
   },
   {
    "duration": 73,
    "start_time": "2023-06-09T10:32:58.459Z"
   },
   {
    "duration": 6,
    "start_time": "2023-06-09T10:32:58.534Z"
   },
   {
    "duration": 72,
    "start_time": "2023-06-09T10:32:58.542Z"
   },
   {
    "duration": 44,
    "start_time": "2023-06-09T10:32:58.616Z"
   },
   {
    "duration": 35,
    "start_time": "2023-06-09T10:32:58.679Z"
   },
   {
    "duration": 25,
    "start_time": "2023-06-09T10:32:58.716Z"
   },
   {
    "duration": 86,
    "start_time": "2023-06-09T10:32:58.743Z"
   },
   {
    "duration": 12,
    "start_time": "2023-06-09T10:32:58.831Z"
   },
   {
    "duration": 449,
    "start_time": "2023-06-09T10:32:58.844Z"
   },
   {
    "duration": 1558,
    "start_time": "2023-06-09T10:32:59.295Z"
   },
   {
    "duration": 53,
    "start_time": "2023-06-09T10:33:00.854Z"
   },
   {
    "duration": 30,
    "start_time": "2023-06-09T10:33:00.909Z"
   },
   {
    "duration": 187,
    "start_time": "2023-06-09T10:33:00.941Z"
   },
   {
    "duration": 683,
    "start_time": "2023-06-09T10:33:01.130Z"
   },
   {
    "duration": 5380,
    "start_time": "2023-06-09T10:33:01.815Z"
   },
   {
    "duration": 4983,
    "start_time": "2023-06-09T10:33:07.198Z"
   },
   {
    "duration": 619,
    "start_time": "2023-06-09T10:33:12.185Z"
   },
   {
    "duration": 1632,
    "start_time": "2023-06-09T10:33:12.806Z"
   },
   {
    "duration": 84,
    "start_time": "2023-06-09T10:33:14.440Z"
   },
   {
    "duration": 6,
    "start_time": "2023-06-09T10:33:14.526Z"
   },
   {
    "duration": 245,
    "start_time": "2023-06-09T10:33:14.533Z"
   },
   {
    "duration": 9,
    "start_time": "2023-06-09T10:33:14.780Z"
   },
   {
    "duration": 13,
    "start_time": "2023-06-09T10:33:14.791Z"
   },
   {
    "duration": 164,
    "start_time": "2023-06-09T10:33:14.807Z"
   },
   {
    "duration": 12,
    "start_time": "2023-06-09T10:33:14.976Z"
   },
   {
    "duration": 23,
    "start_time": "2023-06-09T10:33:14.991Z"
   },
   {
    "duration": 41,
    "start_time": "2023-06-09T10:33:15.015Z"
   },
   {
    "duration": 45,
    "start_time": "2023-06-09T10:33:15.058Z"
   },
   {
    "duration": 20,
    "start_time": "2023-06-09T10:33:15.109Z"
   },
   {
    "duration": 5,
    "start_time": "2023-06-09T10:33:25.557Z"
   },
   {
    "duration": 2155,
    "start_time": "2023-06-09T11:04:34.590Z"
   },
   {
    "duration": 1207,
    "start_time": "2023-06-09T11:04:36.750Z"
   },
   {
    "duration": 56,
    "start_time": "2023-06-09T11:04:37.959Z"
   },
   {
    "duration": 55,
    "start_time": "2023-06-09T11:04:38.018Z"
   },
   {
    "duration": 44,
    "start_time": "2023-06-09T11:04:38.076Z"
   },
   {
    "duration": 19,
    "start_time": "2023-06-09T11:04:38.122Z"
   },
   {
    "duration": 118,
    "start_time": "2023-06-09T11:04:38.143Z"
   },
   {
    "duration": 17,
    "start_time": "2023-06-09T11:04:38.264Z"
   },
   {
    "duration": 81,
    "start_time": "2023-06-09T11:04:38.283Z"
   },
   {
    "duration": 79,
    "start_time": "2023-06-09T11:04:38.376Z"
   },
   {
    "duration": 55,
    "start_time": "2023-06-09T11:04:38.458Z"
   },
   {
    "duration": 49,
    "start_time": "2023-06-09T11:04:38.517Z"
   },
   {
    "duration": 105,
    "start_time": "2023-06-09T11:04:38.568Z"
   },
   {
    "duration": 24,
    "start_time": "2023-06-09T11:04:38.676Z"
   },
   {
    "duration": 622,
    "start_time": "2023-06-09T11:04:38.702Z"
   },
   {
    "duration": 2328,
    "start_time": "2023-06-09T11:04:39.332Z"
   },
   {
    "duration": 49,
    "start_time": "2023-06-09T11:04:41.666Z"
   },
   {
    "duration": 37,
    "start_time": "2023-06-09T11:04:41.716Z"
   },
   {
    "duration": 296,
    "start_time": "2023-06-09T11:04:41.757Z"
   },
   {
    "duration": 1052,
    "start_time": "2023-06-09T11:04:42.056Z"
   },
   {
    "duration": 8257,
    "start_time": "2023-06-09T11:04:43.109Z"
   },
   {
    "duration": 8180,
    "start_time": "2023-06-09T11:04:51.373Z"
   },
   {
    "duration": 950,
    "start_time": "2023-06-09T11:04:59.558Z"
   },
   {
    "duration": 2243,
    "start_time": "2023-06-09T11:05:00.516Z"
   },
   {
    "duration": 126,
    "start_time": "2023-06-09T11:05:02.767Z"
   },
   {
    "duration": 20,
    "start_time": "2023-06-09T11:05:02.904Z"
   },
   {
    "duration": 373,
    "start_time": "2023-06-09T11:05:02.932Z"
   },
   {
    "duration": 22,
    "start_time": "2023-06-09T11:05:03.314Z"
   },
   {
    "duration": 27,
    "start_time": "2023-06-09T11:05:03.342Z"
   },
   {
    "duration": 246,
    "start_time": "2023-06-09T11:05:03.379Z"
   },
   {
    "duration": 15,
    "start_time": "2023-06-09T11:05:03.636Z"
   },
   {
    "duration": 46,
    "start_time": "2023-06-09T11:05:03.659Z"
   },
   {
    "duration": 31,
    "start_time": "2023-06-09T11:05:03.719Z"
   },
   {
    "duration": 51,
    "start_time": "2023-06-09T11:05:03.752Z"
   },
   {
    "duration": 29,
    "start_time": "2023-06-09T11:05:03.814Z"
   },
   {
    "duration": 18461,
    "start_time": "2023-06-09T11:18:53.344Z"
   },
   {
    "duration": 1699,
    "start_time": "2023-06-09T11:19:27.025Z"
   },
   {
    "duration": 1447,
    "start_time": "2023-06-09T11:19:28.727Z"
   },
   {
    "duration": 67,
    "start_time": "2023-06-09T11:19:30.191Z"
   },
   {
    "duration": 37,
    "start_time": "2023-06-09T11:19:30.260Z"
   },
   {
    "duration": 52,
    "start_time": "2023-06-09T11:19:30.302Z"
   },
   {
    "duration": 21,
    "start_time": "2023-06-09T11:19:30.355Z"
   },
   {
    "duration": 165,
    "start_time": "2023-06-09T11:19:30.378Z"
   },
   {
    "duration": 8,
    "start_time": "2023-06-09T11:19:30.548Z"
   },
   {
    "duration": 105,
    "start_time": "2023-06-09T11:19:30.558Z"
   },
   {
    "duration": 92,
    "start_time": "2023-06-09T11:19:30.666Z"
   },
   {
    "duration": 30,
    "start_time": "2023-06-09T11:19:30.760Z"
   },
   {
    "duration": 117,
    "start_time": "2023-06-09T11:19:30.792Z"
   },
   {
    "duration": 62,
    "start_time": "2023-06-09T11:19:30.913Z"
   },
   {
    "duration": 19,
    "start_time": "2023-06-09T11:19:30.980Z"
   },
   {
    "duration": 529,
    "start_time": "2023-06-09T11:19:31.002Z"
   },
   {
    "duration": 1941,
    "start_time": "2023-06-09T11:19:31.532Z"
   },
   {
    "duration": 34,
    "start_time": "2023-06-09T11:19:33.475Z"
   },
   {
    "duration": 5,
    "start_time": "2023-06-09T11:19:33.511Z"
   },
   {
    "duration": 231,
    "start_time": "2023-06-09T11:19:33.518Z"
   },
   {
    "duration": 889,
    "start_time": "2023-06-09T11:19:33.757Z"
   },
   {
    "duration": 6838,
    "start_time": "2023-06-09T11:19:34.648Z"
   },
   {
    "duration": 6884,
    "start_time": "2023-06-09T11:19:41.488Z"
   },
   {
    "duration": 817,
    "start_time": "2023-06-09T11:19:48.374Z"
   },
   {
    "duration": 1855,
    "start_time": "2023-06-09T11:19:49.197Z"
   },
   {
    "duration": 20177,
    "start_time": "2023-06-09T11:19:51.054Z"
   },
   {
    "duration": 82,
    "start_time": "2023-06-09T11:20:11.235Z"
   },
   {
    "duration": 12,
    "start_time": "2023-06-09T11:20:11.319Z"
   },
   {
    "duration": 267,
    "start_time": "2023-06-09T11:20:11.335Z"
   },
   {
    "duration": 10,
    "start_time": "2023-06-09T11:20:11.604Z"
   },
   {
    "duration": 25,
    "start_time": "2023-06-09T11:20:11.618Z"
   },
   {
    "duration": 173,
    "start_time": "2023-06-09T11:20:11.646Z"
   },
   {
    "duration": 8,
    "start_time": "2023-06-09T11:20:11.823Z"
   },
   {
    "duration": 52,
    "start_time": "2023-06-09T11:20:11.853Z"
   },
   {
    "duration": 29,
    "start_time": "2023-06-09T11:20:11.908Z"
   },
   {
    "duration": 18,
    "start_time": "2023-06-09T11:20:11.946Z"
   },
   {
    "duration": 18,
    "start_time": "2023-06-09T11:20:11.966Z"
   },
   {
    "duration": 21106,
    "start_time": "2023-06-09T11:21:15.963Z"
   },
   {
    "duration": 187,
    "start_time": "2023-06-09T11:27:35.757Z"
   },
   {
    "duration": 1517,
    "start_time": "2023-06-09T14:59:03.744Z"
   },
   {
    "duration": 1034,
    "start_time": "2023-06-09T14:59:05.263Z"
   },
   {
    "duration": 56,
    "start_time": "2023-06-09T14:59:06.302Z"
   },
   {
    "duration": 48,
    "start_time": "2023-06-09T14:59:06.360Z"
   },
   {
    "duration": 14,
    "start_time": "2023-06-09T14:59:06.419Z"
   },
   {
    "duration": 7,
    "start_time": "2023-06-09T14:59:06.434Z"
   },
   {
    "duration": 78,
    "start_time": "2023-06-09T14:59:06.443Z"
   },
   {
    "duration": 9,
    "start_time": "2023-06-09T14:59:06.524Z"
   },
   {
    "duration": 56,
    "start_time": "2023-06-09T14:59:06.535Z"
   },
   {
    "duration": 51,
    "start_time": "2023-06-09T14:59:06.595Z"
   },
   {
    "duration": 50,
    "start_time": "2023-06-09T14:59:06.648Z"
   },
   {
    "duration": 28,
    "start_time": "2023-06-09T14:59:06.702Z"
   },
   {
    "duration": 51,
    "start_time": "2023-06-09T14:59:06.731Z"
   },
   {
    "duration": 16,
    "start_time": "2023-06-09T14:59:06.784Z"
   },
   {
    "duration": 453,
    "start_time": "2023-06-09T14:59:06.802Z"
   },
   {
    "duration": 1615,
    "start_time": "2023-06-09T14:59:07.256Z"
   },
   {
    "duration": 49,
    "start_time": "2023-06-09T14:59:08.873Z"
   },
   {
    "duration": 7,
    "start_time": "2023-06-09T14:59:08.925Z"
   },
   {
    "duration": 270,
    "start_time": "2023-06-09T14:59:08.936Z"
   },
   {
    "duration": 820,
    "start_time": "2023-06-09T14:59:09.208Z"
   },
   {
    "duration": 5898,
    "start_time": "2023-06-09T14:59:10.032Z"
   },
   {
    "duration": 5684,
    "start_time": "2023-06-09T14:59:15.932Z"
   },
   {
    "duration": 606,
    "start_time": "2023-06-09T14:59:21.621Z"
   },
   {
    "duration": 1594,
    "start_time": "2023-06-09T14:59:22.229Z"
   },
   {
    "duration": 63,
    "start_time": "2023-06-09T14:59:23.825Z"
   },
   {
    "duration": 15,
    "start_time": "2023-06-09T14:59:23.890Z"
   },
   {
    "duration": 298,
    "start_time": "2023-06-09T14:59:23.907Z"
   },
   {
    "duration": 21,
    "start_time": "2023-06-09T14:59:24.209Z"
   },
   {
    "duration": 11,
    "start_time": "2023-06-09T14:59:24.233Z"
   },
   {
    "duration": 182,
    "start_time": "2023-06-09T14:59:24.246Z"
   },
   {
    "duration": 6,
    "start_time": "2023-06-09T14:59:24.430Z"
   },
   {
    "duration": 16,
    "start_time": "2023-06-09T14:59:24.438Z"
   },
   {
    "duration": 28,
    "start_time": "2023-06-09T14:59:24.456Z"
   },
   {
    "duration": 25,
    "start_time": "2023-06-09T14:59:24.488Z"
   },
   {
    "duration": 23,
    "start_time": "2023-06-09T14:59:24.515Z"
   },
   {
    "duration": 142,
    "start_time": "2023-06-09T15:07:11.559Z"
   },
   {
    "duration": 13,
    "start_time": "2023-06-09T15:14:59.603Z"
   },
   {
    "duration": 1471,
    "start_time": "2023-06-09T15:19:20.797Z"
   },
   {
    "duration": 0,
    "start_time": "2023-06-09T15:19:22.271Z"
   },
   {
    "duration": 0,
    "start_time": "2023-06-09T15:19:22.277Z"
   },
   {
    "duration": 0,
    "start_time": "2023-06-09T15:19:22.278Z"
   },
   {
    "duration": 0,
    "start_time": "2023-06-09T15:19:22.283Z"
   },
   {
    "duration": 0,
    "start_time": "2023-06-09T15:19:22.284Z"
   },
   {
    "duration": 0,
    "start_time": "2023-06-09T15:19:22.284Z"
   },
   {
    "duration": 0,
    "start_time": "2023-06-09T15:19:22.285Z"
   },
   {
    "duration": 0,
    "start_time": "2023-06-09T15:19:22.286Z"
   },
   {
    "duration": 0,
    "start_time": "2023-06-09T15:19:22.286Z"
   },
   {
    "duration": 0,
    "start_time": "2023-06-09T15:19:22.287Z"
   },
   {
    "duration": 0,
    "start_time": "2023-06-09T15:19:22.292Z"
   },
   {
    "duration": 0,
    "start_time": "2023-06-09T15:19:22.293Z"
   },
   {
    "duration": 0,
    "start_time": "2023-06-09T15:19:22.295Z"
   },
   {
    "duration": 0,
    "start_time": "2023-06-09T15:19:22.296Z"
   },
   {
    "duration": 0,
    "start_time": "2023-06-09T15:19:22.298Z"
   },
   {
    "duration": 0,
    "start_time": "2023-06-09T15:19:22.299Z"
   },
   {
    "duration": 0,
    "start_time": "2023-06-09T15:19:22.300Z"
   },
   {
    "duration": 0,
    "start_time": "2023-06-09T15:19:22.301Z"
   },
   {
    "duration": 0,
    "start_time": "2023-06-09T15:19:22.302Z"
   },
   {
    "duration": 0,
    "start_time": "2023-06-09T15:19:22.303Z"
   },
   {
    "duration": 0,
    "start_time": "2023-06-09T15:19:22.305Z"
   },
   {
    "duration": 0,
    "start_time": "2023-06-09T15:19:22.306Z"
   },
   {
    "duration": 0,
    "start_time": "2023-06-09T15:19:22.307Z"
   },
   {
    "duration": 0,
    "start_time": "2023-06-09T15:19:22.311Z"
   },
   {
    "duration": 0,
    "start_time": "2023-06-09T15:19:22.312Z"
   },
   {
    "duration": 0,
    "start_time": "2023-06-09T15:19:22.314Z"
   },
   {
    "duration": 0,
    "start_time": "2023-06-09T15:19:22.315Z"
   },
   {
    "duration": 0,
    "start_time": "2023-06-09T15:19:22.316Z"
   },
   {
    "duration": 0,
    "start_time": "2023-06-09T15:19:22.317Z"
   },
   {
    "duration": 0,
    "start_time": "2023-06-09T15:19:22.318Z"
   },
   {
    "duration": 0,
    "start_time": "2023-06-09T15:19:22.319Z"
   },
   {
    "duration": 0,
    "start_time": "2023-06-09T15:19:22.321Z"
   },
   {
    "duration": 0,
    "start_time": "2023-06-09T15:19:22.322Z"
   },
   {
    "duration": 0,
    "start_time": "2023-06-09T15:19:22.323Z"
   },
   {
    "duration": 0,
    "start_time": "2023-06-09T15:19:22.324Z"
   },
   {
    "duration": 1490,
    "start_time": "2023-06-09T15:20:03.968Z"
   },
   {
    "duration": 0,
    "start_time": "2023-06-09T15:20:05.460Z"
   },
   {
    "duration": 0,
    "start_time": "2023-06-09T15:20:05.462Z"
   },
   {
    "duration": 0,
    "start_time": "2023-06-09T15:20:05.463Z"
   },
   {
    "duration": 0,
    "start_time": "2023-06-09T15:20:05.464Z"
   },
   {
    "duration": 0,
    "start_time": "2023-06-09T15:20:05.465Z"
   },
   {
    "duration": 0,
    "start_time": "2023-06-09T15:20:05.466Z"
   },
   {
    "duration": 0,
    "start_time": "2023-06-09T15:20:05.467Z"
   },
   {
    "duration": 0,
    "start_time": "2023-06-09T15:20:05.468Z"
   },
   {
    "duration": 0,
    "start_time": "2023-06-09T15:20:05.486Z"
   },
   {
    "duration": 0,
    "start_time": "2023-06-09T15:20:05.487Z"
   },
   {
    "duration": 0,
    "start_time": "2023-06-09T15:20:05.488Z"
   },
   {
    "duration": 0,
    "start_time": "2023-06-09T15:20:05.489Z"
   },
   {
    "duration": 0,
    "start_time": "2023-06-09T15:20:05.490Z"
   },
   {
    "duration": 0,
    "start_time": "2023-06-09T15:20:05.498Z"
   },
   {
    "duration": 0,
    "start_time": "2023-06-09T15:20:05.499Z"
   },
   {
    "duration": 1,
    "start_time": "2023-06-09T15:20:05.500Z"
   },
   {
    "duration": 0,
    "start_time": "2023-06-09T15:20:05.502Z"
   },
   {
    "duration": 0,
    "start_time": "2023-06-09T15:20:05.504Z"
   },
   {
    "duration": 0,
    "start_time": "2023-06-09T15:20:05.505Z"
   },
   {
    "duration": 0,
    "start_time": "2023-06-09T15:20:05.508Z"
   },
   {
    "duration": 0,
    "start_time": "2023-06-09T15:20:05.509Z"
   },
   {
    "duration": 0,
    "start_time": "2023-06-09T15:20:05.510Z"
   },
   {
    "duration": 0,
    "start_time": "2023-06-09T15:20:05.512Z"
   },
   {
    "duration": 0,
    "start_time": "2023-06-09T15:20:05.514Z"
   },
   {
    "duration": 0,
    "start_time": "2023-06-09T15:20:05.516Z"
   },
   {
    "duration": 0,
    "start_time": "2023-06-09T15:20:05.517Z"
   },
   {
    "duration": 0,
    "start_time": "2023-06-09T15:20:05.518Z"
   },
   {
    "duration": 0,
    "start_time": "2023-06-09T15:20:05.520Z"
   },
   {
    "duration": 0,
    "start_time": "2023-06-09T15:20:05.521Z"
   },
   {
    "duration": 0,
    "start_time": "2023-06-09T15:20:05.523Z"
   },
   {
    "duration": 0,
    "start_time": "2023-06-09T15:20:05.524Z"
   },
   {
    "duration": 0,
    "start_time": "2023-06-09T15:20:05.525Z"
   },
   {
    "duration": 0,
    "start_time": "2023-06-09T15:20:05.526Z"
   },
   {
    "duration": 0,
    "start_time": "2023-06-09T15:20:05.527Z"
   },
   {
    "duration": 0,
    "start_time": "2023-06-09T15:20:05.528Z"
   },
   {
    "duration": 12,
    "start_time": "2023-06-09T15:23:44.311Z"
   },
   {
    "duration": 192,
    "start_time": "2023-06-09T15:24:33.011Z"
   },
   {
    "duration": 3820,
    "start_time": "2023-06-09T15:24:40.007Z"
   },
   {
    "duration": 3783,
    "start_time": "2023-06-09T15:24:56.459Z"
   },
   {
    "duration": 1182,
    "start_time": "2023-06-09T15:25:00.244Z"
   },
   {
    "duration": 37,
    "start_time": "2023-06-09T15:25:01.428Z"
   },
   {
    "duration": 29,
    "start_time": "2023-06-09T15:25:01.467Z"
   },
   {
    "duration": 26,
    "start_time": "2023-06-09T15:25:01.498Z"
   },
   {
    "duration": 18,
    "start_time": "2023-06-09T15:25:01.525Z"
   },
   {
    "duration": 77,
    "start_time": "2023-06-09T15:25:01.546Z"
   },
   {
    "duration": 11,
    "start_time": "2023-06-09T15:25:01.625Z"
   },
   {
    "duration": 81,
    "start_time": "2023-06-09T15:25:01.638Z"
   },
   {
    "duration": 89,
    "start_time": "2023-06-09T15:25:01.722Z"
   },
   {
    "duration": 40,
    "start_time": "2023-06-09T15:25:01.813Z"
   },
   {
    "duration": 51,
    "start_time": "2023-06-09T15:25:01.855Z"
   },
   {
    "duration": 77,
    "start_time": "2023-06-09T15:25:01.908Z"
   },
   {
    "duration": 21,
    "start_time": "2023-06-09T15:25:01.992Z"
   },
   {
    "duration": 442,
    "start_time": "2023-06-09T15:25:02.017Z"
   },
   {
    "duration": 1595,
    "start_time": "2023-06-09T15:25:02.461Z"
   },
   {
    "duration": 58,
    "start_time": "2023-06-09T15:25:04.058Z"
   },
   {
    "duration": 7,
    "start_time": "2023-06-09T15:25:04.118Z"
   },
   {
    "duration": 208,
    "start_time": "2023-06-09T15:25:04.127Z"
   },
   {
    "duration": 712,
    "start_time": "2023-06-09T15:25:04.337Z"
   },
   {
    "duration": 5231,
    "start_time": "2023-06-09T15:25:05.051Z"
   },
   {
    "duration": 5152,
    "start_time": "2023-06-09T15:25:10.284Z"
   },
   {
    "duration": 696,
    "start_time": "2023-06-09T15:25:15.438Z"
   },
   {
    "duration": 1390,
    "start_time": "2023-06-09T15:25:16.136Z"
   },
   {
    "duration": 132,
    "start_time": "2023-06-09T15:25:17.528Z"
   },
   {
    "duration": 0,
    "start_time": "2023-06-09T15:25:17.662Z"
   },
   {
    "duration": 0,
    "start_time": "2023-06-09T15:25:17.663Z"
   },
   {
    "duration": 0,
    "start_time": "2023-06-09T15:25:17.665Z"
   },
   {
    "duration": 0,
    "start_time": "2023-06-09T15:25:17.674Z"
   },
   {
    "duration": 0,
    "start_time": "2023-06-09T15:25:17.675Z"
   },
   {
    "duration": 0,
    "start_time": "2023-06-09T15:25:17.676Z"
   },
   {
    "duration": 0,
    "start_time": "2023-06-09T15:25:17.676Z"
   },
   {
    "duration": 0,
    "start_time": "2023-06-09T15:25:17.677Z"
   },
   {
    "duration": 0,
    "start_time": "2023-06-09T15:25:17.677Z"
   },
   {
    "duration": 0,
    "start_time": "2023-06-09T15:25:17.678Z"
   },
   {
    "duration": 0,
    "start_time": "2023-06-09T15:25:17.682Z"
   },
   {
    "duration": 4144,
    "start_time": "2023-06-09T15:37:14.117Z"
   },
   {
    "duration": 1169,
    "start_time": "2023-06-09T15:37:18.263Z"
   },
   {
    "duration": 38,
    "start_time": "2023-06-09T15:37:19.433Z"
   },
   {
    "duration": 31,
    "start_time": "2023-06-09T15:37:19.473Z"
   },
   {
    "duration": 12,
    "start_time": "2023-06-09T15:37:19.508Z"
   },
   {
    "duration": 10,
    "start_time": "2023-06-09T15:37:19.521Z"
   },
   {
    "duration": 79,
    "start_time": "2023-06-09T15:37:19.532Z"
   },
   {
    "duration": 7,
    "start_time": "2023-06-09T15:37:19.612Z"
   },
   {
    "duration": 56,
    "start_time": "2023-06-09T15:37:19.620Z"
   },
   {
    "duration": 48,
    "start_time": "2023-06-09T15:37:19.684Z"
   },
   {
    "duration": 25,
    "start_time": "2023-06-09T15:37:19.733Z"
   },
   {
    "duration": 48,
    "start_time": "2023-06-09T15:37:19.760Z"
   },
   {
    "duration": 45,
    "start_time": "2023-06-09T15:37:19.810Z"
   },
   {
    "duration": 31,
    "start_time": "2023-06-09T15:37:19.857Z"
   },
   {
    "duration": 432,
    "start_time": "2023-06-09T15:37:19.892Z"
   },
   {
    "duration": 1482,
    "start_time": "2023-06-09T15:37:20.325Z"
   },
   {
    "duration": 24,
    "start_time": "2023-06-09T15:37:21.810Z"
   },
   {
    "duration": 7,
    "start_time": "2023-06-09T15:37:21.835Z"
   },
   {
    "duration": 185,
    "start_time": "2023-06-09T15:37:21.844Z"
   },
   {
    "duration": 685,
    "start_time": "2023-06-09T15:37:22.031Z"
   },
   {
    "duration": 5396,
    "start_time": "2023-06-09T15:37:22.719Z"
   },
   {
    "duration": 5144,
    "start_time": "2023-06-09T15:37:28.117Z"
   },
   {
    "duration": 741,
    "start_time": "2023-06-09T15:37:33.263Z"
   },
   {
    "duration": 1435,
    "start_time": "2023-06-09T15:37:34.006Z"
   },
   {
    "duration": 70,
    "start_time": "2023-06-09T15:37:35.443Z"
   },
   {
    "duration": 7,
    "start_time": "2023-06-09T15:37:35.514Z"
   },
   {
    "duration": 284,
    "start_time": "2023-06-09T15:37:35.523Z"
   },
   {
    "duration": 5,
    "start_time": "2023-06-09T15:37:35.811Z"
   },
   {
    "duration": 30,
    "start_time": "2023-06-09T15:37:35.817Z"
   },
   {
    "duration": 153,
    "start_time": "2023-06-09T15:37:35.850Z"
   },
   {
    "duration": 6,
    "start_time": "2023-06-09T15:37:36.006Z"
   },
   {
    "duration": 22,
    "start_time": "2023-06-09T15:37:36.014Z"
   },
   {
    "duration": 11,
    "start_time": "2023-06-09T15:37:36.038Z"
   },
   {
    "duration": 31,
    "start_time": "2023-06-09T15:37:36.051Z"
   },
   {
    "duration": 16,
    "start_time": "2023-06-09T15:37:36.089Z"
   },
   {
    "duration": 48,
    "start_time": "2023-06-09T16:44:35.602Z"
   },
   {
    "duration": 16,
    "start_time": "2023-06-09T16:44:47.277Z"
   },
   {
    "duration": 3929,
    "start_time": "2023-06-09T16:44:54.880Z"
   },
   {
    "duration": 1535,
    "start_time": "2023-06-09T16:44:58.811Z"
   },
   {
    "duration": 51,
    "start_time": "2023-06-09T16:45:00.348Z"
   },
   {
    "duration": 27,
    "start_time": "2023-06-09T16:45:00.407Z"
   },
   {
    "duration": 24,
    "start_time": "2023-06-09T16:45:00.435Z"
   },
   {
    "duration": 31,
    "start_time": "2023-06-09T16:45:00.461Z"
   },
   {
    "duration": 70,
    "start_time": "2023-06-09T16:45:00.495Z"
   },
   {
    "duration": 16,
    "start_time": "2023-06-09T16:45:00.567Z"
   },
   {
    "duration": 68,
    "start_time": "2023-06-09T16:45:00.585Z"
   },
   {
    "duration": 54,
    "start_time": "2023-06-09T16:45:00.655Z"
   },
   {
    "duration": 35,
    "start_time": "2023-06-09T16:45:00.711Z"
   },
   {
    "duration": 40,
    "start_time": "2023-06-09T16:45:00.748Z"
   },
   {
    "duration": 55,
    "start_time": "2023-06-09T16:45:00.790Z"
   },
   {
    "duration": 13,
    "start_time": "2023-06-09T16:45:00.847Z"
   },
   {
    "duration": 439,
    "start_time": "2023-06-09T16:45:00.862Z"
   },
   {
    "duration": 1570,
    "start_time": "2023-06-09T16:45:01.307Z"
   },
   {
    "duration": 38,
    "start_time": "2023-06-09T16:45:02.879Z"
   },
   {
    "duration": 4,
    "start_time": "2023-06-09T16:45:02.919Z"
   },
   {
    "duration": 212,
    "start_time": "2023-06-09T16:45:02.925Z"
   },
   {
    "duration": 716,
    "start_time": "2023-06-09T16:45:03.139Z"
   },
   {
    "duration": 5282,
    "start_time": "2023-06-09T16:45:03.857Z"
   },
   {
    "duration": 156,
    "start_time": "2023-06-09T16:45:09.141Z"
   },
   {
    "duration": 0,
    "start_time": "2023-06-09T16:45:09.305Z"
   },
   {
    "duration": 0,
    "start_time": "2023-06-09T16:45:09.307Z"
   },
   {
    "duration": 0,
    "start_time": "2023-06-09T16:45:09.308Z"
   },
   {
    "duration": 0,
    "start_time": "2023-06-09T16:45:09.310Z"
   },
   {
    "duration": 0,
    "start_time": "2023-06-09T16:45:09.311Z"
   },
   {
    "duration": 0,
    "start_time": "2023-06-09T16:45:09.312Z"
   },
   {
    "duration": 0,
    "start_time": "2023-06-09T16:45:09.314Z"
   },
   {
    "duration": 0,
    "start_time": "2023-06-09T16:45:09.315Z"
   },
   {
    "duration": 0,
    "start_time": "2023-06-09T16:45:09.317Z"
   },
   {
    "duration": 0,
    "start_time": "2023-06-09T16:45:09.319Z"
   },
   {
    "duration": 0,
    "start_time": "2023-06-09T16:45:09.319Z"
   },
   {
    "duration": 0,
    "start_time": "2023-06-09T16:45:09.320Z"
   },
   {
    "duration": 0,
    "start_time": "2023-06-09T16:45:09.324Z"
   },
   {
    "duration": 0,
    "start_time": "2023-06-09T16:45:09.325Z"
   },
   {
    "duration": 334,
    "start_time": "2023-06-09T16:45:47.276Z"
   },
   {
    "duration": 251,
    "start_time": "2023-06-09T16:50:21.011Z"
   },
   {
    "duration": 312,
    "start_time": "2023-06-09T16:52:28.412Z"
   },
   {
    "duration": 197,
    "start_time": "2023-06-09T16:53:43.047Z"
   },
   {
    "duration": 358,
    "start_time": "2023-06-09T16:57:24.059Z"
   },
   {
    "duration": 6173,
    "start_time": "2023-06-09T16:58:57.277Z"
   },
   {
    "duration": 6269,
    "start_time": "2023-06-09T16:59:21.854Z"
   },
   {
    "duration": 139,
    "start_time": "2023-06-09T17:00:24.390Z"
   },
   {
    "duration": 1015,
    "start_time": "2023-06-09T17:02:07.834Z"
   },
   {
    "duration": 114,
    "start_time": "2023-06-09T17:04:36.775Z"
   },
   {
    "duration": 3582,
    "start_time": "2023-06-09T17:36:06.109Z"
   },
   {
    "duration": 902,
    "start_time": "2023-06-09T17:36:09.695Z"
   },
   {
    "duration": 36,
    "start_time": "2023-06-09T17:36:10.599Z"
   },
   {
    "duration": 23,
    "start_time": "2023-06-09T17:36:10.636Z"
   },
   {
    "duration": 32,
    "start_time": "2023-06-09T17:36:10.675Z"
   },
   {
    "duration": 9,
    "start_time": "2023-06-09T17:36:10.710Z"
   },
   {
    "duration": 60,
    "start_time": "2023-06-09T17:36:10.721Z"
   },
   {
    "duration": 9,
    "start_time": "2023-06-09T17:36:10.789Z"
   },
   {
    "duration": 56,
    "start_time": "2023-06-09T17:36:10.801Z"
   },
   {
    "duration": 58,
    "start_time": "2023-06-09T17:36:10.859Z"
   },
   {
    "duration": 28,
    "start_time": "2023-06-09T17:36:10.919Z"
   },
   {
    "duration": 47,
    "start_time": "2023-06-09T17:36:10.949Z"
   },
   {
    "duration": 48,
    "start_time": "2023-06-09T17:36:10.997Z"
   },
   {
    "duration": 27,
    "start_time": "2023-06-09T17:36:11.049Z"
   },
   {
    "duration": 402,
    "start_time": "2023-06-09T17:36:11.082Z"
   },
   {
    "duration": 1453,
    "start_time": "2023-06-09T17:36:11.490Z"
   },
   {
    "duration": 31,
    "start_time": "2023-06-09T17:36:12.944Z"
   },
   {
    "duration": 10,
    "start_time": "2023-06-09T17:36:12.982Z"
   },
   {
    "duration": 154,
    "start_time": "2023-06-09T17:36:12.994Z"
   },
   {
    "duration": 613,
    "start_time": "2023-06-09T17:36:13.150Z"
   },
   {
    "duration": 332,
    "start_time": "2023-06-09T17:36:13.765Z"
   },
   {
    "duration": 418,
    "start_time": "2023-06-09T17:36:14.099Z"
   },
   {
    "duration": 6003,
    "start_time": "2023-06-09T17:36:14.518Z"
   },
   {
    "duration": 686,
    "start_time": "2023-06-09T17:36:20.522Z"
   },
   {
    "duration": 4912,
    "start_time": "2023-06-09T17:36:21.210Z"
   },
   {
    "duration": 592,
    "start_time": "2023-06-09T17:36:26.124Z"
   },
   {
    "duration": 1474,
    "start_time": "2023-06-09T17:36:26.718Z"
   },
   {
    "duration": 50,
    "start_time": "2023-06-09T17:36:28.195Z"
   },
   {
    "duration": 6,
    "start_time": "2023-06-09T17:36:28.247Z"
   },
   {
    "duration": 662,
    "start_time": "2023-06-09T17:36:28.255Z"
   },
   {
    "duration": 4,
    "start_time": "2023-06-09T17:36:28.919Z"
   },
   {
    "duration": 10,
    "start_time": "2023-06-09T17:36:28.925Z"
   },
   {
    "duration": 154,
    "start_time": "2023-06-09T17:36:28.937Z"
   },
   {
    "duration": 6,
    "start_time": "2023-06-09T17:36:29.092Z"
   },
   {
    "duration": 21,
    "start_time": "2023-06-09T17:36:29.099Z"
   },
   {
    "duration": 11,
    "start_time": "2023-06-09T17:36:29.121Z"
   },
   {
    "duration": 12,
    "start_time": "2023-06-09T17:36:29.134Z"
   },
   {
    "duration": 33,
    "start_time": "2023-06-09T17:36:29.148Z"
   },
   {
    "duration": 409,
    "start_time": "2023-06-09T17:53:28.008Z"
   },
   {
    "duration": 1384,
    "start_time": "2023-06-09T17:53:41.250Z"
   },
   {
    "duration": 308,
    "start_time": "2023-06-09T17:53:57.109Z"
   },
   {
    "duration": 145,
    "start_time": "2023-06-09T17:57:49.427Z"
   },
   {
    "duration": 3457,
    "start_time": "2023-06-09T17:58:02.150Z"
   },
   {
    "duration": 3036,
    "start_time": "2023-06-09T17:58:32.915Z"
   },
   {
    "duration": 123,
    "start_time": "2023-06-09T18:00:03.102Z"
   },
   {
    "duration": 2349,
    "start_time": "2023-06-09T18:00:27.994Z"
   },
   {
    "duration": 2446,
    "start_time": "2023-06-09T18:01:11.999Z"
   },
   {
    "duration": 351,
    "start_time": "2023-06-09T18:03:26.000Z"
   },
   {
    "duration": 2677,
    "start_time": "2023-06-09T18:04:30.991Z"
   },
   {
    "duration": 2980,
    "start_time": "2023-06-09T18:06:25.443Z"
   },
   {
    "duration": 18,
    "start_time": "2023-06-09T18:44:55.000Z"
   },
   {
    "duration": 414,
    "start_time": "2023-06-09T18:45:16.770Z"
   },
   {
    "duration": 10,
    "start_time": "2023-06-09T19:06:22.234Z"
   },
   {
    "duration": 29,
    "start_time": "2023-06-09T19:06:42.576Z"
   },
   {
    "duration": 16,
    "start_time": "2023-06-09T19:08:01.786Z"
   },
   {
    "duration": 42,
    "start_time": "2023-06-09T19:09:50.786Z"
   },
   {
    "duration": 124,
    "start_time": "2023-06-09T19:15:19.168Z"
   },
   {
    "duration": 231,
    "start_time": "2023-06-09T19:18:07.757Z"
   },
   {
    "duration": 226,
    "start_time": "2023-06-09T19:19:31.810Z"
   },
   {
    "duration": 319,
    "start_time": "2023-06-09T19:19:44.292Z"
   },
   {
    "duration": 225,
    "start_time": "2023-06-09T19:23:22.693Z"
   },
   {
    "duration": 109,
    "start_time": "2023-06-09T19:42:16.532Z"
   },
   {
    "duration": 7,
    "start_time": "2023-06-09T19:43:57.122Z"
   },
   {
    "duration": 3706,
    "start_time": "2023-06-09T19:44:57.623Z"
   },
   {
    "duration": 1702,
    "start_time": "2023-06-09T19:45:01.331Z"
   },
   {
    "duration": 35,
    "start_time": "2023-06-09T19:45:03.035Z"
   },
   {
    "duration": 36,
    "start_time": "2023-06-09T19:45:03.072Z"
   },
   {
    "duration": 11,
    "start_time": "2023-06-09T19:45:03.111Z"
   },
   {
    "duration": 7,
    "start_time": "2023-06-09T19:45:03.123Z"
   },
   {
    "duration": 70,
    "start_time": "2023-06-09T19:45:03.131Z"
   },
   {
    "duration": 7,
    "start_time": "2023-06-09T19:45:03.202Z"
   },
   {
    "duration": 44,
    "start_time": "2023-06-09T19:45:03.210Z"
   },
   {
    "duration": 70,
    "start_time": "2023-06-09T19:45:03.255Z"
   },
   {
    "duration": 25,
    "start_time": "2023-06-09T19:45:03.327Z"
   },
   {
    "duration": 40,
    "start_time": "2023-06-09T19:45:03.354Z"
   },
   {
    "duration": 42,
    "start_time": "2023-06-09T19:45:03.395Z"
   },
   {
    "duration": 11,
    "start_time": "2023-06-09T19:45:03.440Z"
   },
   {
    "duration": 393,
    "start_time": "2023-06-09T19:45:03.453Z"
   },
   {
    "duration": 1501,
    "start_time": "2023-06-09T19:45:03.848Z"
   },
   {
    "duration": 36,
    "start_time": "2023-06-09T19:45:05.351Z"
   },
   {
    "duration": 5,
    "start_time": "2023-06-09T19:45:05.388Z"
   },
   {
    "duration": 169,
    "start_time": "2023-06-09T19:45:05.394Z"
   },
   {
    "duration": 632,
    "start_time": "2023-06-09T19:45:05.564Z"
   },
   {
    "duration": 400,
    "start_time": "2023-06-09T19:45:06.198Z"
   },
   {
    "duration": 407,
    "start_time": "2023-06-09T19:45:06.599Z"
   },
   {
    "duration": 6087,
    "start_time": "2023-06-09T19:45:07.008Z"
   },
   {
    "duration": 654,
    "start_time": "2023-06-09T19:45:13.097Z"
   },
   {
    "duration": 2262,
    "start_time": "2023-06-09T19:45:13.753Z"
   },
   {
    "duration": 1502,
    "start_time": "2023-06-09T19:45:16.016Z"
   },
   {
    "duration": 410,
    "start_time": "2023-06-09T19:45:17.520Z"
   },
   {
    "duration": 56,
    "start_time": "2023-06-09T19:45:17.931Z"
   },
   {
    "duration": 8,
    "start_time": "2023-06-09T19:45:17.989Z"
   },
   {
    "duration": 243,
    "start_time": "2023-06-09T19:45:17.998Z"
   },
   {
    "duration": 5,
    "start_time": "2023-06-09T19:45:18.243Z"
   },
   {
    "duration": 12,
    "start_time": "2023-06-09T19:45:18.250Z"
   },
   {
    "duration": 159,
    "start_time": "2023-06-09T19:45:18.264Z"
   },
   {
    "duration": 5,
    "start_time": "2023-06-09T19:45:18.424Z"
   },
   {
    "duration": 24,
    "start_time": "2023-06-09T19:45:18.431Z"
   },
   {
    "duration": 11,
    "start_time": "2023-06-09T19:45:18.457Z"
   },
   {
    "duration": 36,
    "start_time": "2023-06-09T19:45:18.469Z"
   },
   {
    "duration": 16,
    "start_time": "2023-06-09T19:45:18.506Z"
   },
   {
    "duration": 117,
    "start_time": "2023-06-09T19:46:22.084Z"
   },
   {
    "duration": 113,
    "start_time": "2023-06-09T19:51:05.487Z"
   },
   {
    "duration": 14,
    "start_time": "2023-06-09T19:51:25.388Z"
   },
   {
    "duration": 13,
    "start_time": "2023-06-09T19:53:57.354Z"
   },
   {
    "duration": 13,
    "start_time": "2023-06-09T19:55:22.174Z"
   },
   {
    "duration": 12,
    "start_time": "2023-06-09T20:01:28.892Z"
   },
   {
    "duration": 307,
    "start_time": "2023-06-09T20:01:57.829Z"
   },
   {
    "duration": 493,
    "start_time": "2023-06-09T20:02:08.799Z"
   },
   {
    "duration": 816,
    "start_time": "2023-06-09T20:02:22.654Z"
   },
   {
    "duration": 361,
    "start_time": "2023-06-09T20:02:46.413Z"
   },
   {
    "duration": 250,
    "start_time": "2023-06-09T20:03:36.927Z"
   },
   {
    "duration": 278,
    "start_time": "2023-06-09T20:08:27.852Z"
   },
   {
    "duration": 397,
    "start_time": "2023-06-09T20:08:50.296Z"
   },
   {
    "duration": 410,
    "start_time": "2023-06-09T20:09:14.962Z"
   },
   {
    "duration": 423,
    "start_time": "2023-06-09T20:14:43.746Z"
   },
   {
    "duration": 8,
    "start_time": "2023-06-09T20:14:51.080Z"
   },
   {
    "duration": 15,
    "start_time": "2023-06-09T20:14:54.845Z"
   },
   {
    "duration": 1820,
    "start_time": "2023-06-09T20:15:34.821Z"
   },
   {
    "duration": 29,
    "start_time": "2023-06-09T20:24:44.526Z"
   },
   {
    "duration": 11,
    "start_time": "2023-06-09T20:25:13.291Z"
   },
   {
    "duration": 16,
    "start_time": "2023-06-09T20:26:14.903Z"
   },
   {
    "duration": 16,
    "start_time": "2023-06-09T20:29:19.699Z"
   },
   {
    "duration": 3271,
    "start_time": "2023-06-10T08:31:40.635Z"
   },
   {
    "duration": 983,
    "start_time": "2023-06-10T08:31:43.908Z"
   },
   {
    "duration": 36,
    "start_time": "2023-06-10T08:31:44.893Z"
   },
   {
    "duration": 24,
    "start_time": "2023-06-10T08:31:44.931Z"
   },
   {
    "duration": 26,
    "start_time": "2023-06-10T08:31:44.957Z"
   },
   {
    "duration": 6,
    "start_time": "2023-06-10T08:31:44.985Z"
   },
   {
    "duration": 56,
    "start_time": "2023-06-10T08:31:44.993Z"
   },
   {
    "duration": 26,
    "start_time": "2023-06-10T08:31:45.050Z"
   },
   {
    "duration": 50,
    "start_time": "2023-06-10T08:31:45.077Z"
   },
   {
    "duration": 57,
    "start_time": "2023-06-10T08:31:45.130Z"
   },
   {
    "duration": 24,
    "start_time": "2023-06-10T08:31:45.189Z"
   },
   {
    "duration": 21,
    "start_time": "2023-06-10T08:31:45.215Z"
   },
   {
    "duration": 68,
    "start_time": "2023-06-10T08:31:45.238Z"
   },
   {
    "duration": 12,
    "start_time": "2023-06-10T08:31:45.308Z"
   },
   {
    "duration": 375,
    "start_time": "2023-06-10T08:31:45.322Z"
   },
   {
    "duration": 1253,
    "start_time": "2023-06-10T08:31:45.698Z"
   },
   {
    "duration": 33,
    "start_time": "2023-06-10T08:31:46.953Z"
   },
   {
    "duration": 4,
    "start_time": "2023-06-10T08:31:46.988Z"
   },
   {
    "duration": 155,
    "start_time": "2023-06-10T08:31:46.994Z"
   },
   {
    "duration": 560,
    "start_time": "2023-06-10T08:31:47.150Z"
   },
   {
    "duration": 338,
    "start_time": "2023-06-10T08:31:47.711Z"
   },
   {
    "duration": 366,
    "start_time": "2023-06-10T08:31:48.050Z"
   },
   {
    "duration": 5626,
    "start_time": "2023-06-10T08:31:48.418Z"
   },
   {
    "duration": 636,
    "start_time": "2023-06-10T08:31:54.045Z"
   },
   {
    "duration": 2218,
    "start_time": "2023-06-10T08:31:54.683Z"
   },
   {
    "duration": 1345,
    "start_time": "2023-06-10T08:31:56.903Z"
   },
   {
    "duration": 463,
    "start_time": "2023-06-10T08:31:58.250Z"
   },
   {
    "duration": 38,
    "start_time": "2023-06-10T08:31:58.721Z"
   },
   {
    "duration": 15,
    "start_time": "2023-06-10T08:31:58.761Z"
   },
   {
    "duration": 244,
    "start_time": "2023-06-10T08:31:58.778Z"
   },
   {
    "duration": 5,
    "start_time": "2023-06-10T08:31:59.024Z"
   },
   {
    "duration": 16,
    "start_time": "2023-06-10T08:31:59.031Z"
   },
   {
    "duration": 135,
    "start_time": "2023-06-10T08:31:59.049Z"
   },
   {
    "duration": 0,
    "start_time": "2023-06-10T08:31:59.186Z"
   },
   {
    "duration": 0,
    "start_time": "2023-06-10T08:31:59.187Z"
   },
   {
    "duration": 0,
    "start_time": "2023-06-10T08:31:59.188Z"
   },
   {
    "duration": 0,
    "start_time": "2023-06-10T08:31:59.189Z"
   },
   {
    "duration": 0,
    "start_time": "2023-06-10T08:31:59.190Z"
   },
   {
    "duration": 7,
    "start_time": "2023-06-10T08:42:45.719Z"
   },
   {
    "duration": 3535,
    "start_time": "2023-06-10T08:42:57.968Z"
   },
   {
    "duration": 984,
    "start_time": "2023-06-10T08:43:01.505Z"
   },
   {
    "duration": 40,
    "start_time": "2023-06-10T08:43:02.491Z"
   },
   {
    "duration": 23,
    "start_time": "2023-06-10T08:43:02.533Z"
   },
   {
    "duration": 26,
    "start_time": "2023-06-10T08:43:02.558Z"
   },
   {
    "duration": 8,
    "start_time": "2023-06-10T08:43:02.586Z"
   },
   {
    "duration": 51,
    "start_time": "2023-06-10T08:43:02.596Z"
   },
   {
    "duration": 32,
    "start_time": "2023-06-10T08:43:02.648Z"
   },
   {
    "duration": 50,
    "start_time": "2023-06-10T08:43:02.682Z"
   },
   {
    "duration": 57,
    "start_time": "2023-06-10T08:43:02.735Z"
   },
   {
    "duration": 26,
    "start_time": "2023-06-10T08:43:02.793Z"
   },
   {
    "duration": 20,
    "start_time": "2023-06-10T08:43:02.821Z"
   },
   {
    "duration": 71,
    "start_time": "2023-06-10T08:43:02.842Z"
   },
   {
    "duration": 13,
    "start_time": "2023-06-10T08:43:02.914Z"
   },
   {
    "duration": 412,
    "start_time": "2023-06-10T08:43:02.928Z"
   },
   {
    "duration": 1452,
    "start_time": "2023-06-10T08:43:03.341Z"
   },
   {
    "duration": 34,
    "start_time": "2023-06-10T08:43:04.795Z"
   },
   {
    "duration": 4,
    "start_time": "2023-06-10T08:43:04.831Z"
   },
   {
    "duration": 174,
    "start_time": "2023-06-10T08:43:04.837Z"
   },
   {
    "duration": 588,
    "start_time": "2023-06-10T08:43:05.013Z"
   },
   {
    "duration": 356,
    "start_time": "2023-06-10T08:43:05.603Z"
   },
   {
    "duration": 399,
    "start_time": "2023-06-10T08:43:05.961Z"
   },
   {
    "duration": 5886,
    "start_time": "2023-06-10T08:43:06.361Z"
   },
   {
    "duration": 645,
    "start_time": "2023-06-10T08:43:12.249Z"
   },
   {
    "duration": 2245,
    "start_time": "2023-06-10T08:43:12.896Z"
   },
   {
    "duration": 1356,
    "start_time": "2023-06-10T08:43:15.142Z"
   },
   {
    "duration": 370,
    "start_time": "2023-06-10T08:43:16.499Z"
   },
   {
    "duration": 37,
    "start_time": "2023-06-10T08:43:16.872Z"
   },
   {
    "duration": 6,
    "start_time": "2023-06-10T08:43:16.910Z"
   },
   {
    "duration": 243,
    "start_time": "2023-06-10T08:43:16.917Z"
   },
   {
    "duration": 13,
    "start_time": "2023-06-10T08:43:17.162Z"
   },
   {
    "duration": 114,
    "start_time": "2023-06-10T08:43:17.176Z"
   },
   {
    "duration": 0,
    "start_time": "2023-06-10T08:43:17.292Z"
   },
   {
    "duration": 0,
    "start_time": "2023-06-10T08:43:17.293Z"
   },
   {
    "duration": 0,
    "start_time": "2023-06-10T08:43:17.294Z"
   },
   {
    "duration": 0,
    "start_time": "2023-06-10T08:43:17.295Z"
   },
   {
    "duration": 0,
    "start_time": "2023-06-10T08:43:17.296Z"
   },
   {
    "duration": 0,
    "start_time": "2023-06-10T08:43:17.297Z"
   },
   {
    "duration": 9,
    "start_time": "2023-06-10T08:44:01.993Z"
   },
   {
    "duration": 10,
    "start_time": "2023-06-10T08:46:04.463Z"
   },
   {
    "duration": 9,
    "start_time": "2023-06-10T08:46:24.257Z"
   },
   {
    "duration": 1906,
    "start_time": "2023-06-10T08:46:41.107Z"
   },
   {
    "duration": 14,
    "start_time": "2023-06-10T08:47:48.443Z"
   },
   {
    "duration": 11,
    "start_time": "2023-06-10T08:50:52.363Z"
   },
   {
    "duration": 360,
    "start_time": "2023-06-10T08:51:05.217Z"
   },
   {
    "duration": 291,
    "start_time": "2023-06-10T08:51:23.436Z"
   },
   {
    "duration": 350,
    "start_time": "2023-06-10T08:51:43.548Z"
   },
   {
    "duration": 720,
    "start_time": "2023-06-10T08:55:56.192Z"
   },
   {
    "duration": 7,
    "start_time": "2023-06-10T08:58:38.666Z"
   },
   {
    "duration": 276,
    "start_time": "2023-06-10T08:58:43.030Z"
   },
   {
    "duration": 10,
    "start_time": "2023-06-10T08:58:52.604Z"
   },
   {
    "duration": 5,
    "start_time": "2023-06-10T08:59:02.043Z"
   },
   {
    "duration": 265,
    "start_time": "2023-06-10T08:59:04.386Z"
   },
   {
    "duration": 6,
    "start_time": "2023-06-10T08:59:08.287Z"
   },
   {
    "duration": 14,
    "start_time": "2023-06-10T09:03:54.501Z"
   },
   {
    "duration": 11,
    "start_time": "2023-06-10T09:05:11.479Z"
   },
   {
    "duration": 11,
    "start_time": "2023-06-10T09:06:31.727Z"
   },
   {
    "duration": 11,
    "start_time": "2023-06-10T09:07:43.743Z"
   },
   {
    "duration": 122,
    "start_time": "2023-06-10T09:10:25.376Z"
   },
   {
    "duration": 13,
    "start_time": "2023-06-10T09:12:21.222Z"
   },
   {
    "duration": 113,
    "start_time": "2023-06-10T09:27:52.796Z"
   },
   {
    "duration": 4085,
    "start_time": "2023-06-10T10:04:04.197Z"
   },
   {
    "duration": 2157,
    "start_time": "2023-06-10T10:04:08.285Z"
   },
   {
    "duration": 39,
    "start_time": "2023-06-10T10:04:10.444Z"
   },
   {
    "duration": 37,
    "start_time": "2023-06-10T10:04:10.485Z"
   },
   {
    "duration": 17,
    "start_time": "2023-06-10T10:04:10.523Z"
   },
   {
    "duration": 7,
    "start_time": "2023-06-10T10:04:10.541Z"
   },
   {
    "duration": 95,
    "start_time": "2023-06-10T10:04:10.550Z"
   },
   {
    "duration": 6,
    "start_time": "2023-06-10T10:04:10.647Z"
   },
   {
    "duration": 72,
    "start_time": "2023-06-10T10:04:10.654Z"
   },
   {
    "duration": 72,
    "start_time": "2023-06-10T10:04:10.730Z"
   },
   {
    "duration": 28,
    "start_time": "2023-06-10T10:04:10.810Z"
   },
   {
    "duration": 23,
    "start_time": "2023-06-10T10:04:10.840Z"
   },
   {
    "duration": 59,
    "start_time": "2023-06-10T10:04:10.865Z"
   },
   {
    "duration": 11,
    "start_time": "2023-06-10T10:04:10.925Z"
   },
   {
    "duration": 460,
    "start_time": "2023-06-10T10:04:10.938Z"
   },
   {
    "duration": 1625,
    "start_time": "2023-06-10T10:04:11.399Z"
   },
   {
    "duration": 23,
    "start_time": "2023-06-10T10:04:13.026Z"
   },
   {
    "duration": 4,
    "start_time": "2023-06-10T10:04:13.051Z"
   },
   {
    "duration": 191,
    "start_time": "2023-06-10T10:04:13.057Z"
   },
   {
    "duration": 682,
    "start_time": "2023-06-10T10:04:13.249Z"
   },
   {
    "duration": 516,
    "start_time": "2023-06-10T10:04:13.933Z"
   },
   {
    "duration": 473,
    "start_time": "2023-06-10T10:04:14.450Z"
   },
   {
    "duration": 6662,
    "start_time": "2023-06-10T10:04:14.927Z"
   },
   {
    "duration": 727,
    "start_time": "2023-06-10T10:04:21.591Z"
   },
   {
    "duration": 2401,
    "start_time": "2023-06-10T10:04:22.319Z"
   },
   {
    "duration": 1499,
    "start_time": "2023-06-10T10:04:24.722Z"
   },
   {
    "duration": 435,
    "start_time": "2023-06-10T10:04:26.223Z"
   },
   {
    "duration": 62,
    "start_time": "2023-06-10T10:04:26.661Z"
   },
   {
    "duration": 6,
    "start_time": "2023-06-10T10:04:26.724Z"
   },
   {
    "duration": 265,
    "start_time": "2023-06-10T10:04:26.732Z"
   },
   {
    "duration": 9,
    "start_time": "2023-06-10T10:04:26.999Z"
   },
   {
    "duration": 12,
    "start_time": "2023-06-10T10:04:27.013Z"
   },
   {
    "duration": 323,
    "start_time": "2023-06-10T10:04:27.026Z"
   },
   {
    "duration": 6,
    "start_time": "2023-06-10T10:04:27.350Z"
   },
   {
    "duration": 12,
    "start_time": "2023-06-10T10:04:27.357Z"
   },
   {
    "duration": 19,
    "start_time": "2023-06-10T10:04:27.371Z"
   },
   {
    "duration": 11,
    "start_time": "2023-06-10T10:04:27.392Z"
   }
  ],
  "kernelspec": {
   "display_name": "Python 3 (ipykernel)",
   "language": "python",
   "name": "python3"
  },
  "language_info": {
   "codemirror_mode": {
    "name": "ipython",
    "version": 3
   },
   "file_extension": ".py",
   "mimetype": "text/x-python",
   "name": "python",
   "nbconvert_exporter": "python",
   "pygments_lexer": "ipython3",
   "version": "3.9.13"
  },
  "toc": {
   "base_numbering": 1,
   "nav_menu": {},
   "number_sections": true,
   "sideBar": true,
   "skip_h1_title": true,
   "title_cell": "Table of Contents",
   "title_sidebar": "Contents",
   "toc_cell": false,
   "toc_position": {
    "height": "544.444px",
    "left": "141px",
    "top": "353.441px",
    "width": "290.434px"
   },
   "toc_section_display": true,
   "toc_window_display": true
  }
 },
 "nbformat": 4,
 "nbformat_minor": 2
}
