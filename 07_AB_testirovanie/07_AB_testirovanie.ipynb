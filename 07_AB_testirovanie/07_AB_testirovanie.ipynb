{
 "cells": [
  {
   "cell_type": "markdown",
   "metadata": {},
   "source": [
    "# Проект: Сборный проект №2"
   ]
  },
  {
   "cell_type": "markdown",
   "metadata": {},
   "source": [
    "Стартап, который продаёт продукты питания. Нужно разобраться, как ведут себя пользователи нашего мобильного приложения. \n",
    "\n",
    "\n",
    "**Цель исследования:**\n",
    "1. Изучить воронку продаж.\n",
    "2. Узнать, как пользователи доходят до покупки. Сколько пользователей доходит до покупки, а сколько — «застревает» на предыдущих шагах? На каких именно?\n",
    "3. Исследовать результаты A/A/B-эксперимента. Дизайнеры захотели поменять шрифты во всём приложении, а менеджеры испугались, что пользователям будет непривычно. Договорились принять решение по результатам A/A/B-теста. Пользователей разбили на 3 группы: 2 контрольные со старыми шрифтами и одну экспериментальную — с новыми. Выяснить, какой шрифт лучше.\n",
    "\n",
    "**Ход исследования:**\n",
    "Данные я получу из файла `logs_exp.csv`. О качестве данных ничего не известно. Поэтому перед тем, как приступать к целям исследования, потребуется обзор данных.\n",
    "\n",
    "Я проверю данные и их типы на ошибки/неточности и оценю их влияние на исследование. Затем, на этапе предобработки, я поищу возможность исправить все ошибки данных, которые не приведут к искажению конечного результата. Далее создам необходимые столбцы и приступлю к проведению анализа.\n",
    "\n",
    "Таким образом, мое исследование пройдет в 5 этапов:\n",
    "- Обзор данных\n",
    "- Предобработка данных\n",
    "- Изучение и проверка данных\n",
    "- Изучение воронки событий\n",
    "- Изучение результатов эксперимента"
   ]
  },
  {
   "cell_type": "markdown",
   "metadata": {},
   "source": [
    "##  Обзор данных"
   ]
  },
  {
   "cell_type": "code",
   "execution_count": 1,
   "metadata": {},
   "outputs": [],
   "source": [
    "# Импортируем библиотеки\n",
    "import pandas as pd\n",
    "import numpy as np\n",
    "from datetime import datetime, timedelta\n",
    "from matplotlib import pyplot as plt\n",
    "import scipy.stats as stats\n",
    "import math as mth"
   ]
  },
  {
   "cell_type": "code",
   "execution_count": 2,
   "metadata": {},
   "outputs": [],
   "source": [
    "data = pd.read_csv('logs_exp.csv', sep='\\t')"
   ]
  },
  {
   "cell_type": "code",
   "execution_count": 3,
   "metadata": {},
   "outputs": [
    {
     "name": "stdout",
     "output_type": "stream",
     "text": [
      "<class 'pandas.core.frame.DataFrame'>\n",
      "RangeIndex: 244126 entries, 0 to 244125\n",
      "Data columns (total 4 columns):\n",
      " #   Column          Non-Null Count   Dtype \n",
      "---  ------          --------------   ----- \n",
      " 0   EventName       244126 non-null  object\n",
      " 1   DeviceIDHash    244126 non-null  int64 \n",
      " 2   EventTimestamp  244126 non-null  int64 \n",
      " 3   ExpId           244126 non-null  int64 \n",
      "dtypes: int64(3), object(1)\n",
      "memory usage: 7.5+ MB\n"
     ]
    },
    {
     "data": {
      "text/html": [
       "<div>\n",
       "<style scoped>\n",
       "    .dataframe tbody tr th:only-of-type {\n",
       "        vertical-align: middle;\n",
       "    }\n",
       "\n",
       "    .dataframe tbody tr th {\n",
       "        vertical-align: top;\n",
       "    }\n",
       "\n",
       "    .dataframe thead th {\n",
       "        text-align: right;\n",
       "    }\n",
       "</style>\n",
       "<table border=\"1\" class=\"dataframe\">\n",
       "  <thead>\n",
       "    <tr style=\"text-align: right;\">\n",
       "      <th></th>\n",
       "      <th>EventName</th>\n",
       "      <th>DeviceIDHash</th>\n",
       "      <th>EventTimestamp</th>\n",
       "      <th>ExpId</th>\n",
       "    </tr>\n",
       "  </thead>\n",
       "  <tbody>\n",
       "    <tr>\n",
       "      <th>0</th>\n",
       "      <td>MainScreenAppear</td>\n",
       "      <td>4575588528974610257</td>\n",
       "      <td>1564029816</td>\n",
       "      <td>246</td>\n",
       "    </tr>\n",
       "    <tr>\n",
       "      <th>1</th>\n",
       "      <td>MainScreenAppear</td>\n",
       "      <td>7416695313311560658</td>\n",
       "      <td>1564053102</td>\n",
       "      <td>246</td>\n",
       "    </tr>\n",
       "    <tr>\n",
       "      <th>2</th>\n",
       "      <td>PaymentScreenSuccessful</td>\n",
       "      <td>3518123091307005509</td>\n",
       "      <td>1564054127</td>\n",
       "      <td>248</td>\n",
       "    </tr>\n",
       "    <tr>\n",
       "      <th>3</th>\n",
       "      <td>CartScreenAppear</td>\n",
       "      <td>3518123091307005509</td>\n",
       "      <td>1564054127</td>\n",
       "      <td>248</td>\n",
       "    </tr>\n",
       "    <tr>\n",
       "      <th>4</th>\n",
       "      <td>PaymentScreenSuccessful</td>\n",
       "      <td>6217807653094995999</td>\n",
       "      <td>1564055322</td>\n",
       "      <td>248</td>\n",
       "    </tr>\n",
       "  </tbody>\n",
       "</table>\n",
       "</div>"
      ],
      "text/plain": [
       "                 EventName         DeviceIDHash  EventTimestamp  ExpId\n",
       "0         MainScreenAppear  4575588528974610257      1564029816    246\n",
       "1         MainScreenAppear  7416695313311560658      1564053102    246\n",
       "2  PaymentScreenSuccessful  3518123091307005509      1564054127    248\n",
       "3         CartScreenAppear  3518123091307005509      1564054127    248\n",
       "4  PaymentScreenSuccessful  6217807653094995999      1564055322    248"
      ]
     },
     "execution_count": 3,
     "metadata": {},
     "output_type": "execute_result"
    }
   ],
   "source": [
    "data.info()\n",
    "data.head()"
   ]
  },
  {
   "cell_type": "markdown",
   "metadata": {},
   "source": [
    "**При первом взгляде на данные можно сказать, что:**\n",
    "\n",
    "- нет пропущенных значений в датасете\n",
    "- название столбцов в датасете необходимо привести к нижнему змеиному регистру\n",
    "- столбец EventTimestamp в датасете необходимо заменить тип на datetime для дальнейшей работы со временем."
   ]
  },
  {
   "cell_type": "markdown",
   "metadata": {},
   "source": [
    "##  Предобработка данных"
   ]
  },
  {
   "cell_type": "markdown",
   "metadata": {},
   "source": [
    "**1. Замените названия столбцов на удобные для вас**"
   ]
  },
  {
   "cell_type": "code",
   "execution_count": 4,
   "metadata": {},
   "outputs": [
    {
     "data": {
      "text/html": [
       "<div>\n",
       "<style scoped>\n",
       "    .dataframe tbody tr th:only-of-type {\n",
       "        vertical-align: middle;\n",
       "    }\n",
       "\n",
       "    .dataframe tbody tr th {\n",
       "        vertical-align: top;\n",
       "    }\n",
       "\n",
       "    .dataframe thead th {\n",
       "        text-align: right;\n",
       "    }\n",
       "</style>\n",
       "<table border=\"1\" class=\"dataframe\">\n",
       "  <thead>\n",
       "    <tr style=\"text-align: right;\">\n",
       "      <th></th>\n",
       "      <th>event</th>\n",
       "      <th>user_id</th>\n",
       "      <th>timestamp</th>\n",
       "      <th>group</th>\n",
       "    </tr>\n",
       "  </thead>\n",
       "  <tbody>\n",
       "    <tr>\n",
       "      <th>0</th>\n",
       "      <td>MainScreenAppear</td>\n",
       "      <td>4575588528974610257</td>\n",
       "      <td>1564029816</td>\n",
       "      <td>246</td>\n",
       "    </tr>\n",
       "    <tr>\n",
       "      <th>1</th>\n",
       "      <td>MainScreenAppear</td>\n",
       "      <td>7416695313311560658</td>\n",
       "      <td>1564053102</td>\n",
       "      <td>246</td>\n",
       "    </tr>\n",
       "    <tr>\n",
       "      <th>2</th>\n",
       "      <td>PaymentScreenSuccessful</td>\n",
       "      <td>3518123091307005509</td>\n",
       "      <td>1564054127</td>\n",
       "      <td>248</td>\n",
       "    </tr>\n",
       "    <tr>\n",
       "      <th>3</th>\n",
       "      <td>CartScreenAppear</td>\n",
       "      <td>3518123091307005509</td>\n",
       "      <td>1564054127</td>\n",
       "      <td>248</td>\n",
       "    </tr>\n",
       "    <tr>\n",
       "      <th>4</th>\n",
       "      <td>PaymentScreenSuccessful</td>\n",
       "      <td>6217807653094995999</td>\n",
       "      <td>1564055322</td>\n",
       "      <td>248</td>\n",
       "    </tr>\n",
       "  </tbody>\n",
       "</table>\n",
       "</div>"
      ],
      "text/plain": [
       "                     event              user_id   timestamp  group\n",
       "0         MainScreenAppear  4575588528974610257  1564029816    246\n",
       "1         MainScreenAppear  7416695313311560658  1564053102    246\n",
       "2  PaymentScreenSuccessful  3518123091307005509  1564054127    248\n",
       "3         CartScreenAppear  3518123091307005509  1564054127    248\n",
       "4  PaymentScreenSuccessful  6217807653094995999  1564055322    248"
      ]
     },
     "execution_count": 4,
     "metadata": {},
     "output_type": "execute_result"
    }
   ],
   "source": [
    "data.columns=['event', 'user_id', 'timestamp', 'group']\n",
    "data.head()"
   ]
  },
  {
   "cell_type": "markdown",
   "metadata": {},
   "source": [
    "**2. Проверьте пропуски и типы данных. Откорректируйте, если нужно. Добавьте столбец даты и времени, а также отдельный столбец дат**"
   ]
  },
  {
   "cell_type": "markdown",
   "metadata": {},
   "source": [
    "Пропуски проверены в предыдущем этапе - они отсутствуют"
   ]
  },
  {
   "cell_type": "code",
   "execution_count": 5,
   "metadata": {},
   "outputs": [
    {
     "name": "stdout",
     "output_type": "stream",
     "text": [
      "<class 'pandas.core.frame.DataFrame'>\n",
      "RangeIndex: 244126 entries, 0 to 244125\n",
      "Data columns (total 5 columns):\n",
      " #   Column     Non-Null Count   Dtype         \n",
      "---  ------     --------------   -----         \n",
      " 0   event      244126 non-null  object        \n",
      " 1   user_id    244126 non-null  int64         \n",
      " 2   timestamp  244126 non-null  datetime64[ns]\n",
      " 3   group      244126 non-null  int64         \n",
      " 4   date       244126 non-null  datetime64[ns]\n",
      "dtypes: datetime64[ns](2), int64(2), object(1)\n",
      "memory usage: 9.3+ MB\n"
     ]
    },
    {
     "data": {
      "text/html": [
       "<div>\n",
       "<style scoped>\n",
       "    .dataframe tbody tr th:only-of-type {\n",
       "        vertical-align: middle;\n",
       "    }\n",
       "\n",
       "    .dataframe tbody tr th {\n",
       "        vertical-align: top;\n",
       "    }\n",
       "\n",
       "    .dataframe thead th {\n",
       "        text-align: right;\n",
       "    }\n",
       "</style>\n",
       "<table border=\"1\" class=\"dataframe\">\n",
       "  <thead>\n",
       "    <tr style=\"text-align: right;\">\n",
       "      <th></th>\n",
       "      <th>event</th>\n",
       "      <th>user_id</th>\n",
       "      <th>timestamp</th>\n",
       "      <th>group</th>\n",
       "      <th>date</th>\n",
       "    </tr>\n",
       "  </thead>\n",
       "  <tbody>\n",
       "    <tr>\n",
       "      <th>0</th>\n",
       "      <td>MainScreenAppear</td>\n",
       "      <td>4575588528974610257</td>\n",
       "      <td>2019-07-25 04:43:36</td>\n",
       "      <td>246</td>\n",
       "      <td>2019-07-25</td>\n",
       "    </tr>\n",
       "    <tr>\n",
       "      <th>1</th>\n",
       "      <td>MainScreenAppear</td>\n",
       "      <td>7416695313311560658</td>\n",
       "      <td>2019-07-25 11:11:42</td>\n",
       "      <td>246</td>\n",
       "      <td>2019-07-25</td>\n",
       "    </tr>\n",
       "    <tr>\n",
       "      <th>2</th>\n",
       "      <td>PaymentScreenSuccessful</td>\n",
       "      <td>3518123091307005509</td>\n",
       "      <td>2019-07-25 11:28:47</td>\n",
       "      <td>248</td>\n",
       "      <td>2019-07-25</td>\n",
       "    </tr>\n",
       "    <tr>\n",
       "      <th>3</th>\n",
       "      <td>CartScreenAppear</td>\n",
       "      <td>3518123091307005509</td>\n",
       "      <td>2019-07-25 11:28:47</td>\n",
       "      <td>248</td>\n",
       "      <td>2019-07-25</td>\n",
       "    </tr>\n",
       "    <tr>\n",
       "      <th>4</th>\n",
       "      <td>PaymentScreenSuccessful</td>\n",
       "      <td>6217807653094995999</td>\n",
       "      <td>2019-07-25 11:48:42</td>\n",
       "      <td>248</td>\n",
       "      <td>2019-07-25</td>\n",
       "    </tr>\n",
       "    <tr>\n",
       "      <th>...</th>\n",
       "      <td>...</td>\n",
       "      <td>...</td>\n",
       "      <td>...</td>\n",
       "      <td>...</td>\n",
       "      <td>...</td>\n",
       "    </tr>\n",
       "    <tr>\n",
       "      <th>244121</th>\n",
       "      <td>MainScreenAppear</td>\n",
       "      <td>4599628364049201812</td>\n",
       "      <td>2019-08-07 21:12:25</td>\n",
       "      <td>247</td>\n",
       "      <td>2019-08-07</td>\n",
       "    </tr>\n",
       "    <tr>\n",
       "      <th>244122</th>\n",
       "      <td>MainScreenAppear</td>\n",
       "      <td>5849806612437486590</td>\n",
       "      <td>2019-08-07 21:13:59</td>\n",
       "      <td>246</td>\n",
       "      <td>2019-08-07</td>\n",
       "    </tr>\n",
       "    <tr>\n",
       "      <th>244123</th>\n",
       "      <td>MainScreenAppear</td>\n",
       "      <td>5746969938801999050</td>\n",
       "      <td>2019-08-07 21:14:43</td>\n",
       "      <td>246</td>\n",
       "      <td>2019-08-07</td>\n",
       "    </tr>\n",
       "    <tr>\n",
       "      <th>244124</th>\n",
       "      <td>MainScreenAppear</td>\n",
       "      <td>5746969938801999050</td>\n",
       "      <td>2019-08-07 21:14:58</td>\n",
       "      <td>246</td>\n",
       "      <td>2019-08-07</td>\n",
       "    </tr>\n",
       "    <tr>\n",
       "      <th>244125</th>\n",
       "      <td>OffersScreenAppear</td>\n",
       "      <td>5746969938801999050</td>\n",
       "      <td>2019-08-07 21:15:17</td>\n",
       "      <td>246</td>\n",
       "      <td>2019-08-07</td>\n",
       "    </tr>\n",
       "  </tbody>\n",
       "</table>\n",
       "<p>244126 rows × 5 columns</p>\n",
       "</div>"
      ],
      "text/plain": [
       "                          event              user_id           timestamp  \\\n",
       "0              MainScreenAppear  4575588528974610257 2019-07-25 04:43:36   \n",
       "1              MainScreenAppear  7416695313311560658 2019-07-25 11:11:42   \n",
       "2       PaymentScreenSuccessful  3518123091307005509 2019-07-25 11:28:47   \n",
       "3              CartScreenAppear  3518123091307005509 2019-07-25 11:28:47   \n",
       "4       PaymentScreenSuccessful  6217807653094995999 2019-07-25 11:48:42   \n",
       "...                         ...                  ...                 ...   \n",
       "244121         MainScreenAppear  4599628364049201812 2019-08-07 21:12:25   \n",
       "244122         MainScreenAppear  5849806612437486590 2019-08-07 21:13:59   \n",
       "244123         MainScreenAppear  5746969938801999050 2019-08-07 21:14:43   \n",
       "244124         MainScreenAppear  5746969938801999050 2019-08-07 21:14:58   \n",
       "244125       OffersScreenAppear  5746969938801999050 2019-08-07 21:15:17   \n",
       "\n",
       "        group       date  \n",
       "0         246 2019-07-25  \n",
       "1         246 2019-07-25  \n",
       "2         248 2019-07-25  \n",
       "3         248 2019-07-25  \n",
       "4         248 2019-07-25  \n",
       "...       ...        ...  \n",
       "244121    247 2019-08-07  \n",
       "244122    246 2019-08-07  \n",
       "244123    246 2019-08-07  \n",
       "244124    246 2019-08-07  \n",
       "244125    246 2019-08-07  \n",
       "\n",
       "[244126 rows x 5 columns]"
      ]
     },
     "execution_count": 5,
     "metadata": {},
     "output_type": "execute_result"
    }
   ],
   "source": [
    "data['timestamp'] = pd.to_datetime(data['timestamp'], unit='s')\n",
    "data['date'] = data['timestamp'].dt.date\n",
    "data['date'] = data['date'].astype('datetime64')\n",
    "data.info()\n",
    "data"
   ]
  },
  {
   "cell_type": "markdown",
   "metadata": {},
   "source": [
    "Значения в столбце group исправим: 246 и 247 — контрольные группы иправим на A1 и A2, а 248 — экспериментальная на B."
   ]
  },
  {
   "cell_type": "code",
   "execution_count": 6,
   "metadata": {},
   "outputs": [
    {
     "data": {
      "text/html": [
       "<div>\n",
       "<style scoped>\n",
       "    .dataframe tbody tr th:only-of-type {\n",
       "        vertical-align: middle;\n",
       "    }\n",
       "\n",
       "    .dataframe tbody tr th {\n",
       "        vertical-align: top;\n",
       "    }\n",
       "\n",
       "    .dataframe thead th {\n",
       "        text-align: right;\n",
       "    }\n",
       "</style>\n",
       "<table border=\"1\" class=\"dataframe\">\n",
       "  <thead>\n",
       "    <tr style=\"text-align: right;\">\n",
       "      <th></th>\n",
       "      <th>event</th>\n",
       "      <th>user_id</th>\n",
       "      <th>timestamp</th>\n",
       "      <th>group</th>\n",
       "      <th>date</th>\n",
       "    </tr>\n",
       "  </thead>\n",
       "  <tbody>\n",
       "    <tr>\n",
       "      <th>0</th>\n",
       "      <td>MainScreenAppear</td>\n",
       "      <td>4575588528974610257</td>\n",
       "      <td>2019-07-25 04:43:36</td>\n",
       "      <td>A1</td>\n",
       "      <td>2019-07-25</td>\n",
       "    </tr>\n",
       "    <tr>\n",
       "      <th>1</th>\n",
       "      <td>MainScreenAppear</td>\n",
       "      <td>7416695313311560658</td>\n",
       "      <td>2019-07-25 11:11:42</td>\n",
       "      <td>A1</td>\n",
       "      <td>2019-07-25</td>\n",
       "    </tr>\n",
       "    <tr>\n",
       "      <th>2</th>\n",
       "      <td>PaymentScreenSuccessful</td>\n",
       "      <td>3518123091307005509</td>\n",
       "      <td>2019-07-25 11:28:47</td>\n",
       "      <td>B</td>\n",
       "      <td>2019-07-25</td>\n",
       "    </tr>\n",
       "    <tr>\n",
       "      <th>3</th>\n",
       "      <td>CartScreenAppear</td>\n",
       "      <td>3518123091307005509</td>\n",
       "      <td>2019-07-25 11:28:47</td>\n",
       "      <td>B</td>\n",
       "      <td>2019-07-25</td>\n",
       "    </tr>\n",
       "    <tr>\n",
       "      <th>4</th>\n",
       "      <td>PaymentScreenSuccessful</td>\n",
       "      <td>6217807653094995999</td>\n",
       "      <td>2019-07-25 11:48:42</td>\n",
       "      <td>B</td>\n",
       "      <td>2019-07-25</td>\n",
       "    </tr>\n",
       "  </tbody>\n",
       "</table>\n",
       "</div>"
      ],
      "text/plain": [
       "                     event              user_id           timestamp group  \\\n",
       "0         MainScreenAppear  4575588528974610257 2019-07-25 04:43:36    A1   \n",
       "1         MainScreenAppear  7416695313311560658 2019-07-25 11:11:42    A1   \n",
       "2  PaymentScreenSuccessful  3518123091307005509 2019-07-25 11:28:47     B   \n",
       "3         CartScreenAppear  3518123091307005509 2019-07-25 11:28:47     B   \n",
       "4  PaymentScreenSuccessful  6217807653094995999 2019-07-25 11:48:42     B   \n",
       "\n",
       "        date  \n",
       "0 2019-07-25  \n",
       "1 2019-07-25  \n",
       "2 2019-07-25  \n",
       "3 2019-07-25  \n",
       "4 2019-07-25  "
      ]
     },
     "execution_count": 6,
     "metadata": {},
     "output_type": "execute_result"
    }
   ],
   "source": [
    "def func_group(ab_test):\n",
    "    if ab_test == 246:\n",
    "        return 'A1'\n",
    "    elif ab_test == 247:\n",
    "        return 'A2'\n",
    "    elif ab_test == 248:\n",
    "        return 'B'\n",
    "    else:\n",
    "        return 'noname_group'\n",
    "\n",
    "data['group'] = data['group'].apply(func_group)\n",
    "data.head()"
   ]
  },
  {
   "cell_type": "code",
   "execution_count": 7,
   "metadata": {},
   "outputs": [
    {
     "data": {
      "text/plain": [
       "B     85747\n",
       "A1    80304\n",
       "A2    78075\n",
       "Name: group, dtype: int64"
      ]
     },
     "execution_count": 7,
     "metadata": {},
     "output_type": "execute_result"
    }
   ],
   "source": [
    "data['group'].value_counts()"
   ]
  },
  {
   "cell_type": "markdown",
   "metadata": {},
   "source": [
    "noname_group в группах для тестов отсутствуют"
   ]
  },
  {
   "cell_type": "markdown",
   "metadata": {},
   "source": [
    "**3. Проверим дубликаты**"
   ]
  },
  {
   "cell_type": "code",
   "execution_count": 8,
   "metadata": {},
   "outputs": [
    {
     "data": {
      "text/plain": [
       "413"
      ]
     },
     "execution_count": 8,
     "metadata": {},
     "output_type": "execute_result"
    }
   ],
   "source": [
    "data.duplicated().sum()"
   ]
  },
  {
   "cell_type": "markdown",
   "metadata": {},
   "source": [
    "Полные дубликаты, предполагаю, что есть задвоение, т.к. невозможно совершать одно и то же дествие несколько раз в одно и то же время. Поэтому удаляем дубликаты"
   ]
  },
  {
   "cell_type": "code",
   "execution_count": 9,
   "metadata": {},
   "outputs": [
    {
     "name": "stdout",
     "output_type": "stream",
     "text": [
      "0\n"
     ]
    },
    {
     "data": {
      "text/html": [
       "<div>\n",
       "<style scoped>\n",
       "    .dataframe tbody tr th:only-of-type {\n",
       "        vertical-align: middle;\n",
       "    }\n",
       "\n",
       "    .dataframe tbody tr th {\n",
       "        vertical-align: top;\n",
       "    }\n",
       "\n",
       "    .dataframe thead th {\n",
       "        text-align: right;\n",
       "    }\n",
       "</style>\n",
       "<table border=\"1\" class=\"dataframe\">\n",
       "  <thead>\n",
       "    <tr style=\"text-align: right;\">\n",
       "      <th></th>\n",
       "      <th>index</th>\n",
       "      <th>event</th>\n",
       "      <th>user_id</th>\n",
       "      <th>timestamp</th>\n",
       "      <th>group</th>\n",
       "      <th>date</th>\n",
       "    </tr>\n",
       "  </thead>\n",
       "  <tbody>\n",
       "    <tr>\n",
       "      <th>0</th>\n",
       "      <td>0</td>\n",
       "      <td>MainScreenAppear</td>\n",
       "      <td>4575588528974610257</td>\n",
       "      <td>2019-07-25 04:43:36</td>\n",
       "      <td>A1</td>\n",
       "      <td>2019-07-25</td>\n",
       "    </tr>\n",
       "    <tr>\n",
       "      <th>1</th>\n",
       "      <td>1</td>\n",
       "      <td>MainScreenAppear</td>\n",
       "      <td>7416695313311560658</td>\n",
       "      <td>2019-07-25 11:11:42</td>\n",
       "      <td>A1</td>\n",
       "      <td>2019-07-25</td>\n",
       "    </tr>\n",
       "    <tr>\n",
       "      <th>2</th>\n",
       "      <td>2</td>\n",
       "      <td>PaymentScreenSuccessful</td>\n",
       "      <td>3518123091307005509</td>\n",
       "      <td>2019-07-25 11:28:47</td>\n",
       "      <td>B</td>\n",
       "      <td>2019-07-25</td>\n",
       "    </tr>\n",
       "    <tr>\n",
       "      <th>3</th>\n",
       "      <td>3</td>\n",
       "      <td>CartScreenAppear</td>\n",
       "      <td>3518123091307005509</td>\n",
       "      <td>2019-07-25 11:28:47</td>\n",
       "      <td>B</td>\n",
       "      <td>2019-07-25</td>\n",
       "    </tr>\n",
       "    <tr>\n",
       "      <th>4</th>\n",
       "      <td>4</td>\n",
       "      <td>PaymentScreenSuccessful</td>\n",
       "      <td>6217807653094995999</td>\n",
       "      <td>2019-07-25 11:48:42</td>\n",
       "      <td>B</td>\n",
       "      <td>2019-07-25</td>\n",
       "    </tr>\n",
       "    <tr>\n",
       "      <th>...</th>\n",
       "      <td>...</td>\n",
       "      <td>...</td>\n",
       "      <td>...</td>\n",
       "      <td>...</td>\n",
       "      <td>...</td>\n",
       "      <td>...</td>\n",
       "    </tr>\n",
       "    <tr>\n",
       "      <th>243708</th>\n",
       "      <td>244121</td>\n",
       "      <td>MainScreenAppear</td>\n",
       "      <td>4599628364049201812</td>\n",
       "      <td>2019-08-07 21:12:25</td>\n",
       "      <td>A2</td>\n",
       "      <td>2019-08-07</td>\n",
       "    </tr>\n",
       "    <tr>\n",
       "      <th>243709</th>\n",
       "      <td>244122</td>\n",
       "      <td>MainScreenAppear</td>\n",
       "      <td>5849806612437486590</td>\n",
       "      <td>2019-08-07 21:13:59</td>\n",
       "      <td>A1</td>\n",
       "      <td>2019-08-07</td>\n",
       "    </tr>\n",
       "    <tr>\n",
       "      <th>243710</th>\n",
       "      <td>244123</td>\n",
       "      <td>MainScreenAppear</td>\n",
       "      <td>5746969938801999050</td>\n",
       "      <td>2019-08-07 21:14:43</td>\n",
       "      <td>A1</td>\n",
       "      <td>2019-08-07</td>\n",
       "    </tr>\n",
       "    <tr>\n",
       "      <th>243711</th>\n",
       "      <td>244124</td>\n",
       "      <td>MainScreenAppear</td>\n",
       "      <td>5746969938801999050</td>\n",
       "      <td>2019-08-07 21:14:58</td>\n",
       "      <td>A1</td>\n",
       "      <td>2019-08-07</td>\n",
       "    </tr>\n",
       "    <tr>\n",
       "      <th>243712</th>\n",
       "      <td>244125</td>\n",
       "      <td>OffersScreenAppear</td>\n",
       "      <td>5746969938801999050</td>\n",
       "      <td>2019-08-07 21:15:17</td>\n",
       "      <td>A1</td>\n",
       "      <td>2019-08-07</td>\n",
       "    </tr>\n",
       "  </tbody>\n",
       "</table>\n",
       "<p>243713 rows × 6 columns</p>\n",
       "</div>"
      ],
      "text/plain": [
       "         index                    event              user_id  \\\n",
       "0            0         MainScreenAppear  4575588528974610257   \n",
       "1            1         MainScreenAppear  7416695313311560658   \n",
       "2            2  PaymentScreenSuccessful  3518123091307005509   \n",
       "3            3         CartScreenAppear  3518123091307005509   \n",
       "4            4  PaymentScreenSuccessful  6217807653094995999   \n",
       "...        ...                      ...                  ...   \n",
       "243708  244121         MainScreenAppear  4599628364049201812   \n",
       "243709  244122         MainScreenAppear  5849806612437486590   \n",
       "243710  244123         MainScreenAppear  5746969938801999050   \n",
       "243711  244124         MainScreenAppear  5746969938801999050   \n",
       "243712  244125       OffersScreenAppear  5746969938801999050   \n",
       "\n",
       "                 timestamp group       date  \n",
       "0      2019-07-25 04:43:36    A1 2019-07-25  \n",
       "1      2019-07-25 11:11:42    A1 2019-07-25  \n",
       "2      2019-07-25 11:28:47     B 2019-07-25  \n",
       "3      2019-07-25 11:28:47     B 2019-07-25  \n",
       "4      2019-07-25 11:48:42     B 2019-07-25  \n",
       "...                    ...   ...        ...  \n",
       "243708 2019-08-07 21:12:25    A2 2019-08-07  \n",
       "243709 2019-08-07 21:13:59    A1 2019-08-07  \n",
       "243710 2019-08-07 21:14:43    A1 2019-08-07  \n",
       "243711 2019-08-07 21:14:58    A1 2019-08-07  \n",
       "243712 2019-08-07 21:15:17    A1 2019-08-07  \n",
       "\n",
       "[243713 rows x 6 columns]"
      ]
     },
     "execution_count": 9,
     "metadata": {},
     "output_type": "execute_result"
    }
   ],
   "source": [
    "data = data.drop_duplicates().reset_index()\n",
    "print(data.duplicated().sum())\n",
    "data"
   ]
  },
  {
   "cell_type": "markdown",
   "metadata": {},
   "source": [
    "Дубликаты отсутствуют. Проверим, есть ли в таблице пользователи, оказавшиеся одновременно в нескольких группах"
   ]
  },
  {
   "cell_type": "code",
   "execution_count": 10,
   "metadata": {},
   "outputs": [
    {
     "name": "stdout",
     "output_type": "stream",
     "text": [
      "Empty DataFrame\n",
      "Columns: [user_id, group_cnt]\n",
      "Index: []\n"
     ]
    }
   ],
   "source": [
    "double_id = data.groupby('user_id', as_index=False).agg({'group': 'nunique'})\n",
    "double_id.columns=['user_id', 'group_cnt']\n",
    "double_id = double_id.query('group_cnt > 1')\n",
    "print(double_id)\n"
   ]
  },
  {
   "cell_type": "markdown",
   "metadata": {},
   "source": [
    "Такие пользователи отсутствуют. Таблица готова к анализу."
   ]
  },
  {
   "cell_type": "markdown",
   "metadata": {},
   "source": [
    "**В результате предобработки данных сделано:**\n",
    "\n",
    "- названия столбцов преведены к нижнему змеиному регистру\n",
    "- изменили тип столбца с датой и временем, добавлен столбец с датой\n",
    "- изменены типы данных со временем\n",
    "- для А/А/В тестирования заменены значения в столбце group\n",
    "- удалено 413 дубликатов\n",
    "- проверено, что каждый пользователь присутствует только в одной из групп"
   ]
  },
  {
   "cell_type": "markdown",
   "metadata": {},
   "source": [
    "## Изучение и проверка данных"
   ]
  },
  {
   "cell_type": "markdown",
   "metadata": {},
   "source": [
    "**1. Сколько всего событий в логе?**"
   ]
  },
  {
   "cell_type": "code",
   "execution_count": 11,
   "metadata": {},
   "outputs": [
    {
     "name": "stdout",
     "output_type": "stream",
     "text": [
      "243713\n"
     ]
    },
    {
     "data": {
      "text/plain": [
       "array(['MainScreenAppear', 'PaymentScreenSuccessful', 'CartScreenAppear',\n",
       "       'OffersScreenAppear', 'Tutorial'], dtype=object)"
      ]
     },
     "execution_count": 11,
     "metadata": {},
     "output_type": "execute_result"
    }
   ],
   "source": [
    "event_cnt = data['event'].count()\n",
    "print(event_cnt)\n",
    "data['event'].unique()"
   ]
  },
  {
   "cell_type": "markdown",
   "metadata": {},
   "source": [
    "Всего событий в логе - 243713. Уникальных - 5 шт."
   ]
  },
  {
   "cell_type": "markdown",
   "metadata": {},
   "source": [
    "**2. Сколько всего пользователей в логе?**"
   ]
  },
  {
   "cell_type": "code",
   "execution_count": 12,
   "metadata": {},
   "outputs": [
    {
     "name": "stdout",
     "output_type": "stream",
     "text": [
      "7551\n"
     ]
    }
   ],
   "source": [
    "user_cnt = data['user_id'].nunique()\n",
    "print(user_cnt)"
   ]
  },
  {
   "cell_type": "markdown",
   "metadata": {},
   "source": [
    "Всего пользователей в логе - 7551"
   ]
  },
  {
   "cell_type": "markdown",
   "metadata": {},
   "source": [
    "**3. Сколько в среднем событий приходится на пользователя?**"
   ]
  },
  {
   "cell_type": "code",
   "execution_count": 13,
   "metadata": {},
   "outputs": [
    {
     "name": "stdout",
     "output_type": "stream",
     "text": [
      "Среднее количество событий на пользователя: 32.27559263673685\n"
     ]
    }
   ],
   "source": [
    "\n",
    "print(\"Среднее количество событий на пользователя:\", (event_cnt / user_cnt))"
   ]
  },
  {
   "cell_type": "code",
   "execution_count": 14,
   "metadata": {},
   "outputs": [
    {
     "data": {
      "text/plain": [
       "count    7551.000000\n",
       "mean       32.275593\n",
       "std        65.154219\n",
       "min         1.000000\n",
       "25%         9.000000\n",
       "50%        20.000000\n",
       "75%        37.000000\n",
       "max      2307.000000\n",
       "Name: event, dtype: float64"
      ]
     },
     "execution_count": 14,
     "metadata": {},
     "output_type": "execute_result"
    }
   ],
   "source": [
    "event_user = data.groupby('user_id')['event'].count()\n",
    "event_user.describe()"
   ]
  },
  {
   "cell_type": "markdown",
   "metadata": {},
   "source": [
    "Если посмотреть в целом на данные, то видно выбросы, которые достигаю максимального значения - 2307, также видно, что стандартное отклонение высокое и медиана отличается от среднего, поэтому стоит равняться на медиану - 20."
   ]
  },
  {
   "cell_type": "markdown",
   "metadata": {},
   "source": [
    "**4. Данными за какой период вы располагаете? Найдите максимальную и минимальную дату. Постройте гистограмму по дате и времени. Можно ли быть уверенным, что у вас одинаково полные данные за весь период? Технически в логи новых дней по некоторым пользователям могут «доезжать» события из прошлого — это может «перекашивать данные». Определите, с какого момента данные полные и отбросьте более старые. Данными за какой период времени вы располагаете на самом деле?**"
   ]
  },
  {
   "cell_type": "code",
   "execution_count": 15,
   "metadata": {},
   "outputs": [
    {
     "name": "stdout",
     "output_type": "stream",
     "text": [
      "Минимальная дата: 2019-07-25 04:43:36\n",
      "Максимальная дата: 2019-08-07 21:15:17\n",
      "Стартовы размер периода данных : 13 days 16:31:41\n"
     ]
    }
   ],
   "source": [
    "print(f\"Минимальная дата: {data['timestamp'].min()}\")\n",
    "print(f\"Максимальная дата: {data['timestamp'].max()}\")\n",
    "print(f\"Стартовы размер периода данных : {data['timestamp'].max() - data['timestamp'].min()}\")"
   ]
  },
  {
   "cell_type": "code",
   "execution_count": 16,
   "metadata": {},
   "outputs": [
    {
     "data": {
      "image/png": "[encoded data removed]",
      "text/plain": [
       "<Figure size 1500x500 with 1 Axes>"
      ]
     },
     "metadata": {},
     "output_type": "display_data"
    }
   ],
   "source": [
    "plt.figure(figsize=(15,5))\n",
    "plt.grid()\n",
    "plt.title('Гистограмма по дате и времени')\n",
    "plt.hist(data['timestamp']) \n",
    "# добавляем подписи к осям и заголовок диаграммы\n",
    "plt.xlabel('Дата', fontsize=14)\n",
    "plt.ylabel('Количество событий', fontsize=14)\n",
    "\n",
    "\n",
    "# оптимизируем поля и расположение объектов\n",
    "plt.tight_layout()\n",
    "\n",
    "plt.show()"
   ]
  },
  {
   "cell_type": "markdown",
   "metadata": {},
   "source": [
    "Фактически мы располагаем полными дынными с 1 августа 2019. Данные в последней недели июля содержат очень мало событий. \n",
    "\n",
    "Поэтому отбросим данные, которые были совершены до 1 августа."
   ]
  },
  {
   "cell_type": "code",
   "execution_count": 17,
   "metadata": {},
   "outputs": [
    {
     "data": {
      "text/html": [
       "<div>\n",
       "<style scoped>\n",
       "    .dataframe tbody tr th:only-of-type {\n",
       "        vertical-align: middle;\n",
       "    }\n",
       "\n",
       "    .dataframe tbody tr th {\n",
       "        vertical-align: top;\n",
       "    }\n",
       "\n",
       "    .dataframe thead th {\n",
       "        text-align: right;\n",
       "    }\n",
       "</style>\n",
       "<table border=\"1\" class=\"dataframe\">\n",
       "  <thead>\n",
       "    <tr style=\"text-align: right;\">\n",
       "      <th></th>\n",
       "      <th>index</th>\n",
       "      <th>event</th>\n",
       "      <th>user_id</th>\n",
       "      <th>timestamp</th>\n",
       "      <th>group</th>\n",
       "      <th>date</th>\n",
       "    </tr>\n",
       "  </thead>\n",
       "  <tbody>\n",
       "    <tr>\n",
       "      <th>0</th>\n",
       "      <td>2828</td>\n",
       "      <td>Tutorial</td>\n",
       "      <td>3737462046622621720</td>\n",
       "      <td>2019-08-01 00:07:28</td>\n",
       "      <td>A1</td>\n",
       "      <td>2019-08-01</td>\n",
       "    </tr>\n",
       "    <tr>\n",
       "      <th>24103</th>\n",
       "      <td>26973</td>\n",
       "      <td>CartScreenAppear</td>\n",
       "      <td>4933689529142781210</td>\n",
       "      <td>2019-08-01 15:42:14</td>\n",
       "      <td>A1</td>\n",
       "      <td>2019-08-01</td>\n",
       "    </tr>\n",
       "    <tr>\n",
       "      <th>24102</th>\n",
       "      <td>26972</td>\n",
       "      <td>MainScreenAppear</td>\n",
       "      <td>5375697691143223385</td>\n",
       "      <td>2019-08-01 15:42:13</td>\n",
       "      <td>A2</td>\n",
       "      <td>2019-08-01</td>\n",
       "    </tr>\n",
       "    <tr>\n",
       "      <th>24101</th>\n",
       "      <td>26971</td>\n",
       "      <td>MainScreenAppear</td>\n",
       "      <td>5122452238037348165</td>\n",
       "      <td>2019-08-01 15:42:12</td>\n",
       "      <td>B</td>\n",
       "      <td>2019-08-01</td>\n",
       "    </tr>\n",
       "    <tr>\n",
       "      <th>24100</th>\n",
       "      <td>26970</td>\n",
       "      <td>MainScreenAppear</td>\n",
       "      <td>370831337408248129</td>\n",
       "      <td>2019-08-01 15:42:10</td>\n",
       "      <td>A2</td>\n",
       "      <td>2019-08-01</td>\n",
       "    </tr>\n",
       "    <tr>\n",
       "      <th>...</th>\n",
       "      <td>...</td>\n",
       "      <td>...</td>\n",
       "      <td>...</td>\n",
       "      <td>...</td>\n",
       "      <td>...</td>\n",
       "      <td>...</td>\n",
       "    </tr>\n",
       "    <tr>\n",
       "      <th>220148</th>\n",
       "      <td>223350</td>\n",
       "      <td>MainScreenAppear</td>\n",
       "      <td>1599641448679221409</td>\n",
       "      <td>2019-08-07 10:13:46</td>\n",
       "      <td>A2</td>\n",
       "      <td>2019-08-07</td>\n",
       "    </tr>\n",
       "    <tr>\n",
       "      <th>220147</th>\n",
       "      <td>223349</td>\n",
       "      <td>MainScreenAppear</td>\n",
       "      <td>6713384618608633696</td>\n",
       "      <td>2019-08-07 10:13:44</td>\n",
       "      <td>A2</td>\n",
       "      <td>2019-08-07</td>\n",
       "    </tr>\n",
       "    <tr>\n",
       "      <th>220146</th>\n",
       "      <td>223348</td>\n",
       "      <td>MainScreenAppear</td>\n",
       "      <td>3063248032210795834</td>\n",
       "      <td>2019-08-07 10:13:41</td>\n",
       "      <td>A2</td>\n",
       "      <td>2019-08-07</td>\n",
       "    </tr>\n",
       "    <tr>\n",
       "      <th>220174</th>\n",
       "      <td>223376</td>\n",
       "      <td>MainScreenAppear</td>\n",
       "      <td>6953415790057009349</td>\n",
       "      <td>2019-08-07 10:14:36</td>\n",
       "      <td>B</td>\n",
       "      <td>2019-08-07</td>\n",
       "    </tr>\n",
       "    <tr>\n",
       "      <th>240886</th>\n",
       "      <td>244125</td>\n",
       "      <td>OffersScreenAppear</td>\n",
       "      <td>5746969938801999050</td>\n",
       "      <td>2019-08-07 21:15:17</td>\n",
       "      <td>A1</td>\n",
       "      <td>2019-08-07</td>\n",
       "    </tr>\n",
       "  </tbody>\n",
       "</table>\n",
       "<p>240887 rows × 6 columns</p>\n",
       "</div>"
      ],
      "text/plain": [
       "         index               event              user_id           timestamp  \\\n",
       "0         2828            Tutorial  3737462046622621720 2019-08-01 00:07:28   \n",
       "24103    26973    CartScreenAppear  4933689529142781210 2019-08-01 15:42:14   \n",
       "24102    26972    MainScreenAppear  5375697691143223385 2019-08-01 15:42:13   \n",
       "24101    26971    MainScreenAppear  5122452238037348165 2019-08-01 15:42:12   \n",
       "24100    26970    MainScreenAppear   370831337408248129 2019-08-01 15:42:10   \n",
       "...        ...                 ...                  ...                 ...   \n",
       "220148  223350    MainScreenAppear  1599641448679221409 2019-08-07 10:13:46   \n",
       "220147  223349    MainScreenAppear  6713384618608633696 2019-08-07 10:13:44   \n",
       "220146  223348    MainScreenAppear  3063248032210795834 2019-08-07 10:13:41   \n",
       "220174  223376    MainScreenAppear  6953415790057009349 2019-08-07 10:14:36   \n",
       "240886  244125  OffersScreenAppear  5746969938801999050 2019-08-07 21:15:17   \n",
       "\n",
       "       group       date  \n",
       "0         A1 2019-08-01  \n",
       "24103     A1 2019-08-01  \n",
       "24102     A2 2019-08-01  \n",
       "24101      B 2019-08-01  \n",
       "24100     A2 2019-08-01  \n",
       "...      ...        ...  \n",
       "220148    A2 2019-08-07  \n",
       "220147    A2 2019-08-07  \n",
       "220146    A2 2019-08-07  \n",
       "220174     B 2019-08-07  \n",
       "240886    A1 2019-08-07  \n",
       "\n",
       "[240887 rows x 6 columns]"
      ]
     },
     "execution_count": 17,
     "metadata": {},
     "output_type": "execute_result"
    }
   ],
   "source": [
    "data = data.loc[data['date'] > '2019-07-31'].reset_index(drop=True)\n",
    "data.sort_values(by='date')"
   ]
  },
  {
   "cell_type": "markdown",
   "metadata": {},
   "source": [
    "В итоге располагаем данными за период с 1 августа по 7 августа 2019 года"
   ]
  },
  {
   "cell_type": "markdown",
   "metadata": {},
   "source": [
    "**Много ли событий и пользователей вы потеряли, отбросив старые данные?**"
   ]
  },
  {
   "cell_type": "code",
   "execution_count": 18,
   "metadata": {},
   "outputs": [
    {
     "name": "stdout",
     "output_type": "stream",
     "text": [
      "Стало меньше пользователей на 17\n",
      "% потери пользователей = 0.23%\n",
      "Стало меньше событий на 2826\n",
      "% потери событий = 1.16%\n"
     ]
    }
   ],
   "source": [
    "new_users = data['user_id'].nunique()\n",
    "new_events = data['event'].count()\n",
    "print(f'Стало меньше пользователей на {user_cnt-new_users}')\n",
    "print(f'% потери пользователей = {round((user_cnt-new_users)/user_cnt*100, 2)}%')\n",
    "print(f'Стало меньше событий на {event_cnt-new_events}')\n",
    "print(f'% потери событий = {round((event_cnt-new_events)/event_cnt*100, 2)}%')"
   ]
  },
  {
   "cell_type": "markdown",
   "metadata": {},
   "source": [
    "Если смотреть на процент потери пользователей и событий, то в обоих случаях он не превышает 1,5%, что вполне допустимо"
   ]
  },
  {
   "cell_type": "markdown",
   "metadata": {},
   "source": [
    "**Проверьте, что у вас есть пользователи из всех трёх экспериментальных групп.**"
   ]
  },
  {
   "cell_type": "code",
   "execution_count": 19,
   "metadata": {},
   "outputs": [
    {
     "data": {
      "text/plain": [
       "group\n",
       "A1    2484\n",
       "A2    2513\n",
       "B     2537\n",
       "Name: user_id, dtype: int64"
      ]
     },
     "execution_count": 19,
     "metadata": {},
     "output_type": "execute_result"
    }
   ],
   "source": [
    "data.groupby('group')['user_id'].nunique()"
   ]
  },
  {
   "cell_type": "markdown",
   "metadata": {},
   "source": [
    "В каждой группе примерно одинаковое количество пользователей - около 2500 шт."
   ]
  },
  {
   "cell_type": "markdown",
   "metadata": {},
   "source": [
    "**ВЫВОД:**\n",
    "- Всего событий в логе - 243713. Уникальных - 5 шт.\n",
    "- Всего пользователей в логе - 7551\n",
    "- Медианное количество событий на пользователя 20 шт.\n",
    "- Фактически мы располагаем полными дынными с 1 августа 2019 по 7 августа 2019. Данные в последней недели июля содержат очень мало событий.\n",
    "- В каждой группе примерно одинаковое количество пользователей - около 2500 шт."
   ]
  },
  {
   "cell_type": "markdown",
   "metadata": {},
   "source": [
    "## Изучение и проверка данных"
   ]
  },
  {
   "cell_type": "markdown",
   "metadata": {},
   "source": [
    "**Посмотрите, какие события есть в логах, как часто они встречаются. Отсортируйте события по частоте.**"
   ]
  },
  {
   "cell_type": "code",
   "execution_count": 20,
   "metadata": {},
   "outputs": [
    {
     "data": {
      "text/plain": [
       "MainScreenAppear           117328\n",
       "OffersScreenAppear          46333\n",
       "CartScreenAppear            42303\n",
       "PaymentScreenSuccessful     33918\n",
       "Tutorial                     1005\n",
       "Name: event, dtype: int64"
      ]
     },
     "execution_count": 20,
     "metadata": {},
     "output_type": "execute_result"
    }
   ],
   "source": [
    "data['event'].value_counts()"
   ]
  },
  {
   "cell_type": "markdown",
   "metadata": {},
   "source": [
    "- Подавляющее польшинство событий - Появление Главного экрана, что не удивительно - все пользователи сначала попадают на первый экран\n",
    "- Похожее количество событий у Появление Экрана Предложений, Появление Экрана Корзины и Экран Платеж Совершен. \n",
    "- Страницу Руководство - посещают меньше всего. События здесь незначительны."
   ]
  },
  {
   "cell_type": "markdown",
   "metadata": {},
   "source": [
    "**Посчитайте, сколько пользователей совершали каждое из этих событий. Отсортируйте события по числу пользователей. Посчитайте долю пользователей, которые хоть раз совершали событие.**"
   ]
  },
  {
   "cell_type": "code",
   "execution_count": 21,
   "metadata": {},
   "outputs": [
    {
     "data": {
      "text/html": [
       "<div>\n",
       "<style scoped>\n",
       "    .dataframe tbody tr th:only-of-type {\n",
       "        vertical-align: middle;\n",
       "    }\n",
       "\n",
       "    .dataframe tbody tr th {\n",
       "        vertical-align: top;\n",
       "    }\n",
       "\n",
       "    .dataframe thead th {\n",
       "        text-align: right;\n",
       "    }\n",
       "</style>\n",
       "<table border=\"1\" class=\"dataframe\">\n",
       "  <thead>\n",
       "    <tr style=\"text-align: right;\">\n",
       "      <th></th>\n",
       "      <th>event</th>\n",
       "      <th>cnt_events</th>\n",
       "      <th>users</th>\n",
       "      <th>users_per_event</th>\n",
       "    </tr>\n",
       "  </thead>\n",
       "  <tbody>\n",
       "    <tr>\n",
       "      <th>0</th>\n",
       "      <td>MainScreenAppear</td>\n",
       "      <td>117328</td>\n",
       "      <td>7419</td>\n",
       "      <td>98.47</td>\n",
       "    </tr>\n",
       "    <tr>\n",
       "      <th>1</th>\n",
       "      <td>OffersScreenAppear</td>\n",
       "      <td>46333</td>\n",
       "      <td>4593</td>\n",
       "      <td>60.96</td>\n",
       "    </tr>\n",
       "    <tr>\n",
       "      <th>2</th>\n",
       "      <td>CartScreenAppear</td>\n",
       "      <td>42303</td>\n",
       "      <td>3734</td>\n",
       "      <td>49.56</td>\n",
       "    </tr>\n",
       "    <tr>\n",
       "      <th>3</th>\n",
       "      <td>PaymentScreenSuccessful</td>\n",
       "      <td>33918</td>\n",
       "      <td>3539</td>\n",
       "      <td>46.97</td>\n",
       "    </tr>\n",
       "    <tr>\n",
       "      <th>4</th>\n",
       "      <td>Tutorial</td>\n",
       "      <td>1005</td>\n",
       "      <td>840</td>\n",
       "      <td>11.15</td>\n",
       "    </tr>\n",
       "  </tbody>\n",
       "</table>\n",
       "</div>"
      ],
      "text/plain": [
       "                     event  cnt_events  users  users_per_event\n",
       "0         MainScreenAppear      117328   7419            98.47\n",
       "1       OffersScreenAppear       46333   4593            60.96\n",
       "2         CartScreenAppear       42303   3734            49.56\n",
       "3  PaymentScreenSuccessful       33918   3539            46.97\n",
       "4                 Tutorial        1005    840            11.15"
      ]
     },
     "execution_count": 21,
     "metadata": {},
     "output_type": "execute_result"
    }
   ],
   "source": [
    "events_users = data.groupby('event').agg({'event':'count', 'user_id':'nunique'}).sort_values(by='user_id', ascending=False)\n",
    "events_users.columns = ['cnt_events', 'users']\n",
    "events_users['users_per_event'] = (events_users['users'] / new_users * 100).round(2) # доля хотя бы раз совершивших событие\n",
    "events_users.reset_index()"
   ]
  },
  {
   "cell_type": "markdown",
   "metadata": {},
   "source": [
    "Доля и число пользователей коррилируется с предыдущим выводом"
   ]
  },
  {
   "cell_type": "markdown",
   "metadata": {},
   "source": [
    "**Предположите, в каком порядке происходят события. Все ли они выстраиваются в последовательную цепочку? Их не нужно учитывать при расчёте воронки.**"
   ]
  },
  {
   "cell_type": "markdown",
   "metadata": {},
   "source": [
    "Предполагаю, что события выстраиваются в последовательную цепочку согласно убыванию количества пользователей. Это логично. Сначала идет главный экран - даоее пользователи видят предложение, добавляют в корзину и оплачивают покупку.\n",
    "\n",
    "Событие Руководство в цепочку не входит, т.к. оно, логично предположить, является вспомогательным ресурсом для пользователей."
   ]
  },
  {
   "cell_type": "markdown",
   "metadata": {},
   "source": [
    "**По воронке событий посчитайте, какая доля пользователей проходит на следующий шаг воронки (от числа пользователей на предыдущем). То есть для последовательности событий A → B → C посчитайте отношение числа пользователей с событием B к количеству пользователей с событием A, а также отношение числа пользователей с событием C к количеству пользователей с событием B.**"
   ]
  },
  {
   "cell_type": "code",
   "execution_count": 22,
   "metadata": {},
   "outputs": [
    {
     "data": {
      "text/html": [
       "<div>\n",
       "<style scoped>\n",
       "    .dataframe tbody tr th:only-of-type {\n",
       "        vertical-align: middle;\n",
       "    }\n",
       "\n",
       "    .dataframe tbody tr th {\n",
       "        vertical-align: top;\n",
       "    }\n",
       "\n",
       "    .dataframe thead th {\n",
       "        text-align: right;\n",
       "    }\n",
       "</style>\n",
       "<table border=\"1\" class=\"dataframe\">\n",
       "  <thead>\n",
       "    <tr style=\"text-align: right;\">\n",
       "      <th></th>\n",
       "      <th>cnt_events</th>\n",
       "      <th>users</th>\n",
       "      <th>users_per_event</th>\n",
       "      <th>conversion</th>\n",
       "    </tr>\n",
       "    <tr>\n",
       "      <th>event</th>\n",
       "      <th></th>\n",
       "      <th></th>\n",
       "      <th></th>\n",
       "      <th></th>\n",
       "    </tr>\n",
       "  </thead>\n",
       "  <tbody>\n",
       "    <tr>\n",
       "      <th>MainScreenAppear</th>\n",
       "      <td>117328</td>\n",
       "      <td>7419</td>\n",
       "      <td>98.47</td>\n",
       "      <td>NaN</td>\n",
       "    </tr>\n",
       "    <tr>\n",
       "      <th>OffersScreenAppear</th>\n",
       "      <td>46333</td>\n",
       "      <td>4593</td>\n",
       "      <td>60.96</td>\n",
       "      <td>0.62</td>\n",
       "    </tr>\n",
       "    <tr>\n",
       "      <th>CartScreenAppear</th>\n",
       "      <td>42303</td>\n",
       "      <td>3734</td>\n",
       "      <td>49.56</td>\n",
       "      <td>0.81</td>\n",
       "    </tr>\n",
       "    <tr>\n",
       "      <th>PaymentScreenSuccessful</th>\n",
       "      <td>33918</td>\n",
       "      <td>3539</td>\n",
       "      <td>46.97</td>\n",
       "      <td>0.95</td>\n",
       "    </tr>\n",
       "    <tr>\n",
       "      <th>Tutorial</th>\n",
       "      <td>1005</td>\n",
       "      <td>840</td>\n",
       "      <td>11.15</td>\n",
       "      <td>0.24</td>\n",
       "    </tr>\n",
       "  </tbody>\n",
       "</table>\n",
       "</div>"
      ],
      "text/plain": [
       "                         cnt_events  users  users_per_event  conversion\n",
       "event                                                                  \n",
       "MainScreenAppear             117328   7419            98.47         NaN\n",
       "OffersScreenAppear            46333   4593            60.96        0.62\n",
       "CartScreenAppear              42303   3734            49.56        0.81\n",
       "PaymentScreenSuccessful       33918   3539            46.97        0.95\n",
       "Tutorial                       1005    840            11.15        0.24"
      ]
     },
     "execution_count": 22,
     "metadata": {},
     "output_type": "execute_result"
    }
   ],
   "source": [
    "events_users['conversion'] = round(events_users['users'] / events_users['users'].shift(1), 2)\n",
    "events_users"
   ]
  },
  {
   "cell_type": "markdown",
   "metadata": {},
   "source": [
    "**На каком шаге теряете больше всего пользователей?**"
   ]
  },
  {
   "cell_type": "markdown",
   "metadata": {},
   "source": [
    "Максимальное количество пользователей (38%) теряем на моменте перехода с главного этапа на второй этап (OffersScreenAppear) с выбором товара. Возможно есть какая-то проблема на первом экране (MainScreenAppear), либо не расскрыто предложение с маркетинговой точки зрения. Однако, необходимо уточнить текущую конверсию сайта у маркетологов, возможно 62% это хороший результат."
   ]
  },
  {
   "cell_type": "markdown",
   "metadata": {},
   "source": [
    "**Какая доля пользователей доходит от первого события до оплаты?**"
   ]
  },
  {
   "cell_type": "markdown",
   "metadata": {},
   "source": [
    "Из таблицы видно, что 46,97% пользователей доходит до страницы \"PaymentScreenSuccessful\" с успешной оплатой. Хороший результат"
   ]
  },
  {
   "cell_type": "markdown",
   "metadata": {},
   "source": [
    "**ВЫВОД:**\n",
    "- Подавляющее польшинство событий - Появление Главного экрана,  далее с Похожим количеством событий идут Появление Экрана Предложений, Появление Экрана Корзины и Экран Платеж Совершен. Страницу Руководство - посещают меньше всего. События здесь незначительны. \n",
    "- Сккорее всего события выстраиваются в последовательную цепочку согласно убыванию количества пользователей. Сначала идет главный экран - даоее пользователи видят предложение, добавляют в корзину и оплачивают покупку. Событие Руководство в цепочку не входит, т.к. оно, логично предположить, является вспомогательным ресурсом для пользователей.\n",
    "- Максимальное количество пользователей (38%) теряем на моменте перехода с главного этапа на второй этап (OffersScreenAppear) с выбором товара. Возможно есть какая-то проблема на первом экране (MainScreenAppear), либо не расскрыто предложение с маркетинговой точки зрения. Однако, необходимо уточнить текущую конверсию сайта у маркетологов, возможно 62% это хороший результат.\n",
    "- 46,97% пользователей доходит до страницы \"PaymentScreenSuccessful\" с успешной оплатой. Хороший результат"
   ]
  },
  {
   "cell_type": "markdown",
   "metadata": {},
   "source": [
    "##  Изучение и проверка данных"
   ]
  },
  {
   "cell_type": "markdown",
   "metadata": {},
   "source": [
    "**Сколько пользователей в каждой экспериментальной группе?**"
   ]
  },
  {
   "cell_type": "code",
   "execution_count": 23,
   "metadata": {},
   "outputs": [
    {
     "data": {
      "text/plain": [
       "group\n",
       "A1    2484\n",
       "A2    2513\n",
       "B     2537\n",
       "Name: user_id, dtype: int64"
      ]
     },
     "execution_count": 23,
     "metadata": {},
     "output_type": "execute_result"
    }
   ],
   "source": [
    "data.groupby('group')['user_id'].nunique()"
   ]
  },
  {
   "cell_type": "markdown",
   "metadata": {},
   "source": [
    "В группах примерно сопоставимое распределение количества пользователей"
   ]
  },
  {
   "cell_type": "markdown",
   "metadata": {},
   "source": [
    "**Есть 2 контрольные группы для А/А-эксперимента, чтобы проверить корректность всех механизмов и расчётов. Проверьте, находят ли статистические критерии разницу между выборками 246 и 247.**"
   ]
  },
  {
   "cell_type": "code",
   "execution_count": 24,
   "metadata": {},
   "outputs": [
    {
     "data": {
      "text/plain": [
       "group\n",
       "A1       2484\n",
       "A2       2513\n",
       "B        2537\n",
       "A1+A2    4997\n",
       "Name: user_id, dtype: int64"
      ]
     },
     "execution_count": 24,
     "metadata": {},
     "output_type": "execute_result"
    }
   ],
   "source": [
    "users_bygroup = data.groupby('group')['user_id'].nunique()\n",
    "users_bygroup['A1+A2'] = users_bygroup['A1'] + users_bygroup['A2']\n",
    "users_bygroup"
   ]
  },
  {
   "cell_type": "code",
   "execution_count": 25,
   "metadata": {},
   "outputs": [
    {
     "data": {
      "text/html": [
       "<div>\n",
       "<style scoped>\n",
       "    .dataframe tbody tr th:only-of-type {\n",
       "        vertical-align: middle;\n",
       "    }\n",
       "\n",
       "    .dataframe tbody tr th {\n",
       "        vertical-align: top;\n",
       "    }\n",
       "\n",
       "    .dataframe thead th {\n",
       "        text-align: right;\n",
       "    }\n",
       "</style>\n",
       "<table border=\"1\" class=\"dataframe\">\n",
       "  <thead>\n",
       "    <tr style=\"text-align: right;\">\n",
       "      <th>group</th>\n",
       "      <th>event</th>\n",
       "      <th>A1</th>\n",
       "      <th>A2</th>\n",
       "      <th>B</th>\n",
       "      <th>A1+A2</th>\n",
       "      <th>all</th>\n",
       "      <th>part_A1</th>\n",
       "      <th>part_A2</th>\n",
       "      <th>part_B</th>\n",
       "      <th>part_A1+A2</th>\n",
       "    </tr>\n",
       "  </thead>\n",
       "  <tbody>\n",
       "    <tr>\n",
       "      <th>0</th>\n",
       "      <td>MainScreenAppear</td>\n",
       "      <td>2450</td>\n",
       "      <td>2476</td>\n",
       "      <td>2493</td>\n",
       "      <td>4926</td>\n",
       "      <td>7419</td>\n",
       "      <td>98.6</td>\n",
       "      <td>98.5</td>\n",
       "      <td>98.3</td>\n",
       "      <td>98.6</td>\n",
       "    </tr>\n",
       "    <tr>\n",
       "      <th>1</th>\n",
       "      <td>OffersScreenAppear</td>\n",
       "      <td>1542</td>\n",
       "      <td>1520</td>\n",
       "      <td>1531</td>\n",
       "      <td>3062</td>\n",
       "      <td>4593</td>\n",
       "      <td>62.1</td>\n",
       "      <td>60.5</td>\n",
       "      <td>60.3</td>\n",
       "      <td>61.3</td>\n",
       "    </tr>\n",
       "    <tr>\n",
       "      <th>2</th>\n",
       "      <td>CartScreenAppear</td>\n",
       "      <td>1266</td>\n",
       "      <td>1238</td>\n",
       "      <td>1230</td>\n",
       "      <td>2504</td>\n",
       "      <td>3734</td>\n",
       "      <td>51.0</td>\n",
       "      <td>49.3</td>\n",
       "      <td>48.5</td>\n",
       "      <td>50.1</td>\n",
       "    </tr>\n",
       "    <tr>\n",
       "      <th>3</th>\n",
       "      <td>PaymentScreenSuccessful</td>\n",
       "      <td>1200</td>\n",
       "      <td>1158</td>\n",
       "      <td>1181</td>\n",
       "      <td>2358</td>\n",
       "      <td>3539</td>\n",
       "      <td>48.3</td>\n",
       "      <td>46.1</td>\n",
       "      <td>46.6</td>\n",
       "      <td>47.2</td>\n",
       "    </tr>\n",
       "  </tbody>\n",
       "</table>\n",
       "</div>"
      ],
      "text/plain": [
       "group                    event    A1    A2     B  A1+A2   all  part_A1  \\\n",
       "0             MainScreenAppear  2450  2476  2493   4926  7419     98.6   \n",
       "1           OffersScreenAppear  1542  1520  1531   3062  4593     62.1   \n",
       "2             CartScreenAppear  1266  1238  1230   2504  3734     51.0   \n",
       "3      PaymentScreenSuccessful  1200  1158  1181   2358  3539     48.3   \n",
       "\n",
       "group  part_A2  part_B  part_A1+A2  \n",
       "0         98.5    98.3        98.6  \n",
       "1         60.5    60.3        61.3  \n",
       "2         49.3    48.5        50.1  \n",
       "3         46.1    46.6        47.2  "
      ]
     },
     "execution_count": 25,
     "metadata": {},
     "output_type": "execute_result"
    }
   ],
   "source": [
    "event_group_test = data[data['event']!='Tutorial'].pivot_table(\n",
    "    index='event', \n",
    "    columns='group', \n",
    "    values='user_id',\n",
    "    aggfunc='nunique').sort_values(by='A1', ascending=False)\n",
    "\n",
    "event_group_test = event_group_test.reset_index()\n",
    "event_group_test['A1+A2'] = event_group_test['A1'] + event_group_test['A2']\n",
    "event_group_test['all'] = event_group_test['A1+A2'] + event_group_test['B']\n",
    "\n",
    "event_group_test['part_A1'] = (event_group_test['A1'] / users_bygroup['A1'] * 100).round(1)\n",
    "event_group_test['part_A2'] = (event_group_test['A2'] / users_bygroup['A2'] * 100).round(1)\n",
    "event_group_test['part_B'] = (event_group_test['B'] / users_bygroup['B'] * 100).round(1)\n",
    "event_group_test['part_A1+A2'] = ((event_group_test['A1'] + event_group_test['A2']) / \\\n",
    "                                  (users_bygroup['A1'] + users_bygroup['A2']) * 100).round(1)\n",
    "# event_group_test['part_all'] = (event_group_test['all'] / users_bygroup.sum() * 100).round(1)\n",
    "event_group_test"
   ]
  },
  {
   "cell_type": "markdown",
   "metadata": {},
   "source": [
    "Критерии успешного A/A-теста:\n",
    "\n",
    "- Количество пользователей в различных группах различается не более, чем на 1%;\n",
    "- Для всех групп фиксируют и отправляют в системы аналитики данные об одном и том же;\n",
    "- Различие ключевых метрик по группам не превышает 1% и не имеет статистической значимости;\n",
    "- Попавший в одну из групп посетитель остаётся в этой группе до конца теста. Если пользователь видит разные версии исследуемой страницы в ходе одного исследования, неизвестно, какая именно повлияла на его решения. Значит, и результаты такого теста нельзя интерпретировать однозначно.\n",
    "\n",
    "Степень различия ключевых метрик по группам зависит от необходимой чувствительности эксперимента. Скажем, если вы хотите определить результаты теста, в котором ожидаете не менее 30% прироста, то 10% погрешности измерений вас устроят. Однако такое бывает редко: изменение показателей на 30% обычно заметно и без A/B-теста. Его применяют там, где степень различия между группами не больше 10%, или же подвержены колебаниям. В таких случаях точность A/A-теста в 1% — распространённый критерий."
   ]
  },
  {
   "cell_type": "markdown",
   "metadata": {},
   "source": [
    "**Есть 2 контрольные группы для А/А-эксперимента, чтобы проверить корректность всех механизмов и расчётов. Проверьте, находят ли статистические критерии разницу между выборками 246 и 247.**"
   ]
  },
  {
   "cell_type": "code",
   "execution_count": 26,
   "metadata": {},
   "outputs": [
    {
     "name": "stdout",
     "output_type": "stream",
     "text": [
      "MainScreenAppear p-значение: 0.7570597232046099\n",
      "Не получилось отвергнуть нулевую гипотезу, нет оснований считать доли разными\n",
      "\n",
      "OffersScreenAppear p-значение: 0.2480954578522181\n",
      "Не получилось отвергнуть нулевую гипотезу, нет оснований считать доли разными\n",
      "\n",
      "CartScreenAppear p-значение: 0.22883372237997213\n",
      "Не получилось отвергнуть нулевую гипотезу, нет оснований считать доли разными\n",
      "\n",
      "PaymentScreenSuccessful p-значение: 0.11456679313141849\n",
      "Не получилось отвергнуть нулевую гипотезу, нет оснований считать доли разными\n",
      "\n"
     ]
    }
   ],
   "source": [
    "def z_test(group1, group2, alpha):\n",
    "    for i in event_group_test.index:\n",
    "        p1 = event_group_test[group1][i] / users_bygroup[group1]\n",
    "        # пропорция успехов во второй группе:\n",
    "        p2 = event_group_test[group2][i] / users_bygroup[group2]\n",
    "        # пропорция успехов в комбинированном датасете:\n",
    "        p_combined = ((event_group_test[group1][i] + event_group_test[group2][i]) / \n",
    "                      (users_bygroup[group1] + users_bygroup[group2]))\n",
    "        # разница пропорций в датасетах\n",
    "        difference = p1 - p2\n",
    "        # считаем статистику в ст.отклонениях стандартного нормального распределения\n",
    "        z_value = difference / mth.sqrt(p_combined * (1 - p_combined) * \n",
    "                                        (1/users_bygroup[group1] + 1/users_bygroup[group2]))\n",
    "        # задаем стандартное нормальное распределение (среднее 0, ст.отклонение 1)\n",
    "        distr = stats.norm(0, 1) \n",
    "        p_value = (1 - distr.cdf(abs(z_value))) * 2\n",
    "        print('{} p-значение: {}'.format(event_group_test['event'][i], p_value))\n",
    "        if (p_value < alpha):\n",
    "            print(\"Отвергаем нулевую гипотезу: между долями есть значимая разница\")\n",
    "        else:\n",
    "            print(\"Не получилось отвергнуть нулевую гипотезу, нет оснований считать доли разными\")\n",
    "        print('')\n",
    "        \n",
    "z_test(\"A1\", \"A2\", 0.01)"
   ]
  },
  {
   "cell_type": "markdown",
   "metadata": {},
   "source": [
    "\n",
    "Для проведения A/A тестирования был взят уровень статистической значимости равный 1%. Различий между выборками А/А-теста не выявлено, поэтому эти группы считаем контрольными."
   ]
  },
  {
   "cell_type": "markdown",
   "metadata": {},
   "source": [
    "**Выберите самое популярное событие. Посчитайте число пользователей, совершивших это событие в каждой из контрольных групп. Посчитайте долю пользователей, совершивших это событие. Проверьте, будет ли отличие между группами статистически достоверным. Проделайте то же самое для всех других событий (удобно обернуть проверку в отдельную функцию). Можно ли сказать, что разбиение на группы работает корректно?**"
   ]
  },
  {
   "cell_type": "markdown",
   "metadata": {},
   "source": [
    "Ответы беру из таблицы выше.\n",
    "- Самое популярное событие - это \"MainScreenAppear\"\n",
    "\n",
    "- Число пользователей совершивших самое популярное событие \"MainScreenAppear\" - 7423, в разрезе групп:\n",
    "\n",
    "A1 - 2450\n",
    "A2 - 2476\n",
    "B - 2493\n",
    "- Доли пользователей совершивших самое популярное событие \"MainScreenAppear\" - 98% по всем группам.\n",
    "\n",
    "A1 - 98,6%\n",
    "A2 - 98,5%\n",
    "B - 98,3%\n",
    "\n",
    "Отличия незначительны. разбивка на группы работает корректно."
   ]
  },
  {
   "cell_type": "markdown",
   "metadata": {},
   "source": [
    "**Аналогично поступите с группой с изменённым шрифтом. Сравните результаты с каждой из контрольных групп в отдельности по каждому событию. Сравните результаты с объединённой контрольной группой. Какие выводы из эксперимента можно сделать?**"
   ]
  },
  {
   "cell_type": "markdown",
   "metadata": {},
   "source": [
    "Для дальнейших экспериментов выберем самый стандартный уровень значимости равный 5%. "
   ]
  },
  {
   "cell_type": "code",
   "execution_count": 27,
   "metadata": {},
   "outputs": [
    {
     "name": "stdout",
     "output_type": "stream",
     "text": [
      "MainScreenAppear p-значение: 0.2949721933554552\n",
      "Не получилось отвергнуть нулевую гипотезу, нет оснований считать доли разными\n",
      "\n",
      "OffersScreenAppear p-значение: 0.20836205402738917\n",
      "Не получилось отвергнуть нулевую гипотезу, нет оснований считать доли разными\n",
      "\n",
      "CartScreenAppear p-значение: 0.07842923237520116\n",
      "Не получилось отвергнуть нулевую гипотезу, нет оснований считать доли разными\n",
      "\n",
      "PaymentScreenSuccessful p-значение: 0.2122553275697796\n",
      "Не получилось отвергнуть нулевую гипотезу, нет оснований считать доли разными\n",
      "\n"
     ]
    }
   ],
   "source": [
    "z_test(\"A1\", \"B\", 0.05)"
   ]
  },
  {
   "cell_type": "code",
   "execution_count": 28,
   "metadata": {},
   "outputs": [
    {
     "name": "stdout",
     "output_type": "stream",
     "text": [
      "MainScreenAppear p-значение: 0.4587053616621515\n",
      "Не получилось отвергнуть нулевую гипотезу, нет оснований считать доли разными\n",
      "\n",
      "OffersScreenAppear p-значение: 0.9197817830592261\n",
      "Не получилось отвергнуть нулевую гипотезу, нет оснований считать доли разными\n",
      "\n",
      "CartScreenAppear p-значение: 0.5786197879539783\n",
      "Не получилось отвергнуть нулевую гипотезу, нет оснований считать доли разными\n",
      "\n",
      "PaymentScreenSuccessful p-значение: 0.7373415053803964\n",
      "Не получилось отвергнуть нулевую гипотезу, нет оснований считать доли разными\n",
      "\n"
     ]
    }
   ],
   "source": [
    "z_test(\"A2\", \"B\", 0.05)"
   ]
  },
  {
   "cell_type": "code",
   "execution_count": 29,
   "metadata": {},
   "outputs": [
    {
     "name": "stdout",
     "output_type": "stream",
     "text": [
      "MainScreenAppear p-значение: 0.29424526837179577\n",
      "Не получилось отвергнуть нулевую гипотезу, нет оснований считать доли разными\n",
      "\n",
      "OffersScreenAppear p-значение: 0.43425549655188256\n",
      "Не получилось отвергнуть нулевую гипотезу, нет оснований считать доли разными\n",
      "\n",
      "CartScreenAppear p-значение: 0.18175875284404386\n",
      "Не получилось отвергнуть нулевую гипотезу, нет оснований считать доли разными\n",
      "\n",
      "PaymentScreenSuccessful p-значение: 0.6004294282308704\n",
      "Не получилось отвергнуть нулевую гипотезу, нет оснований считать доли разными\n",
      "\n"
     ]
    }
   ],
   "source": [
    "z_test(\"A1+A2\", \"B\", 0.05)"
   ]
  },
  {
   "cell_type": "markdown",
   "metadata": {},
   "source": [
    "**Значимой разницы между группами во всех тестах не выявлено**"
   ]
  },
  {
   "cell_type": "markdown",
   "metadata": {},
   "source": [
    "**Какой уровень значимости вы выбрали при проверке статистических гипотез выше? Посчитайте, сколько проверок статистических гипотез вы сделали. При уровне значимости 0.1 каждый десятый раз можно получать ложный результат. Какой уровень значимости стоит применить? Если вы хотите изменить его, проделайте предыдущие пункты и проверьте свои выводы.**"
   ]
  },
  {
   "cell_type": "markdown",
   "metadata": {},
   "source": [
    "- В ходе проверки гипотез был выбран уровень значимости для A/А теста - 1%, для остальных - 5%.\n",
    "- Всего в ходе тестирования были проведены 16 проверок гипотез по 4 для каждой группы\n",
    "- При уровне значимости 0.1 только одна из 12 проверок покажет значимую разницу, между контрольной группой A1 и экспериментальной. что будет плохо для эксперимента, поэтому оставим изначально выбранный нами уровень значимости 0.05."
   ]
  },
  {
   "cell_type": "markdown",
   "metadata": {},
   "source": [
    "При сравнении двух групп вероятность ошибочно отвергнуть нулевую гипотезу 0.05, все здесь окей. Однако, при добавлении еще одной группы из той же совокупности -  точно такая же ошибка возможна в случае сравнения новой группы с двумя другими. Следовательно, вероятность ошибиться для трех групп уже не 0.05, а больше."
   ]
  },
  {
   "cell_type": "markdown",
   "metadata": {},
   "source": [
    "## Вывод"
   ]
  },
  {
   "cell_type": "markdown",
   "metadata": {},
   "source": [
    "**1. В результате предобработки данных сделано:**\n",
    "\n",
    "- названия столбцов преведены к нижнему змеиному регистру\n",
    "- изменили тип столбца с датой и временем, добавлен столбец с датой\n",
    "- изменены типы данных со временем\n",
    "- для А/А/В тестирования заменены значения в столбце group\n",
    "- удалено 413 дубликатов\n",
    "- проверено, что каждый пользователь присутствует только в одной из групп\n",
    "\n",
    "**2. При изучении событий было выявлено:**\n",
    "\n",
    "- Всего событий в логе - 243713. Уникальных - 5 шт.\n",
    "- Всего пользователей в логе - 7551\n",
    "- Медианное количество событий на пользователя 20 шт.\n",
    "- Фактически мы располагаем полными дынными с 1 августа 2019 по 7 августа 2019. Данные в последней недели июля содержат очень мало событий.\n",
    "- В каждой группе примерно одинаковое количество пользователей - около 2500 шт.\n",
    "\n",
    "**3. При изучении воронки выявили:**\n",
    "\n",
    "- Подавляющее польшинство событий - Появление Главного экрана,  далее с Похожим количеством событий идут Появление Экрана Предложений, Появление Экрана Корзины и Экран Платеж Совершен. Страницу Руководство - посещают меньше всего. События здесь незначительны. \n",
    "- Сккорее всего события выстраиваются в последовательную цепочку согласно убыванию количества пользователей. Сначала идет главный экран - даоее пользователи видят предложение, добавляют в корзину и оплачивают покупку. Событие Руководство в цепочку не входит, т.к. оно, логично предположить, является вспомогательным ресурсом для пользователей.\n",
    "- Максимальное количество пользователей (38%) теряем на моменте перехода с главного этапа на второй этап (OffersScreenAppear) с выбором товара. Возможно есть какая-то проблема на первом экране (MainScreenAppear), либо не расскрыто предложение с маркетинговой точки зрения. Однако, необходимо уточнить текущую конверсию сайта у маркетологов, возможно 62% это хороший результат.\n",
    "- 46,97% пользователей доходит до страницы \"PaymentScreenSuccessful\" с успешной оплатой. Хороший результат\n",
    "\n",
    "**4. Результаты эксперимента:**\n",
    "\n",
    "- В результате всех и каждого A/A/B эксперемента значимой разницы между группами не выявлено. Поэтому можно утверждать, что на поведение пользователей изменение шрифта не оказало. Тестирование можно назвать успешным - изменение шрифта не повлияло на поведение пользователей."
   ]
  }
 ],
 "metadata": {
  "ExecuteTimeLog": [
   {
    "duration": 1359,
    "start_time": "2023-04-13T08:39:20.860Z"
   },
   {
    "duration": 795,
    "start_time": "2023-04-13T08:40:53.573Z"
   },
   {
    "duration": 28,
    "start_time": "2023-04-13T08:41:11.226Z"
   },
   {
    "duration": 291,
    "start_time": "2023-04-13T08:41:39.549Z"
   },
   {
    "duration": 21,
    "start_time": "2023-04-13T08:41:40.957Z"
   },
   {
    "duration": 70,
    "start_time": "2023-04-13T08:41:48.284Z"
   },
   {
    "duration": 143,
    "start_time": "2023-04-13T08:42:02.230Z"
   },
   {
    "duration": 25,
    "start_time": "2023-04-13T08:42:04.285Z"
   },
   {
    "duration": 3,
    "start_time": "2023-04-13T08:59:56.028Z"
   },
   {
    "duration": 8,
    "start_time": "2023-04-13T09:02:08.542Z"
   },
   {
    "duration": 18,
    "start_time": "2023-04-13T11:27:03.496Z"
   },
   {
    "duration": 25,
    "start_time": "2023-04-13T11:27:44.962Z"
   },
   {
    "duration": 23,
    "start_time": "2023-04-13T11:27:53.946Z"
   },
   {
    "duration": 129,
    "start_time": "2023-04-13T14:03:34.940Z"
   },
   {
    "duration": 51,
    "start_time": "2023-04-13T14:03:47.662Z"
   },
   {
    "duration": 1140,
    "start_time": "2023-04-13T14:05:58.622Z"
   },
   {
    "duration": 152,
    "start_time": "2023-04-13T14:05:59.765Z"
   },
   {
    "duration": 32,
    "start_time": "2023-04-13T14:05:59.919Z"
   },
   {
    "duration": 10,
    "start_time": "2023-04-13T14:05:59.953Z"
   },
   {
    "duration": 69,
    "start_time": "2023-04-13T14:05:59.965Z"
   },
   {
    "duration": 65,
    "start_time": "2023-04-13T14:06:00.036Z"
   },
   {
    "duration": 98,
    "start_time": "2023-04-13T14:06:35.420Z"
   },
   {
    "duration": 20,
    "start_time": "2023-04-13T14:06:40.747Z"
   },
   {
    "duration": 76,
    "start_time": "2023-04-13T14:07:01.226Z"
   },
   {
    "duration": 22,
    "start_time": "2023-04-13T14:08:08.243Z"
   },
   {
    "duration": 22,
    "start_time": "2023-04-13T14:08:19.740Z"
   },
   {
    "duration": 33,
    "start_time": "2023-04-13T14:08:25.420Z"
   },
   {
    "duration": 21,
    "start_time": "2023-04-13T14:08:38.139Z"
   },
   {
    "duration": 21,
    "start_time": "2023-04-13T14:09:16.492Z"
   },
   {
    "duration": 22,
    "start_time": "2023-04-13T14:10:40.267Z"
   },
   {
    "duration": 20,
    "start_time": "2023-04-13T14:10:46.667Z"
   },
   {
    "duration": 145,
    "start_time": "2023-04-13T14:10:56.899Z"
   },
   {
    "duration": 55,
    "start_time": "2023-04-13T14:11:39.220Z"
   },
   {
    "duration": 1158,
    "start_time": "2023-04-13T14:11:47.909Z"
   },
   {
    "duration": 149,
    "start_time": "2023-04-13T14:11:49.070Z"
   },
   {
    "duration": 32,
    "start_time": "2023-04-13T14:11:49.221Z"
   },
   {
    "duration": 10,
    "start_time": "2023-04-13T14:11:49.255Z"
   },
   {
    "duration": 209,
    "start_time": "2023-04-13T14:11:49.267Z"
   },
   {
    "duration": 53,
    "start_time": "2023-04-13T14:11:49.477Z"
   },
   {
    "duration": 21,
    "start_time": "2023-04-13T14:11:49.532Z"
   },
   {
    "duration": 92,
    "start_time": "2023-04-13T14:13:13.738Z"
   },
   {
    "duration": 85,
    "start_time": "2023-04-13T14:13:23.013Z"
   },
   {
    "duration": 126,
    "start_time": "2023-04-13T14:13:50.243Z"
   },
   {
    "duration": 34,
    "start_time": "2023-04-13T14:14:07.595Z"
   },
   {
    "duration": 99,
    "start_time": "2023-04-13T14:16:20.547Z"
   },
   {
    "duration": 161,
    "start_time": "2023-04-13T14:16:27.163Z"
   },
   {
    "duration": 179,
    "start_time": "2023-04-13T14:17:10.090Z"
   },
   {
    "duration": 222,
    "start_time": "2023-04-13T14:17:25.762Z"
   },
   {
    "duration": 54,
    "start_time": "2023-04-13T14:20:33.842Z"
   },
   {
    "duration": 24,
    "start_time": "2023-04-13T14:30:20.075Z"
   },
   {
    "duration": 27,
    "start_time": "2023-04-13T14:30:46.210Z"
   },
   {
    "duration": 30,
    "start_time": "2023-04-13T14:30:53.170Z"
   },
   {
    "duration": 28,
    "start_time": "2023-04-13T14:30:59.218Z"
   },
   {
    "duration": 76,
    "start_time": "2023-04-13T14:32:05.676Z"
   },
   {
    "duration": 9,
    "start_time": "2023-04-13T14:32:28.986Z"
   },
   {
    "duration": 1338,
    "start_time": "2023-04-13T14:32:40.932Z"
   },
   {
    "duration": 8,
    "start_time": "2023-04-13T14:32:48.570Z"
   },
   {
    "duration": 4,
    "start_time": "2023-04-13T14:33:32.250Z"
   },
   {
    "duration": 8,
    "start_time": "2023-04-13T14:34:15.290Z"
   },
   {
    "duration": 1389,
    "start_time": "2023-04-13T14:34:25.714Z"
   },
   {
    "duration": 11,
    "start_time": "2023-04-13T14:34:31.634Z"
   },
   {
    "duration": 82,
    "start_time": "2023-04-13T14:35:01.594Z"
   },
   {
    "duration": 27,
    "start_time": "2023-04-13T14:37:10.044Z"
   },
   {
    "duration": 7,
    "start_time": "2023-04-13T14:37:50.740Z"
   },
   {
    "duration": 3,
    "start_time": "2023-04-13T14:38:29.796Z"
   },
   {
    "duration": 4,
    "start_time": "2023-04-13T14:38:46.234Z"
   },
   {
    "duration": 1237,
    "start_time": "2023-04-17T06:41:52.286Z"
   },
   {
    "duration": 284,
    "start_time": "2023-04-17T06:41:53.525Z"
   },
   {
    "duration": 33,
    "start_time": "2023-04-17T06:41:53.811Z"
   },
   {
    "duration": 10,
    "start_time": "2023-04-17T06:41:53.846Z"
   },
   {
    "duration": 222,
    "start_time": "2023-04-17T06:41:53.859Z"
   },
   {
    "duration": 83,
    "start_time": "2023-04-17T06:41:54.084Z"
   },
   {
    "duration": 37,
    "start_time": "2023-04-17T06:41:54.169Z"
   },
   {
    "duration": 103,
    "start_time": "2023-04-17T06:41:54.208Z"
   },
   {
    "duration": 223,
    "start_time": "2023-04-17T06:41:54.312Z"
   },
   {
    "duration": 96,
    "start_time": "2023-04-17T06:41:54.538Z"
   },
   {
    "duration": 56,
    "start_time": "2023-04-17T06:41:54.636Z"
   },
   {
    "duration": 10,
    "start_time": "2023-04-17T06:41:54.694Z"
   },
   {
    "duration": 5,
    "start_time": "2023-04-17T06:41:54.706Z"
   },
   {
    "duration": 102,
    "start_time": "2023-04-17T06:45:01.762Z"
   },
   {
    "duration": 9,
    "start_time": "2023-04-17T06:45:06.568Z"
   },
   {
    "duration": 22,
    "start_time": "2023-04-17T06:45:21.385Z"
   },
   {
    "duration": 21,
    "start_time": "2023-04-17T06:53:09.963Z"
   },
   {
    "duration": 14,
    "start_time": "2023-04-17T06:55:37.948Z"
   },
   {
    "duration": 1238,
    "start_time": "2023-04-17T06:56:22.920Z"
   },
   {
    "duration": 1232,
    "start_time": "2023-04-17T06:57:06.225Z"
   },
   {
    "duration": 8,
    "start_time": "2023-04-17T06:57:12.657Z"
   },
   {
    "duration": 218,
    "start_time": "2023-04-17T07:01:40.977Z"
   },
   {
    "duration": 1267,
    "start_time": "2023-04-17T07:03:27.034Z"
   },
   {
    "duration": 162,
    "start_time": "2023-04-17T07:03:28.304Z"
   },
   {
    "duration": 40,
    "start_time": "2023-04-17T07:03:28.467Z"
   },
   {
    "duration": 9,
    "start_time": "2023-04-17T07:03:28.509Z"
   },
   {
    "duration": 196,
    "start_time": "2023-04-17T07:03:28.519Z"
   },
   {
    "duration": 48,
    "start_time": "2023-04-17T07:03:28.717Z"
   },
   {
    "duration": 42,
    "start_time": "2023-04-17T07:03:28.766Z"
   },
   {
    "duration": 96,
    "start_time": "2023-04-17T07:03:28.810Z"
   },
   {
    "duration": 226,
    "start_time": "2023-04-17T07:03:28.908Z"
   },
   {
    "duration": 73,
    "start_time": "2023-04-17T07:03:29.136Z"
   },
   {
    "duration": 29,
    "start_time": "2023-04-17T07:03:29.211Z"
   },
   {
    "duration": 8,
    "start_time": "2023-04-17T07:03:29.242Z"
   },
   {
    "duration": 3,
    "start_time": "2023-04-17T07:03:29.252Z"
   },
   {
    "duration": 54,
    "start_time": "2023-04-17T07:03:29.257Z"
   },
   {
    "duration": 7,
    "start_time": "2023-04-17T07:03:29.313Z"
   },
   {
    "duration": 9,
    "start_time": "2023-04-17T07:07:12.248Z"
   },
   {
    "duration": 265,
    "start_time": "2023-04-17T07:11:37.806Z"
   },
   {
    "duration": 424,
    "start_time": "2023-04-17T07:11:53.720Z"
   },
   {
    "duration": 344,
    "start_time": "2023-04-17T07:12:45.968Z"
   },
   {
    "duration": 352,
    "start_time": "2023-04-17T07:12:54.902Z"
   },
   {
    "duration": 33,
    "start_time": "2023-04-17T07:20:36.369Z"
   },
   {
    "duration": 60,
    "start_time": "2023-04-17T07:20:40.915Z"
   },
   {
    "duration": 20,
    "start_time": "2023-04-17T07:25:43.864Z"
   },
   {
    "duration": 35,
    "start_time": "2023-04-17T07:29:57.376Z"
   },
   {
    "duration": 17,
    "start_time": "2023-04-17T07:33:23.647Z"
   },
   {
    "duration": 30,
    "start_time": "2023-04-17T07:36:58.581Z"
   },
   {
    "duration": 20,
    "start_time": "2023-04-17T07:38:00.612Z"
   },
   {
    "duration": 10,
    "start_time": "2023-04-17T07:40:38.079Z"
   },
   {
    "duration": 22,
    "start_time": "2023-04-17T07:41:16.327Z"
   },
   {
    "duration": 12,
    "start_time": "2023-04-17T07:41:34.521Z"
   },
   {
    "duration": 59,
    "start_time": "2023-04-17T07:41:46.151Z"
   },
   {
    "duration": 21,
    "start_time": "2023-04-17T07:48:24.703Z"
   },
   {
    "duration": 21,
    "start_time": "2023-04-17T08:01:30.359Z"
   },
   {
    "duration": 78,
    "start_time": "2023-04-17T08:01:44.852Z"
   },
   {
    "duration": 82,
    "start_time": "2023-04-17T08:02:33.522Z"
   },
   {
    "duration": 81,
    "start_time": "2023-04-17T08:03:00.889Z"
   },
   {
    "duration": 72,
    "start_time": "2023-04-17T08:03:26.615Z"
   },
   {
    "duration": 1459,
    "start_time": "2023-04-17T08:12:40.235Z"
   },
   {
    "duration": 1250,
    "start_time": "2023-04-17T08:13:47.015Z"
   },
   {
    "duration": 11,
    "start_time": "2023-04-17T08:22:50.590Z"
   },
   {
    "duration": 14,
    "start_time": "2023-04-17T08:23:01.238Z"
   },
   {
    "duration": 11,
    "start_time": "2023-04-17T08:23:30.435Z"
   },
   {
    "duration": 74,
    "start_time": "2023-04-17T08:38:20.286Z"
   },
   {
    "duration": 1264,
    "start_time": "2023-04-17T08:39:17.526Z"
   },
   {
    "duration": 9,
    "start_time": "2023-04-17T08:39:24.758Z"
   },
   {
    "duration": 78,
    "start_time": "2023-04-17T08:40:56.293Z"
   },
   {
    "duration": 25,
    "start_time": "2023-04-17T08:41:03.253Z"
   },
   {
    "duration": 22,
    "start_time": "2023-04-17T08:42:23.117Z"
   },
   {
    "duration": 66,
    "start_time": "2023-04-17T08:42:46.334Z"
   },
   {
    "duration": 70,
    "start_time": "2023-04-17T08:43:05.599Z"
   },
   {
    "duration": 12,
    "start_time": "2023-04-17T08:50:14.983Z"
   },
   {
    "duration": 75,
    "start_time": "2023-04-17T08:50:22.518Z"
   },
   {
    "duration": 17,
    "start_time": "2023-04-17T08:50:43.750Z"
   },
   {
    "duration": 153,
    "start_time": "2023-04-17T08:51:20.854Z"
   },
   {
    "duration": 136,
    "start_time": "2023-04-17T08:51:31.854Z"
   },
   {
    "duration": 52,
    "start_time": "2023-04-17T08:53:52.732Z"
   },
   {
    "duration": 1203,
    "start_time": "2023-04-17T08:54:06.268Z"
   },
   {
    "duration": 180,
    "start_time": "2023-04-17T08:54:07.473Z"
   },
   {
    "duration": 47,
    "start_time": "2023-04-17T08:54:07.655Z"
   },
   {
    "duration": 8,
    "start_time": "2023-04-17T08:54:07.705Z"
   },
   {
    "duration": 188,
    "start_time": "2023-04-17T08:54:07.714Z"
   },
   {
    "duration": 90,
    "start_time": "2023-04-17T08:54:07.904Z"
   },
   {
    "duration": 22,
    "start_time": "2023-04-17T08:54:07.996Z"
   },
   {
    "duration": 104,
    "start_time": "2023-04-17T08:54:08.021Z"
   },
   {
    "duration": 220,
    "start_time": "2023-04-17T08:54:08.128Z"
   },
   {
    "duration": 68,
    "start_time": "2023-04-17T08:54:08.353Z"
   },
   {
    "duration": 29,
    "start_time": "2023-04-17T08:54:08.424Z"
   },
   {
    "duration": 8,
    "start_time": "2023-04-17T08:54:08.455Z"
   },
   {
    "duration": 32,
    "start_time": "2023-04-17T08:54:08.465Z"
   },
   {
    "duration": 49,
    "start_time": "2023-04-17T08:54:08.500Z"
   },
   {
    "duration": 9,
    "start_time": "2023-04-17T08:54:08.551Z"
   },
   {
    "duration": 465,
    "start_time": "2023-04-17T08:54:08.562Z"
   },
   {
    "duration": 66,
    "start_time": "2023-04-17T08:54:09.029Z"
   },
   {
    "duration": 18,
    "start_time": "2023-04-17T08:54:09.097Z"
   },
   {
    "duration": 72,
    "start_time": "2023-04-17T08:54:09.117Z"
   },
   {
    "duration": 23,
    "start_time": "2023-04-17T08:54:09.191Z"
   },
   {
    "duration": 109,
    "start_time": "2023-04-17T08:54:09.217Z"
   },
   {
    "duration": 12,
    "start_time": "2023-04-17T08:54:09.328Z"
   },
   {
    "duration": 56,
    "start_time": "2023-04-17T08:54:09.342Z"
   },
   {
    "duration": 49,
    "start_time": "2023-04-17T08:54:09.400Z"
   },
   {
    "duration": 177,
    "start_time": "2023-04-17T08:54:09.451Z"
   },
   {
    "duration": 113,
    "start_time": "2023-04-17T08:59:14.726Z"
   },
   {
    "duration": 1205,
    "start_time": "2023-04-17T09:00:01.876Z"
   },
   {
    "duration": 121,
    "start_time": "2023-04-17T09:00:03.083Z"
   },
   {
    "duration": 0,
    "start_time": "2023-04-17T09:00:03.206Z"
   },
   {
    "duration": 0,
    "start_time": "2023-04-17T09:00:03.208Z"
   },
   {
    "duration": 0,
    "start_time": "2023-04-17T09:00:03.209Z"
   },
   {
    "duration": 0,
    "start_time": "2023-04-17T09:00:03.211Z"
   },
   {
    "duration": 0,
    "start_time": "2023-04-17T09:00:03.213Z"
   },
   {
    "duration": 0,
    "start_time": "2023-04-17T09:00:03.214Z"
   },
   {
    "duration": 0,
    "start_time": "2023-04-17T09:00:03.215Z"
   },
   {
    "duration": 0,
    "start_time": "2023-04-17T09:00:03.216Z"
   },
   {
    "duration": 0,
    "start_time": "2023-04-17T09:00:03.217Z"
   },
   {
    "duration": 1,
    "start_time": "2023-04-17T09:00:03.218Z"
   },
   {
    "duration": 0,
    "start_time": "2023-04-17T09:00:03.220Z"
   },
   {
    "duration": 0,
    "start_time": "2023-04-17T09:00:03.221Z"
   },
   {
    "duration": 0,
    "start_time": "2023-04-17T09:00:03.222Z"
   },
   {
    "duration": 0,
    "start_time": "2023-04-17T09:00:03.223Z"
   },
   {
    "duration": 0,
    "start_time": "2023-04-17T09:00:03.225Z"
   },
   {
    "duration": 0,
    "start_time": "2023-04-17T09:00:03.226Z"
   },
   {
    "duration": 0,
    "start_time": "2023-04-17T09:00:03.227Z"
   },
   {
    "duration": 0,
    "start_time": "2023-04-17T09:00:03.228Z"
   },
   {
    "duration": 0,
    "start_time": "2023-04-17T09:00:03.229Z"
   },
   {
    "duration": 0,
    "start_time": "2023-04-17T09:00:03.230Z"
   },
   {
    "duration": 0,
    "start_time": "2023-04-17T09:00:03.232Z"
   },
   {
    "duration": 0,
    "start_time": "2023-04-17T09:00:03.233Z"
   },
   {
    "duration": 0,
    "start_time": "2023-04-17T09:00:03.234Z"
   },
   {
    "duration": 0,
    "start_time": "2023-04-17T09:00:03.235Z"
   },
   {
    "duration": 1220,
    "start_time": "2023-04-17T09:03:01.040Z"
   },
   {
    "duration": 185,
    "start_time": "2023-04-17T09:03:02.262Z"
   },
   {
    "duration": 34,
    "start_time": "2023-04-17T09:03:02.449Z"
   },
   {
    "duration": 9,
    "start_time": "2023-04-17T09:03:02.491Z"
   },
   {
    "duration": 187,
    "start_time": "2023-04-17T09:03:02.503Z"
   },
   {
    "duration": 50,
    "start_time": "2023-04-17T09:03:02.692Z"
   },
   {
    "duration": 22,
    "start_time": "2023-04-17T09:03:02.744Z"
   },
   {
    "duration": 122,
    "start_time": "2023-04-17T09:03:02.768Z"
   },
   {
    "duration": 246,
    "start_time": "2023-04-17T09:03:02.892Z"
   },
   {
    "duration": 68,
    "start_time": "2023-04-17T09:03:03.140Z"
   },
   {
    "duration": 28,
    "start_time": "2023-04-17T09:03:03.210Z"
   },
   {
    "duration": 8,
    "start_time": "2023-04-17T09:03:03.240Z"
   },
   {
    "duration": 12,
    "start_time": "2023-04-17T09:03:03.249Z"
   },
   {
    "duration": 48,
    "start_time": "2023-04-17T09:03:03.263Z"
   },
   {
    "duration": 9,
    "start_time": "2023-04-17T09:03:03.314Z"
   },
   {
    "duration": 488,
    "start_time": "2023-04-17T09:03:03.325Z"
   },
   {
    "duration": 58,
    "start_time": "2023-04-17T09:03:03.815Z"
   },
   {
    "duration": 36,
    "start_time": "2023-04-17T09:03:03.875Z"
   },
   {
    "duration": 49,
    "start_time": "2023-04-17T09:03:03.913Z"
   },
   {
    "duration": 42,
    "start_time": "2023-04-17T09:03:03.964Z"
   },
   {
    "duration": 85,
    "start_time": "2023-04-17T09:03:04.008Z"
   },
   {
    "duration": 13,
    "start_time": "2023-04-17T09:03:04.095Z"
   },
   {
    "duration": 49,
    "start_time": "2023-04-17T09:03:04.110Z"
   },
   {
    "duration": 69,
    "start_time": "2023-04-17T09:03:04.161Z"
   },
   {
    "duration": 153,
    "start_time": "2023-04-17T09:03:04.231Z"
   },
   {
    "duration": 116,
    "start_time": "2023-04-17T09:03:04.386Z"
   },
   {
    "duration": 13,
    "start_time": "2023-04-17T09:03:47.151Z"
   },
   {
    "duration": 12,
    "start_time": "2023-04-17T09:05:06.453Z"
   },
   {
    "duration": 13,
    "start_time": "2023-04-17T09:05:17.533Z"
   },
   {
    "duration": 12,
    "start_time": "2023-04-17T09:05:27.741Z"
   },
   {
    "duration": 75,
    "start_time": "2023-04-17T09:09:15.989Z"
   },
   {
    "duration": 1436,
    "start_time": "2023-04-17T09:34:35.769Z"
   },
   {
    "duration": 245,
    "start_time": "2023-04-17T09:34:37.208Z"
   },
   {
    "duration": 55,
    "start_time": "2023-04-17T09:34:37.456Z"
   },
   {
    "duration": 17,
    "start_time": "2023-04-17T09:34:37.513Z"
   },
   {
    "duration": 288,
    "start_time": "2023-04-17T09:34:37.535Z"
   },
   {
    "duration": 106,
    "start_time": "2023-04-17T09:34:37.825Z"
   },
   {
    "duration": 42,
    "start_time": "2023-04-17T09:34:37.934Z"
   },
   {
    "duration": 141,
    "start_time": "2023-04-17T09:34:37.988Z"
   },
   {
    "duration": 325,
    "start_time": "2023-04-17T09:34:38.131Z"
   },
   {
    "duration": 98,
    "start_time": "2023-04-17T09:34:38.458Z"
   },
   {
    "duration": 50,
    "start_time": "2023-04-17T09:34:38.559Z"
   },
   {
    "duration": 11,
    "start_time": "2023-04-17T09:34:38.611Z"
   },
   {
    "duration": 5,
    "start_time": "2023-04-17T09:34:38.624Z"
   },
   {
    "duration": 67,
    "start_time": "2023-04-17T09:34:38.633Z"
   },
   {
    "duration": 10,
    "start_time": "2023-04-17T09:34:38.702Z"
   },
   {
    "duration": 693,
    "start_time": "2023-04-17T09:34:38.715Z"
   },
   {
    "duration": 80,
    "start_time": "2023-04-17T09:34:39.410Z"
   },
   {
    "duration": 37,
    "start_time": "2023-04-17T09:34:39.492Z"
   },
   {
    "duration": 85,
    "start_time": "2023-04-17T09:34:39.531Z"
   },
   {
    "duration": 42,
    "start_time": "2023-04-17T09:34:39.618Z"
   },
   {
    "duration": 126,
    "start_time": "2023-04-17T09:34:39.663Z"
   },
   {
    "duration": 18,
    "start_time": "2023-04-17T09:34:39.792Z"
   },
   {
    "duration": 80,
    "start_time": "2023-04-17T09:34:39.813Z"
   },
   {
    "duration": 67,
    "start_time": "2023-04-17T09:34:39.896Z"
   },
   {
    "duration": 215,
    "start_time": "2023-04-17T09:34:39.966Z"
   },
   {
    "duration": 31,
    "start_time": "2023-04-17T09:34:40.184Z"
   },
   {
    "duration": 21,
    "start_time": "2023-04-17T09:34:40.217Z"
   },
   {
    "duration": 18,
    "start_time": "2023-04-17T09:34:40.241Z"
   },
   {
    "duration": 33,
    "start_time": "2023-04-17T09:34:40.263Z"
   },
   {
    "duration": 1262,
    "start_time": "2023-04-17T11:22:00.025Z"
   },
   {
    "duration": 180,
    "start_time": "2023-04-17T11:22:01.290Z"
   },
   {
    "duration": 46,
    "start_time": "2023-04-17T11:22:01.472Z"
   },
   {
    "duration": 11,
    "start_time": "2023-04-17T11:22:01.521Z"
   },
   {
    "duration": 224,
    "start_time": "2023-04-17T11:22:01.534Z"
   },
   {
    "duration": 58,
    "start_time": "2023-04-17T11:22:01.760Z"
   },
   {
    "duration": 48,
    "start_time": "2023-04-17T11:22:01.820Z"
   },
   {
    "duration": 157,
    "start_time": "2023-04-17T11:22:01.870Z"
   },
   {
    "duration": 239,
    "start_time": "2023-04-17T11:22:02.030Z"
   },
   {
    "duration": 69,
    "start_time": "2023-04-17T11:22:02.273Z"
   },
   {
    "duration": 32,
    "start_time": "2023-04-17T11:22:02.344Z"
   },
   {
    "duration": 8,
    "start_time": "2023-04-17T11:22:02.378Z"
   },
   {
    "duration": 32,
    "start_time": "2023-04-17T11:22:02.387Z"
   },
   {
    "duration": 52,
    "start_time": "2023-04-17T11:22:02.421Z"
   },
   {
    "duration": 7,
    "start_time": "2023-04-17T11:22:02.475Z"
   },
   {
    "duration": 448,
    "start_time": "2023-04-17T11:22:02.484Z"
   },
   {
    "duration": 54,
    "start_time": "2023-04-17T11:22:02.934Z"
   },
   {
    "duration": 33,
    "start_time": "2023-04-17T11:22:02.990Z"
   },
   {
    "duration": 46,
    "start_time": "2023-04-17T11:22:03.025Z"
   },
   {
    "duration": 46,
    "start_time": "2023-04-17T11:22:03.073Z"
   },
   {
    "duration": 73,
    "start_time": "2023-04-17T11:22:03.121Z"
   },
   {
    "duration": 25,
    "start_time": "2023-04-17T11:22:03.196Z"
   },
   {
    "duration": 46,
    "start_time": "2023-04-17T11:22:03.223Z"
   },
   {
    "duration": 61,
    "start_time": "2023-04-17T11:22:03.271Z"
   },
   {
    "duration": 147,
    "start_time": "2023-04-17T11:22:03.333Z"
   },
   {
    "duration": 16,
    "start_time": "2023-04-17T11:22:03.482Z"
   },
   {
    "duration": 34,
    "start_time": "2023-04-17T11:22:03.500Z"
   },
   {
    "duration": 18,
    "start_time": "2023-04-17T11:22:03.539Z"
   },
   {
    "duration": 21,
    "start_time": "2023-04-17T11:22:03.559Z"
   }
  ],
  "kernelspec": {
   "display_name": "Python 3 (ipykernel)",
   "language": "python",
   "name": "python3"
  },
  "language_info": {
   "codemirror_mode": {
    "name": "ipython",
    "version": 3
   },
   "file_extension": ".py",
   "mimetype": "text/x-python",
   "name": "python",
   "nbconvert_exporter": "python",
   "pygments_lexer": "ipython3",
   "version": "3.9.13"
  },
  "toc": {
   "base_numbering": 1,
   "nav_menu": {},
   "number_sections": false,
   "sideBar": true,
   "skip_h1_title": false,
   "title_cell": "Table of Contents",
   "title_sidebar": "Contents",
   "toc_cell": false,
   "toc_position": {
    "height": "calc(100% - 180px)",
    "left": "10px",
    "top": "150px",
    "width": "291.264px"
   },
   "toc_section_display": true,
   "toc_window_display": true
  }
 },
 "nbformat": 4,
 "nbformat_minor": 2
}
