{
 "cells": [
  {
   "cell_type": "markdown",
   "metadata": {},
   "source": [
    "# Сборный проект. Интернет-магазине «Стримчик»\n",
    "\n",
    "Интернет-магазин «Стримчик» продаёт по всему миру компьютерные игры. Из открытых источников доступны исторические данные о продажах игр, оценки пользователей и экспертов, жанры и платформы (например, Xbox или PlayStation). \n",
    "\n",
    "**Цель исследования:**\n",
    "1. Выявить определяющие успешность игры закономерности. Это позволит сделать ставку на потенциально популярный продукт и спланировать рекламные кампании.\n",
    "2. Посчитайть суммарные продажи во всех регионах\n",
    "3. Составить портрет пользователя каждого региона\n",
    "4. Определить, какие факторы влияют на продажи игр\n",
    "\n",
    "**Ход исследования:**\n",
    "Данные об играх я получу из файла `games.csv`. О качестве данных ничего не известно. Поэтому перед тем, как приступать к целям исследования, потребуется обзор данных.\n",
    "\n",
    "Я проверю данные и их типы на ошибки/неточности и оценю их влияние на исследование. Затем, на этапе предобработки, я поищу возможность исправить все ошибки данных, которые не приведут к искажению конечного результата. Далее создам необходимые столбцы и приступлю к проведению анализа.\n",
    "\n",
    "Таким образом, мое исследование пройдет в 7 этапов:\n",
    "- Обзор данных\n",
    "- Предобработка данных\n",
    "- Расчеты и добавление результатов в таблицу\n",
    "- Проведение исследоватеьского анализа данных\n",
    "- Составление портрета пользователя каждого региона и выявление топ жанров/платформ для них\n",
    "- Проверка гипотез\n",
    "- Написание общего вывода\n",
    "   "
   ]
  },
  {
   "cell_type": "markdown",
   "metadata": {},
   "source": [
    "### Откройте файл с данными и изучите общую информацию"
   ]
  },
  {
   "cell_type": "code",
   "execution_count": 1,
   "metadata": {},
   "outputs": [
    {
     "data": {
      "text/html": [
       "<div>\n",
       "<style scoped>\n",
       "    .dataframe tbody tr th:only-of-type {\n",
       "        vertical-align: middle;\n",
       "    }\n",
       "\n",
       "    .dataframe tbody tr th {\n",
       "        vertical-align: top;\n",
       "    }\n",
       "\n",
       "    .dataframe thead th {\n",
       "        text-align: right;\n",
       "    }\n",
       "</style>\n",
       "<table border=\"1\" class=\"dataframe\">\n",
       "  <thead>\n",
       "    <tr style=\"text-align: right;\">\n",
       "      <th></th>\n",
       "      <th>Name</th>\n",
       "      <th>Platform</th>\n",
       "      <th>Year_of_Release</th>\n",
       "      <th>Genre</th>\n",
       "      <th>NA_sales</th>\n",
       "      <th>EU_sales</th>\n",
       "      <th>JP_sales</th>\n",
       "      <th>Other_sales</th>\n",
       "      <th>Critic_Score</th>\n",
       "      <th>User_Score</th>\n",
       "      <th>Rating</th>\n",
       "    </tr>\n",
       "  </thead>\n",
       "  <tbody>\n",
       "    <tr>\n",
       "      <th>0</th>\n",
       "      <td>Wii Sports</td>\n",
       "      <td>Wii</td>\n",
       "      <td>2006.0</td>\n",
       "      <td>Sports</td>\n",
       "      <td>41.36</td>\n",
       "      <td>28.96</td>\n",
       "      <td>3.77</td>\n",
       "      <td>8.45</td>\n",
       "      <td>76.0</td>\n",
       "      <td>8</td>\n",
       "      <td>E</td>\n",
       "    </tr>\n",
       "    <tr>\n",
       "      <th>1</th>\n",
       "      <td>Super Mario Bros.</td>\n",
       "      <td>NES</td>\n",
       "      <td>1985.0</td>\n",
       "      <td>Platform</td>\n",
       "      <td>29.08</td>\n",
       "      <td>3.58</td>\n",
       "      <td>6.81</td>\n",
       "      <td>0.77</td>\n",
       "      <td>NaN</td>\n",
       "      <td>NaN</td>\n",
       "      <td>NaN</td>\n",
       "    </tr>\n",
       "    <tr>\n",
       "      <th>2</th>\n",
       "      <td>Mario Kart Wii</td>\n",
       "      <td>Wii</td>\n",
       "      <td>2008.0</td>\n",
       "      <td>Racing</td>\n",
       "      <td>15.68</td>\n",
       "      <td>12.76</td>\n",
       "      <td>3.79</td>\n",
       "      <td>3.29</td>\n",
       "      <td>82.0</td>\n",
       "      <td>8.3</td>\n",
       "      <td>E</td>\n",
       "    </tr>\n",
       "    <tr>\n",
       "      <th>3</th>\n",
       "      <td>Wii Sports Resort</td>\n",
       "      <td>Wii</td>\n",
       "      <td>2009.0</td>\n",
       "      <td>Sports</td>\n",
       "      <td>15.61</td>\n",
       "      <td>10.93</td>\n",
       "      <td>3.28</td>\n",
       "      <td>2.95</td>\n",
       "      <td>80.0</td>\n",
       "      <td>8</td>\n",
       "      <td>E</td>\n",
       "    </tr>\n",
       "    <tr>\n",
       "      <th>4</th>\n",
       "      <td>Pokemon Red/Pokemon Blue</td>\n",
       "      <td>GB</td>\n",
       "      <td>1996.0</td>\n",
       "      <td>Role-Playing</td>\n",
       "      <td>11.27</td>\n",
       "      <td>8.89</td>\n",
       "      <td>10.22</td>\n",
       "      <td>1.00</td>\n",
       "      <td>NaN</td>\n",
       "      <td>NaN</td>\n",
       "      <td>NaN</td>\n",
       "    </tr>\n",
       "    <tr>\n",
       "      <th>5</th>\n",
       "      <td>Tetris</td>\n",
       "      <td>GB</td>\n",
       "      <td>1989.0</td>\n",
       "      <td>Puzzle</td>\n",
       "      <td>23.20</td>\n",
       "      <td>2.26</td>\n",
       "      <td>4.22</td>\n",
       "      <td>0.58</td>\n",
       "      <td>NaN</td>\n",
       "      <td>NaN</td>\n",
       "      <td>NaN</td>\n",
       "    </tr>\n",
       "    <tr>\n",
       "      <th>6</th>\n",
       "      <td>New Super Mario Bros.</td>\n",
       "      <td>DS</td>\n",
       "      <td>2006.0</td>\n",
       "      <td>Platform</td>\n",
       "      <td>11.28</td>\n",
       "      <td>9.14</td>\n",
       "      <td>6.50</td>\n",
       "      <td>2.88</td>\n",
       "      <td>89.0</td>\n",
       "      <td>8.5</td>\n",
       "      <td>E</td>\n",
       "    </tr>\n",
       "    <tr>\n",
       "      <th>7</th>\n",
       "      <td>Wii Play</td>\n",
       "      <td>Wii</td>\n",
       "      <td>2006.0</td>\n",
       "      <td>Misc</td>\n",
       "      <td>13.96</td>\n",
       "      <td>9.18</td>\n",
       "      <td>2.93</td>\n",
       "      <td>2.84</td>\n",
       "      <td>58.0</td>\n",
       "      <td>6.6</td>\n",
       "      <td>E</td>\n",
       "    </tr>\n",
       "    <tr>\n",
       "      <th>8</th>\n",
       "      <td>New Super Mario Bros. Wii</td>\n",
       "      <td>Wii</td>\n",
       "      <td>2009.0</td>\n",
       "      <td>Platform</td>\n",
       "      <td>14.44</td>\n",
       "      <td>6.94</td>\n",
       "      <td>4.70</td>\n",
       "      <td>2.24</td>\n",
       "      <td>87.0</td>\n",
       "      <td>8.4</td>\n",
       "      <td>E</td>\n",
       "    </tr>\n",
       "    <tr>\n",
       "      <th>9</th>\n",
       "      <td>Duck Hunt</td>\n",
       "      <td>NES</td>\n",
       "      <td>1984.0</td>\n",
       "      <td>Shooter</td>\n",
       "      <td>26.93</td>\n",
       "      <td>0.63</td>\n",
       "      <td>0.28</td>\n",
       "      <td>0.47</td>\n",
       "      <td>NaN</td>\n",
       "      <td>NaN</td>\n",
       "      <td>NaN</td>\n",
       "    </tr>\n",
       "  </tbody>\n",
       "</table>\n",
       "</div>"
      ],
      "text/plain": [
       "                        Name Platform  Year_of_Release         Genre  \\\n",
       "0                 Wii Sports      Wii           2006.0        Sports   \n",
       "1          Super Mario Bros.      NES           1985.0      Platform   \n",
       "2             Mario Kart Wii      Wii           2008.0        Racing   \n",
       "3          Wii Sports Resort      Wii           2009.0        Sports   \n",
       "4   Pokemon Red/Pokemon Blue       GB           1996.0  Role-Playing   \n",
       "5                     Tetris       GB           1989.0        Puzzle   \n",
       "6      New Super Mario Bros.       DS           2006.0      Platform   \n",
       "7                   Wii Play      Wii           2006.0          Misc   \n",
       "8  New Super Mario Bros. Wii      Wii           2009.0      Platform   \n",
       "9                  Duck Hunt      NES           1984.0       Shooter   \n",
       "\n",
       "   NA_sales  EU_sales  JP_sales  Other_sales  Critic_Score User_Score Rating  \n",
       "0     41.36     28.96      3.77         8.45          76.0          8      E  \n",
       "1     29.08      3.58      6.81         0.77           NaN        NaN    NaN  \n",
       "2     15.68     12.76      3.79         3.29          82.0        8.3      E  \n",
       "3     15.61     10.93      3.28         2.95          80.0          8      E  \n",
       "4     11.27      8.89     10.22         1.00           NaN        NaN    NaN  \n",
       "5     23.20      2.26      4.22         0.58           NaN        NaN    NaN  \n",
       "6     11.28      9.14      6.50         2.88          89.0        8.5      E  \n",
       "7     13.96      9.18      2.93         2.84          58.0        6.6      E  \n",
       "8     14.44      6.94      4.70         2.24          87.0        8.4      E  \n",
       "9     26.93      0.63      0.28         0.47           NaN        NaN    NaN  "
      ]
     },
     "execution_count": 1,
     "metadata": {},
     "output_type": "execute_result"
    }
   ],
   "source": [
    "import pandas as pd\n",
    "import matplotlib.pyplot as plt\n",
    "from scipy import stats as st\n",
    "\n",
    "df = pd.read_csv('games.csv')\n",
    "df.head(10)"
   ]
  },
  {
   "cell_type": "code",
   "execution_count": 2,
   "metadata": {},
   "outputs": [
    {
     "name": "stdout",
     "output_type": "stream",
     "text": [
      "<class 'pandas.core.frame.DataFrame'>\n",
      "RangeIndex: 16715 entries, 0 to 16714\n",
      "Data columns (total 11 columns):\n",
      " #   Column           Non-Null Count  Dtype  \n",
      "---  ------           --------------  -----  \n",
      " 0   Name             16713 non-null  object \n",
      " 1   Platform         16715 non-null  object \n",
      " 2   Year_of_Release  16446 non-null  float64\n",
      " 3   Genre            16713 non-null  object \n",
      " 4   NA_sales         16715 non-null  float64\n",
      " 5   EU_sales         16715 non-null  float64\n",
      " 6   JP_sales         16715 non-null  float64\n",
      " 7   Other_sales      16715 non-null  float64\n",
      " 8   Critic_Score     8137 non-null   float64\n",
      " 9   User_Score       10014 non-null  object \n",
      " 10  Rating           9949 non-null   object \n",
      "dtypes: float64(6), object(5)\n",
      "memory usage: 1.4+ MB\n"
     ]
    }
   ],
   "source": [
    "df.info()"
   ]
  },
  {
   "cell_type": "code",
   "execution_count": 3,
   "metadata": {},
   "outputs": [
    {
     "data": {
      "image/png": "[encoded data removed]",
      "text/plain": [
       "<Figure size 1500x2000 with 6 Axes>"
      ]
     },
     "metadata": {},
     "output_type": "display_data"
    }
   ],
   "source": [
    "df.hist(figsize=(15, 20));"
   ]
  },
  {
   "cell_type": "markdown",
   "metadata": {},
   "source": [
    "При первом взгляде на данные можно сказать, что: \n",
    "- есть пропущенные значения в столюцах Critic_Score, User_Score, Rating \n",
    "- название столбцов необходимо привести к нижнему регистру\n",
    "- в столбцах Name и Genre  всего 2 пропущенных значения, скорее всего это можно исправить\n",
    "- в столбце Year_of_Release немного пропущенных значений, скорее всего нет точной даты выхода игры \n",
    "- столбец Year_of_Release необходимо заменить тип на int, т.к. год не может быть вещественным числом\n",
    "- столбец User_Score необходимо заменить тип float, т.к. рейтинг измеряется в числовом формате."
   ]
  },
  {
   "cell_type": "markdown",
   "metadata": {},
   "source": [
    "### Подготовьте данные"
   ]
  },
  {
   "cell_type": "markdown",
   "metadata": {},
   "source": [
    "**Заменим названия столбцов (приведем к нижнему регистру)**"
   ]
  },
  {
   "cell_type": "code",
   "execution_count": 4,
   "metadata": {},
   "outputs": [
    {
     "data": {
      "text/html": [
       "<div>\n",
       "<style scoped>\n",
       "    .dataframe tbody tr th:only-of-type {\n",
       "        vertical-align: middle;\n",
       "    }\n",
       "\n",
       "    .dataframe tbody tr th {\n",
       "        vertical-align: top;\n",
       "    }\n",
       "\n",
       "    .dataframe thead th {\n",
       "        text-align: right;\n",
       "    }\n",
       "</style>\n",
       "<table border=\"1\" class=\"dataframe\">\n",
       "  <thead>\n",
       "    <tr style=\"text-align: right;\">\n",
       "      <th></th>\n",
       "      <th>name</th>\n",
       "      <th>platform</th>\n",
       "      <th>year_of_release</th>\n",
       "      <th>genre</th>\n",
       "      <th>na_sales</th>\n",
       "      <th>eu_sales</th>\n",
       "      <th>jp_sales</th>\n",
       "      <th>other_sales</th>\n",
       "      <th>critic_score</th>\n",
       "      <th>user_score</th>\n",
       "      <th>rating</th>\n",
       "    </tr>\n",
       "  </thead>\n",
       "  <tbody>\n",
       "    <tr>\n",
       "      <th>0</th>\n",
       "      <td>Wii Sports</td>\n",
       "      <td>Wii</td>\n",
       "      <td>2006.0</td>\n",
       "      <td>Sports</td>\n",
       "      <td>41.36</td>\n",
       "      <td>28.96</td>\n",
       "      <td>3.77</td>\n",
       "      <td>8.45</td>\n",
       "      <td>76.0</td>\n",
       "      <td>8</td>\n",
       "      <td>E</td>\n",
       "    </tr>\n",
       "    <tr>\n",
       "      <th>1</th>\n",
       "      <td>Super Mario Bros.</td>\n",
       "      <td>NES</td>\n",
       "      <td>1985.0</td>\n",
       "      <td>Platform</td>\n",
       "      <td>29.08</td>\n",
       "      <td>3.58</td>\n",
       "      <td>6.81</td>\n",
       "      <td>0.77</td>\n",
       "      <td>NaN</td>\n",
       "      <td>NaN</td>\n",
       "      <td>NaN</td>\n",
       "    </tr>\n",
       "    <tr>\n",
       "      <th>2</th>\n",
       "      <td>Mario Kart Wii</td>\n",
       "      <td>Wii</td>\n",
       "      <td>2008.0</td>\n",
       "      <td>Racing</td>\n",
       "      <td>15.68</td>\n",
       "      <td>12.76</td>\n",
       "      <td>3.79</td>\n",
       "      <td>3.29</td>\n",
       "      <td>82.0</td>\n",
       "      <td>8.3</td>\n",
       "      <td>E</td>\n",
       "    </tr>\n",
       "    <tr>\n",
       "      <th>3</th>\n",
       "      <td>Wii Sports Resort</td>\n",
       "      <td>Wii</td>\n",
       "      <td>2009.0</td>\n",
       "      <td>Sports</td>\n",
       "      <td>15.61</td>\n",
       "      <td>10.93</td>\n",
       "      <td>3.28</td>\n",
       "      <td>2.95</td>\n",
       "      <td>80.0</td>\n",
       "      <td>8</td>\n",
       "      <td>E</td>\n",
       "    </tr>\n",
       "    <tr>\n",
       "      <th>4</th>\n",
       "      <td>Pokemon Red/Pokemon Blue</td>\n",
       "      <td>GB</td>\n",
       "      <td>1996.0</td>\n",
       "      <td>Role-Playing</td>\n",
       "      <td>11.27</td>\n",
       "      <td>8.89</td>\n",
       "      <td>10.22</td>\n",
       "      <td>1.00</td>\n",
       "      <td>NaN</td>\n",
       "      <td>NaN</td>\n",
       "      <td>NaN</td>\n",
       "    </tr>\n",
       "  </tbody>\n",
       "</table>\n",
       "</div>"
      ],
      "text/plain": [
       "                       name platform  year_of_release         genre  na_sales  \\\n",
       "0                Wii Sports      Wii           2006.0        Sports     41.36   \n",
       "1         Super Mario Bros.      NES           1985.0      Platform     29.08   \n",
       "2            Mario Kart Wii      Wii           2008.0        Racing     15.68   \n",
       "3         Wii Sports Resort      Wii           2009.0        Sports     15.61   \n",
       "4  Pokemon Red/Pokemon Blue       GB           1996.0  Role-Playing     11.27   \n",
       "\n",
       "   eu_sales  jp_sales  other_sales  critic_score user_score rating  \n",
       "0     28.96      3.77         8.45          76.0          8      E  \n",
       "1      3.58      6.81         0.77           NaN        NaN    NaN  \n",
       "2     12.76      3.79         3.29          82.0        8.3      E  \n",
       "3     10.93      3.28         2.95          80.0          8      E  \n",
       "4      8.89     10.22         1.00           NaN        NaN    NaN  "
      ]
     },
     "execution_count": 4,
     "metadata": {},
     "output_type": "execute_result"
    }
   ],
   "source": [
    "df = df.rename(\n",
    "    columns={\n",
    "        'Name': 'name',\n",
    "        'Platform': 'platform',\n",
    "        'Year_of_Release': 'year_of_release',\n",
    "        'Genre': 'genre',\n",
    "        'NA_sales':'na_sales',\n",
    "        'EU_sales': 'eu_sales',\n",
    "        'JP_sales': 'jp_sales',\n",
    "        'Other_sales': 'other_sales',\n",
    "        'Critic_Score': 'critic_score',\n",
    "        'User_Score': 'user_score',\n",
    "        'Rating': 'rating'\n",
    "    }\n",
    ")\n",
    "df.head()"
   ]
  },
  {
   "cell_type": "markdown",
   "metadata": {},
   "source": [
    "**Обработка пропусков**\n",
    "\n",
    "Ячейки в которых есть пропуски: platform, year_of_release, genre, critic_score, user_score, rating. Посмотрим на их содержимое."
   ]
  },
  {
   "cell_type": "code",
   "execution_count": 5,
   "metadata": {},
   "outputs": [
    {
     "data": {
      "text/plain": [
       "array(['Wii Sports', 'Super Mario Bros.', 'Mario Kart Wii', ...,\n",
       "       'Woody Woodpecker in Crazy Castle 5', 'LMA Manager 2007',\n",
       "       'Haitaka no Psychedelica'], dtype=object)"
      ]
     },
     "metadata": {},
     "output_type": "display_data"
    },
    {
     "data": {
      "text/plain": [
       "array([2006., 1985., 2008., 2009., 1996., 1989., 1984., 2005., 1999.,\n",
       "       2007., 2010., 2013., 2004., 1990., 1988., 2002., 2001., 2011.,\n",
       "       1998., 2015., 2012., 2014., 1992., 1997., 1993., 1994., 1982.,\n",
       "       2016., 2003., 1986., 2000.,   nan, 1995., 1991., 1981., 1987.,\n",
       "       1980., 1983.])"
      ]
     },
     "metadata": {},
     "output_type": "display_data"
    },
    {
     "data": {
      "text/plain": [
       "array(['Sports', 'Platform', 'Racing', 'Role-Playing', 'Puzzle', 'Misc',\n",
       "       'Shooter', 'Simulation', 'Action', 'Fighting', 'Adventure',\n",
       "       'Strategy', nan], dtype=object)"
      ]
     },
     "metadata": {},
     "output_type": "display_data"
    },
    {
     "data": {
      "text/plain": [
       "array([76., nan, 82., 80., 89., 58., 87., 91., 61., 97., 95., 77., 88.,\n",
       "       83., 94., 93., 85., 86., 98., 96., 90., 84., 73., 74., 78., 92.,\n",
       "       71., 72., 68., 62., 49., 67., 81., 66., 56., 79., 70., 59., 64.,\n",
       "       75., 60., 63., 69., 50., 25., 42., 44., 55., 48., 57., 29., 47.,\n",
       "       65., 54., 20., 53., 37., 38., 33., 52., 30., 32., 43., 45., 51.,\n",
       "       40., 46., 39., 34., 35., 41., 36., 28., 31., 27., 26., 19., 23.,\n",
       "       24., 21., 17., 22., 13.])"
      ]
     },
     "metadata": {},
     "output_type": "display_data"
    },
    {
     "data": {
      "text/plain": [
       "array(['8', nan, '8.3', '8.5', '6.6', '8.4', '8.6', '7.7', '6.3', '7.4',\n",
       "       '8.2', '9', '7.9', '8.1', '8.7', '7.1', '3.4', '5.3', '4.8', '3.2',\n",
       "       '8.9', '6.4', '7.8', '7.5', '2.6', '7.2', '9.2', '7', '7.3', '4.3',\n",
       "       '7.6', '5.7', '5', '9.1', '6.5', 'tbd', '8.8', '6.9', '9.4', '6.8',\n",
       "       '6.1', '6.7', '5.4', '4', '4.9', '4.5', '9.3', '6.2', '4.2', '6',\n",
       "       '3.7', '4.1', '5.8', '5.6', '5.5', '4.4', '4.6', '5.9', '3.9',\n",
       "       '3.1', '2.9', '5.2', '3.3', '4.7', '5.1', '3.5', '2.5', '1.9', '3',\n",
       "       '2.7', '2.2', '2', '9.5', '2.1', '3.6', '2.8', '1.8', '3.8', '0',\n",
       "       '1.6', '9.6', '2.4', '1.7', '1.1', '0.3', '1.5', '0.7', '1.2',\n",
       "       '2.3', '0.5', '1.3', '0.2', '0.6', '1.4', '0.9', '1', '9.7'],\n",
       "      dtype=object)"
      ]
     },
     "metadata": {},
     "output_type": "display_data"
    },
    {
     "data": {
      "text/plain": [
       "array(['E', nan, 'M', 'T', 'E10+', 'K-A', 'AO', 'EC', 'RP'], dtype=object)"
      ]
     },
     "metadata": {},
     "output_type": "display_data"
    },
    {
     "data": {
      "text/plain": [
       "name                  2\n",
       "platform              0\n",
       "year_of_release     269\n",
       "genre                 2\n",
       "na_sales              0\n",
       "eu_sales              0\n",
       "jp_sales              0\n",
       "other_sales           0\n",
       "critic_score       8578\n",
       "user_score         6701\n",
       "rating             6766\n",
       "dtype: int64"
      ]
     },
     "execution_count": 5,
     "metadata": {},
     "output_type": "execute_result"
    }
   ],
   "source": [
    "#смотрим уникальные значения в каждом столбце\n",
    "display(df['name'].unique())\n",
    "display(df['year_of_release'].unique())\n",
    "display(df['genre'].unique())\n",
    "display(df['critic_score'].unique())\n",
    "display(df['user_score'].unique())\n",
    "display(df['rating'].unique())\n",
    "#считаем пропуски\n",
    "df.isna().sum()"
   ]
  },
  {
   "cell_type": "markdown",
   "metadata": {},
   "source": [
    "**В столбце name** - всего 2 пропущеных значения, считаю это не критичным, ими можно пожертвовать."
   ]
  },
  {
   "cell_type": "code",
   "execution_count": 6,
   "metadata": {},
   "outputs": [],
   "source": [
    "#удаляем пропуски в столбце name\n",
    "df = df.dropna(subset=['name'])"
   ]
  },
  {
   "cell_type": "markdown",
   "metadata": {},
   "source": [
    "**В столбце year_of_release** также не много значений, могли возникнуть из-за того что нет точной даты выгода игры. Это важный критерий для анализа, поэтому их тоже считаю корректным удалить"
   ]
  },
  {
   "cell_type": "code",
   "execution_count": 7,
   "metadata": {},
   "outputs": [
    {
     "name": "stdout",
     "output_type": "stream",
     "text": [
      "<class 'pandas.core.frame.DataFrame'>\n",
      "Int64Index: 16444 entries, 0 to 16714\n",
      "Data columns (total 11 columns):\n",
      " #   Column           Non-Null Count  Dtype  \n",
      "---  ------           --------------  -----  \n",
      " 0   name             16444 non-null  object \n",
      " 1   platform         16444 non-null  object \n",
      " 2   year_of_release  16444 non-null  float64\n",
      " 3   genre            16444 non-null  object \n",
      " 4   na_sales         16444 non-null  float64\n",
      " 5   eu_sales         16444 non-null  float64\n",
      " 6   jp_sales         16444 non-null  float64\n",
      " 7   other_sales      16444 non-null  float64\n",
      " 8   critic_score     7983 non-null   float64\n",
      " 9   user_score       9839 non-null   object \n",
      " 10  rating           9768 non-null   object \n",
      "dtypes: float64(6), object(5)\n",
      "memory usage: 1.5+ MB\n"
     ]
    }
   ],
   "source": [
    "#удаляем пропуски в столбце year_of_release\n",
    "df = df.dropna(subset=['year_of_release'])\n",
    "df.info()"
   ]
  },
  {
   "cell_type": "markdown",
   "metadata": {},
   "source": [
    "Как можно увидеть **столбец genre** также теперь с полными данными.\n",
    "\n",
    "**В столбцe critic_score** количество пропусков около половины. Мы не можем отбросить такое количество данных, они нужны нам для анализа. Поэтому предлагаю аменить на заглушки (-1), чтобы не портить рейтинг.\n",
    "\n",
    "**В столбцe user_score** количество пропусков также около половины. Мы не можем отбросить такое количество данных, они нужны нам для анализа. Неизвестные значения **в столбце user_score** предлагаю заменить на заглушки (-1), чтобы не портить рейтинг.\n",
    "\n",
    "Кроме того в столбце **user_score** есть данные с аббревиатурой tbd, что переводится как - Будет определено. Можем предположить, что игра вышла недавно или оценок не достаточно для формирования рейтинга, в связи с этим также переводим эти значения в заглушки (-1). **Здесь используем числа в качестве заглушки, для дальнейшего перевода стотбца в тип данных float**"
   ]
  },
  {
   "cell_type": "code",
   "execution_count": 8,
   "metadata": {},
   "outputs": [],
   "source": [
    "#для столбца critic_score\n",
    "df['critic_score'] = df['critic_score'].fillna(-1)\n",
    "#для столбца user_score\n",
    "df['user_score'] = df['user_score'].replace('tbd', -1)\n",
    "df['user_score'] = df['user_score'].fillna(-1)\n",
    "\n"
   ]
  },
  {
   "cell_type": "markdown",
   "metadata": {},
   "source": [
    "**В столбцe rating** также большое количество пропусков. Мы не можем отбросить такое количество данных, они нужны нам для анализа. Поэтому делаем заглушку 'неизвестно'"
   ]
  },
  {
   "cell_type": "code",
   "execution_count": 9,
   "metadata": {},
   "outputs": [
    {
     "data": {
      "text/plain": [
       "array(['E', 'неизвестно', 'M', 'T', 'E10+', 'K-A', 'AO', 'EC', 'RP'],\n",
       "      dtype=object)"
      ]
     },
     "execution_count": 9,
     "metadata": {},
     "output_type": "execute_result"
    }
   ],
   "source": [
    "df['rating'] = df['rating'].fillna(0)\n",
    "df.loc[df['rating'] == 0, 'rating'] = 'неизвестно'\n",
    "df['rating'].unique()"
   ]
  },
  {
   "cell_type": "code",
   "execution_count": 10,
   "metadata": {},
   "outputs": [
    {
     "name": "stdout",
     "output_type": "stream",
     "text": [
      "<class 'pandas.core.frame.DataFrame'>\n",
      "Int64Index: 16444 entries, 0 to 16714\n",
      "Data columns (total 11 columns):\n",
      " #   Column           Non-Null Count  Dtype  \n",
      "---  ------           --------------  -----  \n",
      " 0   name             16444 non-null  object \n",
      " 1   platform         16444 non-null  object \n",
      " 2   year_of_release  16444 non-null  float64\n",
      " 3   genre            16444 non-null  object \n",
      " 4   na_sales         16444 non-null  float64\n",
      " 5   eu_sales         16444 non-null  float64\n",
      " 6   jp_sales         16444 non-null  float64\n",
      " 7   other_sales      16444 non-null  float64\n",
      " 8   critic_score     16444 non-null  float64\n",
      " 9   user_score       16444 non-null  object \n",
      " 10  rating           16444 non-null  object \n",
      "dtypes: float64(6), object(5)\n",
      "memory usage: 1.5+ MB\n"
     ]
    }
   ],
   "source": [
    "df.info()"
   ]
  },
  {
   "cell_type": "markdown",
   "metadata": {},
   "source": [
    "**Преобразуем данные в нужные типы**\n",
    "\n",
    "- столбец Year_of_Release необходимо заменить тип на int, т.к. год не может быть вещественным числом\n",
    "- столбец User_Score необходимо заменить тип float, т.к. рейтинг измеряется в числовом формате."
   ]
  },
  {
   "cell_type": "code",
   "execution_count": 11,
   "metadata": {},
   "outputs": [
    {
     "name": "stdout",
     "output_type": "stream",
     "text": [
      "<class 'pandas.core.frame.DataFrame'>\n",
      "Int64Index: 16444 entries, 0 to 16714\n",
      "Data columns (total 11 columns):\n",
      " #   Column           Non-Null Count  Dtype  \n",
      "---  ------           --------------  -----  \n",
      " 0   name             16444 non-null  object \n",
      " 1   platform         16444 non-null  object \n",
      " 2   year_of_release  16444 non-null  int32  \n",
      " 3   genre            16444 non-null  object \n",
      " 4   na_sales         16444 non-null  float64\n",
      " 5   eu_sales         16444 non-null  float64\n",
      " 6   jp_sales         16444 non-null  float64\n",
      " 7   other_sales      16444 non-null  float64\n",
      " 8   critic_score     16444 non-null  float64\n",
      " 9   user_score       16444 non-null  float64\n",
      " 10  rating           16444 non-null  object \n",
      "dtypes: float64(6), int32(1), object(4)\n",
      "memory usage: 1.4+ MB\n"
     ]
    }
   ],
   "source": [
    "df['year_of_release'] = df['year_of_release'].astype('int')\n",
    "df['user_score'] = df['user_score'].astype('float')\n",
    "df.info()"
   ]
  },
  {
   "cell_type": "markdown",
   "metadata": {},
   "source": [
    "**Считаем суммарные продажи во всех регионах и запишем их в отдельный столбец.**"
   ]
  },
  {
   "cell_type": "code",
   "execution_count": 12,
   "metadata": {},
   "outputs": [
    {
     "data": {
      "text/html": [
       "<div>\n",
       "<style scoped>\n",
       "    .dataframe tbody tr th:only-of-type {\n",
       "        vertical-align: middle;\n",
       "    }\n",
       "\n",
       "    .dataframe tbody tr th {\n",
       "        vertical-align: top;\n",
       "    }\n",
       "\n",
       "    .dataframe thead th {\n",
       "        text-align: right;\n",
       "    }\n",
       "</style>\n",
       "<table border=\"1\" class=\"dataframe\">\n",
       "  <thead>\n",
       "    <tr style=\"text-align: right;\">\n",
       "      <th></th>\n",
       "      <th>name</th>\n",
       "      <th>platform</th>\n",
       "      <th>year_of_release</th>\n",
       "      <th>genre</th>\n",
       "      <th>na_sales</th>\n",
       "      <th>eu_sales</th>\n",
       "      <th>jp_sales</th>\n",
       "      <th>other_sales</th>\n",
       "      <th>critic_score</th>\n",
       "      <th>user_score</th>\n",
       "      <th>rating</th>\n",
       "      <th>total_sales</th>\n",
       "    </tr>\n",
       "  </thead>\n",
       "  <tbody>\n",
       "    <tr>\n",
       "      <th>0</th>\n",
       "      <td>Wii Sports</td>\n",
       "      <td>Wii</td>\n",
       "      <td>2006</td>\n",
       "      <td>Sports</td>\n",
       "      <td>41.36</td>\n",
       "      <td>28.96</td>\n",
       "      <td>3.77</td>\n",
       "      <td>8.45</td>\n",
       "      <td>76.0</td>\n",
       "      <td>8.0</td>\n",
       "      <td>E</td>\n",
       "      <td>82.54</td>\n",
       "    </tr>\n",
       "    <tr>\n",
       "      <th>1</th>\n",
       "      <td>Super Mario Bros.</td>\n",
       "      <td>NES</td>\n",
       "      <td>1985</td>\n",
       "      <td>Platform</td>\n",
       "      <td>29.08</td>\n",
       "      <td>3.58</td>\n",
       "      <td>6.81</td>\n",
       "      <td>0.77</td>\n",
       "      <td>-1.0</td>\n",
       "      <td>-1.0</td>\n",
       "      <td>неизвестно</td>\n",
       "      <td>40.24</td>\n",
       "    </tr>\n",
       "    <tr>\n",
       "      <th>2</th>\n",
       "      <td>Mario Kart Wii</td>\n",
       "      <td>Wii</td>\n",
       "      <td>2008</td>\n",
       "      <td>Racing</td>\n",
       "      <td>15.68</td>\n",
       "      <td>12.76</td>\n",
       "      <td>3.79</td>\n",
       "      <td>3.29</td>\n",
       "      <td>82.0</td>\n",
       "      <td>8.3</td>\n",
       "      <td>E</td>\n",
       "      <td>35.52</td>\n",
       "    </tr>\n",
       "    <tr>\n",
       "      <th>3</th>\n",
       "      <td>Wii Sports Resort</td>\n",
       "      <td>Wii</td>\n",
       "      <td>2009</td>\n",
       "      <td>Sports</td>\n",
       "      <td>15.61</td>\n",
       "      <td>10.93</td>\n",
       "      <td>3.28</td>\n",
       "      <td>2.95</td>\n",
       "      <td>80.0</td>\n",
       "      <td>8.0</td>\n",
       "      <td>E</td>\n",
       "      <td>32.77</td>\n",
       "    </tr>\n",
       "    <tr>\n",
       "      <th>4</th>\n",
       "      <td>Pokemon Red/Pokemon Blue</td>\n",
       "      <td>GB</td>\n",
       "      <td>1996</td>\n",
       "      <td>Role-Playing</td>\n",
       "      <td>11.27</td>\n",
       "      <td>8.89</td>\n",
       "      <td>10.22</td>\n",
       "      <td>1.00</td>\n",
       "      <td>-1.0</td>\n",
       "      <td>-1.0</td>\n",
       "      <td>неизвестно</td>\n",
       "      <td>31.38</td>\n",
       "    </tr>\n",
       "    <tr>\n",
       "      <th>...</th>\n",
       "      <td>...</td>\n",
       "      <td>...</td>\n",
       "      <td>...</td>\n",
       "      <td>...</td>\n",
       "      <td>...</td>\n",
       "      <td>...</td>\n",
       "      <td>...</td>\n",
       "      <td>...</td>\n",
       "      <td>...</td>\n",
       "      <td>...</td>\n",
       "      <td>...</td>\n",
       "      <td>...</td>\n",
       "    </tr>\n",
       "    <tr>\n",
       "      <th>16710</th>\n",
       "      <td>Samurai Warriors: Sanada Maru</td>\n",
       "      <td>PS3</td>\n",
       "      <td>2016</td>\n",
       "      <td>Action</td>\n",
       "      <td>0.00</td>\n",
       "      <td>0.00</td>\n",
       "      <td>0.01</td>\n",
       "      <td>0.00</td>\n",
       "      <td>-1.0</td>\n",
       "      <td>-1.0</td>\n",
       "      <td>неизвестно</td>\n",
       "      <td>0.01</td>\n",
       "    </tr>\n",
       "    <tr>\n",
       "      <th>16711</th>\n",
       "      <td>LMA Manager 2007</td>\n",
       "      <td>X360</td>\n",
       "      <td>2006</td>\n",
       "      <td>Sports</td>\n",
       "      <td>0.00</td>\n",
       "      <td>0.01</td>\n",
       "      <td>0.00</td>\n",
       "      <td>0.00</td>\n",
       "      <td>-1.0</td>\n",
       "      <td>-1.0</td>\n",
       "      <td>неизвестно</td>\n",
       "      <td>0.01</td>\n",
       "    </tr>\n",
       "    <tr>\n",
       "      <th>16712</th>\n",
       "      <td>Haitaka no Psychedelica</td>\n",
       "      <td>PSV</td>\n",
       "      <td>2016</td>\n",
       "      <td>Adventure</td>\n",
       "      <td>0.00</td>\n",
       "      <td>0.00</td>\n",
       "      <td>0.01</td>\n",
       "      <td>0.00</td>\n",
       "      <td>-1.0</td>\n",
       "      <td>-1.0</td>\n",
       "      <td>неизвестно</td>\n",
       "      <td>0.01</td>\n",
       "    </tr>\n",
       "    <tr>\n",
       "      <th>16713</th>\n",
       "      <td>Spirits &amp; Spells</td>\n",
       "      <td>GBA</td>\n",
       "      <td>2003</td>\n",
       "      <td>Platform</td>\n",
       "      <td>0.01</td>\n",
       "      <td>0.00</td>\n",
       "      <td>0.00</td>\n",
       "      <td>0.00</td>\n",
       "      <td>-1.0</td>\n",
       "      <td>-1.0</td>\n",
       "      <td>неизвестно</td>\n",
       "      <td>0.01</td>\n",
       "    </tr>\n",
       "    <tr>\n",
       "      <th>16714</th>\n",
       "      <td>Winning Post 8 2016</td>\n",
       "      <td>PSV</td>\n",
       "      <td>2016</td>\n",
       "      <td>Simulation</td>\n",
       "      <td>0.00</td>\n",
       "      <td>0.00</td>\n",
       "      <td>0.01</td>\n",
       "      <td>0.00</td>\n",
       "      <td>-1.0</td>\n",
       "      <td>-1.0</td>\n",
       "      <td>неизвестно</td>\n",
       "      <td>0.01</td>\n",
       "    </tr>\n",
       "  </tbody>\n",
       "</table>\n",
       "<p>16444 rows × 12 columns</p>\n",
       "</div>"
      ],
      "text/plain": [
       "                                name platform  year_of_release         genre  \\\n",
       "0                         Wii Sports      Wii             2006        Sports   \n",
       "1                  Super Mario Bros.      NES             1985      Platform   \n",
       "2                     Mario Kart Wii      Wii             2008        Racing   \n",
       "3                  Wii Sports Resort      Wii             2009        Sports   \n",
       "4           Pokemon Red/Pokemon Blue       GB             1996  Role-Playing   \n",
       "...                              ...      ...              ...           ...   \n",
       "16710  Samurai Warriors: Sanada Maru      PS3             2016        Action   \n",
       "16711               LMA Manager 2007     X360             2006        Sports   \n",
       "16712        Haitaka no Psychedelica      PSV             2016     Adventure   \n",
       "16713               Spirits & Spells      GBA             2003      Platform   \n",
       "16714            Winning Post 8 2016      PSV             2016    Simulation   \n",
       "\n",
       "       na_sales  eu_sales  jp_sales  other_sales  critic_score  user_score  \\\n",
       "0         41.36     28.96      3.77         8.45          76.0         8.0   \n",
       "1         29.08      3.58      6.81         0.77          -1.0        -1.0   \n",
       "2         15.68     12.76      3.79         3.29          82.0         8.3   \n",
       "3         15.61     10.93      3.28         2.95          80.0         8.0   \n",
       "4         11.27      8.89     10.22         1.00          -1.0        -1.0   \n",
       "...         ...       ...       ...          ...           ...         ...   \n",
       "16710      0.00      0.00      0.01         0.00          -1.0        -1.0   \n",
       "16711      0.00      0.01      0.00         0.00          -1.0        -1.0   \n",
       "16712      0.00      0.00      0.01         0.00          -1.0        -1.0   \n",
       "16713      0.01      0.00      0.00         0.00          -1.0        -1.0   \n",
       "16714      0.00      0.00      0.01         0.00          -1.0        -1.0   \n",
       "\n",
       "           rating  total_sales  \n",
       "0               E        82.54  \n",
       "1      неизвестно        40.24  \n",
       "2               E        35.52  \n",
       "3               E        32.77  \n",
       "4      неизвестно        31.38  \n",
       "...           ...          ...  \n",
       "16710  неизвестно         0.01  \n",
       "16711  неизвестно         0.01  \n",
       "16712  неизвестно         0.01  \n",
       "16713  неизвестно         0.01  \n",
       "16714  неизвестно         0.01  \n",
       "\n",
       "[16444 rows x 12 columns]"
      ]
     },
     "execution_count": 12,
     "metadata": {},
     "output_type": "execute_result"
    }
   ],
   "source": [
    "df['total_sales'] = df['na_sales'] + df['eu_sales'] + df['jp_sales'] + df['other_sales']\n",
    "df"
   ]
  },
  {
   "cell_type": "markdown",
   "metadata": {},
   "source": [
    "Сделаем проверку на дубликаты"
   ]
  },
  {
   "cell_type": "code",
   "execution_count": 13,
   "metadata": {},
   "outputs": [
    {
     "data": {
      "text/plain": [
       "0"
      ]
     },
     "execution_count": 13,
     "metadata": {},
     "output_type": "execute_result"
    }
   ],
   "source": [
    "df.duplicated().sum()"
   ]
  },
  {
   "cell_type": "markdown",
   "metadata": {},
   "source": [
    "**По результатам предобработки данных:**\n",
    "\n",
    "1. Был заменен тип данных в столбцах:\n",
    "- year_of_release на тип int, т.к. год не может быть вещественным числом\n",
    "- user_score на тип float, т.к. рейтинг измеряется в числовом формате.\n",
    "2. Поработали над пропусками:\n",
    "- В столбцах name, year_of_release -  было не много пропущенных значений, могли возникнуть из-за того что нет точной даты выгода игры, техническими причинами. Мы их исключили,т.к. это не сыграет важной роли для анализа.\n",
    "- В столбцах critic_score, user_score количество пропусков около половины. Мы не можем отбросить такое количество данных, они нужны нам для анализа. Поэтому заменили их на заглушки (-1), чтобы не портить рейтинг.\n",
    "- В столбцe rating также большое количество пропусков. Мы не можем отбросить такое количество данных, они нужны нам для анализа. Поэтому сделали заглушку 'неизвестно', т.к. это категориальные данные.\n",
    "\n",
    "\n",
    "**В столбце user_score** были данные с аббревиатурой tbd, что переводится как - Будет определено. Можем предположить, что игра вышла недавно или оценок не достаточно для формирования рейтинга, в связи с этим также перевели эти значения в заглушки (-1). Здесь использовали числа в качестве заглушки, для дальнейшего перевода стотбца в тип данных float\n"
   ]
  },
  {
   "cell_type": "markdown",
   "metadata": {},
   "source": [
    "### Исследовательский анализ данных"
   ]
  },
  {
   "cell_type": "markdown",
   "metadata": {},
   "source": [
    "**Посмотрим, сколько игр выпускалось в разные годы, и важны ли данные за все периоды?**"
   ]
  },
  {
   "cell_type": "code",
   "execution_count": 14,
   "metadata": {},
   "outputs": [
    {
     "data": {
      "text/plain": [
       "<AxesSubplot:>"
      ]
     },
     "execution_count": 14,
     "metadata": {},
     "output_type": "execute_result"
    },
    {
     "data": {
      "image/png": "[encoded data removed]",
      "text/plain": [
       "<Figure size 640x480 with 1 Axes>"
      ]
     },
     "metadata": {},
     "output_type": "display_data"
    }
   ],
   "source": [
    "df['year_of_release'].hist(bins=35)"
   ]
  },
  {
   "cell_type": "markdown",
   "metadata": {},
   "source": [
    "Самый пик выпуска игр приходил на 2006-8 годы - их выпускадось более 1400 шт в год.\n",
    "\n",
    "Не все данные будут важны для анализа - можно взять данные с 2014 года, когда начался подъем. Все что ранее не соответствует текущему спросу. "
   ]
  },
  {
   "cell_type": "code",
   "execution_count": 15,
   "metadata": {},
   "outputs": [
    {
     "data": {
      "text/html": [
       "<div>\n",
       "<style scoped>\n",
       "    .dataframe tbody tr th:only-of-type {\n",
       "        vertical-align: middle;\n",
       "    }\n",
       "\n",
       "    .dataframe tbody tr th {\n",
       "        vertical-align: top;\n",
       "    }\n",
       "\n",
       "    .dataframe thead th {\n",
       "        text-align: right;\n",
       "    }\n",
       "</style>\n",
       "<table border=\"1\" class=\"dataframe\">\n",
       "  <thead>\n",
       "    <tr style=\"text-align: right;\">\n",
       "      <th></th>\n",
       "      <th>index</th>\n",
       "      <th>name</th>\n",
       "      <th>platform</th>\n",
       "      <th>year_of_release</th>\n",
       "      <th>genre</th>\n",
       "      <th>na_sales</th>\n",
       "      <th>eu_sales</th>\n",
       "      <th>jp_sales</th>\n",
       "      <th>other_sales</th>\n",
       "      <th>critic_score</th>\n",
       "      <th>user_score</th>\n",
       "      <th>rating</th>\n",
       "      <th>total_sales</th>\n",
       "    </tr>\n",
       "  </thead>\n",
       "  <tbody>\n",
       "    <tr>\n",
       "      <th>0</th>\n",
       "      <td>31</td>\n",
       "      <td>Call of Duty: Black Ops 3</td>\n",
       "      <td>PS4</td>\n",
       "      <td>2015</td>\n",
       "      <td>Shooter</td>\n",
       "      <td>6.03</td>\n",
       "      <td>5.86</td>\n",
       "      <td>0.36</td>\n",
       "      <td>2.38</td>\n",
       "      <td>-1.0</td>\n",
       "      <td>-1.0</td>\n",
       "      <td>неизвестно</td>\n",
       "      <td>14.63</td>\n",
       "    </tr>\n",
       "    <tr>\n",
       "      <th>1</th>\n",
       "      <td>42</td>\n",
       "      <td>Grand Theft Auto V</td>\n",
       "      <td>PS4</td>\n",
       "      <td>2014</td>\n",
       "      <td>Action</td>\n",
       "      <td>3.96</td>\n",
       "      <td>6.31</td>\n",
       "      <td>0.38</td>\n",
       "      <td>1.97</td>\n",
       "      <td>97.0</td>\n",
       "      <td>8.3</td>\n",
       "      <td>M</td>\n",
       "      <td>12.62</td>\n",
       "    </tr>\n",
       "    <tr>\n",
       "      <th>2</th>\n",
       "      <td>47</td>\n",
       "      <td>Pokemon Omega Ruby/Pokemon Alpha Sapphire</td>\n",
       "      <td>3DS</td>\n",
       "      <td>2014</td>\n",
       "      <td>Role-Playing</td>\n",
       "      <td>4.35</td>\n",
       "      <td>3.49</td>\n",
       "      <td>3.10</td>\n",
       "      <td>0.74</td>\n",
       "      <td>-1.0</td>\n",
       "      <td>-1.0</td>\n",
       "      <td>неизвестно</td>\n",
       "      <td>11.68</td>\n",
       "    </tr>\n",
       "    <tr>\n",
       "      <th>3</th>\n",
       "      <td>77</td>\n",
       "      <td>FIFA 16</td>\n",
       "      <td>PS4</td>\n",
       "      <td>2015</td>\n",
       "      <td>Sports</td>\n",
       "      <td>1.12</td>\n",
       "      <td>6.12</td>\n",
       "      <td>0.06</td>\n",
       "      <td>1.28</td>\n",
       "      <td>82.0</td>\n",
       "      <td>4.3</td>\n",
       "      <td>E</td>\n",
       "      <td>8.58</td>\n",
       "    </tr>\n",
       "    <tr>\n",
       "      <th>4</th>\n",
       "      <td>87</td>\n",
       "      <td>Star Wars Battlefront (2015)</td>\n",
       "      <td>PS4</td>\n",
       "      <td>2015</td>\n",
       "      <td>Shooter</td>\n",
       "      <td>2.99</td>\n",
       "      <td>3.49</td>\n",
       "      <td>0.22</td>\n",
       "      <td>1.28</td>\n",
       "      <td>-1.0</td>\n",
       "      <td>-1.0</td>\n",
       "      <td>неизвестно</td>\n",
       "      <td>7.98</td>\n",
       "    </tr>\n",
       "    <tr>\n",
       "      <th>...</th>\n",
       "      <td>...</td>\n",
       "      <td>...</td>\n",
       "      <td>...</td>\n",
       "      <td>...</td>\n",
       "      <td>...</td>\n",
       "      <td>...</td>\n",
       "      <td>...</td>\n",
       "      <td>...</td>\n",
       "      <td>...</td>\n",
       "      <td>...</td>\n",
       "      <td>...</td>\n",
       "      <td>...</td>\n",
       "      <td>...</td>\n",
       "    </tr>\n",
       "    <tr>\n",
       "      <th>1684</th>\n",
       "      <td>16703</td>\n",
       "      <td>Strawberry Nauts</td>\n",
       "      <td>PSV</td>\n",
       "      <td>2016</td>\n",
       "      <td>Adventure</td>\n",
       "      <td>0.00</td>\n",
       "      <td>0.00</td>\n",
       "      <td>0.01</td>\n",
       "      <td>0.00</td>\n",
       "      <td>-1.0</td>\n",
       "      <td>-1.0</td>\n",
       "      <td>неизвестно</td>\n",
       "      <td>0.01</td>\n",
       "    </tr>\n",
       "    <tr>\n",
       "      <th>1685</th>\n",
       "      <td>16707</td>\n",
       "      <td>Aiyoku no Eustia</td>\n",
       "      <td>PSV</td>\n",
       "      <td>2014</td>\n",
       "      <td>Misc</td>\n",
       "      <td>0.00</td>\n",
       "      <td>0.00</td>\n",
       "      <td>0.01</td>\n",
       "      <td>0.00</td>\n",
       "      <td>-1.0</td>\n",
       "      <td>-1.0</td>\n",
       "      <td>неизвестно</td>\n",
       "      <td>0.01</td>\n",
       "    </tr>\n",
       "    <tr>\n",
       "      <th>1686</th>\n",
       "      <td>16710</td>\n",
       "      <td>Samurai Warriors: Sanada Maru</td>\n",
       "      <td>PS3</td>\n",
       "      <td>2016</td>\n",
       "      <td>Action</td>\n",
       "      <td>0.00</td>\n",
       "      <td>0.00</td>\n",
       "      <td>0.01</td>\n",
       "      <td>0.00</td>\n",
       "      <td>-1.0</td>\n",
       "      <td>-1.0</td>\n",
       "      <td>неизвестно</td>\n",
       "      <td>0.01</td>\n",
       "    </tr>\n",
       "    <tr>\n",
       "      <th>1687</th>\n",
       "      <td>16712</td>\n",
       "      <td>Haitaka no Psychedelica</td>\n",
       "      <td>PSV</td>\n",
       "      <td>2016</td>\n",
       "      <td>Adventure</td>\n",
       "      <td>0.00</td>\n",
       "      <td>0.00</td>\n",
       "      <td>0.01</td>\n",
       "      <td>0.00</td>\n",
       "      <td>-1.0</td>\n",
       "      <td>-1.0</td>\n",
       "      <td>неизвестно</td>\n",
       "      <td>0.01</td>\n",
       "    </tr>\n",
       "    <tr>\n",
       "      <th>1688</th>\n",
       "      <td>16714</td>\n",
       "      <td>Winning Post 8 2016</td>\n",
       "      <td>PSV</td>\n",
       "      <td>2016</td>\n",
       "      <td>Simulation</td>\n",
       "      <td>0.00</td>\n",
       "      <td>0.00</td>\n",
       "      <td>0.01</td>\n",
       "      <td>0.00</td>\n",
       "      <td>-1.0</td>\n",
       "      <td>-1.0</td>\n",
       "      <td>неизвестно</td>\n",
       "      <td>0.01</td>\n",
       "    </tr>\n",
       "  </tbody>\n",
       "</table>\n",
       "<p>1689 rows × 13 columns</p>\n",
       "</div>"
      ],
      "text/plain": [
       "      index                                       name platform  \\\n",
       "0        31                  Call of Duty: Black Ops 3      PS4   \n",
       "1        42                         Grand Theft Auto V      PS4   \n",
       "2        47  Pokemon Omega Ruby/Pokemon Alpha Sapphire      3DS   \n",
       "3        77                                    FIFA 16      PS4   \n",
       "4        87               Star Wars Battlefront (2015)      PS4   \n",
       "...     ...                                        ...      ...   \n",
       "1684  16703                           Strawberry Nauts      PSV   \n",
       "1685  16707                           Aiyoku no Eustia      PSV   \n",
       "1686  16710              Samurai Warriors: Sanada Maru      PS3   \n",
       "1687  16712                    Haitaka no Psychedelica      PSV   \n",
       "1688  16714                        Winning Post 8 2016      PSV   \n",
       "\n",
       "      year_of_release         genre  na_sales  eu_sales  jp_sales  \\\n",
       "0                2015       Shooter      6.03      5.86      0.36   \n",
       "1                2014        Action      3.96      6.31      0.38   \n",
       "2                2014  Role-Playing      4.35      3.49      3.10   \n",
       "3                2015        Sports      1.12      6.12      0.06   \n",
       "4                2015       Shooter      2.99      3.49      0.22   \n",
       "...               ...           ...       ...       ...       ...   \n",
       "1684             2016     Adventure      0.00      0.00      0.01   \n",
       "1685             2014          Misc      0.00      0.00      0.01   \n",
       "1686             2016        Action      0.00      0.00      0.01   \n",
       "1687             2016     Adventure      0.00      0.00      0.01   \n",
       "1688             2016    Simulation      0.00      0.00      0.01   \n",
       "\n",
       "      other_sales  critic_score  user_score      rating  total_sales  \n",
       "0            2.38          -1.0        -1.0  неизвестно        14.63  \n",
       "1            1.97          97.0         8.3           M        12.62  \n",
       "2            0.74          -1.0        -1.0  неизвестно        11.68  \n",
       "3            1.28          82.0         4.3           E         8.58  \n",
       "4            1.28          -1.0        -1.0  неизвестно         7.98  \n",
       "...           ...           ...         ...         ...          ...  \n",
       "1684         0.00          -1.0        -1.0  неизвестно         0.01  \n",
       "1685         0.00          -1.0        -1.0  неизвестно         0.01  \n",
       "1686         0.00          -1.0        -1.0  неизвестно         0.01  \n",
       "1687         0.00          -1.0        -1.0  неизвестно         0.01  \n",
       "1688         0.00          -1.0        -1.0  неизвестно         0.01  \n",
       "\n",
       "[1689 rows x 13 columns]"
      ]
     },
     "execution_count": 15,
     "metadata": {},
     "output_type": "execute_result"
    }
   ],
   "source": [
    "#делаем срез на основе выбранного периода\n",
    "df = df.query(\"2014 <= year_of_release <= 2016\")\n",
    "df.reset_index()"
   ]
  },
  {
   "cell_type": "markdown",
   "metadata": {},
   "source": [
    "**Посмотрите, как менялись продажи по платформам. Выберите платформы с наибольшими суммарными продажами и постройте распределение по годам.**"
   ]
  },
  {
   "cell_type": "code",
   "execution_count": 16,
   "metadata": {},
   "outputs": [
    {
     "data": {
      "text/html": [
       "<div>\n",
       "<style scoped>\n",
       "    .dataframe tbody tr th:only-of-type {\n",
       "        vertical-align: middle;\n",
       "    }\n",
       "\n",
       "    .dataframe tbody tr th {\n",
       "        vertical-align: top;\n",
       "    }\n",
       "\n",
       "    .dataframe thead th {\n",
       "        text-align: right;\n",
       "    }\n",
       "</style>\n",
       "<table border=\"1\" class=\"dataframe\">\n",
       "  <thead>\n",
       "    <tr style=\"text-align: right;\">\n",
       "      <th></th>\n",
       "      <th>platform</th>\n",
       "      <th>total_sales</th>\n",
       "    </tr>\n",
       "  </thead>\n",
       "  <tbody>\n",
       "    <tr>\n",
       "      <th>3</th>\n",
       "      <td>PS4</td>\n",
       "      <td>288.15</td>\n",
       "    </tr>\n",
       "    <tr>\n",
       "      <th>9</th>\n",
       "      <td>XOne</td>\n",
       "      <td>140.36</td>\n",
       "    </tr>\n",
       "    <tr>\n",
       "      <th>0</th>\n",
       "      <td>3DS</td>\n",
       "      <td>86.68</td>\n",
       "    </tr>\n",
       "    <tr>\n",
       "      <th>2</th>\n",
       "      <td>PS3</td>\n",
       "      <td>68.18</td>\n",
       "    </tr>\n",
       "    <tr>\n",
       "      <th>8</th>\n",
       "      <td>X360</td>\n",
       "      <td>48.22</td>\n",
       "    </tr>\n",
       "    <tr>\n",
       "      <th>7</th>\n",
       "      <td>WiiU</td>\n",
       "      <td>42.98</td>\n",
       "    </tr>\n",
       "    <tr>\n",
       "      <th>1</th>\n",
       "      <td>PC</td>\n",
       "      <td>27.05</td>\n",
       "    </tr>\n",
       "    <tr>\n",
       "      <th>5</th>\n",
       "      <td>PSV</td>\n",
       "      <td>22.40</td>\n",
       "    </tr>\n",
       "    <tr>\n",
       "      <th>6</th>\n",
       "      <td>Wii</td>\n",
       "      <td>5.07</td>\n",
       "    </tr>\n",
       "    <tr>\n",
       "      <th>4</th>\n",
       "      <td>PSP</td>\n",
       "      <td>0.36</td>\n",
       "    </tr>\n",
       "  </tbody>\n",
       "</table>\n",
       "</div>"
      ],
      "text/plain": [
       "  platform  total_sales\n",
       "3      PS4       288.15\n",
       "9     XOne       140.36\n",
       "0      3DS        86.68\n",
       "2      PS3        68.18\n",
       "8     X360        48.22\n",
       "7     WiiU        42.98\n",
       "1       PC        27.05\n",
       "5      PSV        22.40\n",
       "6      Wii         5.07\n",
       "4      PSP         0.36"
      ]
     },
     "execution_count": 16,
     "metadata": {},
     "output_type": "execute_result"
    },
    {
     "data": {
      "image/png": "[encoded data removed]",
      "text/plain": [
       "<Figure size 1500x700 with 1 Axes>"
      ]
     },
     "metadata": {},
     "output_type": "display_data"
    }
   ],
   "source": [
    "#Считаем продажи по платформам\n",
    "platform_sales = df.pivot_table(index=('platform'), values='total_sales', aggfunc=(sum)).reset_index().sort_values(by='total_sales', ascending=False).head(10)\n",
    "#Сохраняем переменную с максимальными продажами по платформам\n",
    "platform_sales_top = platform_sales['platform']\n",
    "#Строим график\n",
    "df.query('platform in @platform_sales_top')\\\n",
    ".pivot_table(index='year_of_release', values='total_sales', columns='platform', aggfunc='sum')\\\n",
    ".plot(kind='line', figsize=(15,7), title='Распределение продаж по платформам в разрезе годов')\n",
    "\n",
    "platform_sales"
   ]
  },
  {
   "cell_type": "markdown",
   "metadata": {},
   "source": [
    "**За какой характерный срок появляются новые и исчезают старые платформы?**"
   ]
  },
  {
   "cell_type": "markdown",
   "metadata": {},
   "source": [
    "В среднем срок жизни платформ более 3 лет. За последние три года не появилось ни одной новой платформы. Исчезла одна - PSP."
   ]
  },
  {
   "cell_type": "markdown",
   "metadata": {},
   "source": [
    "**Какие платформы лидируют по продажам, растут или падают? Выберите несколько потенциально прибыльных платформ.**"
   ]
  },
  {
   "cell_type": "markdown",
   "metadata": {},
   "source": [
    "Платформы, которые лидируют по продажам и растут - PS4, XOne. Данные за 2016 год не полные, поэтому мы видим спадю. Они яяются для нас максимально потенциально прибыльными. Платформы с тредом на снижение продаж - 3DS, PS3, X360."
   ]
  },
  {
   "cell_type": "markdown",
   "metadata": {},
   "source": [
    "**Постройте график «ящик с усами» по глобальным продажам игр в разбивке по платформам. Опишите результат.**"
   ]
  },
  {
   "cell_type": "code",
   "execution_count": 17,
   "metadata": {},
   "outputs": [
    {
     "data": {
      "image/png": "[encoded data removed]",
      "text/plain": [
       "<Figure size 1500x700 with 1 Axes>"
      ]
     },
     "metadata": {},
     "output_type": "display_data"
    }
   ],
   "source": [
    "df.boxplot(column='total_sales', by='platform',figsize=(15,7))\n",
    "plt.ylim(0,4)\n",
    "plt.show()"
   ]
  },
  {
   "cell_type": "markdown",
   "metadata": {},
   "source": [
    "В целом, если рассматривать продажи игр по всем платформам, то лидерами продаж являются также PS4 и XOne. Они же являются платформами с рекордным продажами, т.е с максимальным количеством выбросов на масимальных отметках. Также есть платформы с продажами менее 500 тыс копий -PS, PSP, PSV."
   ]
  },
  {
   "cell_type": "markdown",
   "metadata": {},
   "source": [
    "**Посмотрите, как влияют на продажи внутри одной популярной платформы отзывы пользователей и критиков. Постройте диаграмму рассеяния и посчитайте корреляцию между отзывами и продажами. Сформулируйте выводы.**\n",
    "\n",
    "Возьмем для анализа платформу XOne"
   ]
  },
  {
   "cell_type": "code",
   "execution_count": 18,
   "metadata": {},
   "outputs": [
    {
     "data": {
      "image/png": "[encoded data removed]",
      "text/plain": [
       "<Figure size 500x500 with 1 Axes>"
      ]
     },
     "metadata": {},
     "output_type": "display_data"
    },
    {
     "data": {
      "text/plain": [
       "0.2774264504338379"
      ]
     },
     "execution_count": 18,
     "metadata": {},
     "output_type": "execute_result"
    }
   ],
   "source": [
    "# делаем срез по платформе без учета данных заглушки -1 в отзывах и строим диаграмму\n",
    "user_score = df.query('platform == \"XOne\"')\n",
    "user_score = user_score[user_score['critic_score'] != -1].reset_index()\n",
    "user_score.plot(x='critic_score', y='total_sales', kind='scatter', alpha=0.3, figsize=(5,5), grid=True)\n",
    "plt.show()\n",
    "user_score['user_score'].corr(df['total_sales'])"
   ]
  },
  {
   "cell_type": "code",
   "execution_count": 19,
   "metadata": {},
   "outputs": [
    {
     "data": {
      "image/png": "[encoded data removed]",
      "text/plain": [
       "<Figure size 500x500 with 1 Axes>"
      ]
     },
     "metadata": {},
     "output_type": "display_data"
    },
    {
     "data": {
      "text/plain": [
       "0.2601026361585305"
      ]
     },
     "execution_count": 19,
     "metadata": {},
     "output_type": "execute_result"
    }
   ],
   "source": [
    "# делаем срез по платформе без учета данных заглушки -1 в отзывах и строим диаграмму\n",
    "critic_score = df.query('platform == \"XOne\"')\n",
    "critic_score = critic_score[critic_score['user_score'] != -1].reset_index()\n",
    "critic_score.plot(x='user_score', y='total_sales', kind='scatter', alpha=0.3, figsize=(5,5), grid=True)\n",
    "plt.show()\n",
    "critic_score['user_score'].corr(df['total_sales'])"
   ]
  },
  {
   "cell_type": "markdown",
   "metadata": {},
   "source": [
    "Рассмотрим на примере платформы ХOne. Отзывы пользователей и критикоов имеют небольшое положительное влияние на продажи и могут быть дополнительныс стимулом купить игру."
   ]
  },
  {
   "cell_type": "markdown",
   "metadata": {},
   "source": [
    "**Соотнесите выводы с продажами игр на других платформах.**"
   ]
  },
  {
   "cell_type": "markdown",
   "metadata": {},
   "source": [
    "Рассмотрим другие популярные патформы\n",
    "\n",
    "**PS4**"
   ]
  },
  {
   "cell_type": "code",
   "execution_count": 20,
   "metadata": {},
   "outputs": [
    {
     "data": {
      "image/png": "[encoded data removed]",
      "text/plain": [
       "<Figure size 500x500 with 1 Axes>"
      ]
     },
     "metadata": {},
     "output_type": "display_data"
    },
    {
     "name": "stdout",
     "output_type": "stream",
     "text": [
      "-0.04814704997283808\n"
     ]
    },
    {
     "data": {
      "image/png": "[encoded data removed]",
      "text/plain": [
       "<Figure size 500x500 with 1 Axes>"
      ]
     },
     "metadata": {},
     "output_type": "display_data"
    },
    {
     "data": {
      "text/plain": [
       "0.09906118548296722"
      ]
     },
     "execution_count": 20,
     "metadata": {},
     "output_type": "execute_result"
    }
   ],
   "source": [
    "# делаем срез по платформе без учета данных заглушки -1 в отзывах и строим диаграмму\n",
    "user_score_ps4 = df.query('platform == \"PS4\"') \n",
    "user_score_ps4 = user_score_ps4[user_score_ps4['critic_score'] != -1].reset_index()\n",
    "user_score_ps4.plot(x='critic_score', y='total_sales', kind='scatter', alpha=0.3, figsize=(5,5), grid=True)\n",
    "plt.show()\n",
    "print(user_score_ps4['user_score'].corr(df['total_sales']))\n",
    "\n",
    "# делаем срез по платформе без учета данных заглушки -1 в отзывах и строим диаграмму\n",
    "critic_score_ps4 = df.query('platform == \"PS4\"')\n",
    "critic_score_ps4 = user_score_ps4[user_score_ps4['user_score'] != -1].reset_index()\n",
    "critic_score_ps4.plot(x='user_score', y='total_sales', kind='scatter', alpha=0.3, figsize=(5,5), grid=True)\n",
    "plt.show()\n",
    "critic_score_ps4['user_score'].corr(df['total_sales'])"
   ]
  },
  {
   "cell_type": "markdown",
   "metadata": {},
   "source": [
    "Отзывы пользователей имеют небольшое положительное влияние на продажи, не существенно влияют на продажи. Отзывы критиков имеют отрицательное влияние на продажи и могут иметь значение при покупке игры."
   ]
  },
  {
   "cell_type": "markdown",
   "metadata": {},
   "source": [
    "**3DS**"
   ]
  },
  {
   "cell_type": "code",
   "execution_count": 21,
   "metadata": {},
   "outputs": [
    {
     "data": {
      "image/png": "[encoded data removed]",
      "text/plain": [
       "<Figure size 500x500 with 1 Axes>"
      ]
     },
     "metadata": {},
     "output_type": "display_data"
    },
    {
     "name": "stdout",
     "output_type": "stream",
     "text": [
      "0.7702543029403343\n"
     ]
    },
    {
     "data": {
      "image/png": "[encoded data removed]",
      "text/plain": [
       "<Figure size 500x500 with 1 Axes>"
      ]
     },
     "metadata": {},
     "output_type": "display_data"
    },
    {
     "data": {
      "text/plain": [
       "1.0"
      ]
     },
     "execution_count": 21,
     "metadata": {},
     "output_type": "execute_result"
    }
   ],
   "source": [
    "# делаем срез по платформе без учета данных заглушки -1 в отзывах и строим диаграмму\n",
    "user_score_3ds = df.query('platform == \"3DS\"') \n",
    "user_score_3ds = user_score_3ds[user_score_3ds['critic_score'] != -1].reset_index()\n",
    "user_score_3ds.plot(x='critic_score', y='total_sales', kind='scatter', alpha=0.3, figsize=(5,5), grid=True)\n",
    "plt.show()\n",
    "print(user_score_3ds['user_score'].corr(df['total_sales']))\n",
    "\n",
    "# делаем срез по платформе без учета данных заглушки -1 в отзывах и строим диаграмму\n",
    "critic_score_3ds = df.query('platform == \"PS4\"')\n",
    "critic_score_3ds = user_score_3ds[user_score_3ds['user_score'] != -1].reset_index()\n",
    "critic_score_3ds.plot(x='user_score', y='total_sales', kind='scatter', alpha=0.3, figsize=(5,5), grid=True)\n",
    "plt.show()\n",
    "critic_score_3ds['user_score'].corr(df['total_sales'])"
   ]
  },
  {
   "cell_type": "markdown",
   "metadata": {},
   "source": [
    "Отзывы пользователей и критиков имеют положительное влияние на продажи, существенно влияют на них. Однако по сравнению с предыдущими платформами отзывы на эту платформу оставляли не много, поэтому данных не достаточно для полного вывода."
   ]
  },
  {
   "cell_type": "markdown",
   "metadata": {},
   "source": [
    "**Посмотрите на общее распределение игр по жанрам. Что можно сказать о самых прибыльных жанрах? Выделяются ли жанры с высокими и низкими продажами?**"
   ]
  },
  {
   "cell_type": "code",
   "execution_count": 22,
   "metadata": {},
   "outputs": [
    {
     "data": {
      "text/plain": [
       "<AxesSubplot:title={'center':'Распределение продаж по жанрам'}, xlabel='genre'>"
      ]
     },
     "execution_count": 22,
     "metadata": {},
     "output_type": "execute_result"
    },
    {
     "data": {
      "image/png": "[encoded data removed]",
      "text/plain": [
       "<Figure size 1500x700 with 1 Axes>"
      ]
     },
     "metadata": {},
     "output_type": "display_data"
    }
   ],
   "source": [
    "#Считаем продажи по genre\n",
    "genre_sales = df.pivot_table(index=('genre'), values='total_sales', aggfunc=(sum)).reset_index().sort_values(by='total_sales', ascending=False)\n",
    "#Сохраняем переменную с максимальными продажами по жанрам\n",
    "genre_sales_top = genre_sales['genre']\n",
    "#Строим график\n",
    "df.query('genre in @genre_sales_top')\\\n",
    ".pivot_table(index='genre', values='total_sales', aggfunc='median').sort_values(by='total_sales', ascending=False)\\\n",
    ".plot(kind='bar', figsize=(15,7), title='Распределение продаж по жанрам')\n"
   ]
  },
  {
   "cell_type": "markdown",
   "metadata": {},
   "source": [
    "Самые прибыльные жанры -  Shooter, Sports, Plstform, Fighting, Role-Playing, самые низкие прожажи у жанров - Adventure, Puzzle, Strategy, Racing"
   ]
  },
  {
   "cell_type": "markdown",
   "metadata": {},
   "source": [
    "**Вывод блока:**\n",
    "1. Самый пик выпуска игр приходил на 2006-8 годы - их выпускадось более 1400 шт в год. Взяли данные с 2014 года, когда начался подъем. Все что ранее не соответствует текущему спросу.\n",
    "2. В среднем срок жизни платформ более 3 лет. За последние три года не появилось ни одной новой платформы. Исчезла одна - PSP.\n",
    "3. Платформы, которые лидируют по продажам и растут - PS4, XOne. Данные за 2016 год не полные, поэтому мы видим спадю. Они яяются для нас максимально потенциально прибыльными. Платформы с тредом на снижение продаж - 3DS, PS3, X360.\n",
    "4. В целом, если рассматривать продажи игр по всем платформам, то лидерами продаж являются также PS4 и XOne. Они же являются платформами с рекордным продажами, т.е с максимальным количеством выбросов на масимальных отметках. Также есть платформы с продажами менее 500 тыс копий -PS, PSP, PSV.\n",
    "5. На разные платформы отзывы критиков и пользователей оказывают разное влияние, как положительное так и отрицательное.\n",
    "6. Самые прибыльные жанры - Shooter, Sports, Plstform, Fighting, Role-Playing, самые низкие прожажи у жанров - Adventure, Puzzle, Strategy, Racing"
   ]
  },
  {
   "cell_type": "markdown",
   "metadata": {},
   "source": [
    "### Составьте портрет пользователя каждого региона"
   ]
  },
  {
   "cell_type": "markdown",
   "metadata": {},
   "source": [
    "**Самые популярные платформы (топ-5). Опишите различия в долях продаж.**"
   ]
  },
  {
   "cell_type": "code",
   "execution_count": 23,
   "metadata": {},
   "outputs": [
    {
     "data": {
      "image/png": "[encoded data removed]",
      "text/plain": [
       "<Figure size 800x500 with 1 Axes>"
      ]
     },
     "metadata": {},
     "output_type": "display_data"
    }
   ],
   "source": [
    "# ТОП-5 самых популярных платформ в Северной Америке \n",
    "#группируем по платформе\n",
    "platform_na = df.groupby('platform')['na_sales'].sum().sort_values(ascending=False).head(5)\n",
    "#построим гистограмму\n",
    "platform_na.plot(x='platform', y='na_sales', kind='pie', figsize=(8,5), grid=True, title = 'ТОП-5 самых популярных платформ в Северной Америке')\n",
    "\n",
    "plt.show()"
   ]
  },
  {
   "cell_type": "markdown",
   "metadata": {},
   "source": [
    "Северная Америка:\n",
    "1. PS4\n",
    "2. XOne\n",
    "3. X360\n",
    "4. 3DS\n",
    "5. PS3"
   ]
  },
  {
   "cell_type": "code",
   "execution_count": 24,
   "metadata": {},
   "outputs": [
    {
     "data": {
      "image/png": "[encoded data removed]",
      "text/plain": [
       "<Figure size 800x500 with 1 Axes>"
      ]
     },
     "metadata": {},
     "output_type": "display_data"
    }
   ],
   "source": [
    "# ТОП-5 самых популярных платформ в Европе \n",
    "#группируем по платформе\n",
    "platform_eu = df.groupby('platform')['eu_sales'].sum().sort_values(ascending=False).head(5)\n",
    "#построим гистограмму\n",
    "platform_eu.plot(x='platform', y='eu_sales', kind='pie', figsize=(8,5), grid=True, title = 'ТОП-5 самых популярных платформ в Европе')\n",
    "plt.show()"
   ]
  },
  {
   "cell_type": "markdown",
   "metadata": {},
   "source": [
    "Европа:\n",
    "1. PS4\n",
    "2. ХOne\n",
    "3. PS3\n",
    "4. PC\n",
    "5. 3DS"
   ]
  },
  {
   "cell_type": "code",
   "execution_count": 25,
   "metadata": {},
   "outputs": [
    {
     "data": {
      "image/png": "[encoded data removed]",
      "text/plain": [
       "<Figure size 800x500 with 1 Axes>"
      ]
     },
     "metadata": {},
     "output_type": "display_data"
    }
   ],
   "source": [
    "# ТОП-5 самых популярных платформ в Японии\n",
    "#группируем по платформе\n",
    "platform_jp = df.groupby('platform')['jp_sales'].sum().sort_values(ascending=False).head(5)\n",
    "#построим гистограмму\n",
    "platform_jp.plot(x='platform', y='jp_sales', kind='pie', figsize=(8,5), grid=True, title = 'ТОП-5 самых популярных платформ в Японии')\n",
    "plt.show()"
   ]
  },
  {
   "cell_type": "markdown",
   "metadata": {},
   "source": [
    "Япония:\n",
    "1. 3DS\n",
    "2. PS4\n",
    "3. PSV\n",
    "4. PS3\n",
    "5. WiiU"
   ]
  },
  {
   "cell_type": "markdown",
   "metadata": {},
   "source": [
    "Самые популярные жанры (топ-5). Поясните разницу."
   ]
  },
  {
   "cell_type": "code",
   "execution_count": 26,
   "metadata": {},
   "outputs": [
    {
     "data": {
      "image/png": "[encoded data removed]",
      "text/plain": [
       "<Figure size 800x500 with 1 Axes>"
      ]
     },
     "metadata": {},
     "output_type": "display_data"
    }
   ],
   "source": [
    "# ТОП-5 самых популярных жанров в Северной Америке \n",
    "#группируем по платформе\n",
    "genre_na = df.groupby('genre')['na_sales'].sum().sort_values(ascending=False).head(5)\n",
    "#построим гистограмму\n",
    "genre_na.plot(x='genre', y='na_sales', kind='bar', figsize=(8,5), grid=True, title = 'ТОП-5 самых популярных жанров в Северной Америке')\n",
    "plt.xlabel('Жанр')\n",
    "plt.ylabel('Продажи')\n",
    "plt.show()"
   ]
  },
  {
   "cell_type": "code",
   "execution_count": 27,
   "metadata": {},
   "outputs": [
    {
     "data": {
      "image/png": "[encoded data removed]",
      "text/plain": [
       "<Figure size 800x500 with 1 Axes>"
      ]
     },
     "metadata": {},
     "output_type": "display_data"
    }
   ],
   "source": [
    "# ТОП-5 самых популярных жанров в европе \n",
    "#группируем по платформе\n",
    "genre_eu = df.groupby('genre')['eu_sales'].sum().sort_values(ascending=False).head(5)\n",
    "#построим гистограмму\n",
    "genre_eu.plot(x='genre', y='eu_sales', kind='bar', figsize=(8,5), grid=True, title = 'ТОП-5 самых популярных жанров в Европе')\n",
    "plt.xlabel('Жанр')\n",
    "plt.ylabel('Продажи')\n",
    "plt.show()"
   ]
  },
  {
   "cell_type": "code",
   "execution_count": 28,
   "metadata": {},
   "outputs": [
    {
     "data": {
      "image/png": "[encoded data removed]",
      "text/plain": [
       "<Figure size 800x500 with 1 Axes>"
      ]
     },
     "metadata": {},
     "output_type": "display_data"
    }
   ],
   "source": [
    "# ТОП-5 самых популярных жанров в Японии \n",
    "#группируем по платформе\n",
    "genre_jp = df.groupby('genre')['jp_sales'].sum().sort_values(ascending=False).head(5)\n",
    "#построим гистограмму\n",
    "genre_jp.plot(x='genre', y='jp_sales', kind='bar', figsize=(8,5), grid=True, title = 'ТОП-5 самых популярных жанров в Японии')\n",
    "plt.xlabel('Жанр')\n",
    "plt.ylabel('Продажи')\n",
    "plt.show()"
   ]
  },
  {
   "cell_type": "markdown",
   "metadata": {},
   "source": [
    "Портрет пользователя Европейца похож на жителя Северной Америки, популярные жанры в этих странах очени схожи - в топе Action, Sports и Shooter. Однако для Японцев топ 5 выглдит немного иначе - очень популярны жанры Role-Playing и Figting, что не характерно для жителей других полушарий."
   ]
  },
  {
   "cell_type": "markdown",
   "metadata": {},
   "source": [
    "**Влияет ли рейтинг ESRB на продажи в отдельном регионе?**"
   ]
  },
  {
   "cell_type": "code",
   "execution_count": 29,
   "metadata": {},
   "outputs": [
    {
     "data": {
      "image/png": "[encoded data removed]",
      "text/plain": [
       "<Figure size 800x500 with 1 Axes>"
      ]
     },
     "metadata": {},
     "output_type": "display_data"
    }
   ],
   "source": [
    "# Рейтинг в Северной Америке \n",
    "#группируем по рейтингу\n",
    "rating_na = df.groupby('rating')['na_sales'].sum().sort_values(ascending=False)\n",
    "#построим гистограмму\n",
    "rating_na.plot(x='rating', y='na_sales', kind='bar', figsize=(8,5), grid=True, title = 'Рейтинг ESRB в Северной Америке')\n",
    "plt.xlabel('Рейтинг ESRB')\n",
    "plt.ylabel('Продажи')\n",
    "plt.show()"
   ]
  },
  {
   "cell_type": "code",
   "execution_count": 30,
   "metadata": {},
   "outputs": [
    {
     "data": {
      "image/png": "[encoded data removed]",
      "text/plain": [
       "<Figure size 800x500 with 1 Axes>"
      ]
     },
     "metadata": {},
     "output_type": "display_data"
    }
   ],
   "source": [
    "# Рейтинг в Европе \n",
    "#группируем по рейтингу\n",
    "rating_eu = df.groupby('rating')['eu_sales'].sum().sort_values(ascending=False)\n",
    "#построим гистограмму\n",
    "rating_eu.plot(x='rating', y='eu_sales', kind='bar', figsize=(8,5), grid=True, title = 'Рейтинг ESRB в Европе')\n",
    "plt.xlabel('Рейтинг ESRB')\n",
    "plt.ylabel('Продажи')\n",
    "plt.show()"
   ]
  },
  {
   "cell_type": "code",
   "execution_count": 31,
   "metadata": {},
   "outputs": [
    {
     "data": {
      "image/png": "[encoded data removed]",
      "text/plain": [
       "<Figure size 640x480 with 1 Axes>"
      ]
     },
     "metadata": {},
     "output_type": "display_data"
    }
   ],
   "source": [
    "# Рейтинг в Японии\n",
    "#группируем по рейтингу\n",
    "rating_jp = df.groupby('rating')['jp_sales'].sum().sort_values(ascending=False)\n",
    "#построим гистограмму\n",
    "plt.xlabel('Рейтинг ESRB')\n",
    "plt.ylabel('Продажи')\n",
    "plt.show()"
   ]
  },
  {
   "cell_type": "markdown",
   "metadata": {},
   "source": [
    "Рейтинг ESRB в  Америке и Европе превалирует M - зрелые. В Японии же более популярны игры с рейтингом T - подросток"
   ]
  },
  {
   "cell_type": "markdown",
   "metadata": {},
   "source": [
    "### Проверьте гипотезы"
   ]
  },
  {
   "cell_type": "markdown",
   "metadata": {},
   "source": [
    "**Средние пользовательские рейтинги платформ Xbox One и PC одинаковые**\n",
    "\n",
    "Нулевая гипотеза - Средние пользовательские рейтинги платформ Xbox One и PC одинаковые\n",
    "\n",
    "Альтернативная гипотеза - Средние пользовательские рейтинги платформ Xbox One и PC разные"
   ]
  },
  {
   "cell_type": "code",
   "execution_count": 32,
   "metadata": {},
   "outputs": [
    {
     "name": "stdout",
     "output_type": "stream",
     "text": [
      "p-значение: 0.11601398086668832\n",
      "Не получилось отвергнуть нулевую гипотезу\n"
     ]
    }
   ],
   "source": [
    "# убираем значения, которые были пропусками\n",
    "df_user = df[df['user_score'] != -1]\n",
    "# две выборки по необходимым платформам\n",
    "df_xbox = df_user[df_user['platform'] == 'XOne']\n",
    "df_pc = df_user[df_user['platform'] == 'PC']\n",
    "#обозначаем две выборки конкретных столбцов с пользовательскими рейтингами.\n",
    "xbox = df_xbox['user_score']\n",
    "pc = df_pc['user_score']\n",
    "alpha = .05 # критический уровень статистической значимости\n",
    "\n",
    "results = st.ttest_ind(\n",
    "    xbox,\n",
    "    pc,\n",
    "    equal_var=False\n",
    ")\n",
    "print('p-значение:', results.pvalue)\n",
    "if (results.pvalue < alpha):\n",
    "    print('Отвергаем нулевую гипотезу')\n",
    "else:\n",
    "    print('Не получилось отвергнуть нулевую гипотезу')\n"
   ]
  },
  {
   "cell_type": "markdown",
   "metadata": {},
   "source": [
    "**Средние пользовательские рейтинги жанров Action (англ. «действие», экшен-игры) и Sports (англ. «спортивные соревнования») разные.**\n",
    "\n",
    "Нулевая гипотеза - Средние пользовательские рейтинги жанров Action и Sports одинаковые\n",
    "\n",
    "Альтернативная гипотеза - Средние пользовательские рейтинги жанров Action и Sports разные"
   ]
  },
  {
   "cell_type": "code",
   "execution_count": 33,
   "metadata": {
    "scrolled": true
   },
   "outputs": [
    {
     "name": "stdout",
     "output_type": "stream",
     "text": [
      "p-значение: 1.1825550382644557e-14\n",
      "Отвергаем нулевую гипотезу\n"
     ]
    }
   ],
   "source": [
    "# убираем значения, которые были пропусками\n",
    "df_genre = df[df['user_score'] != -1]\n",
    "# две выборки по необходимым платформам\n",
    "df_action = df_user[df_user['genre'] == 'Action']\n",
    "df_sports = df_user[df_user['genre'] == 'Sports']\n",
    "#обозначаем две выборки конкретных столбцов с пользовательскими рейтингами.\n",
    "action = df_action['user_score']\n",
    "sports = df_sports['user_score']\n",
    "alpha = .05 # критический уровень статистической значимости\n",
    "\n",
    "results = st.ttest_ind(\n",
    "    action,\n",
    "    sports,\n",
    "    equal_var=False\n",
    ")\n",
    "print('p-значение:', results.pvalue)\n",
    "if (results.pvalue < alpha):\n",
    "    print('Отвергаем нулевую гипотезу')\n",
    "else:\n",
    "    print('Не получилось отвергнуть нулевую гипотезу')\n"
   ]
  },
  {
   "cell_type": "markdown",
   "metadata": {},
   "source": [
    "**Как вы сформулировали нулевую и альтернативную гипотезы**\n",
    "\n",
    "Нулевая гипотеза всегда должна быть равна како-му либо значению, альтернативная - отрицать его.\n",
    "\n",
    "**Какой критерий применили для проверки гипотез и почему**\n",
    "\n",
    "Применила критерий статистической значимости 0,05. Общепринятые пороговые значения — 5% и 1%. Т.к. p-value возвращается двусторонней по 2,5% с каждой стороны, булут приемлемы."
   ]
  },
  {
   "cell_type": "markdown",
   "metadata": {},
   "source": [
    "### Общий вывод"
   ]
  },
  {
   "cell_type": "markdown",
   "metadata": {},
   "source": [
    "1. При первом взгляде на данные сделали следующие выводы:\n",
    "\n",
    "- есть пропущенные значения в столюцах Critic_Score, User_Score, Rating\n",
    "- название столбцов необходимо привести к нижнему регистру\n",
    "- в столбцах Name и Genre всего 2 пропущенных значения, скорее всего это можно исправить\n",
    "- в столбце Year_of_Release немного пропущенных значений, скорее всего нет точной даты выхода игры\n",
    "- столбец Year_of_Release необходимо заменить тип на int, т.к. год не может быть вещественным числом\n",
    "- столбец User_Score необходимо заменить тип float, т.к. рейтинг измеряется в числовом формате.\n",
    "\n",
    "2. По результатам предобработки данных:\n",
    "\n",
    "- Был заменен тип данных в столбцах: year_of_release, user_score\n",
    "- Поработали над пропусками: в столбцах name, year_of_release, critic_score, user_score, rating\n",
    "\n",
    "3. В хоже исследовательского анализа было выявлено:\n",
    "- Самый пик выпуска игр приходил на 2006-8 годы - их выпускадось более 1400 шт в год. Взяли данные с 2014 года, когда начался подъем. Все что ранее не соответствует текущему спросу.\n",
    "- В среднем срок жизни платформ более 3 лет. За последние три года не появилось ни одной новой платформы. Исчезла одна - PSP.\n",
    "- Платформы, которые лидируют по продажам и растут - PS4, XOne. Данные за 2016 год не полные, поэтому мы видим спадю. Они яяются для нас максимально потенциально прибыльными. Платформы с тредом на снижение продаж - 3DS, PS3, X360.\n",
    "- В целом, если рассматривать продажи игр по всем платформам, то лидерами продаж являются также PS4 и XOne. Они же являются платформами с рекордным продажами, т.е с максимальным количеством выбросов на масимальных отметках. Также есть платформы с продажами менее 500 тыс копий -PS, PSP, PSV.\n",
    "- На разные платформы отзывы критиков и пользователей оказывают разное влияние, как положительное так и отрицательное.\n",
    "- Самые прибыльные жанры - Shooter, Sports, Plstform, Fighting, Role-Playing, самые низкие прожажи у жанров - Adventure, Puzzle, Strategy, Racing\n",
    "\n",
    "4. Портрет пользователя:\n",
    "- Самые популярные платформы (топ-5): Северная Америка: PS4, XOne, X360, 3DS, PS3. Европа: PS4, ХOne, PS3, PC, 3DS Япония: 3DS, PS4, PSV, PS3, WiiU.\n",
    "- Самые популярные жанры: Портрет пользователя Европейца похож на жителя Северной Америки, популярные жанры в этих странах очени схожи - в топе Action, Sports и Shooter. Однако для Японцев топ 5 выглдит немного иначе - очень популярны жанры Role-Playing и Figting, что не характерно для жителей других полушарий.\n",
    "- Рейтинг ESRB в  Америке и Европе превалирует M - зрелые. В Японии же более популярны игры с рейтингом T - подросток.\n",
    "\n",
    "5. Проверка гипотез:\n",
    "\n",
    "Средние пользовательские рейтинги платформ Xbox One и PC одинаковые\n",
    "\n",
    "p-значение: 0.11601398086668832\n",
    "Не получилось отвергнуть нулевую гипотезу\n",
    "\n",
    "Средние пользовательские рейтинги жанров Action и Sports одинаковые\n",
    "\n",
    "p-значение: 1.1825550382644557e-14\n",
    "Отвергаем нулевую гипотезу\n"
   ]
  }
 ],
 "metadata": {
  "ExecuteTimeLog": [
   {
    "duration": 1017,
    "start_time": "2023-01-31T11:37:59.210Z"
   },
   {
    "duration": 16,
    "start_time": "2023-01-31T11:38:46.099Z"
   },
   {
    "duration": 866,
    "start_time": "2023-01-31T11:38:59.026Z"
   },
   {
    "duration": 62,
    "start_time": "2023-01-31T12:10:56.664Z"
   },
   {
    "duration": 86,
    "start_time": "2023-01-31T12:12:03.408Z"
   },
   {
    "duration": 22,
    "start_time": "2023-01-31T13:33:36.187Z"
   },
   {
    "duration": 111,
    "start_time": "2023-01-31T13:38:39.714Z"
   },
   {
    "duration": 12,
    "start_time": "2023-01-31T13:43:22.457Z"
   },
   {
    "duration": 8,
    "start_time": "2023-01-31T14:15:03.345Z"
   },
   {
    "duration": 15,
    "start_time": "2023-01-31T14:15:20.797Z"
   },
   {
    "duration": 19,
    "start_time": "2023-01-31T14:16:14.862Z"
   },
   {
    "duration": 26,
    "start_time": "2023-01-31T14:16:59.459Z"
   },
   {
    "duration": 27,
    "start_time": "2023-01-31T14:25:18.247Z"
   },
   {
    "duration": 11,
    "start_time": "2023-01-31T14:31:24.002Z"
   },
   {
    "duration": 21,
    "start_time": "2023-01-31T14:31:39.358Z"
   },
   {
    "duration": 21,
    "start_time": "2023-01-31T14:31:43.629Z"
   },
   {
    "duration": 97,
    "start_time": "2023-01-31T14:33:35.349Z"
   },
   {
    "duration": 22,
    "start_time": "2023-01-31T14:33:43.513Z"
   },
   {
    "duration": 7,
    "start_time": "2023-01-31T14:33:52.792Z"
   },
   {
    "duration": 19,
    "start_time": "2023-01-31T14:34:40.533Z"
   },
   {
    "duration": 7,
    "start_time": "2023-01-31T14:56:40.430Z"
   },
   {
    "duration": 8,
    "start_time": "2023-01-31T14:57:06.903Z"
   },
   {
    "duration": 8,
    "start_time": "2023-01-31T14:57:16.178Z"
   },
   {
    "duration": 18,
    "start_time": "2023-01-31T14:57:30.765Z"
   },
   {
    "duration": 7,
    "start_time": "2023-01-31T14:57:34.798Z"
   },
   {
    "duration": 707,
    "start_time": "2023-01-31T14:57:47.232Z"
   },
   {
    "duration": 16,
    "start_time": "2023-01-31T14:57:47.941Z"
   },
   {
    "duration": 800,
    "start_time": "2023-01-31T14:57:47.959Z"
   },
   {
    "duration": 26,
    "start_time": "2023-01-31T14:57:48.763Z"
   },
   {
    "duration": 31,
    "start_time": "2023-01-31T14:57:48.791Z"
   },
   {
    "duration": 9,
    "start_time": "2023-01-31T14:57:48.825Z"
   },
   {
    "duration": 60,
    "start_time": "2023-01-31T14:57:48.836Z"
   },
   {
    "duration": 10,
    "start_time": "2023-01-31T14:57:48.898Z"
   },
   {
    "duration": 84,
    "start_time": "2023-01-31T14:57:48.910Z"
   },
   {
    "duration": 0,
    "start_time": "2023-01-31T14:57:48.996Z"
   },
   {
    "duration": 75,
    "start_time": "2023-01-31T14:58:06.468Z"
   },
   {
    "duration": 9,
    "start_time": "2023-01-31T14:58:17.655Z"
   },
   {
    "duration": 1268,
    "start_time": "2023-01-31T15:07:42.075Z"
   },
   {
    "duration": 249,
    "start_time": "2023-01-31T15:08:12.622Z"
   },
   {
    "duration": 263,
    "start_time": "2023-01-31T15:09:38.954Z"
   },
   {
    "duration": 18,
    "start_time": "2023-01-31T15:21:24.266Z"
   },
   {
    "duration": 14,
    "start_time": "2023-01-31T15:21:37.992Z"
   },
   {
    "duration": 14,
    "start_time": "2023-01-31T15:22:36.237Z"
   },
   {
    "duration": 22,
    "start_time": "2023-01-31T15:22:53.428Z"
   },
   {
    "duration": 758,
    "start_time": "2023-01-31T15:25:39.717Z"
   },
   {
    "duration": 16,
    "start_time": "2023-01-31T15:25:40.477Z"
   },
   {
    "duration": 913,
    "start_time": "2023-01-31T15:25:40.497Z"
   },
   {
    "duration": 17,
    "start_time": "2023-01-31T15:25:41.413Z"
   },
   {
    "duration": 59,
    "start_time": "2023-01-31T15:25:41.432Z"
   },
   {
    "duration": 10,
    "start_time": "2023-01-31T15:25:41.493Z"
   },
   {
    "duration": 20,
    "start_time": "2023-01-31T15:25:41.505Z"
   },
   {
    "duration": 11,
    "start_time": "2023-01-31T15:25:41.527Z"
   },
   {
    "duration": 69,
    "start_time": "2023-01-31T15:25:41.541Z"
   },
   {
    "duration": 0,
    "start_time": "2023-01-31T15:25:41.612Z"
   },
   {
    "duration": 9,
    "start_time": "2023-01-31T15:26:00.853Z"
   },
   {
    "duration": 85,
    "start_time": "2023-01-31T15:33:52.889Z"
   },
   {
    "duration": 12,
    "start_time": "2023-01-31T15:34:35.352Z"
   },
   {
    "duration": 15,
    "start_time": "2023-01-31T15:35:08.236Z"
   },
   {
    "duration": 94,
    "start_time": "2023-01-31T15:35:42.267Z"
   },
   {
    "duration": 6,
    "start_time": "2023-01-31T15:35:59.988Z"
   },
   {
    "duration": 17,
    "start_time": "2023-01-31T15:36:11.046Z"
   },
   {
    "duration": 78,
    "start_time": "2023-01-31T15:38:50.515Z"
   },
   {
    "duration": 36,
    "start_time": "2023-01-31T15:40:52.630Z"
   },
   {
    "duration": 7,
    "start_time": "2023-01-31T15:42:20.443Z"
   },
   {
    "duration": 6,
    "start_time": "2023-01-31T15:43:22.720Z"
   },
   {
    "duration": 700,
    "start_time": "2023-01-31T15:43:33.941Z"
   },
   {
    "duration": 16,
    "start_time": "2023-01-31T15:43:34.643Z"
   },
   {
    "duration": 772,
    "start_time": "2023-01-31T15:43:34.661Z"
   },
   {
    "duration": 17,
    "start_time": "2023-01-31T15:43:35.435Z"
   },
   {
    "duration": 45,
    "start_time": "2023-01-31T15:43:35.454Z"
   },
   {
    "duration": 8,
    "start_time": "2023-01-31T15:43:35.501Z"
   },
   {
    "duration": 20,
    "start_time": "2023-01-31T15:43:35.511Z"
   },
   {
    "duration": 7,
    "start_time": "2023-01-31T15:43:35.532Z"
   },
   {
    "duration": 43,
    "start_time": "2023-01-31T15:43:35.541Z"
   },
   {
    "duration": 18,
    "start_time": "2023-01-31T15:43:35.587Z"
   },
   {
    "duration": 20,
    "start_time": "2023-01-31T15:43:35.608Z"
   },
   {
    "duration": 55,
    "start_time": "2023-01-31T15:43:35.630Z"
   },
   {
    "duration": 71,
    "start_time": "2023-01-31T15:44:09.597Z"
   },
   {
    "duration": 99,
    "start_time": "2023-01-31T15:54:27.996Z"
   },
   {
    "duration": 16,
    "start_time": "2023-01-31T15:57:10.828Z"
   },
   {
    "duration": 141,
    "start_time": "2023-01-31T15:59:56.765Z"
   },
   {
    "duration": 285,
    "start_time": "2023-01-31T16:00:49.307Z"
   },
   {
    "duration": 202,
    "start_time": "2023-01-31T16:00:58.718Z"
   },
   {
    "duration": 191,
    "start_time": "2023-01-31T16:01:20.958Z"
   },
   {
    "duration": 255,
    "start_time": "2023-01-31T16:04:26.769Z"
   },
   {
    "duration": 268,
    "start_time": "2023-01-31T16:04:55.821Z"
   },
   {
    "duration": 288,
    "start_time": "2023-01-31T16:05:32.511Z"
   },
   {
    "duration": 354,
    "start_time": "2023-01-31T16:06:36.401Z"
   },
   {
    "duration": 68,
    "start_time": "2023-01-31T16:06:54.720Z"
   },
   {
    "duration": 316,
    "start_time": "2023-01-31T16:07:01.566Z"
   },
   {
    "duration": 321,
    "start_time": "2023-01-31T16:07:20.730Z"
   },
   {
    "duration": 8,
    "start_time": "2023-01-31T16:20:39.061Z"
   },
   {
    "duration": 29,
    "start_time": "2023-01-31T16:20:44.381Z"
   },
   {
    "duration": 25,
    "start_time": "2023-01-31T16:20:56.432Z"
   },
   {
    "duration": 330,
    "start_time": "2023-01-31T16:22:27.777Z"
   },
   {
    "duration": 277,
    "start_time": "2023-01-31T16:22:50.522Z"
   },
   {
    "duration": 270,
    "start_time": "2023-01-31T16:23:29.735Z"
   },
   {
    "duration": 375,
    "start_time": "2023-01-31T16:25:12.975Z"
   },
   {
    "duration": 10,
    "start_time": "2023-01-31T16:28:32.108Z"
   },
   {
    "duration": 73,
    "start_time": "2023-01-31T16:28:42.583Z"
   },
   {
    "duration": 77,
    "start_time": "2023-01-31T16:29:25.208Z"
   },
   {
    "duration": 9,
    "start_time": "2023-01-31T16:29:32.814Z"
   },
   {
    "duration": 188,
    "start_time": "2023-01-31T16:29:45.027Z"
   },
   {
    "duration": 214,
    "start_time": "2023-01-31T16:30:06.224Z"
   },
   {
    "duration": 192,
    "start_time": "2023-01-31T16:33:59.974Z"
   },
   {
    "duration": 192,
    "start_time": "2023-01-31T16:34:13.858Z"
   },
   {
    "duration": 203,
    "start_time": "2023-01-31T16:34:42.414Z"
   },
   {
    "duration": 198,
    "start_time": "2023-01-31T16:35:56.546Z"
   },
   {
    "duration": 90,
    "start_time": "2023-01-31T16:37:08.945Z"
   },
   {
    "duration": 76,
    "start_time": "2023-01-31T16:37:25.497Z"
   },
   {
    "duration": 343,
    "start_time": "2023-01-31T16:37:29.829Z"
   },
   {
    "duration": 188,
    "start_time": "2023-01-31T16:38:44.932Z"
   },
   {
    "duration": 99,
    "start_time": "2023-01-31T16:51:30.811Z"
   },
   {
    "duration": 162,
    "start_time": "2023-01-31T16:53:50.813Z"
   },
   {
    "duration": 304,
    "start_time": "2023-01-31T16:55:19.940Z"
   },
   {
    "duration": 74,
    "start_time": "2023-01-31T16:56:21.418Z"
   },
   {
    "duration": 347,
    "start_time": "2023-01-31T16:56:25.644Z"
   },
   {
    "duration": 339,
    "start_time": "2023-01-31T16:56:35.430Z"
   },
   {
    "duration": 336,
    "start_time": "2023-01-31T16:57:25.713Z"
   },
   {
    "duration": 354,
    "start_time": "2023-01-31T16:58:13.618Z"
   },
   {
    "duration": 27,
    "start_time": "2023-01-31T16:59:17.558Z"
   },
   {
    "duration": 333,
    "start_time": "2023-01-31T16:59:24.444Z"
   },
   {
    "duration": 848,
    "start_time": "2023-01-31T16:59:57.713Z"
   },
   {
    "duration": 17,
    "start_time": "2023-01-31T16:59:58.563Z"
   },
   {
    "duration": 958,
    "start_time": "2023-01-31T16:59:58.583Z"
   },
   {
    "duration": 19,
    "start_time": "2023-01-31T16:59:59.542Z"
   },
   {
    "duration": 75,
    "start_time": "2023-01-31T16:59:59.564Z"
   },
   {
    "duration": 12,
    "start_time": "2023-01-31T16:59:59.641Z"
   },
   {
    "duration": 54,
    "start_time": "2023-01-31T16:59:59.656Z"
   },
   {
    "duration": 20,
    "start_time": "2023-01-31T16:59:59.712Z"
   },
   {
    "duration": 16,
    "start_time": "2023-01-31T16:59:59.735Z"
   },
   {
    "duration": 18,
    "start_time": "2023-01-31T16:59:59.753Z"
   },
   {
    "duration": 37,
    "start_time": "2023-01-31T16:59:59.773Z"
   },
   {
    "duration": 37,
    "start_time": "2023-01-31T16:59:59.815Z"
   },
   {
    "duration": 35,
    "start_time": "2023-01-31T16:59:59.855Z"
   },
   {
    "duration": 255,
    "start_time": "2023-01-31T16:59:59.893Z"
   },
   {
    "duration": 47,
    "start_time": "2023-01-31T17:00:00.151Z"
   },
   {
    "duration": 497,
    "start_time": "2023-01-31T17:00:00.201Z"
   },
   {
    "duration": 92,
    "start_time": "2023-01-31T17:01:07.960Z"
   },
   {
    "duration": 334,
    "start_time": "2023-01-31T17:01:34.811Z"
   },
   {
    "duration": 375,
    "start_time": "2023-01-31T17:01:58.715Z"
   },
   {
    "duration": 344,
    "start_time": "2023-01-31T17:03:48.209Z"
   },
   {
    "duration": 68,
    "start_time": "2023-01-31T17:11:10.441Z"
   },
   {
    "duration": 963,
    "start_time": "2023-02-01T16:29:39.063Z"
   },
   {
    "duration": 18,
    "start_time": "2023-02-01T16:29:40.029Z"
   },
   {
    "duration": 795,
    "start_time": "2023-02-01T16:29:40.049Z"
   },
   {
    "duration": 19,
    "start_time": "2023-02-01T16:29:40.846Z"
   },
   {
    "duration": 59,
    "start_time": "2023-02-01T16:29:40.867Z"
   },
   {
    "duration": 9,
    "start_time": "2023-02-01T16:29:40.927Z"
   },
   {
    "duration": 17,
    "start_time": "2023-02-01T16:29:40.938Z"
   },
   {
    "duration": 7,
    "start_time": "2023-02-01T16:29:40.957Z"
   },
   {
    "duration": 11,
    "start_time": "2023-02-01T16:29:40.966Z"
   },
   {
    "duration": 16,
    "start_time": "2023-02-01T16:29:41.008Z"
   },
   {
    "duration": 20,
    "start_time": "2023-02-01T16:29:41.026Z"
   },
   {
    "duration": 24,
    "start_time": "2023-02-01T16:29:41.047Z"
   },
   {
    "duration": 38,
    "start_time": "2023-02-01T16:29:41.073Z"
   },
   {
    "duration": 211,
    "start_time": "2023-02-01T16:29:41.112Z"
   },
   {
    "duration": 27,
    "start_time": "2023-02-01T16:29:41.325Z"
   },
   {
    "duration": 407,
    "start_time": "2023-02-01T16:29:41.354Z"
   },
   {
    "duration": 231,
    "start_time": "2023-02-01T16:50:59.153Z"
   },
   {
    "duration": 219,
    "start_time": "2023-02-01T16:51:57.219Z"
   },
   {
    "duration": 266,
    "start_time": "2023-02-01T16:52:08.648Z"
   },
   {
    "duration": 148,
    "start_time": "2023-02-01T16:54:11.485Z"
   },
   {
    "duration": 275,
    "start_time": "2023-02-01T16:54:25.097Z"
   },
   {
    "duration": 330,
    "start_time": "2023-02-01T16:59:30.794Z"
   },
   {
    "duration": 337,
    "start_time": "2023-02-01T16:59:44.445Z"
   },
   {
    "duration": 469,
    "start_time": "2023-02-01T17:00:29.113Z"
   },
   {
    "duration": 147,
    "start_time": "2023-02-01T17:01:05.342Z"
   },
   {
    "duration": 488,
    "start_time": "2023-02-01T17:01:39.658Z"
   },
   {
    "duration": 538,
    "start_time": "2023-02-01T17:01:52.219Z"
   },
   {
    "duration": 492,
    "start_time": "2023-02-01T17:02:05.848Z"
   },
   {
    "duration": 481,
    "start_time": "2023-02-01T17:06:21.818Z"
   },
   {
    "duration": 1405,
    "start_time": "2023-02-01T17:09:51.333Z"
   },
   {
    "duration": 153,
    "start_time": "2023-02-01T17:10:11.997Z"
   },
   {
    "duration": 171,
    "start_time": "2023-02-01T17:10:53.896Z"
   },
   {
    "duration": 169,
    "start_time": "2023-02-01T17:13:02.219Z"
   },
   {
    "duration": 324,
    "start_time": "2023-02-01T17:13:14.003Z"
   },
   {
    "duration": 145,
    "start_time": "2023-02-01T17:13:43.024Z"
   },
   {
    "duration": 5,
    "start_time": "2023-02-01T17:15:05.088Z"
   },
   {
    "duration": 4,
    "start_time": "2023-02-01T17:15:49.730Z"
   },
   {
    "duration": 21,
    "start_time": "2023-02-01T17:16:03.592Z"
   },
   {
    "duration": 1271,
    "start_time": "2023-02-01T17:16:46.339Z"
   },
   {
    "duration": 11,
    "start_time": "2023-02-01T17:17:02.114Z"
   },
   {
    "duration": 77,
    "start_time": "2023-02-01T17:18:01.033Z"
   },
   {
    "duration": 157,
    "start_time": "2023-02-01T17:18:09.830Z"
   },
   {
    "duration": 167,
    "start_time": "2023-02-01T17:18:22.399Z"
   },
   {
    "duration": 175,
    "start_time": "2023-02-01T17:19:04.449Z"
   },
   {
    "duration": 52,
    "start_time": "2023-02-03T17:39:36.928Z"
   },
   {
    "duration": 7,
    "start_time": "2023-02-03T17:39:44.328Z"
   },
   {
    "duration": 8,
    "start_time": "2023-02-03T17:40:14.372Z"
   },
   {
    "duration": 964,
    "start_time": "2023-02-03T17:40:30.002Z"
   },
   {
    "duration": 17,
    "start_time": "2023-02-03T17:40:30.970Z"
   },
   {
    "duration": 851,
    "start_time": "2023-02-03T17:40:30.989Z"
   },
   {
    "duration": 18,
    "start_time": "2023-02-03T17:40:31.842Z"
   },
   {
    "duration": 41,
    "start_time": "2023-02-03T17:40:31.862Z"
   },
   {
    "duration": 30,
    "start_time": "2023-02-03T17:40:31.905Z"
   },
   {
    "duration": 42,
    "start_time": "2023-02-03T17:40:31.937Z"
   },
   {
    "duration": 76,
    "start_time": "2023-02-03T17:40:31.981Z"
   },
   {
    "duration": 19,
    "start_time": "2023-02-03T17:40:32.060Z"
   },
   {
    "duration": 21,
    "start_time": "2023-02-03T17:40:32.083Z"
   },
   {
    "duration": 22,
    "start_time": "2023-02-03T17:40:32.106Z"
   },
   {
    "duration": 28,
    "start_time": "2023-02-03T17:40:32.130Z"
   },
   {
    "duration": 15,
    "start_time": "2023-02-03T17:40:32.185Z"
   },
   {
    "duration": 208,
    "start_time": "2023-02-03T17:40:32.203Z"
   },
   {
    "duration": 27,
    "start_time": "2023-02-03T17:40:32.413Z"
   },
   {
    "duration": 404,
    "start_time": "2023-02-03T17:40:32.442Z"
   },
   {
    "duration": 478,
    "start_time": "2023-02-03T17:40:32.848Z"
   },
   {
    "duration": 173,
    "start_time": "2023-02-03T17:40:33.328Z"
   },
   {
    "duration": 191,
    "start_time": "2023-02-03T17:40:33.503Z"
   },
   {
    "duration": 76,
    "start_time": "2023-02-03T17:40:33.695Z"
   },
   {
    "duration": 151,
    "start_time": "2023-02-03T17:41:08.425Z"
   },
   {
    "duration": 171,
    "start_time": "2023-02-03T17:41:31.803Z"
   },
   {
    "duration": 161,
    "start_time": "2023-02-03T17:41:40.807Z"
   },
   {
    "duration": 200,
    "start_time": "2023-02-03T17:41:53.374Z"
   },
   {
    "duration": 248,
    "start_time": "2023-02-03T17:42:04.767Z"
   },
   {
    "duration": 154,
    "start_time": "2023-02-03T17:42:20.739Z"
   },
   {
    "duration": 130,
    "start_time": "2023-02-03T17:43:12.259Z"
   },
   {
    "duration": 174,
    "start_time": "2023-02-03T17:43:20.164Z"
   },
   {
    "duration": 149,
    "start_time": "2023-02-03T17:43:44.271Z"
   },
   {
    "duration": 155,
    "start_time": "2023-02-03T17:43:55.828Z"
   },
   {
    "duration": 157,
    "start_time": "2023-02-03T17:44:00.661Z"
   },
   {
    "duration": 1252,
    "start_time": "2023-02-03T17:47:49.974Z"
   },
   {
    "duration": 39,
    "start_time": "2023-02-03T17:48:22.879Z"
   },
   {
    "duration": 205,
    "start_time": "2023-02-03T17:48:54.367Z"
   },
   {
    "duration": 236,
    "start_time": "2023-02-03T17:50:37.217Z"
   },
   {
    "duration": 246,
    "start_time": "2023-02-03T17:51:36.448Z"
   },
   {
    "duration": 249,
    "start_time": "2023-02-03T17:55:14.030Z"
   },
   {
    "duration": 67,
    "start_time": "2023-02-03T17:56:26.384Z"
   },
   {
    "duration": 23,
    "start_time": "2023-02-03T18:01:33.926Z"
   },
   {
    "duration": 249,
    "start_time": "2023-02-03T18:10:17.000Z"
   },
   {
    "duration": 151,
    "start_time": "2023-02-03T18:10:38.175Z"
   },
   {
    "duration": 146,
    "start_time": "2023-02-03T18:12:42.379Z"
   },
   {
    "duration": 13,
    "start_time": "2023-02-03T18:14:37.277Z"
   },
   {
    "duration": 148,
    "start_time": "2023-02-03T18:15:08.676Z"
   },
   {
    "duration": 103,
    "start_time": "2023-02-03T18:43:02.086Z"
   },
   {
    "duration": 98,
    "start_time": "2023-02-03T18:43:42.854Z"
   },
   {
    "duration": 103,
    "start_time": "2023-02-03T18:44:00.661Z"
   },
   {
    "duration": 69,
    "start_time": "2023-02-03T18:52:08.091Z"
   },
   {
    "duration": 100,
    "start_time": "2023-02-03T18:54:04.139Z"
   },
   {
    "duration": 96,
    "start_time": "2023-02-03T18:54:14.368Z"
   },
   {
    "duration": 97,
    "start_time": "2023-02-03T18:54:21.352Z"
   },
   {
    "duration": 159,
    "start_time": "2023-02-03T18:55:31.938Z"
   },
   {
    "duration": 207,
    "start_time": "2023-02-03T18:56:21.757Z"
   },
   {
    "duration": 146,
    "start_time": "2023-02-03T18:56:40.879Z"
   },
   {
    "duration": 154,
    "start_time": "2023-02-03T18:58:12.401Z"
   },
   {
    "duration": 6,
    "start_time": "2023-02-03T19:02:23.599Z"
   },
   {
    "duration": 283,
    "start_time": "2023-02-03T19:04:41.449Z"
   },
   {
    "duration": 169,
    "start_time": "2023-02-03T19:10:04.572Z"
   },
   {
    "duration": 172,
    "start_time": "2023-02-03T19:11:14.060Z"
   },
   {
    "duration": 205,
    "start_time": "2023-02-03T19:12:32.170Z"
   },
   {
    "duration": 95,
    "start_time": "2023-02-03T19:25:13.329Z"
   },
   {
    "duration": 95,
    "start_time": "2023-02-03T19:25:56.080Z"
   },
   {
    "duration": 19,
    "start_time": "2023-02-03T19:26:28.823Z"
   },
   {
    "duration": 22,
    "start_time": "2023-02-03T19:26:49.574Z"
   },
   {
    "duration": 613,
    "start_time": "2023-02-03T19:31:37.437Z"
   },
   {
    "duration": 17,
    "start_time": "2023-02-03T19:31:38.053Z"
   },
   {
    "duration": 824,
    "start_time": "2023-02-03T19:31:38.072Z"
   },
   {
    "duration": 19,
    "start_time": "2023-02-03T19:31:38.898Z"
   },
   {
    "duration": 35,
    "start_time": "2023-02-03T19:31:38.919Z"
   },
   {
    "duration": 34,
    "start_time": "2023-02-03T19:31:38.956Z"
   },
   {
    "duration": 19,
    "start_time": "2023-02-03T19:31:38.992Z"
   },
   {
    "duration": 7,
    "start_time": "2023-02-03T19:31:39.014Z"
   },
   {
    "duration": 14,
    "start_time": "2023-02-03T19:31:39.023Z"
   },
   {
    "duration": 16,
    "start_time": "2023-02-03T19:31:39.039Z"
   },
   {
    "duration": 18,
    "start_time": "2023-02-03T19:31:39.084Z"
   },
   {
    "duration": 25,
    "start_time": "2023-02-03T19:31:39.104Z"
   },
   {
    "duration": 14,
    "start_time": "2023-02-03T19:31:39.131Z"
   },
   {
    "duration": 230,
    "start_time": "2023-02-03T19:31:39.148Z"
   },
   {
    "duration": 26,
    "start_time": "2023-02-03T19:31:39.384Z"
   },
   {
    "duration": 385,
    "start_time": "2023-02-03T19:31:39.412Z"
   },
   {
    "duration": 548,
    "start_time": "2023-02-03T19:31:39.799Z"
   },
   {
    "duration": 158,
    "start_time": "2023-02-03T19:31:40.349Z"
   },
   {
    "duration": 250,
    "start_time": "2023-02-03T19:31:40.509Z"
   },
   {
    "duration": 383,
    "start_time": "2023-02-03T19:31:40.761Z"
   },
   {
    "duration": 112,
    "start_time": "2023-02-03T19:31:41.146Z"
   },
   {
    "duration": 101,
    "start_time": "2023-02-03T19:31:41.260Z"
   },
   {
    "duration": 105,
    "start_time": "2023-02-03T19:31:41.363Z"
   },
   {
    "duration": 176,
    "start_time": "2023-02-03T19:31:41.470Z"
   },
   {
    "duration": 151,
    "start_time": "2023-02-03T19:31:41.648Z"
   },
   {
    "duration": 165,
    "start_time": "2023-02-03T19:31:41.801Z"
   },
   {
    "duration": 201,
    "start_time": "2023-02-03T19:31:41.968Z"
   },
   {
    "duration": 181,
    "start_time": "2023-02-03T19:31:42.171Z"
   },
   {
    "duration": 172,
    "start_time": "2023-02-03T19:31:42.354Z"
   },
   {
    "duration": 11,
    "start_time": "2023-02-03T19:31:42.528Z"
   },
   {
    "duration": 13,
    "start_time": "2023-02-03T19:36:48.073Z"
   },
   {
    "duration": 12,
    "start_time": "2023-02-03T19:42:13.020Z"
   },
   {
    "duration": 41,
    "start_time": "2023-02-03T19:42:29.647Z"
   },
   {
    "duration": 17,
    "start_time": "2023-02-03T19:42:38.855Z"
   },
   {
    "duration": 30,
    "start_time": "2023-02-03T19:43:16.727Z"
   },
   {
    "duration": 15,
    "start_time": "2023-02-03T19:44:24.680Z"
   },
   {
    "duration": 14,
    "start_time": "2023-02-03T19:45:02.202Z"
   },
   {
    "duration": 11,
    "start_time": "2023-02-03T19:45:14.806Z"
   },
   {
    "duration": 12,
    "start_time": "2023-02-03T19:51:35.067Z"
   },
   {
    "duration": 73,
    "start_time": "2023-02-03T19:51:49.073Z"
   },
   {
    "duration": 12,
    "start_time": "2023-02-03T19:51:58.801Z"
   },
   {
    "duration": 956,
    "start_time": "2023-02-03T19:52:26.065Z"
   },
   {
    "duration": 13,
    "start_time": "2023-02-03T19:52:54.325Z"
   },
   {
    "duration": 1430,
    "start_time": "2023-02-04T15:31:19.941Z"
   },
   {
    "duration": 17,
    "start_time": "2023-02-04T15:31:21.373Z"
   },
   {
    "duration": 724,
    "start_time": "2023-02-04T15:31:21.392Z"
   },
   {
    "duration": 16,
    "start_time": "2023-02-04T15:31:22.118Z"
   },
   {
    "duration": 24,
    "start_time": "2023-02-04T15:31:22.148Z"
   },
   {
    "duration": 9,
    "start_time": "2023-02-04T15:31:22.174Z"
   },
   {
    "duration": 17,
    "start_time": "2023-02-04T15:31:22.185Z"
   },
   {
    "duration": 6,
    "start_time": "2023-02-04T15:31:22.204Z"
   },
   {
    "duration": 41,
    "start_time": "2023-02-04T15:31:22.212Z"
   },
   {
    "duration": 11,
    "start_time": "2023-02-04T15:31:22.255Z"
   },
   {
    "duration": 23,
    "start_time": "2023-02-04T15:31:22.268Z"
   },
   {
    "duration": 23,
    "start_time": "2023-02-04T15:31:22.292Z"
   },
   {
    "duration": 12,
    "start_time": "2023-02-04T15:31:22.316Z"
   },
   {
    "duration": 175,
    "start_time": "2023-02-04T15:31:22.331Z"
   },
   {
    "duration": 26,
    "start_time": "2023-02-04T15:31:22.507Z"
   },
   {
    "duration": 338,
    "start_time": "2023-02-04T15:31:22.535Z"
   },
   {
    "duration": 419,
    "start_time": "2023-02-04T15:31:22.874Z"
   },
   {
    "duration": 143,
    "start_time": "2023-02-04T15:31:23.295Z"
   },
   {
    "duration": 217,
    "start_time": "2023-02-04T15:31:23.440Z"
   },
   {
    "duration": 243,
    "start_time": "2023-02-04T15:31:23.659Z"
   },
   {
    "duration": 101,
    "start_time": "2023-02-04T15:31:23.904Z"
   },
   {
    "duration": 96,
    "start_time": "2023-02-04T15:31:24.007Z"
   },
   {
    "duration": 103,
    "start_time": "2023-02-04T15:31:24.105Z"
   },
   {
    "duration": 157,
    "start_time": "2023-02-04T15:31:24.210Z"
   },
   {
    "duration": 135,
    "start_time": "2023-02-04T15:31:24.368Z"
   },
   {
    "duration": 154,
    "start_time": "2023-02-04T15:31:24.504Z"
   },
   {
    "duration": 168,
    "start_time": "2023-02-04T15:31:24.660Z"
   },
   {
    "duration": 174,
    "start_time": "2023-02-04T15:31:24.830Z"
   },
   {
    "duration": 160,
    "start_time": "2023-02-04T15:31:25.006Z"
   },
   {
    "duration": 11,
    "start_time": "2023-02-04T15:31:25.167Z"
   },
   {
    "duration": 10,
    "start_time": "2023-02-04T15:31:25.180Z"
   },
   {
    "duration": 11,
    "start_time": "2023-02-04T15:38:04.850Z"
   },
   {
    "duration": 1155,
    "start_time": "2023-02-04T16:05:26.724Z"
   },
   {
    "duration": 15,
    "start_time": "2023-02-04T16:05:27.882Z"
   },
   {
    "duration": 730,
    "start_time": "2023-02-04T16:05:27.898Z"
   },
   {
    "duration": 19,
    "start_time": "2023-02-04T16:05:28.630Z"
   },
   {
    "duration": 22,
    "start_time": "2023-02-04T16:05:28.651Z"
   },
   {
    "duration": 7,
    "start_time": "2023-02-04T16:05:28.674Z"
   },
   {
    "duration": 19,
    "start_time": "2023-02-04T16:05:28.683Z"
   },
   {
    "duration": 6,
    "start_time": "2023-02-04T16:05:28.703Z"
   },
   {
    "duration": 39,
    "start_time": "2023-02-04T16:05:28.710Z"
   },
   {
    "duration": 13,
    "start_time": "2023-02-04T16:05:28.751Z"
   },
   {
    "duration": 14,
    "start_time": "2023-02-04T16:05:28.765Z"
   },
   {
    "duration": 23,
    "start_time": "2023-02-04T16:05:28.781Z"
   },
   {
    "duration": 43,
    "start_time": "2023-02-04T16:05:28.806Z"
   },
   {
    "duration": 184,
    "start_time": "2023-02-04T16:05:28.852Z"
   },
   {
    "duration": 32,
    "start_time": "2023-02-04T16:05:29.037Z"
   },
   {
    "duration": 359,
    "start_time": "2023-02-04T16:05:29.070Z"
   },
   {
    "duration": 448,
    "start_time": "2023-02-04T16:05:29.430Z"
   },
   {
    "duration": 143,
    "start_time": "2023-02-04T16:05:29.880Z"
   },
   {
    "duration": 225,
    "start_time": "2023-02-04T16:05:30.024Z"
   },
   {
    "duration": 229,
    "start_time": "2023-02-04T16:05:30.250Z"
   },
   {
    "duration": 99,
    "start_time": "2023-02-04T16:05:30.481Z"
   },
   {
    "duration": 91,
    "start_time": "2023-02-04T16:05:30.581Z"
   },
   {
    "duration": 100,
    "start_time": "2023-02-04T16:05:30.673Z"
   },
   {
    "duration": 159,
    "start_time": "2023-02-04T16:05:30.774Z"
   },
   {
    "duration": 128,
    "start_time": "2023-02-04T16:05:30.935Z"
   },
   {
    "duration": 135,
    "start_time": "2023-02-04T16:05:31.064Z"
   },
   {
    "duration": 156,
    "start_time": "2023-02-04T16:05:31.200Z"
   },
   {
    "duration": 166,
    "start_time": "2023-02-04T16:05:31.357Z"
   },
   {
    "duration": 151,
    "start_time": "2023-02-04T16:05:31.524Z"
   },
   {
    "duration": 11,
    "start_time": "2023-02-04T16:05:31.677Z"
   },
   {
    "duration": 13,
    "start_time": "2023-02-04T16:05:31.690Z"
   },
   {
    "duration": 46,
    "start_time": "2023-02-06T06:03:37.834Z"
   },
   {
    "duration": 1497,
    "start_time": "2023-02-06T06:03:47.484Z"
   },
   {
    "duration": 15,
    "start_time": "2023-02-06T06:03:48.983Z"
   },
   {
    "duration": 746,
    "start_time": "2023-02-06T06:03:48.999Z"
   },
   {
    "duration": 18,
    "start_time": "2023-02-06T06:03:49.748Z"
   },
   {
    "duration": 51,
    "start_time": "2023-02-06T06:03:49.767Z"
   },
   {
    "duration": 9,
    "start_time": "2023-02-06T06:03:49.820Z"
   },
   {
    "duration": 18,
    "start_time": "2023-02-06T06:03:49.831Z"
   },
   {
    "duration": 7,
    "start_time": "2023-02-06T06:03:49.851Z"
   },
   {
    "duration": 45,
    "start_time": "2023-02-06T06:03:49.859Z"
   },
   {
    "duration": 19,
    "start_time": "2023-02-06T06:03:49.908Z"
   },
   {
    "duration": 18,
    "start_time": "2023-02-06T06:03:49.930Z"
   },
   {
    "duration": 63,
    "start_time": "2023-02-06T06:03:49.950Z"
   },
   {
    "duration": 16,
    "start_time": "2023-02-06T06:03:50.016Z"
   },
   {
    "duration": 212,
    "start_time": "2023-02-06T06:03:50.034Z"
   },
   {
    "duration": 26,
    "start_time": "2023-02-06T06:03:50.248Z"
   },
   {
    "duration": 331,
    "start_time": "2023-02-06T06:03:50.275Z"
   },
   {
    "duration": 274,
    "start_time": "2023-02-06T06:03:50.608Z"
   },
   {
    "duration": 162,
    "start_time": "2023-02-06T06:03:50.884Z"
   },
   {
    "duration": 140,
    "start_time": "2023-02-06T06:03:51.047Z"
   },
   {
    "duration": 336,
    "start_time": "2023-02-06T06:03:51.189Z"
   },
   {
    "duration": 105,
    "start_time": "2023-02-06T06:03:51.527Z"
   },
   {
    "duration": 104,
    "start_time": "2023-02-06T06:03:51.634Z"
   },
   {
    "duration": 97,
    "start_time": "2023-02-06T06:03:51.741Z"
   },
   {
    "duration": 155,
    "start_time": "2023-02-06T06:03:51.839Z"
   },
   {
    "duration": 153,
    "start_time": "2023-02-06T06:03:52.003Z"
   },
   {
    "duration": 153,
    "start_time": "2023-02-06T06:03:52.157Z"
   },
   {
    "duration": 136,
    "start_time": "2023-02-06T06:03:52.311Z"
   },
   {
    "duration": 137,
    "start_time": "2023-02-06T06:03:52.451Z"
   },
   {
    "duration": 143,
    "start_time": "2023-02-06T06:03:52.590Z"
   },
   {
    "duration": 8,
    "start_time": "2023-02-06T06:03:52.735Z"
   },
   {
    "duration": 11,
    "start_time": "2023-02-06T06:03:52.745Z"
   },
   {
    "duration": 100,
    "start_time": "2023-02-06T06:04:50.961Z"
   },
   {
    "duration": 24,
    "start_time": "2023-02-06T06:05:01.879Z"
   },
   {
    "duration": 310,
    "start_time": "2023-02-06T06:05:22.696Z"
   },
   {
    "duration": 315,
    "start_time": "2023-02-06T06:50:28.706Z"
   },
   {
    "duration": 75,
    "start_time": "2023-02-06T07:01:08.221Z"
   },
   {
    "duration": 147,
    "start_time": "2023-02-06T07:01:25.205Z"
   },
   {
    "duration": 122,
    "start_time": "2023-02-06T07:01:27.739Z"
   },
   {
    "duration": 167,
    "start_time": "2023-02-06T07:02:34.703Z"
   },
   {
    "duration": 75,
    "start_time": "2023-02-06T07:05:31.328Z"
   },
   {
    "duration": 142,
    "start_time": "2023-02-06T07:07:16.648Z"
   },
   {
    "duration": 287,
    "start_time": "2023-02-06T07:07:41.679Z"
   },
   {
    "duration": 286,
    "start_time": "2023-02-06T07:08:59.877Z"
   },
   {
    "duration": 388,
    "start_time": "2023-02-06T07:09:22.387Z"
   },
   {
    "duration": 280,
    "start_time": "2023-02-06T07:15:49.094Z"
   },
   {
    "duration": 1190,
    "start_time": "2023-02-06T07:16:28.742Z"
   },
   {
    "duration": 13,
    "start_time": "2023-02-06T07:16:29.934Z"
   },
   {
    "duration": 778,
    "start_time": "2023-02-06T07:16:29.949Z"
   },
   {
    "duration": 19,
    "start_time": "2023-02-06T07:16:30.729Z"
   },
   {
    "duration": 77,
    "start_time": "2023-02-06T07:16:30.749Z"
   },
   {
    "duration": 11,
    "start_time": "2023-02-06T07:16:30.827Z"
   },
   {
    "duration": 76,
    "start_time": "2023-02-06T07:16:30.840Z"
   },
   {
    "duration": 34,
    "start_time": "2023-02-06T07:16:30.919Z"
   },
   {
    "duration": 43,
    "start_time": "2023-02-06T07:16:30.955Z"
   },
   {
    "duration": 32,
    "start_time": "2023-02-06T07:16:31.000Z"
   },
   {
    "duration": 31,
    "start_time": "2023-02-06T07:16:31.034Z"
   },
   {
    "duration": 27,
    "start_time": "2023-02-06T07:16:31.066Z"
   },
   {
    "duration": 14,
    "start_time": "2023-02-06T07:16:31.094Z"
   },
   {
    "duration": 184,
    "start_time": "2023-02-06T07:16:31.110Z"
   },
   {
    "duration": 28,
    "start_time": "2023-02-06T07:16:31.303Z"
   },
   {
    "duration": 321,
    "start_time": "2023-02-06T07:16:31.332Z"
   },
   {
    "duration": 264,
    "start_time": "2023-02-06T07:16:31.655Z"
   },
   {
    "duration": 163,
    "start_time": "2023-02-06T07:16:31.921Z"
   },
   {
    "duration": 250,
    "start_time": "2023-02-06T07:16:32.086Z"
   },
   {
    "duration": 318,
    "start_time": "2023-02-06T07:16:32.338Z"
   },
   {
    "duration": 273,
    "start_time": "2023-02-06T07:16:32.658Z"
   },
   {
    "duration": 109,
    "start_time": "2023-02-06T07:16:32.933Z"
   },
   {
    "duration": 113,
    "start_time": "2023-02-06T07:16:33.044Z"
   },
   {
    "duration": 114,
    "start_time": "2023-02-06T07:16:33.158Z"
   },
   {
    "duration": 164,
    "start_time": "2023-02-06T07:16:33.274Z"
   },
   {
    "duration": 151,
    "start_time": "2023-02-06T07:16:33.440Z"
   },
   {
    "duration": 152,
    "start_time": "2023-02-06T07:16:33.593Z"
   },
   {
    "duration": 151,
    "start_time": "2023-02-06T07:16:33.748Z"
   },
   {
    "duration": 228,
    "start_time": "2023-02-06T07:16:33.902Z"
   },
   {
    "duration": 177,
    "start_time": "2023-02-06T07:16:34.132Z"
   },
   {
    "duration": 12,
    "start_time": "2023-02-06T07:16:34.312Z"
   },
   {
    "duration": 16,
    "start_time": "2023-02-06T07:16:34.326Z"
   },
   {
    "duration": 297,
    "start_time": "2023-02-06T07:17:29.049Z"
   },
   {
    "duration": 223,
    "start_time": "2023-02-06T07:18:04.173Z"
   },
   {
    "duration": 161,
    "start_time": "2023-02-06T07:18:28.812Z"
   },
   {
    "duration": 165,
    "start_time": "2023-02-06T07:19:07.951Z"
   },
   {
    "duration": 126,
    "start_time": "2023-02-06T07:21:02.934Z"
   },
   {
    "duration": 77,
    "start_time": "2023-02-06T07:21:30.303Z"
   },
   {
    "duration": 43,
    "start_time": "2023-02-06T07:21:47.158Z"
   },
   {
    "duration": 164,
    "start_time": "2023-02-06T07:22:05.562Z"
   },
   {
    "duration": 178,
    "start_time": "2023-02-06T07:22:30.005Z"
   },
   {
    "duration": 167,
    "start_time": "2023-02-06T07:23:03.437Z"
   },
   {
    "duration": 167,
    "start_time": "2023-02-06T07:23:13.837Z"
   },
   {
    "duration": 240,
    "start_time": "2023-02-06T07:23:27.399Z"
   },
   {
    "duration": 138,
    "start_time": "2023-02-06T07:24:40.373Z"
   },
   {
    "duration": 145,
    "start_time": "2023-02-06T07:28:01.936Z"
   },
   {
    "duration": 303,
    "start_time": "2023-02-06T07:28:53.305Z"
   },
   {
    "duration": 302,
    "start_time": "2023-02-06T07:32:15.486Z"
   },
   {
    "duration": 293,
    "start_time": "2023-02-06T07:34:50.435Z"
   },
   {
    "duration": 68,
    "start_time": "2023-02-06T07:38:29.096Z"
   },
   {
    "duration": 257,
    "start_time": "2023-02-06T07:39:37.075Z"
   },
   {
    "duration": 325,
    "start_time": "2023-02-06T07:39:49.435Z"
   },
   {
    "duration": 253,
    "start_time": "2023-02-06T07:41:12.278Z"
   },
   {
    "duration": 337,
    "start_time": "2023-02-06T07:42:19.178Z"
   },
   {
    "duration": 10,
    "start_time": "2023-02-06T07:46:43.835Z"
   },
   {
    "duration": 11,
    "start_time": "2023-02-06T07:47:02.169Z"
   },
   {
    "duration": 249,
    "start_time": "2023-02-06T07:47:36.738Z"
   },
   {
    "duration": 10,
    "start_time": "2023-02-06T07:48:45.303Z"
   },
   {
    "duration": 25,
    "start_time": "2023-02-06T07:49:28.634Z"
   },
   {
    "duration": 250,
    "start_time": "2023-02-06T07:49:44.659Z"
   },
   {
    "duration": 230,
    "start_time": "2023-02-06T07:49:51.907Z"
   },
   {
    "duration": 220,
    "start_time": "2023-02-06T07:50:05.227Z"
   },
   {
    "duration": 46,
    "start_time": "2023-02-06T09:33:34.515Z"
   },
   {
    "duration": 1439,
    "start_time": "2023-02-06T09:33:54.782Z"
   },
   {
    "duration": 15,
    "start_time": "2023-02-06T09:33:56.223Z"
   },
   {
    "duration": 789,
    "start_time": "2023-02-06T09:33:56.239Z"
   },
   {
    "duration": 31,
    "start_time": "2023-02-06T09:33:57.030Z"
   },
   {
    "duration": 33,
    "start_time": "2023-02-06T09:33:57.063Z"
   },
   {
    "duration": 8,
    "start_time": "2023-02-06T09:33:57.097Z"
   },
   {
    "duration": 24,
    "start_time": "2023-02-06T09:33:57.106Z"
   },
   {
    "duration": 20,
    "start_time": "2023-02-06T09:33:57.132Z"
   },
   {
    "duration": 20,
    "start_time": "2023-02-06T09:33:57.154Z"
   },
   {
    "duration": 20,
    "start_time": "2023-02-06T09:33:57.176Z"
   },
   {
    "duration": 16,
    "start_time": "2023-02-06T09:33:57.198Z"
   },
   {
    "duration": 25,
    "start_time": "2023-02-06T09:33:57.215Z"
   },
   {
    "duration": 97,
    "start_time": "2023-02-06T09:33:57.242Z"
   },
   {
    "duration": 170,
    "start_time": "2023-02-06T09:33:57.341Z"
   },
   {
    "duration": 24,
    "start_time": "2023-02-06T09:33:57.513Z"
   },
   {
    "duration": 316,
    "start_time": "2023-02-06T09:33:57.539Z"
   },
   {
    "duration": 261,
    "start_time": "2023-02-06T09:33:57.856Z"
   },
   {
    "duration": 147,
    "start_time": "2023-02-06T09:33:58.119Z"
   },
   {
    "duration": 148,
    "start_time": "2023-02-06T09:33:58.268Z"
   },
   {
    "duration": 363,
    "start_time": "2023-02-06T09:33:58.418Z"
   },
   {
    "duration": 301,
    "start_time": "2023-02-06T09:33:58.782Z"
   },
   {
    "duration": 225,
    "start_time": "2023-02-06T09:33:59.084Z"
   },
   {
    "duration": 108,
    "start_time": "2023-02-06T09:33:59.310Z"
   },
   {
    "duration": 94,
    "start_time": "2023-02-06T09:33:59.419Z"
   },
   {
    "duration": 101,
    "start_time": "2023-02-06T09:33:59.514Z"
   },
   {
    "duration": 154,
    "start_time": "2023-02-06T09:33:59.616Z"
   },
   {
    "duration": 144,
    "start_time": "2023-02-06T09:33:59.771Z"
   },
   {
    "duration": 144,
    "start_time": "2023-02-06T09:33:59.918Z"
   },
   {
    "duration": 202,
    "start_time": "2023-02-06T09:34:00.063Z"
   },
   {
    "duration": 133,
    "start_time": "2023-02-06T09:34:00.267Z"
   },
   {
    "duration": 129,
    "start_time": "2023-02-06T09:34:00.401Z"
   },
   {
    "duration": 19,
    "start_time": "2023-02-06T09:34:00.531Z"
   },
   {
    "duration": 47,
    "start_time": "2023-02-06T09:34:00.551Z"
   },
   {
    "duration": 54,
    "start_time": "2023-02-06T09:38:24.483Z"
   },
   {
    "duration": 95,
    "start_time": "2023-02-06T09:41:39.962Z"
   },
   {
    "duration": 89,
    "start_time": "2023-02-06T09:42:32.945Z"
   },
   {
    "duration": 169,
    "start_time": "2023-02-06T09:44:13.481Z"
   },
   {
    "duration": 174,
    "start_time": "2023-02-06T09:44:16.478Z"
   },
   {
    "duration": 135,
    "start_time": "2023-02-06T09:44:22.688Z"
   },
   {
    "duration": 129,
    "start_time": "2023-02-06T09:51:25.619Z"
   },
   {
    "duration": 120,
    "start_time": "2023-02-06T09:51:29.151Z"
   },
   {
    "duration": 8,
    "start_time": "2023-02-06T09:54:52.396Z"
   },
   {
    "duration": 8,
    "start_time": "2023-02-06T09:55:02.423Z"
   },
   {
    "duration": 48,
    "start_time": "2023-02-06T09:55:36.654Z"
   },
   {
    "duration": 56,
    "start_time": "2023-02-06T15:30:55.606Z"
   },
   {
    "duration": 1451,
    "start_time": "2023-02-06T15:32:31.804Z"
   },
   {
    "duration": 17,
    "start_time": "2023-02-06T15:32:33.257Z"
   },
   {
    "duration": 759,
    "start_time": "2023-02-06T15:32:33.276Z"
   },
   {
    "duration": 17,
    "start_time": "2023-02-06T15:32:34.037Z"
   },
   {
    "duration": 49,
    "start_time": "2023-02-06T15:32:34.056Z"
   },
   {
    "duration": 8,
    "start_time": "2023-02-06T15:32:34.107Z"
   },
   {
    "duration": 17,
    "start_time": "2023-02-06T15:32:34.117Z"
   },
   {
    "duration": 8,
    "start_time": "2023-02-06T15:32:34.137Z"
   },
   {
    "duration": 9,
    "start_time": "2023-02-06T15:32:34.146Z"
   },
   {
    "duration": 46,
    "start_time": "2023-02-06T15:32:34.158Z"
   },
   {
    "duration": 24,
    "start_time": "2023-02-06T15:32:34.206Z"
   },
   {
    "duration": 34,
    "start_time": "2023-02-06T15:32:34.232Z"
   },
   {
    "duration": 21,
    "start_time": "2023-02-06T15:32:34.293Z"
   },
   {
    "duration": 192,
    "start_time": "2023-02-06T15:32:34.317Z"
   },
   {
    "duration": 32,
    "start_time": "2023-02-06T15:32:34.511Z"
   },
   {
    "duration": 352,
    "start_time": "2023-02-06T15:32:34.545Z"
   },
   {
    "duration": 285,
    "start_time": "2023-02-06T15:32:34.902Z"
   },
   {
    "duration": 191,
    "start_time": "2023-02-06T15:32:35.188Z"
   },
   {
    "duration": 175,
    "start_time": "2023-02-06T15:32:35.381Z"
   },
   {
    "duration": 432,
    "start_time": "2023-02-06T15:32:35.557Z"
   },
   {
    "duration": 372,
    "start_time": "2023-02-06T15:32:35.993Z"
   },
   {
    "duration": 263,
    "start_time": "2023-02-06T15:32:36.367Z"
   },
   {
    "duration": 151,
    "start_time": "2023-02-06T15:32:36.632Z"
   },
   {
    "duration": 110,
    "start_time": "2023-02-06T15:32:36.793Z"
   },
   {
    "duration": 157,
    "start_time": "2023-02-06T15:32:36.906Z"
   },
   {
    "duration": 175,
    "start_time": "2023-02-06T15:32:37.065Z"
   },
   {
    "duration": 162,
    "start_time": "2023-02-06T15:32:37.242Z"
   },
   {
    "duration": 146,
    "start_time": "2023-02-06T15:32:37.408Z"
   },
   {
    "duration": 218,
    "start_time": "2023-02-06T15:32:37.555Z"
   },
   {
    "duration": 138,
    "start_time": "2023-02-06T15:32:37.775Z"
   },
   {
    "duration": 137,
    "start_time": "2023-02-06T15:32:37.915Z"
   },
   {
    "duration": 12,
    "start_time": "2023-02-06T15:32:38.054Z"
   },
   {
    "duration": 30,
    "start_time": "2023-02-06T15:32:38.068Z"
   }
  ],
  "kernelspec": {
   "display_name": "Python 3 (ipykernel)",
   "language": "python",
   "name": "python3"
  },
  "language_info": {
   "codemirror_mode": {
    "name": "ipython",
    "version": 3
   },
   "file_extension": ".py",
   "mimetype": "text/x-python",
   "name": "python",
   "nbconvert_exporter": "python",
   "pygments_lexer": "ipython3",
   "version": "3.9.13"
  },
  "toc": {
   "base_numbering": 1,
   "nav_menu": {},
   "number_sections": true,
   "sideBar": true,
   "skip_h1_title": true,
   "title_cell": "Table of Contents",
   "title_sidebar": "Contents",
   "toc_cell": false,
   "toc_position": {},
   "toc_section_display": true,
   "toc_window_display": false
  }
 },
 "nbformat": 4,
 "nbformat_minor": 2
}
