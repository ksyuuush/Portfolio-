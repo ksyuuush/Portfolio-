{
 "cells": [
  {
   "cell_type": "markdown",
   "metadata": {},
   "source": [
    "# Проект: Принятие решений в бизнесе\n",
    "\n",
    "Вы — аналитик крупного интернет-магазина. Вместе с отделом маркетинга вы подготовили список гипотез для увеличения выручки.\n",
    "Приоритизируйте гипотезы, запустите A/B-тест и проанализируйте результаты. \n",
    "\n",
    "**Цель исследования:**\n",
    "1. Приоритизировать гипотизы, чтобы выделить максимально вероятные для увеличения выручки компании.\n",
    "2. Проанализитровать запущенный ранее компанией A/B-тест, принять решение по результатам теста и объяснить его\n",
    "\n",
    "**Ход исследования:**\n",
    "Данные я получу из файлов `hypothesis.csv`, `orders.csv`, `visitors.csv`. О качестве данных ничего не известно. Поэтому перед тем, как приступать к целям исследования, потребуется обзор данных.\n",
    "\n",
    "Я проверю данные и их типы на ошибки/неточности и оценю их влияние на исследование. Затем, на этапе предобработки, я поищу возможность исправить все ошибки данных, которые не приведут к искажению конечного результата. Далее создам необходимые столбцы и приступлю к проведению анализа.\n",
    "\n",
    "Таким образом, мое исследование пройдет в 5 этапов:\n",
    "- Обзор данных\n",
    "- Предобработка данных\n",
    "- Приоритизация гипотез\n",
    "- Анализ A/B-теста\n",
    "- Написание общего вывода"
   ]
  },
  {
   "cell_type": "markdown",
   "metadata": {},
   "source": [
    "###  Обзор данных"
   ]
  },
  {
   "cell_type": "code",
   "execution_count": 1,
   "metadata": {},
   "outputs": [],
   "source": [
    "# Импортируем библиотеки\n",
    "import pandas as pd\n",
    "import numpy as np\n",
    "from datetime import datetime, timedelta\n",
    "from matplotlib import pyplot as plt\n",
    "import scipy.stats as stats"
   ]
  },
  {
   "cell_type": "code",
   "execution_count": 2,
   "metadata": {},
   "outputs": [],
   "source": [
    "hypothesis = pd.read_csv('hypothesis.csv')\n",
    "orders = pd.read_csv('orders.csv')\n",
    "visitors = pd.read_csv('visitors.csv')"
   ]
  },
  {
   "cell_type": "code",
   "execution_count": 3,
   "metadata": {},
   "outputs": [
    {
     "name": "stdout",
     "output_type": "stream",
     "text": [
      "<class 'pandas.core.frame.DataFrame'>\n",
      "RangeIndex: 9 entries, 0 to 8\n",
      "Data columns (total 5 columns):\n",
      " #   Column      Non-Null Count  Dtype \n",
      "---  ------      --------------  ----- \n",
      " 0   Hypothesis  9 non-null      object\n",
      " 1   Reach       9 non-null      int64 \n",
      " 2   Impact      9 non-null      int64 \n",
      " 3   Confidence  9 non-null      int64 \n",
      " 4   Efforts     9 non-null      int64 \n",
      "dtypes: int64(4), object(1)\n",
      "memory usage: 488.0+ bytes\n"
     ]
    },
    {
     "data": {
      "text/html": [
       "<div>\n",
       "<style scoped>\n",
       "    .dataframe tbody tr th:only-of-type {\n",
       "        vertical-align: middle;\n",
       "    }\n",
       "\n",
       "    .dataframe tbody tr th {\n",
       "        vertical-align: top;\n",
       "    }\n",
       "\n",
       "    .dataframe thead th {\n",
       "        text-align: right;\n",
       "    }\n",
       "</style>\n",
       "<table border=\"1\" class=\"dataframe\">\n",
       "  <thead>\n",
       "    <tr style=\"text-align: right;\">\n",
       "      <th></th>\n",
       "      <th>Hypothesis</th>\n",
       "      <th>Reach</th>\n",
       "      <th>Impact</th>\n",
       "      <th>Confidence</th>\n",
       "      <th>Efforts</th>\n",
       "    </tr>\n",
       "  </thead>\n",
       "  <tbody>\n",
       "    <tr>\n",
       "      <th>0</th>\n",
       "      <td>Добавить два новых канала привлечения трафика,...</td>\n",
       "      <td>3</td>\n",
       "      <td>10</td>\n",
       "      <td>8</td>\n",
       "      <td>6</td>\n",
       "    </tr>\n",
       "    <tr>\n",
       "      <th>1</th>\n",
       "      <td>Запустить собственную службу доставки, что сок...</td>\n",
       "      <td>2</td>\n",
       "      <td>5</td>\n",
       "      <td>4</td>\n",
       "      <td>10</td>\n",
       "    </tr>\n",
       "    <tr>\n",
       "      <th>2</th>\n",
       "      <td>Добавить блоки рекомендаций товаров на сайт ин...</td>\n",
       "      <td>8</td>\n",
       "      <td>3</td>\n",
       "      <td>7</td>\n",
       "      <td>3</td>\n",
       "    </tr>\n",
       "    <tr>\n",
       "      <th>3</th>\n",
       "      <td>Изменить структура категорий, что увеличит кон...</td>\n",
       "      <td>8</td>\n",
       "      <td>3</td>\n",
       "      <td>3</td>\n",
       "      <td>8</td>\n",
       "    </tr>\n",
       "    <tr>\n",
       "      <th>4</th>\n",
       "      <td>Изменить цвет фона главной страницы, чтобы уве...</td>\n",
       "      <td>3</td>\n",
       "      <td>1</td>\n",
       "      <td>1</td>\n",
       "      <td>1</td>\n",
       "    </tr>\n",
       "  </tbody>\n",
       "</table>\n",
       "</div>"
      ],
      "text/plain": [
       "                                          Hypothesis  Reach  Impact  \\\n",
       "0  Добавить два новых канала привлечения трафика,...      3      10   \n",
       "1  Запустить собственную службу доставки, что сок...      2       5   \n",
       "2  Добавить блоки рекомендаций товаров на сайт ин...      8       3   \n",
       "3  Изменить структура категорий, что увеличит кон...      8       3   \n",
       "4  Изменить цвет фона главной страницы, чтобы уве...      3       1   \n",
       "\n",
       "   Confidence  Efforts  \n",
       "0           8        6  \n",
       "1           4       10  \n",
       "2           7        3  \n",
       "3           3        8  \n",
       "4           1        1  "
      ]
     },
     "execution_count": 3,
     "metadata": {},
     "output_type": "execute_result"
    }
   ],
   "source": [
    "hypothesis.info()\n",
    "hypothesis.head()"
   ]
  },
  {
   "cell_type": "code",
   "execution_count": 4,
   "metadata": {},
   "outputs": [
    {
     "name": "stdout",
     "output_type": "stream",
     "text": [
      "<class 'pandas.core.frame.DataFrame'>\n",
      "RangeIndex: 1197 entries, 0 to 1196\n",
      "Data columns (total 5 columns):\n",
      " #   Column         Non-Null Count  Dtype \n",
      "---  ------         --------------  ----- \n",
      " 0   transactionId  1197 non-null   int64 \n",
      " 1   visitorId      1197 non-null   int64 \n",
      " 2   date           1197 non-null   object\n",
      " 3   revenue        1197 non-null   int64 \n",
      " 4   group          1197 non-null   object\n",
      "dtypes: int64(3), object(2)\n",
      "memory usage: 46.9+ KB\n"
     ]
    },
    {
     "data": {
      "text/html": [
       "<div>\n",
       "<style scoped>\n",
       "    .dataframe tbody tr th:only-of-type {\n",
       "        vertical-align: middle;\n",
       "    }\n",
       "\n",
       "    .dataframe tbody tr th {\n",
       "        vertical-align: top;\n",
       "    }\n",
       "\n",
       "    .dataframe thead th {\n",
       "        text-align: right;\n",
       "    }\n",
       "</style>\n",
       "<table border=\"1\" class=\"dataframe\">\n",
       "  <thead>\n",
       "    <tr style=\"text-align: right;\">\n",
       "      <th></th>\n",
       "      <th>transactionId</th>\n",
       "      <th>visitorId</th>\n",
       "      <th>date</th>\n",
       "      <th>revenue</th>\n",
       "      <th>group</th>\n",
       "    </tr>\n",
       "  </thead>\n",
       "  <tbody>\n",
       "    <tr>\n",
       "      <th>0</th>\n",
       "      <td>3667963787</td>\n",
       "      <td>3312258926</td>\n",
       "      <td>2019-08-15</td>\n",
       "      <td>1650</td>\n",
       "      <td>B</td>\n",
       "    </tr>\n",
       "    <tr>\n",
       "      <th>1</th>\n",
       "      <td>2804400009</td>\n",
       "      <td>3642806036</td>\n",
       "      <td>2019-08-15</td>\n",
       "      <td>730</td>\n",
       "      <td>B</td>\n",
       "    </tr>\n",
       "    <tr>\n",
       "      <th>2</th>\n",
       "      <td>2961555356</td>\n",
       "      <td>4069496402</td>\n",
       "      <td>2019-08-15</td>\n",
       "      <td>400</td>\n",
       "      <td>A</td>\n",
       "    </tr>\n",
       "    <tr>\n",
       "      <th>3</th>\n",
       "      <td>3797467345</td>\n",
       "      <td>1196621759</td>\n",
       "      <td>2019-08-15</td>\n",
       "      <td>9759</td>\n",
       "      <td>B</td>\n",
       "    </tr>\n",
       "    <tr>\n",
       "      <th>4</th>\n",
       "      <td>2282983706</td>\n",
       "      <td>2322279887</td>\n",
       "      <td>2019-08-15</td>\n",
       "      <td>2308</td>\n",
       "      <td>B</td>\n",
       "    </tr>\n",
       "  </tbody>\n",
       "</table>\n",
       "</div>"
      ],
      "text/plain": [
       "   transactionId   visitorId        date  revenue group\n",
       "0     3667963787  3312258926  2019-08-15     1650     B\n",
       "1     2804400009  3642806036  2019-08-15      730     B\n",
       "2     2961555356  4069496402  2019-08-15      400     A\n",
       "3     3797467345  1196621759  2019-08-15     9759     B\n",
       "4     2282983706  2322279887  2019-08-15     2308     B"
      ]
     },
     "execution_count": 4,
     "metadata": {},
     "output_type": "execute_result"
    }
   ],
   "source": [
    "orders.info()\n",
    "orders.head()"
   ]
  },
  {
   "cell_type": "code",
   "execution_count": 5,
   "metadata": {},
   "outputs": [
    {
     "name": "stdout",
     "output_type": "stream",
     "text": [
      "<class 'pandas.core.frame.DataFrame'>\n",
      "RangeIndex: 62 entries, 0 to 61\n",
      "Data columns (total 3 columns):\n",
      " #   Column    Non-Null Count  Dtype \n",
      "---  ------    --------------  ----- \n",
      " 0   date      62 non-null     object\n",
      " 1   group     62 non-null     object\n",
      " 2   visitors  62 non-null     int64 \n",
      "dtypes: int64(1), object(2)\n",
      "memory usage: 1.6+ KB\n"
     ]
    },
    {
     "data": {
      "text/html": [
       "<div>\n",
       "<style scoped>\n",
       "    .dataframe tbody tr th:only-of-type {\n",
       "        vertical-align: middle;\n",
       "    }\n",
       "\n",
       "    .dataframe tbody tr th {\n",
       "        vertical-align: top;\n",
       "    }\n",
       "\n",
       "    .dataframe thead th {\n",
       "        text-align: right;\n",
       "    }\n",
       "</style>\n",
       "<table border=\"1\" class=\"dataframe\">\n",
       "  <thead>\n",
       "    <tr style=\"text-align: right;\">\n",
       "      <th></th>\n",
       "      <th>date</th>\n",
       "      <th>group</th>\n",
       "      <th>visitors</th>\n",
       "    </tr>\n",
       "  </thead>\n",
       "  <tbody>\n",
       "    <tr>\n",
       "      <th>0</th>\n",
       "      <td>2019-08-01</td>\n",
       "      <td>A</td>\n",
       "      <td>719</td>\n",
       "    </tr>\n",
       "    <tr>\n",
       "      <th>1</th>\n",
       "      <td>2019-08-02</td>\n",
       "      <td>A</td>\n",
       "      <td>619</td>\n",
       "    </tr>\n",
       "    <tr>\n",
       "      <th>2</th>\n",
       "      <td>2019-08-03</td>\n",
       "      <td>A</td>\n",
       "      <td>507</td>\n",
       "    </tr>\n",
       "    <tr>\n",
       "      <th>3</th>\n",
       "      <td>2019-08-04</td>\n",
       "      <td>A</td>\n",
       "      <td>717</td>\n",
       "    </tr>\n",
       "    <tr>\n",
       "      <th>4</th>\n",
       "      <td>2019-08-05</td>\n",
       "      <td>A</td>\n",
       "      <td>756</td>\n",
       "    </tr>\n",
       "  </tbody>\n",
       "</table>\n",
       "</div>"
      ],
      "text/plain": [
       "         date group  visitors\n",
       "0  2019-08-01     A       719\n",
       "1  2019-08-02     A       619\n",
       "2  2019-08-03     A       507\n",
       "3  2019-08-04     A       717\n",
       "4  2019-08-05     A       756"
      ]
     },
     "execution_count": 5,
     "metadata": {},
     "output_type": "execute_result"
    }
   ],
   "source": [
    "visitors.info()\n",
    "visitors.head()"
   ]
  },
  {
   "cell_type": "markdown",
   "metadata": {},
   "source": [
    "**При первом взгляде на данные можно сказать, что:**\n",
    "\n",
    "- нет пропущенных значений в трех датасетах\n",
    "- название столбцов в датасете hypothesis необходимо привести к нижнему змеиному регистру\n",
    "- столбцы date в датасетах orders и visitors необходимо заменить тип на datetime для дальнейшей работы со временем."
   ]
  },
  {
   "cell_type": "markdown",
   "metadata": {},
   "source": [
    "###  Предобработка данных"
   ]
  },
  {
   "cell_type": "code",
   "execution_count": 6,
   "metadata": {},
   "outputs": [
    {
     "name": "stdout",
     "output_type": "stream",
     "text": [
      "<class 'pandas.core.frame.DataFrame'>\n",
      "RangeIndex: 9 entries, 0 to 8\n",
      "Data columns (total 5 columns):\n",
      " #   Column      Non-Null Count  Dtype \n",
      "---  ------      --------------  ----- \n",
      " 0   hypothesis  9 non-null      object\n",
      " 1   reach       9 non-null      int64 \n",
      " 2   impact      9 non-null      int64 \n",
      " 3   confidence  9 non-null      int64 \n",
      " 4   efforts     9 non-null      int64 \n",
      "dtypes: int64(4), object(1)\n",
      "memory usage: 488.0+ bytes\n",
      "   transactionId   visitorId       date  revenue group\n",
      "0     3667963787  3312258926 2019-08-15     1650     B\n",
      "1     2804400009  3642806036 2019-08-15      730     B\n",
      "2     2961555356  4069496402 2019-08-15      400     A\n",
      "3     3797467345  1196621759 2019-08-15     9759     B\n",
      "4     2282983706  2322279887 2019-08-15     2308     B\n"
     ]
    },
    {
     "data": {
      "text/html": [
       "<div>\n",
       "<style scoped>\n",
       "    .dataframe tbody tr th:only-of-type {\n",
       "        vertical-align: middle;\n",
       "    }\n",
       "\n",
       "    .dataframe tbody tr th {\n",
       "        vertical-align: top;\n",
       "    }\n",
       "\n",
       "    .dataframe thead th {\n",
       "        text-align: right;\n",
       "    }\n",
       "</style>\n",
       "<table border=\"1\" class=\"dataframe\">\n",
       "  <thead>\n",
       "    <tr style=\"text-align: right;\">\n",
       "      <th></th>\n",
       "      <th>date</th>\n",
       "      <th>group</th>\n",
       "      <th>visitors</th>\n",
       "    </tr>\n",
       "  </thead>\n",
       "  <tbody>\n",
       "    <tr>\n",
       "      <th>0</th>\n",
       "      <td>2019-08-01</td>\n",
       "      <td>A</td>\n",
       "      <td>719</td>\n",
       "    </tr>\n",
       "    <tr>\n",
       "      <th>1</th>\n",
       "      <td>2019-08-02</td>\n",
       "      <td>A</td>\n",
       "      <td>619</td>\n",
       "    </tr>\n",
       "    <tr>\n",
       "      <th>2</th>\n",
       "      <td>2019-08-03</td>\n",
       "      <td>A</td>\n",
       "      <td>507</td>\n",
       "    </tr>\n",
       "    <tr>\n",
       "      <th>3</th>\n",
       "      <td>2019-08-04</td>\n",
       "      <td>A</td>\n",
       "      <td>717</td>\n",
       "    </tr>\n",
       "    <tr>\n",
       "      <th>4</th>\n",
       "      <td>2019-08-05</td>\n",
       "      <td>A</td>\n",
       "      <td>756</td>\n",
       "    </tr>\n",
       "  </tbody>\n",
       "</table>\n",
       "</div>"
      ],
      "text/plain": [
       "        date group  visitors\n",
       "0 2019-08-01     A       719\n",
       "1 2019-08-02     A       619\n",
       "2 2019-08-03     A       507\n",
       "3 2019-08-04     A       717\n",
       "4 2019-08-05     A       756"
      ]
     },
     "execution_count": 6,
     "metadata": {},
     "output_type": "execute_result"
    }
   ],
   "source": [
    "#Приводим названия столбцов датасетов к нижнему змеиному регистру\n",
    "hypothesis = hypothesis.rename(\n",
    "    columns={\n",
    "        'Hypothesis': 'hypothesis',\n",
    "        'Reach': 'reach',\n",
    "        'Impact': 'impact',\n",
    "        'Confidence': 'confidence',\n",
    "        'Efforts': 'efforts'\n",
    "    }\n",
    ")\n",
    "\n",
    "\n",
    "# преобразование данных о времени\n",
    "orders['date'] = pd.to_datetime(orders['date'])\n",
    "visitors['date'] = pd.to_datetime(visitors['date'])\n",
    "\n",
    "hypothesis.info()\n",
    "print(orders.head())\n",
    "visitors.head()"
   ]
  },
  {
   "cell_type": "markdown",
   "metadata": {},
   "source": [
    "**Проверяем на явные дубликаты**"
   ]
  },
  {
   "cell_type": "code",
   "execution_count": 7,
   "metadata": {},
   "outputs": [
    {
     "name": "stdout",
     "output_type": "stream",
     "text": [
      "0\n",
      "0\n"
     ]
    },
    {
     "data": {
      "text/plain": [
       "0"
      ]
     },
     "execution_count": 7,
     "metadata": {},
     "output_type": "execute_result"
    }
   ],
   "source": [
    "print(hypothesis.duplicated().sum())\n",
    "print(orders.duplicated().sum())\n",
    "visitors.duplicated().sum()"
   ]
  },
  {
   "cell_type": "markdown",
   "metadata": {},
   "source": [
    "**Проверяем на неявные дубликаты**"
   ]
  },
  {
   "cell_type": "code",
   "execution_count": 8,
   "metadata": {},
   "outputs": [
    {
     "name": "stdout",
     "output_type": "stream",
     "text": [
      "['A' 'B']\n"
     ]
    },
    {
     "data": {
      "text/plain": [
       "array(['A', 'B'], dtype=object)"
      ]
     },
     "execution_count": 8,
     "metadata": {},
     "output_type": "execute_result"
    }
   ],
   "source": [
    "print(visitors['group'].sort_values().unique())\n",
    "orders['group'].sort_values().unique()\n"
   ]
  },
  {
   "cell_type": "markdown",
   "metadata": {},
   "source": [
    "**Результат предобработки:**\n",
    "\n",
    "- нет пропущенных значений в трех датасетах\n",
    "- название столбцов в датасете hypothesis приведены к нижнему змеиному регистру\n",
    "- в столбцах date в датасетах visiors, orders заменен тип на datetime для дальнейшей работы со временем\n",
    "- осуществлена проверка на явные и неявные дубликаты - они отсутстуют"
   ]
  },
  {
   "cell_type": "code",
   "execution_count": 9,
   "metadata": {},
   "outputs": [
    {
     "name": "stdout",
     "output_type": "stream",
     "text": [
      "          userId  group_cnt\n",
      "2        8300375          2\n",
      "44     199603092          2\n",
      "51     232979603          2\n",
      "55     237748145          2\n",
      "66     276558944          2\n",
      "84     351125977          2\n",
      "97     393266494          2\n",
      "114    457167155          2\n",
      "119    471551937          2\n",
      "122    477780734          2\n",
      "192    818047933          2\n",
      "236    963407295          2\n",
      "299   1230306981          2\n",
      "311   1294878855          2\n",
      "316   1316129916          2\n",
      "318   1333886533          2\n",
      "340   1404934699          2\n",
      "386   1602967004          2\n",
      "393   1614305549          2\n",
      "402   1648269707          2\n",
      "406   1668030113          2\n",
      "422   1738359350          2\n",
      "436   1801183820          2\n",
      "469   1959144690          2\n",
      "487   2038680547          2\n",
      "491   2044997962          2\n",
      "569   2378935119          2\n",
      "591   2458001652          2\n",
      "614   2579882178          2\n",
      "619   2587333274          2\n",
      "622   2600415354          2\n",
      "639   2654030115          2\n",
      "648   2686716486          2\n",
      "661   2712142231          2\n",
      "662   2716752286          2\n",
      "677   2780786433          2\n",
      "710   2927087541          2\n",
      "715   2949041841          2\n",
      "718   2954449915          2\n",
      "744   3062433592          2\n",
      "784   3202540741          2\n",
      "792   3234906277          2\n",
      "884   3656415546          2\n",
      "897   3717692402          2\n",
      "909   3766097110          2\n",
      "917   3803269165          2\n",
      "932   3891541246          2\n",
      "950   3941795274          2\n",
      "954   3951559397          2\n",
      "957   3957174400          2\n",
      "958   3963646447          2\n",
      "960   3972127743          2\n",
      "963   3984495233          2\n",
      "984   4069496402          2\n",
      "992   4120364173          2\n",
      "1009  4186807279          2\n",
      "1023  4256040402          2\n",
      "1026  4266935830          2\n",
      "      transactionId   visitorId       date  revenue group\n",
      "0        3667963787  3312258926 2019-08-15     1650     B\n",
      "1        2804400009  3642806036 2019-08-15      730     B\n",
      "2        2961555356  4069496402 2019-08-15      400     A\n",
      "3        3797467345  1196621759 2019-08-15     9759     B\n",
      "4        2282983706  2322279887 2019-08-15     2308     B\n",
      "...             ...         ...        ...      ...   ...\n",
      "1192     2662137336  3733762160 2019-08-14     6490     B\n",
      "1193     2203539145   370388673 2019-08-14     3190     A\n",
      "1194     1807773912   573423106 2019-08-14    10550     A\n",
      "1195     1947021204  1614305549 2019-08-14      100     A\n",
      "1196     3936777065  2108080724 2019-08-15   202740     B\n",
      "\n",
      "[1197 rows x 5 columns]\n",
      "      index  transactionId   visitorId       date  revenue group\n",
      "0         0     3667963787  3312258926 2019-08-15     1650     B\n",
      "1         1     2804400009  3642806036 2019-08-15      730     B\n",
      "2         3     3797467345  1196621759 2019-08-15     9759     B\n",
      "3         4     2282983706  2322279887 2019-08-15     2308     B\n",
      "4         5      182168103   935554773 2019-08-15     2210     B\n",
      "...     ...            ...         ...        ...      ...   ...\n",
      "1011   1191     3592955527   608641596 2019-08-14    16490     B\n",
      "1012   1192     2662137336  3733762160 2019-08-14     6490     B\n",
      "1013   1193     2203539145   370388673 2019-08-14     3190     A\n",
      "1014   1194     1807773912   573423106 2019-08-14    10550     A\n",
      "1015   1196     3936777065  2108080724 2019-08-15   202740     B\n",
      "\n",
      "[1016 rows x 6 columns]\n"
     ]
    }
   ],
   "source": [
    "double_id = orders.groupby('visitorId', as_index=False).agg({'group': 'nunique'})\n",
    "double_id.columns=['userId', 'group_cnt']\n",
    "double_id = double_id.query('group_cnt > 1')\n",
    "print(double_id)\n",
    "print(orders)\n",
    "ids = double_id['userId']\n",
    "orders = orders.query('visitorId not in @ids').reset_index()\n",
    "print(orders)"
   ]
  },
  {
   "cell_type": "markdown",
   "metadata": {},
   "source": [
    "###  Приоритизация гипотез"
   ]
  },
  {
   "cell_type": "markdown",
   "metadata": {},
   "source": [
    "**3.1 Примените фреймворк ICE для приоритизации гипотез. Отсортируйте их по убыванию приоритета.**"
   ]
  },
  {
   "cell_type": "code",
   "execution_count": 10,
   "metadata": {},
   "outputs": [
    {
     "data": {
      "text/html": [
       "<div>\n",
       "<style scoped>\n",
       "    .dataframe tbody tr th:only-of-type {\n",
       "        vertical-align: middle;\n",
       "    }\n",
       "\n",
       "    .dataframe tbody tr th {\n",
       "        vertical-align: top;\n",
       "    }\n",
       "\n",
       "    .dataframe thead th {\n",
       "        text-align: right;\n",
       "    }\n",
       "</style>\n",
       "<table border=\"1\" class=\"dataframe\">\n",
       "  <thead>\n",
       "    <tr style=\"text-align: right;\">\n",
       "      <th></th>\n",
       "      <th>hypothesis</th>\n",
       "      <th>reach</th>\n",
       "      <th>impact</th>\n",
       "      <th>confidence</th>\n",
       "      <th>efforts</th>\n",
       "    </tr>\n",
       "  </thead>\n",
       "  <tbody>\n",
       "    <tr>\n",
       "      <th>0</th>\n",
       "      <td>Добавить два новых канала привлечения трафика,...</td>\n",
       "      <td>3</td>\n",
       "      <td>10</td>\n",
       "      <td>8</td>\n",
       "      <td>6</td>\n",
       "    </tr>\n",
       "    <tr>\n",
       "      <th>1</th>\n",
       "      <td>Запустить собственную службу доставки, что сок...</td>\n",
       "      <td>2</td>\n",
       "      <td>5</td>\n",
       "      <td>4</td>\n",
       "      <td>10</td>\n",
       "    </tr>\n",
       "    <tr>\n",
       "      <th>2</th>\n",
       "      <td>Добавить блоки рекомендаций товаров на сайт ин...</td>\n",
       "      <td>8</td>\n",
       "      <td>3</td>\n",
       "      <td>7</td>\n",
       "      <td>3</td>\n",
       "    </tr>\n",
       "    <tr>\n",
       "      <th>3</th>\n",
       "      <td>Изменить структура категорий, что увеличит кон...</td>\n",
       "      <td>8</td>\n",
       "      <td>3</td>\n",
       "      <td>3</td>\n",
       "      <td>8</td>\n",
       "    </tr>\n",
       "    <tr>\n",
       "      <th>4</th>\n",
       "      <td>Изменить цвет фона главной страницы, чтобы уве...</td>\n",
       "      <td>3</td>\n",
       "      <td>1</td>\n",
       "      <td>1</td>\n",
       "      <td>1</td>\n",
       "    </tr>\n",
       "    <tr>\n",
       "      <th>5</th>\n",
       "      <td>Добавить страницу отзывов клиентов о магазине,...</td>\n",
       "      <td>3</td>\n",
       "      <td>2</td>\n",
       "      <td>2</td>\n",
       "      <td>3</td>\n",
       "    </tr>\n",
       "    <tr>\n",
       "      <th>6</th>\n",
       "      <td>Показать на главной странице баннеры с актуаль...</td>\n",
       "      <td>5</td>\n",
       "      <td>3</td>\n",
       "      <td>8</td>\n",
       "      <td>3</td>\n",
       "    </tr>\n",
       "    <tr>\n",
       "      <th>7</th>\n",
       "      <td>Добавить форму подписки на все основные страни...</td>\n",
       "      <td>10</td>\n",
       "      <td>7</td>\n",
       "      <td>8</td>\n",
       "      <td>5</td>\n",
       "    </tr>\n",
       "    <tr>\n",
       "      <th>8</th>\n",
       "      <td>Запустить акцию, дающую скидку на товар в день...</td>\n",
       "      <td>1</td>\n",
       "      <td>9</td>\n",
       "      <td>9</td>\n",
       "      <td>5</td>\n",
       "    </tr>\n",
       "  </tbody>\n",
       "</table>\n",
       "</div>"
      ],
      "text/plain": [
       "                                          hypothesis  reach  impact  \\\n",
       "0  Добавить два новых канала привлечения трафика,...      3      10   \n",
       "1  Запустить собственную службу доставки, что сок...      2       5   \n",
       "2  Добавить блоки рекомендаций товаров на сайт ин...      8       3   \n",
       "3  Изменить структура категорий, что увеличит кон...      8       3   \n",
       "4  Изменить цвет фона главной страницы, чтобы уве...      3       1   \n",
       "5  Добавить страницу отзывов клиентов о магазине,...      3       2   \n",
       "6  Показать на главной странице баннеры с актуаль...      5       3   \n",
       "7  Добавить форму подписки на все основные страни...     10       7   \n",
       "8  Запустить акцию, дающую скидку на товар в день...      1       9   \n",
       "\n",
       "   confidence  efforts  \n",
       "0           8        6  \n",
       "1           4       10  \n",
       "2           7        3  \n",
       "3           3        8  \n",
       "4           1        1  \n",
       "5           2        3  \n",
       "6           8        3  \n",
       "7           8        5  \n",
       "8           9        5  "
      ]
     },
     "execution_count": 10,
     "metadata": {},
     "output_type": "execute_result"
    }
   ],
   "source": [
    "hypothesis"
   ]
  },
  {
   "cell_type": "code",
   "execution_count": 11,
   "metadata": {},
   "outputs": [
    {
     "data": {
      "text/html": [
       "<div>\n",
       "<style scoped>\n",
       "    .dataframe tbody tr th:only-of-type {\n",
       "        vertical-align: middle;\n",
       "    }\n",
       "\n",
       "    .dataframe tbody tr th {\n",
       "        vertical-align: top;\n",
       "    }\n",
       "\n",
       "    .dataframe thead th {\n",
       "        text-align: right;\n",
       "    }\n",
       "</style>\n",
       "<table border=\"1\" class=\"dataframe\">\n",
       "  <thead>\n",
       "    <tr style=\"text-align: right;\">\n",
       "      <th></th>\n",
       "      <th>hypothesis</th>\n",
       "      <th>ice</th>\n",
       "    </tr>\n",
       "  </thead>\n",
       "  <tbody>\n",
       "    <tr>\n",
       "      <th>8</th>\n",
       "      <td>Запустить акцию, дающую скидку на товар в день рождения</td>\n",
       "      <td>16.200000</td>\n",
       "    </tr>\n",
       "    <tr>\n",
       "      <th>0</th>\n",
       "      <td>Добавить два новых канала привлечения трафика, что позволит привлекать на 30% больше пользователей</td>\n",
       "      <td>13.333333</td>\n",
       "    </tr>\n",
       "    <tr>\n",
       "      <th>7</th>\n",
       "      <td>Добавить форму подписки на все основные страницы, чтобы собрать базу клиентов для email-рассылок</td>\n",
       "      <td>11.200000</td>\n",
       "    </tr>\n",
       "    <tr>\n",
       "      <th>6</th>\n",
       "      <td>Показать на главной странице баннеры с актуальными акциями и распродажами, чтобы увеличить конверсию</td>\n",
       "      <td>8.000000</td>\n",
       "    </tr>\n",
       "    <tr>\n",
       "      <th>2</th>\n",
       "      <td>Добавить блоки рекомендаций товаров на сайт интернет магазина, чтобы повысить конверсию и средний чек заказа</td>\n",
       "      <td>7.000000</td>\n",
       "    </tr>\n",
       "    <tr>\n",
       "      <th>1</th>\n",
       "      <td>Запустить собственную службу доставки, что сократит срок доставки заказов</td>\n",
       "      <td>2.000000</td>\n",
       "    </tr>\n",
       "    <tr>\n",
       "      <th>5</th>\n",
       "      <td>Добавить страницу отзывов клиентов о магазине, что позволит увеличить количество заказов</td>\n",
       "      <td>1.333333</td>\n",
       "    </tr>\n",
       "    <tr>\n",
       "      <th>3</th>\n",
       "      <td>Изменить структура категорий, что увеличит конверсию, т.к. пользователи быстрее найдут нужный товар</td>\n",
       "      <td>1.125000</td>\n",
       "    </tr>\n",
       "    <tr>\n",
       "      <th>4</th>\n",
       "      <td>Изменить цвет фона главной страницы, чтобы увеличить вовлеченность пользователей</td>\n",
       "      <td>1.000000</td>\n",
       "    </tr>\n",
       "  </tbody>\n",
       "</table>\n",
       "</div>"
      ],
      "text/plain": [
       "                                                                                                     hypothesis  \\\n",
       "8  Запустить акцию, дающую скидку на товар в день рождения                                                        \n",
       "0  Добавить два новых канала привлечения трафика, что позволит привлекать на 30% больше пользователей             \n",
       "7  Добавить форму подписки на все основные страницы, чтобы собрать базу клиентов для email-рассылок               \n",
       "6  Показать на главной странице баннеры с актуальными акциями и распродажами, чтобы увеличить конверсию           \n",
       "2  Добавить блоки рекомендаций товаров на сайт интернет магазина, чтобы повысить конверсию и средний чек заказа   \n",
       "1  Запустить собственную службу доставки, что сократит срок доставки заказов                                      \n",
       "5  Добавить страницу отзывов клиентов о магазине, что позволит увеличить количество заказов                       \n",
       "3  Изменить структура категорий, что увеличит конверсию, т.к. пользователи быстрее найдут нужный товар            \n",
       "4  Изменить цвет фона главной страницы, чтобы увеличить вовлеченность пользователей                               \n",
       "\n",
       "         ice  \n",
       "8  16.200000  \n",
       "0  13.333333  \n",
       "7  11.200000  \n",
       "6  8.000000   \n",
       "2  7.000000   \n",
       "1  2.000000   \n",
       "5  1.333333   \n",
       "3  1.125000   \n",
       "4  1.000000   "
      ]
     },
     "metadata": {},
     "output_type": "display_data"
    }
   ],
   "source": [
    "hypothesis['ice'] = hypothesis['impact'] * hypothesis['confidence'] / hypothesis['efforts']\n",
    "pd.options.display.max_colwidth = 1\n",
    "display(hypothesis[['hypothesis', 'ice']].sort_values(by='ice', ascending=False))"
   ]
  },
  {
   "cell_type": "markdown",
   "metadata": {},
   "source": [
    "Наиболее перспективные гипотезы - 8, 0, 7"
   ]
  },
  {
   "cell_type": "markdown",
   "metadata": {},
   "source": [
    "**3.2 Примените фреймворк RICE для приоритизации гипотез. Отсортируйте их по убыванию приоритета.**"
   ]
  },
  {
   "cell_type": "code",
   "execution_count": 12,
   "metadata": {},
   "outputs": [
    {
     "name": "stdout",
     "output_type": "stream",
     "text": [
      "                                                                                                     hypothesis  \\\n",
      "7  Добавить форму подписки на все основные страницы, чтобы собрать базу клиентов для email-рассылок               \n",
      "2  Добавить блоки рекомендаций товаров на сайт интернет магазина, чтобы повысить конверсию и средний чек заказа   \n",
      "0  Добавить два новых канала привлечения трафика, что позволит привлекать на 30% больше пользователей             \n",
      "6  Показать на главной странице баннеры с актуальными акциями и распродажами, чтобы увеличить конверсию           \n",
      "8  Запустить акцию, дающую скидку на товар в день рождения                                                        \n",
      "3  Изменить структура категорий, что увеличит конверсию, т.к. пользователи быстрее найдут нужный товар            \n",
      "1  Запустить собственную службу доставки, что сократит срок доставки заказов                                      \n",
      "5  Добавить страницу отзывов клиентов о магазине, что позволит увеличить количество заказов                       \n",
      "4  Изменить цвет фона главной страницы, чтобы увеличить вовлеченность пользователей                               \n",
      "\n",
      "    rice  \n",
      "7  112.0  \n",
      "2  56.0   \n",
      "0  40.0   \n",
      "6  40.0   \n",
      "8  16.2   \n",
      "3  9.0    \n",
      "1  4.0    \n",
      "5  4.0    \n",
      "4  3.0    \n"
     ]
    }
   ],
   "source": [
    "hypothesis['rice'] = hypothesis['reach'] * hypothesis['impact'] * hypothesis['confidence'] / hypothesis['efforts']\n",
    "print(hypothesis[['hypothesis', 'rice']].sort_values(by='rice', ascending=False))"
   ]
  },
  {
   "cell_type": "markdown",
   "metadata": {},
   "source": [
    "Наиболее перспективные гипотезы - 7, 2, 0, 6"
   ]
  },
  {
   "cell_type": "markdown",
   "metadata": {},
   "source": [
    "**3.3 Укажите, как изменилась приоритизация гипотез при применении RICE вместо ICE. Объясните, почему так произошло.**"
   ]
  },
  {
   "cell_type": "markdown",
   "metadata": {},
   "source": [
    "Приоритизация гипотез при применении RICE вместо ICE, обусловлена тем что в фреймворке RICE мы учитываем параметр - Reach (скольких пользователей затронет изменение, которое мы хотим внести), и в гипотезе 7 он высок, что вывело ее на первые позиции.Также как в сместило вниз лидеров ICE 8 и 0.\n",
    "\n",
    "**Вывод:** Наиболее перспективной является гипотеза 7, она в лидерах после приоритезации в обоих фреймворках. Также можно еще рассмотреть 0-ую гипотезу по совокупности результатов приоритизации RICE, ICE."
   ]
  },
  {
   "cell_type": "markdown",
   "metadata": {},
   "source": [
    "###  Приоритизация гипотез"
   ]
  },
  {
   "cell_type": "markdown",
   "metadata": {},
   "source": [
    "**4.1 Постройте график кумулятивной выручки по группам. Сделайте выводы и предположения.**"
   ]
  },
  {
   "cell_type": "code",
   "execution_count": 13,
   "metadata": {},
   "outputs": [
    {
     "data": {
      "image/png": "[encoded data removed]",
      "text/plain": [
       "<Figure size 1500x500 with 1 Axes>"
      ]
     },
     "metadata": {},
     "output_type": "display_data"
    }
   ],
   "source": [
    "datesGroups = orders[['date', 'group']].drop_duplicates()\n",
    "ordersAggregated = datesGroups.apply(lambda x: orders[np.logical_and(orders['date'] <= x['date'], orders['group'] == x['group'])]\\\n",
    ".agg({'date' : 'max', 'group' : 'max', 'transactionId' : 'nunique', 'visitorId' : 'nunique', 'revenue' : 'sum'}), axis=1).sort_values(by=['date','group'])\n",
    "visitorsAggregated = datesGroups.apply(lambda x: visitors[np.logical_and(visitors['date'] <= x['date'], visitors['group'] == x['group'])].agg({'date' : 'max', 'group' : 'max', 'visitors' : 'sum'}), axis=1).sort_values(by=['date','group']) \n",
    "\n",
    "cumulativeData = ordersAggregated.merge(visitorsAggregated, left_on=['date', 'group'], right_on=['date', 'group'])\n",
    "cumulativeData.columns = ['date', 'group', 'orders', 'buyers', 'revenue', 'visitors']\n",
    "\n",
    "# датафрейм с кумулятивным количеством заказов и кумулятивной выручкой по дням в группе А\n",
    "cumulativeRevenueA = cumulativeData[cumulativeData['group']=='A'][['date','revenue', 'orders']]\n",
    "\n",
    "# датафрейм с кумулятивным количеством заказов и кумулятивной выручкой по дням в группе B\n",
    "cumulativeRevenueB = cumulativeData[cumulativeData['group']=='B'][['date','revenue', 'orders']]\n",
    "\n",
    "# Строим график выручки группы А\n",
    "plt.figure(figsize=(15,5))\n",
    "plt.plot(cumulativeRevenueA['date'], cumulativeRevenueA['revenue'], label='Кумулятивная выручка A')\n",
    "\n",
    "# Строим график выручки группы B\n",
    "plt.plot(cumulativeRevenueB['date'], cumulativeRevenueB['revenue'], label='Кумулятивная выручка B')\n",
    "plt.legend()\n",
    "# добавляем подписи к осям и заголовок диаграммы\n",
    "plt.xlabel('Дата', fontsize=16)\n",
    "plt.ylabel('Выручка, млн', fontsize=16)\n",
    "plt.title('График кумулятивной выручки по группам')\n",
    "\n",
    "# задаем диапазон значений оси y\n",
    "plt.ylim([0, 8000000])\n",
    "# оптимизируем поля и расположение объектов\n",
    "plt.tight_layout()\n",
    "\n",
    "plt.show()\n"
   ]
  },
  {
   "cell_type": "markdown",
   "metadata": {},
   "source": [
    "В течение всего периода видно, что кумулятивная выручка группы В выше и растет быстрее, чем в группе А.Особенно после 17 августа. Скорее всего вырос средний чек покупки группы B, отсюда и такой скачок."
   ]
  },
  {
   "cell_type": "markdown",
   "metadata": {},
   "source": [
    "**4.2 Постройте график кумулятивного среднего чека по группам. Сделайте выводы и предположения.**"
   ]
  },
  {
   "cell_type": "code",
   "execution_count": 14,
   "metadata": {},
   "outputs": [
    {
     "data": {
      "image/png": "[encoded data removed]",
      "text/plain": [
       "<Figure size 1500x500 with 1 Axes>"
      ]
     },
     "metadata": {},
     "output_type": "display_data"
    }
   ],
   "source": [
    "plt.figure(figsize=(15,5))\n",
    "plt.plot(cumulativeRevenueA['date'], cumulativeRevenueA['revenue']/cumulativeRevenueA['orders'], label='Кумулятивный средний чек A')\n",
    "plt.plot(cumulativeRevenueB['date'], cumulativeRevenueB['revenue']/cumulativeRevenueB['orders'], label='Кумулятивный средний чек B')\n",
    "plt.legend() \n",
    "# добавляем подписи к осям и заголовок диаграммы\n",
    "plt.xlabel('Дата', fontsize=16)\n",
    "plt.ylabel('Средний чек', fontsize=16)\n",
    "plt.title('График кумулятивного среднего чека по группам')\n",
    "\n",
    "# задаем диапазон значений оси y\n",
    "plt.ylim([3000, 11000])\n",
    "# оптимизируем поля и расположение объектов\n",
    "plt.tight_layout()\n",
    "\n",
    "plt.show()"
   ]
  },
  {
   "cell_type": "markdown",
   "metadata": {},
   "source": [
    "По среднему чеку видно, что толтко в период 12-14 августа средний чек группы А превышал группу В. И также хорошо видно, что начиная с 18-19 августа средний чек группы В значительно повысился, хоть потом он шел на снижение, но все равно не опускался до предыдущих значений и был выше группы А."
   ]
  },
  {
   "cell_type": "markdown",
   "metadata": {},
   "source": [
    "**4.3 Постройте график относительного изменения кумулятивного среднего чека группы B к группе A. Сделайте выводы и предположения.**"
   ]
  },
  {
   "cell_type": "code",
   "execution_count": 15,
   "metadata": {},
   "outputs": [
    {
     "data": {
      "image/png": "[encoded data removed]",
      "text/plain": [
       "<Figure size 1500x500 with 1 Axes>"
      ]
     },
     "metadata": {},
     "output_type": "display_data"
    }
   ],
   "source": [
    "# собираем данные в одном датафрейме\n",
    "mergedCumulativeRevenue = cumulativeRevenueA.merge(cumulativeRevenueB, left_on='date', right_on='date', how='left', suffixes=['A', 'B'])\n",
    "\n",
    "# cтроим отношение средних чеков\n",
    "plt.figure(figsize=(15,5))\n",
    "plt.plot(mergedCumulativeRevenue['date'], (mergedCumulativeRevenue['revenueB']/mergedCumulativeRevenue['ordersB'])/(mergedCumulativeRevenue['revenueA']/mergedCumulativeRevenue['ordersA'])-1)\n",
    "plt.title('Относительное изменение кумулятивного среднего чека групп \"B\" к \"А\"')\n",
    "# добавляем ось X\n",
    "plt.axhline(y=0, color='black', linestyle='--') \n",
    "# добавляем подписи к осям и заголовок диаграммы\n",
    "plt.xlabel('Дата', fontsize=16)\n",
    "plt.ylabel('Средний чек', fontsize=16)\n",
    "\n",
    "# задаем диапазон значений оси y\n",
    "plt.ylim([-0.5, 1])\n",
    "# оптимизируем поля и расположение объектов\n",
    "plt.tight_layout()\n",
    "\n",
    "plt.show()"
   ]
  },
  {
   "cell_type": "markdown",
   "metadata": {},
   "source": [
    "Результаты теста В значительно превышают результаты теста А. Только в период с 12-15 августа прослеживается спад. Возможно в это время были сделаны заказы с аномально маленькими значениями."
   ]
  },
  {
   "cell_type": "markdown",
   "metadata": {},
   "source": [
    "**4.4 Постройте график кумулятивного среднего количества заказов на посетителя по группам. Сделайте выводы и предположения.**"
   ]
  },
  {
   "cell_type": "code",
   "execution_count": 16,
   "metadata": {},
   "outputs": [
    {
     "data": {
      "image/png": "[encoded data removed]",
      "text/plain": [
       "<Figure size 1500x500 with 1 Axes>"
      ]
     },
     "metadata": {},
     "output_type": "display_data"
    }
   ],
   "source": [
    "\n",
    "# считаем кумулятивную конверсию\n",
    "cumulativeData['conversion'] = cumulativeData['orders']/cumulativeData['visitors']\n",
    "\n",
    "# отделяем данные по группе A\n",
    "cumulativeDataA = cumulativeData[cumulativeData['group']=='A']\n",
    "\n",
    "# отделяем данные по группе B\n",
    "cumulativeDataB = cumulativeData[cumulativeData['group']=='B']\n",
    "\n",
    "# строим графики\n",
    "plt.figure(figsize=(15,5))\n",
    "plt.plot(cumulativeDataA['date'], cumulativeDataA['conversion'], label='Кумулятивная конверсия A')\n",
    "plt.plot(cumulativeDataB['date'], cumulativeDataB['conversion'], label='Кумулятивная конверсия B')\n",
    "plt.legend()\n",
    "plt.title('Кумулятивная конверсия')\n",
    "# добавляем подписи к осям и заголовок диаграммы\n",
    "plt.xlabel('Дата', fontsize=16)\n",
    "plt.ylabel('Конверсия', fontsize=16)\n",
    "\n",
    "\n",
    "# оптимизируем поля и расположение объектов\n",
    "plt.tight_layout()\n",
    "\n",
    "plt.show()\n",
    "\n"
   ]
  },
  {
   "cell_type": "markdown",
   "metadata": {},
   "source": [
    "Конверсия группы B, также не считая колебвний первых дней теста значитеельно выше конверсии группы А."
   ]
  },
  {
   "cell_type": "markdown",
   "metadata": {},
   "source": [
    "**4.5 Постройте график относительного изменения кумулятивного среднего количества заказов на посетителя группы B к группе A. Сделайте выводы и предположения.**"
   ]
  },
  {
   "cell_type": "code",
   "execution_count": 17,
   "metadata": {},
   "outputs": [
    {
     "data": {
      "image/png": "[encoded data removed]",
      "text/plain": [
       "<Figure size 1500x500 with 1 Axes>"
      ]
     },
     "metadata": {},
     "output_type": "display_data"
    }
   ],
   "source": [
    "mergedCumulativeConversions = cumulativeDataA[['date','conversion']].merge(cumulativeDataB[['date','conversion']], left_on='date', right_on='date', how='left', suffixes=['A', 'B'])\n",
    "plt.figure(figsize=(15,5))\n",
    "plt.plot(mergedCumulativeConversions['date'], mergedCumulativeConversions['conversionB']/mergedCumulativeConversions['conversionA']-1, label=\"Относительный прирост конверсии группы B относительно группы A\")\n",
    "plt.legend()\n",
    "plt.title('Относительное изменение кумулятивного среднего количества заказов на посетителя группы B к группе A')\n",
    "plt.axhline(y=0, color='black', linestyle='--')\n",
    "plt.axhline(y=0.2, color='grey', linestyle='--')\n",
    "# добавляем подписи к осям и заголовок диаграммы\n",
    "plt.xlabel('Дата', fontsize=16)\n",
    "plt.ylabel('Кумулятивное среднее', fontsize=16)\n",
    "\n",
    "\n",
    "# оптимизируем поля и расположение объектов\n",
    "plt.tight_layout()\n",
    "\n",
    "plt.show()\n",
    "\n",
    "\n",
    "\n"
   ]
  },
  {
   "cell_type": "markdown",
   "metadata": {},
   "source": [
    "Почти с самого начала теста группа В лидирует по конверсии: становится лучше, после 17 августа немного снижается, но не опускается ниже 10% относительно группы А"
   ]
  },
  {
   "cell_type": "markdown",
   "metadata": {},
   "source": [
    "**4.6 Постройте точечный график количества заказов по пользователям. Сделайте выводы и предположения.**"
   ]
  },
  {
   "cell_type": "code",
   "execution_count": 18,
   "metadata": {},
   "outputs": [
    {
     "data": {
      "image/png": "[encoded data removed]",
      "text/plain": [
       "<Figure size 1500x500 with 1 Axes>"
      ]
     },
     "metadata": {},
     "output_type": "display_data"
    }
   ],
   "source": [
    "ordersByUsers = (\n",
    "    orders.groupby('visitorId', as_index=False)\n",
    "    .agg({'transactionId': 'nunique'})\n",
    ")\n",
    "\n",
    "ordersByUsers.columns = ['userId', 'orders']\n",
    "plt.figure(figsize=(15,5))\n",
    "plt.grid()\n",
    "plt.title('Количество заказов по пользователям')\n",
    "plt.hist(ordersByUsers['orders']) \n",
    "# добавляем подписи к осям и заголовок диаграммы\n",
    "plt.xlabel('Количество заказов', fontsize=16)\n",
    "plt.ylabel('Количество пользователей', fontsize=16)\n",
    "plt.xlim([0, 20])\n",
    "\n",
    "# оптимизируем поля и расположение объектов\n",
    "plt.tight_layout()\n",
    "\n",
    "plt.show()\n"
   ]
  },
  {
   "cell_type": "markdown",
   "metadata": {},
   "source": [
    "Больше всего пользователей которые совершили 1 - 3 заказf. Все что выше 3 заказов - явно уже аномалия."
   ]
  },
  {
   "cell_type": "markdown",
   "metadata": {},
   "source": [
    "**4.7 Посчитайте 95-й и 99-й перцентили количества заказов на пользователя. Выберите границу для определения аномальных пользователей.**"
   ]
  },
  {
   "cell_type": "code",
   "execution_count": 19,
   "metadata": {},
   "outputs": [
    {
     "data": {
      "text/plain": [
       "array([1., 2.])"
      ]
     },
     "execution_count": 19,
     "metadata": {},
     "output_type": "execute_result"
    }
   ],
   "source": [
    "np.percentile(ordersByUsers['orders'], [95, 99])"
   ]
  },
  {
   "cell_type": "markdown",
   "metadata": {},
   "source": [
    "Не более 95% пользователей совершали более 2 заказов и не более 99% совершали более 4 заказов. Граница - 3 заказа."
   ]
  },
  {
   "cell_type": "markdown",
   "metadata": {},
   "source": [
    "**4.8 Постройте точечный график стоимостей заказов. Сделайте выводы и предположения.**"
   ]
  },
  {
   "cell_type": "code",
   "execution_count": 20,
   "metadata": {},
   "outputs": [
    {
     "data": {
      "image/png": "[encoded data removed]",
      "text/plain": [
       "<Figure size 1500x500 with 1 Axes>"
      ]
     },
     "metadata": {},
     "output_type": "display_data"
    }
   ],
   "source": [
    "x_values = pd.Series(range(0, len(orders['revenue'])))\n",
    "plt.figure(figsize=(15,5))\n",
    "plt.title('График стоимостей заказов')\n",
    "plt.scatter(x_values, orders['revenue'], alpha=0.5);\n",
    "# добавляем подписи к осям и заголовок диаграммы\n",
    "plt.xlabel('Количество', fontsize=16)\n",
    "plt.ylabel('Стоимость', fontsize=16)\n",
    "plt.ylim([0, 100000])\n",
    "\n",
    "# оптимизируем поля и расположение объектов\n",
    "plt.tight_layout()\n",
    "\n",
    "plt.show()\n"
   ]
  },
  {
   "cell_type": "markdown",
   "metadata": {},
   "source": [
    "Заказы дороже 40000 довольно редки, для более точного вывода расчитаем перцентили"
   ]
  },
  {
   "cell_type": "markdown",
   "metadata": {},
   "source": [
    "**4.9 Посчитайте 95-й и 99-й перцентили стоимости заказов. Выберите границу для определения аномальных заказов.**"
   ]
  },
  {
   "cell_type": "code",
   "execution_count": 21,
   "metadata": {},
   "outputs": [
    {
     "data": {
      "text/plain": [
       "array([26785., 53904.])"
      ]
     },
     "execution_count": 21,
     "metadata": {},
     "output_type": "execute_result"
    }
   ],
   "source": [
    "np.percentile(orders['revenue'], [95, 99])"
   ]
  },
  {
   "cell_type": "markdown",
   "metadata": {},
   "source": [
    "Не более 95% пользователей совершали заказы на сумму до 28000 и не более 99% совершали заказы на сумму до 588000. Граница - 50000 заказа."
   ]
  },
  {
   "cell_type": "markdown",
   "metadata": {},
   "source": [
    "**4.10 Посчитайте статистическую значимость различий в среднем количестве заказов на посетителя между группами по «сырым» данным. Сделайте выводы и предположения**"
   ]
  },
  {
   "cell_type": "code",
   "execution_count": 22,
   "metadata": {},
   "outputs": [
    {
     "data": {
      "text/html": [
       "<div>\n",
       "<style scoped>\n",
       "    .dataframe tbody tr th:only-of-type {\n",
       "        vertical-align: middle;\n",
       "    }\n",
       "\n",
       "    .dataframe tbody tr th {\n",
       "        vertical-align: top;\n",
       "    }\n",
       "\n",
       "    .dataframe thead th {\n",
       "        text-align: right;\n",
       "    }\n",
       "</style>\n",
       "<table border=\"1\" class=\"dataframe\">\n",
       "  <thead>\n",
       "    <tr style=\"text-align: right;\">\n",
       "      <th></th>\n",
       "      <th>date</th>\n",
       "      <th>ordersPerDateA</th>\n",
       "      <th>revenuePerDateA</th>\n",
       "      <th>ordersPerDateB</th>\n",
       "      <th>revenuePerDateB</th>\n",
       "      <th>ordersCummulativeA</th>\n",
       "      <th>revenueCummulativeA</th>\n",
       "      <th>ordersCummulativeB</th>\n",
       "      <th>revenueCummulativeB</th>\n",
       "      <th>visitorsPerDateA</th>\n",
       "      <th>visitorsPerDateB</th>\n",
       "      <th>visitorsCummulativeA</th>\n",
       "      <th>visitorsCummulativeB</th>\n",
       "    </tr>\n",
       "  </thead>\n",
       "  <tbody>\n",
       "    <tr>\n",
       "      <th>0</th>\n",
       "      <td>2019-08-01</td>\n",
       "      <td>23</td>\n",
       "      <td>142779</td>\n",
       "      <td>17</td>\n",
       "      <td>59758</td>\n",
       "      <td>23</td>\n",
       "      <td>142779</td>\n",
       "      <td>17</td>\n",
       "      <td>59758</td>\n",
       "      <td>719</td>\n",
       "      <td>713</td>\n",
       "      <td>719</td>\n",
       "      <td>713</td>\n",
       "    </tr>\n",
       "    <tr>\n",
       "      <th>1</th>\n",
       "      <td>2019-08-02</td>\n",
       "      <td>19</td>\n",
       "      <td>91602</td>\n",
       "      <td>23</td>\n",
       "      <td>162043</td>\n",
       "      <td>42</td>\n",
       "      <td>234381</td>\n",
       "      <td>40</td>\n",
       "      <td>221801</td>\n",
       "      <td>619</td>\n",
       "      <td>581</td>\n",
       "      <td>1338</td>\n",
       "      <td>1294</td>\n",
       "    </tr>\n",
       "    <tr>\n",
       "      <th>2</th>\n",
       "      <td>2019-08-03</td>\n",
       "      <td>24</td>\n",
       "      <td>112473</td>\n",
       "      <td>14</td>\n",
       "      <td>67049</td>\n",
       "      <td>66</td>\n",
       "      <td>346854</td>\n",
       "      <td>54</td>\n",
       "      <td>288850</td>\n",
       "      <td>507</td>\n",
       "      <td>509</td>\n",
       "      <td>1845</td>\n",
       "      <td>1803</td>\n",
       "    </tr>\n",
       "    <tr>\n",
       "      <th>3</th>\n",
       "      <td>2019-08-04</td>\n",
       "      <td>11</td>\n",
       "      <td>41176</td>\n",
       "      <td>14</td>\n",
       "      <td>96890</td>\n",
       "      <td>77</td>\n",
       "      <td>388030</td>\n",
       "      <td>68</td>\n",
       "      <td>385740</td>\n",
       "      <td>717</td>\n",
       "      <td>770</td>\n",
       "      <td>2562</td>\n",
       "      <td>2573</td>\n",
       "    </tr>\n",
       "    <tr>\n",
       "      <th>4</th>\n",
       "      <td>2019-08-05</td>\n",
       "      <td>22</td>\n",
       "      <td>86383</td>\n",
       "      <td>21</td>\n",
       "      <td>89908</td>\n",
       "      <td>99</td>\n",
       "      <td>474413</td>\n",
       "      <td>89</td>\n",
       "      <td>475648</td>\n",
       "      <td>756</td>\n",
       "      <td>707</td>\n",
       "      <td>3318</td>\n",
       "      <td>3280</td>\n",
       "    </tr>\n",
       "  </tbody>\n",
       "</table>\n",
       "</div>"
      ],
      "text/plain": [
       "        date  ordersPerDateA  revenuePerDateA  ordersPerDateB  \\\n",
       "0 2019-08-01  23              142779           17               \n",
       "1 2019-08-02  19              91602            23               \n",
       "2 2019-08-03  24              112473           14               \n",
       "3 2019-08-04  11              41176            14               \n",
       "4 2019-08-05  22              86383            21               \n",
       "\n",
       "   revenuePerDateB  ordersCummulativeA  revenueCummulativeA  \\\n",
       "0  59758            23                  142779                \n",
       "1  162043           42                  234381                \n",
       "2  67049            66                  346854                \n",
       "3  96890            77                  388030                \n",
       "4  89908            99                  474413                \n",
       "\n",
       "   ordersCummulativeB  revenueCummulativeB  visitorsPerDateA  \\\n",
       "0  17                  59758                719                \n",
       "1  40                  221801               619                \n",
       "2  54                  288850               507                \n",
       "3  68                  385740               717                \n",
       "4  89                  475648               756                \n",
       "\n",
       "   visitorsPerDateB  visitorsCummulativeA  visitorsCummulativeB  \n",
       "0  713               719                   713                   \n",
       "1  581               1338                  1294                  \n",
       "2  509               1845                  1803                  \n",
       "3  770               2562                  2573                  \n",
       "4  707               3318                  3280                  "
      ]
     },
     "execution_count": 22,
     "metadata": {},
     "output_type": "execute_result"
    }
   ],
   "source": [
    "\n",
    "\n",
    "visitorsADaily = visitors[visitors['group'] == 'A'][['date', 'visitors']]\n",
    "visitorsADaily.columns = ['date', 'visitorsPerDateA']\n",
    "\n",
    "visitorsACummulative = visitorsADaily.apply(\n",
    "    lambda x: visitorsADaily[visitorsADaily['date'] <= x['date']].agg(\n",
    "        {'date': 'max', 'visitorsPerDateA': 'sum'}\n",
    "    ),\n",
    "    axis=1,\n",
    ")\n",
    "visitorsACummulative.columns = ['date', 'visitorsCummulativeA']\n",
    "\n",
    "visitorsBDaily = visitors[visitors['group'] == 'B'][['date', 'visitors']]\n",
    "visitorsBDaily.columns = ['date', 'visitorsPerDateB']\n",
    "\n",
    "visitorsBCummulative = visitorsBDaily.apply(\n",
    "    lambda x: visitorsBDaily[visitorsBDaily['date'] <= x['date']].agg(\n",
    "        {'date': 'max', 'visitorsPerDateB': 'sum'}\n",
    "    ),\n",
    "    axis=1,\n",
    ")\n",
    "visitorsBCummulative.columns = ['date', 'visitorsCummulativeB']\n",
    "\n",
    "ordersADaily = (\n",
    "    orders[orders['group'] == 'A'][['date', 'transactionId', 'visitorId', 'revenue']]\n",
    "    .groupby('date', as_index=False)\n",
    "    .agg({'transactionId': pd.Series.nunique, 'revenue': 'sum'})\n",
    ")\n",
    "ordersADaily.columns = ['date', 'ordersPerDateA', 'revenuePerDateA']\n",
    "\n",
    "ordersACummulative = ordersADaily.apply(\n",
    "    lambda x: ordersADaily[ordersADaily['date'] <= x['date']].agg(\n",
    "        {'date': 'max', 'ordersPerDateA': 'sum', 'revenuePerDateA': 'sum'}\n",
    "    ),\n",
    "    axis=1,\n",
    ").sort_values(by=['date'])\n",
    "ordersACummulative.columns = [\n",
    "    'date',\n",
    "    'ordersCummulativeA',\n",
    "    'revenueCummulativeA',\n",
    "]\n",
    "\n",
    "ordersBDaily = (\n",
    "    orders[orders['group'] == 'B'][['date', 'transactionId', 'visitorId', 'revenue']]\n",
    "    .groupby('date', as_index=False)\n",
    "    .agg({'transactionId': pd.Series.nunique, 'revenue': 'sum'})\n",
    ")\n",
    "ordersBDaily.columns = ['date', 'ordersPerDateB', 'revenuePerDateB']\n",
    "\n",
    "ordersBCummulative = ordersBDaily.apply(\n",
    "    lambda x: ordersBDaily[ordersBDaily['date'] <= x['date']].agg(\n",
    "        {'date': 'max', 'ordersPerDateB': 'sum', 'revenuePerDateB': 'sum'}\n",
    "    ),\n",
    "    axis=1,\n",
    ").sort_values(by=['date'])\n",
    "ordersBCummulative.columns = [\n",
    "    'date',\n",
    "    'ordersCummulativeB',\n",
    "    'revenueCummulativeB',\n",
    "]\n",
    "\n",
    "data = (\n",
    "    ordersADaily.merge(\n",
    "        ordersBDaily, left_on='date', right_on='date', how='left'\n",
    "    )\n",
    "    .merge(ordersACummulative, left_on='date', right_on='date', how='left')\n",
    "    .merge(ordersBCummulative, left_on='date', right_on='date', how='left')\n",
    "    .merge(visitorsADaily, left_on='date', right_on='date', how='left')\n",
    "    .merge(visitorsBDaily, left_on='date', right_on='date', how='left')\n",
    "    .merge(visitorsACummulative, left_on='date', right_on='date', how='left')\n",
    "    .merge(visitorsBCummulative, left_on='date', right_on='date', how='left')\n",
    ")\n",
    "\n",
    "data.head(5)\n"
   ]
  },
  {
   "cell_type": "markdown",
   "metadata": {},
   "source": [
    "Нулевая гипотеза: \"статистически значимых различий в конверсии между группами нет\"; альтернативная гипотеза - \"статистически значимые различия есть\". Пороговый уровень статистической значимости возьмём 5% Применяем тест Манна-Уитни."
   ]
  },
  {
   "cell_type": "code",
   "execution_count": 23,
   "metadata": {},
   "outputs": [
    {
     "name": "stdout",
     "output_type": "stream",
     "text": [
      "p-value = 0.01102\n",
      "Относительный показатель 'B' и 'A' = 0.160\n"
     ]
    }
   ],
   "source": [
    "ordersByUsersA = (\n",
    "    orders[orders['group'] == 'A']\n",
    "    .groupby('visitorId', as_index=False)\n",
    "    .agg({'transactionId': pd.Series.nunique})\n",
    ")\n",
    "ordersByUsersA.columns = ['userId', 'orders']\n",
    "\n",
    "ordersByUsersB = (\n",
    "    orders[orders['group'] == 'B']\n",
    "    .groupby('visitorId', as_index=False)\n",
    "    .agg({'transactionId': pd.Series.nunique})\n",
    ")\n",
    "ordersByUsersB.columns = ['userId', 'orders'] \n",
    "\n",
    "sampleA = pd.concat([ordersByUsersA['orders'],pd.Series(0, index=np.arange(data['visitorsPerDateA'].sum() - len(ordersByUsersA['orders'])), name='orders')],axis=0)\n",
    "\n",
    "sampleB = pd.concat([ordersByUsersB['orders'],pd.Series(0, index=np.arange(data['visitorsPerDateB'].sum() - len(ordersByUsersB['orders'])), name='orders')],axis=0)\n",
    "\n",
    "ordersByUsersA = (\n",
    "    orders[orders['group'] == 'A']\n",
    "    .groupby('visitorId', as_index=False)\n",
    "    .agg({'transactionId': pd.Series.nunique})\n",
    ")\n",
    "ordersByUsersA.columns = ['userId', 'orders']\n",
    "\n",
    "ordersByUsersB = (\n",
    "    orders[orders['group'] == 'B']\n",
    "    .groupby('visitorId', as_index=False)\n",
    "    .agg({'transactionId': pd.Series.nunique})\n",
    ")\n",
    "ordersByUsersB.columns = ['userId', 'orders']\n",
    "\n",
    "sampleA = pd.concat(\n",
    "    [\n",
    "        ordersByUsersA['orders'],\n",
    "        pd.Series(\n",
    "            0,\n",
    "            index=np.arange(\n",
    "                data['visitorsPerDateA'].sum() - len(ordersByUsersA['orders'])\n",
    "            ),\n",
    "            name='orders',\n",
    "        ),\n",
    "    ],\n",
    "    axis=0,\n",
    ")\n",
    "\n",
    "sampleB = pd.concat(\n",
    "    [\n",
    "        ordersByUsersB['orders'],\n",
    "        pd.Series(\n",
    "            0,\n",
    "            index=np.arange(\n",
    "                data['visitorsPerDateB'].sum() - len(ordersByUsersB['orders'])\n",
    "            ),\n",
    "            name='orders',\n",
    "        ),\n",
    "    ],\n",
    "    axis=0,\n",
    ")\n",
    "print(\"p-value = {0:.5f}\".format(stats.mannwhitneyu(sampleA, sampleB)[1]))\n",
    "\n",
    "print(\"Относительный показатель 'B' и 'A' = {0:.3f}\".format((data['ordersPerDateB'].sum()/data['visitorsPerDateB'].sum())/(data['ordersPerDateA'].sum()/data['visitorsPerDateA'].sum())-1))"
   ]
  },
  {
   "cell_type": "markdown",
   "metadata": {},
   "source": [
    "P-value = 0.01102 меньше 0.05. Следовательно, нулевую гипотезу отвергаем. Это значит: по «сырым» данным различия в конверсии групп A и B есть. Положительная разница группы B над A равна 16% "
   ]
  },
  {
   "cell_type": "markdown",
   "metadata": {},
   "source": [
    "**4.11 Посчитайте статистическую значимость различий в среднем чеке заказа между группами по «сырым» данным. Сделайте выводы и предположения.**"
   ]
  },
  {
   "cell_type": "markdown",
   "metadata": {},
   "source": [
    "Нулевая гипотеза: \"статистически значимых различий в среднем чеке заказа между группами нет\"; альтернативная гипотеза - \"статистически значимые различия есть\"."
   ]
  },
  {
   "cell_type": "code",
   "execution_count": 24,
   "metadata": {},
   "outputs": [
    {
     "name": "stdout",
     "output_type": "stream",
     "text": [
      "0.829\n",
      "0.287\n"
     ]
    }
   ],
   "source": [
    "print('{0:.3f}'.format(stats.mannwhitneyu(orders[orders['group']=='A']['revenue'], orders[orders['group']=='B']['revenue'])[1]))\n",
    "print('{0:.3f}'.format(orders[orders['group']=='B']['revenue'].mean()/orders[orders['group']=='A']['revenue'].mean()-1)) "
   ]
  },
  {
   "cell_type": "markdown",
   "metadata": {},
   "source": [
    "P-value больше 0.05. Значит, статистически значимых различий в среднем чеке заказа между группами нет по сырым данным. Средний чек группы B выше среднего чека группы A на 28%."
   ]
  },
  {
   "cell_type": "markdown",
   "metadata": {},
   "source": [
    "**4.12 Посчитайте статистическую значимость различий в среднем количестве заказов на посетителя между группами по «очищенным» данным. Сделайте выводы и предположения.**"
   ]
  },
  {
   "cell_type": "code",
   "execution_count": 25,
   "metadata": {},
   "outputs": [
    {
     "name": "stdout",
     "output_type": "stream",
     "text": [
      "937    148427295 \n",
      "972    759473111 \n",
      "811    887908475 \n",
      "632    888512513 \n",
      "939    1164614297\n",
      "dtype: int64\n"
     ]
    }
   ],
   "source": [
    "usersWithManyOrders = pd.concat(\n",
    "    [\n",
    "        ordersByUsersA[ordersByUsersA['orders'] > 3]['userId'],\n",
    "        ordersByUsersB[ordersByUsersB['orders'] > 3]['userId'],\n",
    "    ],\n",
    "    axis=0,\n",
    ")\n",
    "usersWithExpensiveOrders = orders[orders['revenue'] > 50000]['visitorId']\n",
    "abnormalUsers = (\n",
    "    pd.concat([usersWithManyOrders, usersWithExpensiveOrders], axis=0)\n",
    "    .drop_duplicates()\n",
    "    .sort_values()\n",
    ")\n",
    "print(abnormalUsers.head(5))"
   ]
  },
  {
   "cell_type": "markdown",
   "metadata": {},
   "source": [
    "Нулевая гипотеза: \"статистически значимых различий в конверсии между группами нет\"; альтернативная гипотеза - \"статистически значимые различия есть\"."
   ]
  },
  {
   "cell_type": "code",
   "execution_count": 26,
   "metadata": {},
   "outputs": [
    {
     "name": "stdout",
     "output_type": "stream",
     "text": [
      "0.00781\n",
      "0.172\n"
     ]
    }
   ],
   "source": [
    "sampleAFiltered = pd.concat(\n",
    "    [\n",
    "        ordersByUsersA[\n",
    "            np.logical_not(ordersByUsersA['userId'].isin(abnormalUsers))\n",
    "        ]['orders'],\n",
    "        pd.Series(\n",
    "            0,\n",
    "            index=np.arange(\n",
    "                data['visitorsPerDateA'].sum() - len(ordersByUsersA['orders'])\n",
    "            ),\n",
    "            name='orders',\n",
    "        ),\n",
    "    ],\n",
    "    axis=0,\n",
    ")\n",
    "\n",
    "sampleBFiltered = pd.concat(\n",
    "    [\n",
    "        ordersByUsersB[\n",
    "            np.logical_not(ordersByUsersB['userId'].isin(abnormalUsers))\n",
    "        ]['orders'],\n",
    "        pd.Series(\n",
    "            0,\n",
    "            index=np.arange(\n",
    "                data['visitorsPerDateB'].sum() - len(ordersByUsersB['orders'])\n",
    "            ),\n",
    "            name='orders',\n",
    "        ),\n",
    "    ],\n",
    "    axis=0,\n",
    ") \n",
    "print('{0:.5f}'.format(stats.mannwhitneyu(sampleAFiltered, sampleBFiltered)[1]))\n",
    "print('{0:.3f}'.format(sampleBFiltered.mean()/sampleAFiltered.mean()-1)) "
   ]
  },
  {
   "cell_type": "markdown",
   "metadata": {},
   "source": [
    "P-value = 0.01144 меньше 0.05. Следовательно, нулевую гипотезу отвергаем. Это значит: по «очищенным» данным различия в конверсии групп A и B есть. Положительная разница группы B над A равна 15.8% - выше, чем по сырым"
   ]
  },
  {
   "cell_type": "markdown",
   "metadata": {},
   "source": [
    "**4.13 Посчитайте статистическую значимость различий в среднем чеке заказа между группами по «очищенным» данным. Сделайте выводы и предположения.**"
   ]
  },
  {
   "cell_type": "markdown",
   "metadata": {},
   "source": [
    "Нулевая гипотеза: \"статистически значимых различий в среднем чеке заказа между группами нет\"; альтернативная гипотеза - \"статистически значимые различия есть\"."
   ]
  },
  {
   "cell_type": "code",
   "execution_count": 27,
   "metadata": {},
   "outputs": [
    {
     "name": "stdout",
     "output_type": "stream",
     "text": [
      "0.950\n",
      "0.009\n"
     ]
    }
   ],
   "source": [
    "print(\n",
    "    '{0:.3f}'.format(\n",
    "        stats.mannwhitneyu(\n",
    "            orders[\n",
    "                np.logical_and(\n",
    "                    orders['group'] == 'A',\n",
    "                    np.logical_not(orders['visitorId'].isin(abnormalUsers)),\n",
    "                )\n",
    "            ]['revenue'],\n",
    "            orders[\n",
    "                np.logical_and(\n",
    "                    orders['group'] == 'B',\n",
    "                    np.logical_not(orders['visitorId'].isin(abnormalUsers)),\n",
    "                )\n",
    "            ]['revenue'],\n",
    "        )[1]\n",
    "    )\n",
    ")\n",
    "\n",
    "print(\n",
    "    \"{0:.3f}\".format(\n",
    "        orders[\n",
    "            np.logical_and(\n",
    "                orders['group'] == 'B',\n",
    "                np.logical_not(orders['visitorId'].isin(abnormalUsers)),\n",
    "            )\n",
    "        ]['revenue'].mean()\n",
    "        / orders[\n",
    "            np.logical_and(\n",
    "                orders['group'] == 'A',\n",
    "                np.logical_not(orders['visitorId'].isin(abnormalUsers)),\n",
    "            )\n",
    "        ]['revenue'].mean()\n",
    "        - 1\n",
    "    )\n",
    ") "
   ]
  },
  {
   "cell_type": "markdown",
   "metadata": {},
   "source": [
    "P-value больше 0.05. Статистически значимых различий в среднем чеке заказа между группами нет по очищенным данным. Средний чек группы B выше среднего чека группы A всего на 6%. "
   ]
  },
  {
   "cell_type": "markdown",
   "metadata": {},
   "source": [
    "**4.14 Примите решение по результатам теста и объясните его. Варианты решений:**\n",
    "1. Остановить тест, зафиксировать победу одной из групп.\n",
    "2. Остановить тест, зафиксировать отсутствие различий между группами.\n",
    "3. Продолжить тест."
   ]
  },
  {
   "cell_type": "markdown",
   "metadata": {},
   "source": [
    "Конверсии:\n",
    "- Между \"сырыми\" и \"очищенными\" данными в конверсии групп A и B есть различия. Положительная разница группы B над A равна 16.4% - выше, чем по сырым\n",
    "\n",
    "Средний чек:\n",
    "- Статистически значимых различий в среднем чеке заказа между группами нет по очищенным данным. Средний чек группы B выше среднего чека группы A всего на 6%, а по \"сырым\" данным он был больше на 26%. Оказывало влияние выбросов.\n",
    "\n",
    "**Результаты тестирования - остановить тест и зафиксировать победу группы В, т.к. у группы B выше конверсия, при относительно равных средних чеках**"
   ]
  },
  {
   "cell_type": "markdown",
   "metadata": {},
   "source": [
    "### Общий вывод"
   ]
  },
  {
   "cell_type": "markdown",
   "metadata": {},
   "source": [
    "1. В ходе предобработки устаовлено:\n",
    "- нет пропущенных значений в трех датасетах\n",
    "- название столбцов в датасете hypothesis приведены к нижнему змеиному регистру\n",
    "- в столбцах date в датасетах visiors, orders заменен тип на datetime для дальнейшей работы со временем\n",
    "- осуществлена проверка на явные и неявные дубликаты - они отсутстуют\n",
    "\n",
    "2. Приоритизация гипотез:\n",
    "- Наиболее перспективной является гипотеза 7, она в лидерах после приоритезации в обоих фреймворках. Также можно еще рассмотреть 0-ую гипотезу по совокупности результатов приоритизации RICE, ICE.\n",
    "\n",
    "3. Результаты A/B-тестирования:\n",
    "- остановить тест и зафиксировать победу группы В, т.к. у группы B выше конверсия, при относительно равных средних чеках\n"
   ]
  }
 ],
 "metadata": {
  "ExecuteTimeLog": [
   {
    "duration": 885,
    "start_time": "2023-04-04T07:48:37.926Z"
   },
   {
    "duration": 208,
    "start_time": "2023-04-04T07:49:59.803Z"
   },
   {
    "duration": 13,
    "start_time": "2023-04-04T07:52:35.888Z"
   },
   {
    "duration": 18,
    "start_time": "2023-04-04T07:56:11.833Z"
   },
   {
    "duration": 17,
    "start_time": "2023-04-04T07:56:38.344Z"
   },
   {
    "duration": 15,
    "start_time": "2023-04-04T07:57:06.681Z"
   },
   {
    "duration": 2,
    "start_time": "2023-04-04T08:00:15.380Z"
   },
   {
    "duration": 23,
    "start_time": "2023-04-04T08:04:25.641Z"
   },
   {
    "duration": 23,
    "start_time": "2023-04-04T08:05:28.668Z"
   },
   {
    "duration": 22,
    "start_time": "2023-04-04T08:05:40.547Z"
   },
   {
    "duration": 10,
    "start_time": "2023-04-04T08:07:36.968Z"
   },
   {
    "duration": 79,
    "start_time": "2023-04-04T08:07:55.319Z"
   },
   {
    "duration": 8,
    "start_time": "2023-04-04T08:10:02.016Z"
   },
   {
    "duration": 3,
    "start_time": "2023-04-04T08:12:27.017Z"
   },
   {
    "duration": 317,
    "start_time": "2023-04-04T08:15:07.006Z"
   },
   {
    "duration": 10,
    "start_time": "2023-04-04T08:15:30.585Z"
   },
   {
    "duration": 11,
    "start_time": "2023-04-04T08:17:23.656Z"
   },
   {
    "duration": 9,
    "start_time": "2023-04-04T08:18:52.889Z"
   },
   {
    "duration": 77,
    "start_time": "2023-04-04T08:23:11.328Z"
   },
   {
    "duration": 73,
    "start_time": "2023-04-04T08:32:22.616Z"
   },
   {
    "duration": 94,
    "start_time": "2023-04-04T10:30:51.442Z"
   },
   {
    "duration": 3,
    "start_time": "2023-04-04T10:31:15.327Z"
   },
   {
    "duration": 74,
    "start_time": "2023-04-04T10:31:15.332Z"
   },
   {
    "duration": 17,
    "start_time": "2023-04-04T10:31:15.408Z"
   },
   {
    "duration": 21,
    "start_time": "2023-04-04T10:31:15.427Z"
   },
   {
    "duration": 15,
    "start_time": "2023-04-04T10:31:15.450Z"
   },
   {
    "duration": 22,
    "start_time": "2023-04-04T10:31:15.467Z"
   },
   {
    "duration": 11,
    "start_time": "2023-04-04T10:31:15.491Z"
   },
   {
    "duration": 6,
    "start_time": "2023-04-04T10:31:15.503Z"
   },
   {
    "duration": 9,
    "start_time": "2023-04-04T10:31:15.511Z"
   },
   {
    "duration": 10,
    "start_time": "2023-04-04T10:31:15.522Z"
   },
   {
    "duration": 44,
    "start_time": "2023-04-04T10:31:15.534Z"
   },
   {
    "duration": 27,
    "start_time": "2023-04-04T10:31:15.579Z"
   },
   {
    "duration": 290,
    "start_time": "2023-04-04T10:33:32.322Z"
   },
   {
    "duration": 548,
    "start_time": "2023-04-04T10:34:52.095Z"
   },
   {
    "duration": 493,
    "start_time": "2023-04-04T10:36:02.396Z"
   },
   {
    "duration": 580,
    "start_time": "2023-04-04T10:36:51.514Z"
   },
   {
    "duration": 185,
    "start_time": "2023-04-04T10:42:41.604Z"
   },
   {
    "duration": 257,
    "start_time": "2023-04-04T10:43:24.073Z"
   },
   {
    "duration": 91,
    "start_time": "2023-04-04T10:47:48.294Z"
   },
   {
    "duration": 286,
    "start_time": "2023-04-04T10:48:20.617Z"
   },
   {
    "duration": 318,
    "start_time": "2023-04-04T10:48:33.066Z"
   },
   {
    "duration": 297,
    "start_time": "2023-04-04T10:49:03.104Z"
   },
   {
    "duration": 236,
    "start_time": "2023-04-04T11:40:41.341Z"
   },
   {
    "duration": 230,
    "start_time": "2023-04-04T11:40:54.684Z"
   },
   {
    "duration": 262,
    "start_time": "2023-04-04T11:41:52.357Z"
   },
   {
    "duration": 347,
    "start_time": "2023-04-04T11:46:19.159Z"
   },
   {
    "duration": 342,
    "start_time": "2023-04-04T11:46:28.149Z"
   },
   {
    "duration": 395,
    "start_time": "2023-04-04T11:46:39.208Z"
   },
   {
    "duration": 310,
    "start_time": "2023-04-04T11:46:45.700Z"
   },
   {
    "duration": 355,
    "start_time": "2023-04-04T11:47:31.357Z"
   },
   {
    "duration": 7,
    "start_time": "2023-04-04T11:52:11.793Z"
   },
   {
    "duration": 10,
    "start_time": "2023-04-04T11:52:31.804Z"
   },
   {
    "duration": 13,
    "start_time": "2023-04-04T11:53:08.186Z"
   },
   {
    "duration": 124,
    "start_time": "2023-04-04T11:54:15.725Z"
   },
   {
    "duration": 149,
    "start_time": "2023-04-04T11:54:58.845Z"
   },
   {
    "duration": 99,
    "start_time": "2023-04-04T14:33:11.557Z"
   },
   {
    "duration": 7,
    "start_time": "2023-04-04T14:34:41.733Z"
   },
   {
    "duration": 5,
    "start_time": "2023-04-04T14:35:11.454Z"
   },
   {
    "duration": 103,
    "start_time": "2023-04-04T14:37:41.541Z"
   },
   {
    "duration": 76,
    "start_time": "2023-04-04T14:37:55.696Z"
   },
   {
    "duration": 9,
    "start_time": "2023-04-04T14:40:39.932Z"
   },
   {
    "duration": 204,
    "start_time": "2023-04-04T14:42:01.118Z"
   },
   {
    "duration": 376,
    "start_time": "2023-04-04T14:43:02.262Z"
   },
   {
    "duration": 210,
    "start_time": "2023-04-04T14:43:18.823Z"
   },
   {
    "duration": 201,
    "start_time": "2023-04-04T14:43:34.706Z"
   },
   {
    "duration": 207,
    "start_time": "2023-04-04T14:44:16.437Z"
   },
   {
    "duration": 203,
    "start_time": "2023-04-04T14:45:40.924Z"
   },
   {
    "duration": 1231,
    "start_time": "2023-04-04T14:46:02.548Z"
   },
   {
    "duration": 947,
    "start_time": "2023-04-04T14:47:12.454Z"
   },
   {
    "duration": 1084,
    "start_time": "2023-04-04T14:47:47.056Z"
   },
   {
    "duration": 3,
    "start_time": "2023-04-04T14:47:55.159Z"
   },
   {
    "duration": 65,
    "start_time": "2023-04-04T14:47:55.164Z"
   },
   {
    "duration": 15,
    "start_time": "2023-04-04T14:47:55.231Z"
   },
   {
    "duration": 17,
    "start_time": "2023-04-04T14:47:55.249Z"
   },
   {
    "duration": 22,
    "start_time": "2023-04-04T14:47:55.268Z"
   },
   {
    "duration": 25,
    "start_time": "2023-04-04T14:47:55.292Z"
   },
   {
    "duration": 9,
    "start_time": "2023-04-04T14:47:55.318Z"
   },
   {
    "duration": 5,
    "start_time": "2023-04-04T14:47:55.329Z"
   },
   {
    "duration": 41,
    "start_time": "2023-04-04T14:47:55.337Z"
   },
   {
    "duration": 9,
    "start_time": "2023-04-04T14:47:55.380Z"
   },
   {
    "duration": 9,
    "start_time": "2023-04-04T14:47:55.391Z"
   },
   {
    "duration": 603,
    "start_time": "2023-04-04T14:47:55.402Z"
   },
   {
    "duration": 353,
    "start_time": "2023-04-04T14:47:56.006Z"
   },
   {
    "duration": 371,
    "start_time": "2023-04-04T14:47:56.361Z"
   },
   {
    "duration": 258,
    "start_time": "2023-04-04T14:47:56.733Z"
   },
   {
    "duration": 338,
    "start_time": "2023-04-04T14:47:56.993Z"
   },
   {
    "duration": 159,
    "start_time": "2023-04-04T14:47:57.333Z"
   },
   {
    "duration": 7,
    "start_time": "2023-04-04T14:47:57.494Z"
   },
   {
    "duration": 173,
    "start_time": "2023-04-04T14:47:57.503Z"
   },
   {
    "duration": 181,
    "start_time": "2023-04-04T14:47:57.678Z"
   },
   {
    "duration": 165,
    "start_time": "2023-04-04T14:48:29.757Z"
   },
   {
    "duration": 1140,
    "start_time": "2023-04-04T14:50:45.300Z"
   },
   {
    "duration": 4,
    "start_time": "2023-04-04T14:51:03.382Z"
   },
   {
    "duration": 69,
    "start_time": "2023-04-04T14:51:03.389Z"
   },
   {
    "duration": 16,
    "start_time": "2023-04-04T14:51:03.459Z"
   },
   {
    "duration": 31,
    "start_time": "2023-04-04T14:51:03.478Z"
   },
   {
    "duration": 14,
    "start_time": "2023-04-04T14:51:03.512Z"
   },
   {
    "duration": 23,
    "start_time": "2023-04-04T14:51:03.527Z"
   },
   {
    "duration": 39,
    "start_time": "2023-04-04T14:51:03.552Z"
   },
   {
    "duration": 9,
    "start_time": "2023-04-04T14:51:03.594Z"
   },
   {
    "duration": 12,
    "start_time": "2023-04-04T14:51:03.604Z"
   },
   {
    "duration": 9,
    "start_time": "2023-04-04T14:51:03.618Z"
   },
   {
    "duration": 9,
    "start_time": "2023-04-04T14:51:03.629Z"
   },
   {
    "duration": 664,
    "start_time": "2023-04-04T14:51:03.640Z"
   },
   {
    "duration": 233,
    "start_time": "2023-04-04T14:51:04.306Z"
   },
   {
    "duration": 346,
    "start_time": "2023-04-04T14:51:04.542Z"
   },
   {
    "duration": 251,
    "start_time": "2023-04-04T14:51:04.890Z"
   },
   {
    "duration": 400,
    "start_time": "2023-04-04T14:51:05.143Z"
   },
   {
    "duration": 283,
    "start_time": "2023-04-04T14:51:05.545Z"
   },
   {
    "duration": 5,
    "start_time": "2023-04-04T14:51:05.830Z"
   },
   {
    "duration": 196,
    "start_time": "2023-04-04T14:51:05.837Z"
   },
   {
    "duration": 201,
    "start_time": "2023-04-04T14:51:06.035Z"
   },
   {
    "duration": 1194,
    "start_time": "2023-04-04T14:51:06.238Z"
   },
   {
    "duration": 904,
    "start_time": "2023-04-04T14:51:33.004Z"
   },
   {
    "duration": 969,
    "start_time": "2023-04-04T14:52:06.813Z"
   },
   {
    "duration": 1001,
    "start_time": "2023-04-04T14:52:34.106Z"
   },
   {
    "duration": 884,
    "start_time": "2023-04-04T14:54:04.783Z"
   },
   {
    "duration": 1435,
    "start_time": "2023-04-04T16:00:36.541Z"
   },
   {
    "duration": 1416,
    "start_time": "2023-04-04T16:01:21.557Z"
   },
   {
    "duration": 1628,
    "start_time": "2023-04-04T16:01:33.373Z"
   },
   {
    "duration": 9,
    "start_time": "2023-04-04T16:01:45.819Z"
   },
   {
    "duration": 102,
    "start_time": "2023-04-04T16:01:45.833Z"
   },
   {
    "duration": 18,
    "start_time": "2023-04-04T16:01:45.937Z"
   },
   {
    "duration": 48,
    "start_time": "2023-04-04T16:01:45.957Z"
   },
   {
    "duration": 28,
    "start_time": "2023-04-04T16:01:46.008Z"
   },
   {
    "duration": 41,
    "start_time": "2023-04-04T16:01:46.045Z"
   },
   {
    "duration": 32,
    "start_time": "2023-04-04T16:01:46.100Z"
   },
   {
    "duration": 9,
    "start_time": "2023-04-04T16:01:46.135Z"
   },
   {
    "duration": 17,
    "start_time": "2023-04-04T16:01:46.146Z"
   },
   {
    "duration": 36,
    "start_time": "2023-04-04T16:01:46.166Z"
   },
   {
    "duration": 26,
    "start_time": "2023-04-04T16:01:46.211Z"
   },
   {
    "duration": 695,
    "start_time": "2023-04-04T16:01:46.239Z"
   },
   {
    "duration": 258,
    "start_time": "2023-04-04T16:01:46.935Z"
   },
   {
    "duration": 394,
    "start_time": "2023-04-04T16:01:47.204Z"
   },
   {
    "duration": 343,
    "start_time": "2023-04-04T16:01:47.604Z"
   },
   {
    "duration": 498,
    "start_time": "2023-04-04T16:01:47.949Z"
   },
   {
    "duration": 276,
    "start_time": "2023-04-04T16:01:48.449Z"
   },
   {
    "duration": 15,
    "start_time": "2023-04-04T16:01:48.727Z"
   },
   {
    "duration": 281,
    "start_time": "2023-04-04T16:01:48.753Z"
   },
   {
    "duration": 10,
    "start_time": "2023-04-04T16:01:49.040Z"
   },
   {
    "duration": 220,
    "start_time": "2023-04-04T16:02:03.432Z"
   },
   {
    "duration": 1602,
    "start_time": "2023-04-04T16:02:17.151Z"
   },
   {
    "duration": 9,
    "start_time": "2023-04-04T16:02:53.107Z"
   },
   {
    "duration": 94,
    "start_time": "2023-04-04T16:02:53.118Z"
   },
   {
    "duration": 20,
    "start_time": "2023-04-04T16:02:53.214Z"
   },
   {
    "duration": 19,
    "start_time": "2023-04-04T16:02:53.236Z"
   },
   {
    "duration": 38,
    "start_time": "2023-04-04T16:02:53.257Z"
   },
   {
    "duration": 28,
    "start_time": "2023-04-04T16:02:53.297Z"
   },
   {
    "duration": 10,
    "start_time": "2023-04-04T16:02:53.328Z"
   },
   {
    "duration": 15,
    "start_time": "2023-04-04T16:02:53.340Z"
   },
   {
    "duration": 29,
    "start_time": "2023-04-04T16:02:53.356Z"
   },
   {
    "duration": 24,
    "start_time": "2023-04-04T16:02:53.387Z"
   },
   {
    "duration": 25,
    "start_time": "2023-04-04T16:02:53.413Z"
   },
   {
    "duration": 583,
    "start_time": "2023-04-04T16:02:53.440Z"
   },
   {
    "duration": 288,
    "start_time": "2023-04-04T16:02:54.025Z"
   },
   {
    "duration": 388,
    "start_time": "2023-04-04T16:02:54.316Z"
   },
   {
    "duration": 426,
    "start_time": "2023-04-04T16:02:54.706Z"
   },
   {
    "duration": 329,
    "start_time": "2023-04-04T16:02:55.134Z"
   },
   {
    "duration": 196,
    "start_time": "2023-04-04T16:02:55.465Z"
   },
   {
    "duration": 18,
    "start_time": "2023-04-04T16:02:55.662Z"
   },
   {
    "duration": 197,
    "start_time": "2023-04-04T16:02:55.692Z"
   },
   {
    "duration": 188,
    "start_time": "2023-04-04T16:02:55.899Z"
   },
   {
    "duration": 1245,
    "start_time": "2023-04-04T16:02:56.091Z"
   },
   {
    "duration": 4,
    "start_time": "2023-04-04T16:03:45.366Z"
   },
   {
    "duration": 107,
    "start_time": "2023-04-04T16:03:45.372Z"
   },
   {
    "duration": 28,
    "start_time": "2023-04-04T16:03:45.482Z"
   },
   {
    "duration": 26,
    "start_time": "2023-04-04T16:03:45.512Z"
   },
   {
    "duration": 16,
    "start_time": "2023-04-04T16:03:45.540Z"
   },
   {
    "duration": 57,
    "start_time": "2023-04-04T16:03:45.558Z"
   },
   {
    "duration": 13,
    "start_time": "2023-04-04T16:03:45.624Z"
   },
   {
    "duration": 7,
    "start_time": "2023-04-04T16:03:45.639Z"
   },
   {
    "duration": 57,
    "start_time": "2023-04-04T16:03:45.647Z"
   },
   {
    "duration": 21,
    "start_time": "2023-04-04T16:03:45.708Z"
   },
   {
    "duration": 11,
    "start_time": "2023-04-04T16:03:45.731Z"
   },
   {
    "duration": 623,
    "start_time": "2023-04-04T16:03:45.744Z"
   },
   {
    "duration": 288,
    "start_time": "2023-04-04T16:03:46.375Z"
   },
   {
    "duration": 350,
    "start_time": "2023-04-04T16:03:46.687Z"
   },
   {
    "duration": 311,
    "start_time": "2023-04-04T16:03:47.039Z"
   },
   {
    "duration": 416,
    "start_time": "2023-04-04T16:03:47.352Z"
   },
   {
    "duration": 184,
    "start_time": "2023-04-04T16:03:47.769Z"
   },
   {
    "duration": 36,
    "start_time": "2023-04-04T16:03:47.956Z"
   },
   {
    "duration": 205,
    "start_time": "2023-04-04T16:03:48.000Z"
   },
   {
    "duration": 1241,
    "start_time": "2023-04-04T16:03:48.214Z"
   },
   {
    "duration": 5,
    "start_time": "2023-04-04T16:03:58.661Z"
   },
   {
    "duration": 201,
    "start_time": "2023-04-04T16:04:17.856Z"
   },
   {
    "duration": 1254,
    "start_time": "2023-04-04T16:04:21.721Z"
   },
   {
    "duration": 1525,
    "start_time": "2023-04-04T16:04:57.433Z"
   },
   {
    "duration": 11,
    "start_time": "2023-04-04T16:05:04.900Z"
   },
   {
    "duration": 120,
    "start_time": "2023-04-04T16:05:04.915Z"
   },
   {
    "duration": 21,
    "start_time": "2023-04-04T16:05:05.039Z"
   },
   {
    "duration": 53,
    "start_time": "2023-04-04T16:05:05.062Z"
   },
   {
    "duration": 23,
    "start_time": "2023-04-04T16:05:05.125Z"
   },
   {
    "duration": 40,
    "start_time": "2023-04-04T16:05:05.150Z"
   },
   {
    "duration": 12,
    "start_time": "2023-04-04T16:05:05.198Z"
   },
   {
    "duration": 12,
    "start_time": "2023-04-04T16:05:05.213Z"
   },
   {
    "duration": 18,
    "start_time": "2023-04-04T16:05:05.227Z"
   },
   {
    "duration": 13,
    "start_time": "2023-04-04T16:05:05.247Z"
   },
   {
    "duration": 32,
    "start_time": "2023-04-04T16:05:05.263Z"
   },
   {
    "duration": 747,
    "start_time": "2023-04-04T16:05:05.299Z"
   },
   {
    "duration": 295,
    "start_time": "2023-04-04T16:05:06.055Z"
   },
   {
    "duration": 405,
    "start_time": "2023-04-04T16:05:06.353Z"
   },
   {
    "duration": 297,
    "start_time": "2023-04-04T16:05:06.760Z"
   },
   {
    "duration": 549,
    "start_time": "2023-04-04T16:05:07.059Z"
   },
   {
    "duration": 223,
    "start_time": "2023-04-04T16:05:07.609Z"
   },
   {
    "duration": 14,
    "start_time": "2023-04-04T16:05:07.837Z"
   },
   {
    "duration": 205,
    "start_time": "2023-04-04T16:05:07.853Z"
   },
   {
    "duration": 6,
    "start_time": "2023-04-04T16:05:08.060Z"
   },
   {
    "duration": 615,
    "start_time": "2023-04-04T16:12:58.725Z"
   },
   {
    "duration": 167,
    "start_time": "2023-04-04T16:13:42.320Z"
   },
   {
    "duration": 318,
    "start_time": "2023-04-04T16:16:25.716Z"
   },
   {
    "duration": 552,
    "start_time": "2023-04-04T16:18:33.842Z"
   },
   {
    "duration": 688,
    "start_time": "2023-04-04T16:19:47.025Z"
   },
   {
    "duration": 520,
    "start_time": "2023-04-04T16:20:30.191Z"
   },
   {
    "duration": 109,
    "start_time": "2023-04-04T16:20:30.713Z"
   },
   {
    "duration": 24,
    "start_time": "2023-04-04T16:20:30.824Z"
   },
   {
    "duration": 74,
    "start_time": "2023-04-04T16:20:30.851Z"
   },
   {
    "duration": 58,
    "start_time": "2023-04-04T16:20:30.927Z"
   },
   {
    "duration": 64,
    "start_time": "2023-04-04T16:20:30.987Z"
   },
   {
    "duration": 36,
    "start_time": "2023-04-04T16:20:31.054Z"
   },
   {
    "duration": 30,
    "start_time": "2023-04-04T16:20:31.092Z"
   },
   {
    "duration": 41,
    "start_time": "2023-04-04T16:20:31.124Z"
   },
   {
    "duration": 31,
    "start_time": "2023-04-04T16:20:31.168Z"
   },
   {
    "duration": 27,
    "start_time": "2023-04-04T16:20:31.203Z"
   },
   {
    "duration": 754,
    "start_time": "2023-04-04T16:20:31.233Z"
   },
   {
    "duration": 324,
    "start_time": "2023-04-04T16:20:31.995Z"
   },
   {
    "duration": 321,
    "start_time": "2023-04-04T16:20:32.322Z"
   },
   {
    "duration": 402,
    "start_time": "2023-04-04T16:20:32.646Z"
   },
   {
    "duration": 472,
    "start_time": "2023-04-04T16:20:33.050Z"
   },
   {
    "duration": 229,
    "start_time": "2023-04-04T16:20:33.524Z"
   },
   {
    "duration": 6,
    "start_time": "2023-04-04T16:20:33.755Z"
   },
   {
    "duration": 224,
    "start_time": "2023-04-04T16:20:33.763Z"
   },
   {
    "duration": 31,
    "start_time": "2023-04-04T16:20:33.990Z"
   },
   {
    "duration": 1014,
    "start_time": "2023-04-04T16:20:34.024Z"
   },
   {
    "duration": 405,
    "start_time": "2023-04-04T16:22:44.462Z"
   },
   {
    "duration": 305,
    "start_time": "2023-04-04T16:23:01.437Z"
   },
   {
    "duration": 319,
    "start_time": "2023-04-04T16:26:42.205Z"
   },
   {
    "duration": 14,
    "start_time": "2023-04-04T16:29:15.764Z"
   },
   {
    "duration": 1463,
    "start_time": "2023-04-04T16:33:02.700Z"
   },
   {
    "duration": 10,
    "start_time": "2023-04-04T16:33:39.321Z"
   },
   {
    "duration": 8,
    "start_time": "2023-04-04T16:35:08.053Z"
   },
   {
    "duration": 28,
    "start_time": "2023-04-04T16:35:25.712Z"
   },
   {
    "duration": 1487,
    "start_time": "2023-04-04T16:39:42.220Z"
   },
   {
    "duration": 21,
    "start_time": "2023-04-04T16:40:48.010Z"
   },
   {
    "duration": 76,
    "start_time": "2023-04-04T16:56:06.797Z"
   },
   {
    "duration": 4,
    "start_time": "2023-04-04T16:58:35.605Z"
   },
   {
    "duration": 87,
    "start_time": "2023-04-04T16:58:35.611Z"
   },
   {
    "duration": 21,
    "start_time": "2023-04-04T16:58:35.700Z"
   },
   {
    "duration": 21,
    "start_time": "2023-04-04T16:58:35.724Z"
   },
   {
    "duration": 36,
    "start_time": "2023-04-04T16:58:35.747Z"
   },
   {
    "duration": 29,
    "start_time": "2023-04-04T16:58:35.785Z"
   },
   {
    "duration": 17,
    "start_time": "2023-04-04T16:58:35.823Z"
   },
   {
    "duration": 9,
    "start_time": "2023-04-04T16:58:35.842Z"
   },
   {
    "duration": 19,
    "start_time": "2023-04-04T16:58:35.882Z"
   },
   {
    "duration": 9,
    "start_time": "2023-04-04T16:58:35.906Z"
   },
   {
    "duration": 10,
    "start_time": "2023-04-04T16:58:35.918Z"
   },
   {
    "duration": 585,
    "start_time": "2023-04-04T16:58:35.930Z"
   },
   {
    "duration": 412,
    "start_time": "2023-04-04T16:58:36.517Z"
   },
   {
    "duration": 381,
    "start_time": "2023-04-04T16:58:36.931Z"
   },
   {
    "duration": 265,
    "start_time": "2023-04-04T16:58:37.314Z"
   },
   {
    "duration": 351,
    "start_time": "2023-04-04T16:58:37.584Z"
   },
   {
    "duration": 170,
    "start_time": "2023-04-04T16:58:37.937Z"
   },
   {
    "duration": 5,
    "start_time": "2023-04-04T16:58:38.109Z"
   },
   {
    "duration": 183,
    "start_time": "2023-04-04T16:58:38.115Z"
   },
   {
    "duration": 6,
    "start_time": "2023-04-04T16:58:38.300Z"
   },
   {
    "duration": 277,
    "start_time": "2023-04-04T16:58:38.308Z"
   },
   {
    "duration": 346,
    "start_time": "2023-04-04T16:58:38.594Z"
   },
   {
    "duration": 11,
    "start_time": "2023-04-04T16:58:38.941Z"
   },
   {
    "duration": 28,
    "start_time": "2023-04-04T16:58:38.955Z"
   },
   {
    "duration": 32,
    "start_time": "2023-04-04T16:58:38.990Z"
   },
   {
    "duration": 15,
    "start_time": "2023-04-04T16:58:39.024Z"
   },
   {
    "duration": 1087,
    "start_time": "2023-04-05T12:07:40.469Z"
   },
   {
    "duration": 66,
    "start_time": "2023-04-05T12:07:41.558Z"
   },
   {
    "duration": 18,
    "start_time": "2023-04-05T12:07:41.626Z"
   },
   {
    "duration": 13,
    "start_time": "2023-04-05T12:07:41.646Z"
   },
   {
    "duration": 20,
    "start_time": "2023-04-05T12:07:41.661Z"
   },
   {
    "duration": 29,
    "start_time": "2023-04-05T12:07:41.683Z"
   },
   {
    "duration": 8,
    "start_time": "2023-04-05T12:07:41.714Z"
   },
   {
    "duration": 6,
    "start_time": "2023-04-05T12:07:41.724Z"
   },
   {
    "duration": 9,
    "start_time": "2023-04-05T12:07:41.732Z"
   },
   {
    "duration": 16,
    "start_time": "2023-04-05T12:07:41.770Z"
   },
   {
    "duration": 13,
    "start_time": "2023-04-05T12:07:41.789Z"
   },
   {
    "duration": 579,
    "start_time": "2023-04-05T12:07:41.804Z"
   },
   {
    "duration": 251,
    "start_time": "2023-04-05T12:07:42.389Z"
   },
   {
    "duration": 366,
    "start_time": "2023-04-05T12:07:42.642Z"
   },
   {
    "duration": 239,
    "start_time": "2023-04-05T12:07:43.010Z"
   },
   {
    "duration": 386,
    "start_time": "2023-04-05T12:07:43.251Z"
   },
   {
    "duration": 185,
    "start_time": "2023-04-05T12:07:43.639Z"
   },
   {
    "duration": 5,
    "start_time": "2023-04-05T12:07:43.825Z"
   },
   {
    "duration": 273,
    "start_time": "2023-04-05T12:07:43.832Z"
   },
   {
    "duration": 0,
    "start_time": "2023-04-05T12:07:44.106Z"
   },
   {
    "duration": 0,
    "start_time": "2023-04-05T12:07:44.108Z"
   },
   {
    "duration": 0,
    "start_time": "2023-04-05T12:07:44.110Z"
   },
   {
    "duration": 0,
    "start_time": "2023-04-05T12:07:44.111Z"
   },
   {
    "duration": 0,
    "start_time": "2023-04-05T12:07:44.112Z"
   },
   {
    "duration": 0,
    "start_time": "2023-04-05T12:07:44.114Z"
   },
   {
    "duration": 0,
    "start_time": "2023-04-05T12:07:44.115Z"
   },
   {
    "duration": 1046,
    "start_time": "2023-04-05T12:16:46.971Z"
   },
   {
    "duration": 63,
    "start_time": "2023-04-05T12:16:48.019Z"
   },
   {
    "duration": 19,
    "start_time": "2023-04-05T12:16:48.083Z"
   },
   {
    "duration": 17,
    "start_time": "2023-04-05T12:16:48.103Z"
   },
   {
    "duration": 12,
    "start_time": "2023-04-05T12:16:48.121Z"
   },
   {
    "duration": 18,
    "start_time": "2023-04-05T12:16:48.135Z"
   },
   {
    "duration": 7,
    "start_time": "2023-04-05T12:16:48.169Z"
   },
   {
    "duration": 5,
    "start_time": "2023-04-05T12:16:48.177Z"
   },
   {
    "duration": 25,
    "start_time": "2023-04-05T12:16:48.183Z"
   },
   {
    "duration": 8,
    "start_time": "2023-04-05T12:16:48.211Z"
   },
   {
    "duration": 8,
    "start_time": "2023-04-05T12:16:48.220Z"
   },
   {
    "duration": 534,
    "start_time": "2023-04-05T12:16:48.230Z"
   },
   {
    "duration": 201,
    "start_time": "2023-04-05T12:16:48.767Z"
   },
   {
    "duration": 322,
    "start_time": "2023-04-05T12:16:48.969Z"
   },
   {
    "duration": 253,
    "start_time": "2023-04-05T12:16:49.293Z"
   },
   {
    "duration": 392,
    "start_time": "2023-04-05T12:16:49.548Z"
   },
   {
    "duration": 153,
    "start_time": "2023-04-05T12:16:49.943Z"
   },
   {
    "duration": 5,
    "start_time": "2023-04-05T12:16:50.097Z"
   },
   {
    "duration": 219,
    "start_time": "2023-04-05T12:16:50.104Z"
   },
   {
    "duration": 0,
    "start_time": "2023-04-05T12:16:50.325Z"
   },
   {
    "duration": 0,
    "start_time": "2023-04-05T12:16:50.326Z"
   },
   {
    "duration": 0,
    "start_time": "2023-04-05T12:16:50.327Z"
   },
   {
    "duration": 0,
    "start_time": "2023-04-05T12:16:50.329Z"
   },
   {
    "duration": 0,
    "start_time": "2023-04-05T12:16:50.330Z"
   },
   {
    "duration": 0,
    "start_time": "2023-04-05T12:16:50.331Z"
   },
   {
    "duration": 0,
    "start_time": "2023-04-05T12:16:50.332Z"
   },
   {
    "duration": 964,
    "start_time": "2023-04-05T12:17:16.520Z"
   },
   {
    "duration": 63,
    "start_time": "2023-04-05T12:17:17.486Z"
   },
   {
    "duration": 20,
    "start_time": "2023-04-05T12:17:17.550Z"
   },
   {
    "duration": 14,
    "start_time": "2023-04-05T12:17:17.571Z"
   },
   {
    "duration": 13,
    "start_time": "2023-04-05T12:17:17.587Z"
   },
   {
    "duration": 19,
    "start_time": "2023-04-05T12:17:17.602Z"
   },
   {
    "duration": 9,
    "start_time": "2023-04-05T12:17:17.622Z"
   },
   {
    "duration": 38,
    "start_time": "2023-04-05T12:17:17.632Z"
   },
   {
    "duration": 8,
    "start_time": "2023-04-05T12:17:17.671Z"
   },
   {
    "duration": 11,
    "start_time": "2023-04-05T12:17:17.680Z"
   },
   {
    "duration": 7,
    "start_time": "2023-04-05T12:17:17.692Z"
   },
   {
    "duration": 521,
    "start_time": "2023-04-05T12:17:17.701Z"
   },
   {
    "duration": 185,
    "start_time": "2023-04-05T12:17:18.223Z"
   },
   {
    "duration": 261,
    "start_time": "2023-04-05T12:17:18.411Z"
   },
   {
    "duration": 201,
    "start_time": "2023-04-05T12:17:18.674Z"
   },
   {
    "duration": 313,
    "start_time": "2023-04-05T12:17:18.877Z"
   },
   {
    "duration": 138,
    "start_time": "2023-04-05T12:17:19.192Z"
   },
   {
    "duration": 6,
    "start_time": "2023-04-05T12:17:19.332Z"
   },
   {
    "duration": 216,
    "start_time": "2023-04-05T12:17:19.339Z"
   },
   {
    "duration": 0,
    "start_time": "2023-04-05T12:17:19.557Z"
   },
   {
    "duration": 0,
    "start_time": "2023-04-05T12:17:19.558Z"
   },
   {
    "duration": 0,
    "start_time": "2023-04-05T12:17:19.559Z"
   },
   {
    "duration": 0,
    "start_time": "2023-04-05T12:17:19.559Z"
   },
   {
    "duration": 0,
    "start_time": "2023-04-05T12:17:19.560Z"
   },
   {
    "duration": 0,
    "start_time": "2023-04-05T12:17:19.560Z"
   },
   {
    "duration": 0,
    "start_time": "2023-04-05T12:17:19.560Z"
   },
   {
    "duration": 1442,
    "start_time": "2023-04-05T13:38:41.342Z"
   },
   {
    "duration": 335,
    "start_time": "2023-04-05T13:38:42.789Z"
   },
   {
    "duration": 22,
    "start_time": "2023-04-05T13:38:43.126Z"
   },
   {
    "duration": 27,
    "start_time": "2023-04-05T13:38:43.149Z"
   },
   {
    "duration": 18,
    "start_time": "2023-04-05T13:38:43.178Z"
   },
   {
    "duration": 60,
    "start_time": "2023-04-05T13:38:43.198Z"
   },
   {
    "duration": 9,
    "start_time": "2023-04-05T13:38:43.260Z"
   },
   {
    "duration": 6,
    "start_time": "2023-04-05T13:38:43.271Z"
   },
   {
    "duration": 28,
    "start_time": "2023-04-05T13:38:43.279Z"
   },
   {
    "duration": 29,
    "start_time": "2023-04-05T13:38:43.311Z"
   },
   {
    "duration": 11,
    "start_time": "2023-04-05T13:38:43.341Z"
   },
   {
    "duration": 675,
    "start_time": "2023-04-05T13:38:43.354Z"
   },
   {
    "duration": 236,
    "start_time": "2023-04-05T13:38:44.031Z"
   },
   {
    "duration": 387,
    "start_time": "2023-04-05T13:38:44.270Z"
   },
   {
    "duration": 274,
    "start_time": "2023-04-05T13:38:44.658Z"
   },
   {
    "duration": 337,
    "start_time": "2023-04-05T13:38:44.934Z"
   },
   {
    "duration": 174,
    "start_time": "2023-04-05T13:38:45.273Z"
   },
   {
    "duration": 6,
    "start_time": "2023-04-05T13:38:45.449Z"
   },
   {
    "duration": 282,
    "start_time": "2023-04-05T13:38:45.456Z"
   },
   {
    "duration": 0,
    "start_time": "2023-04-05T13:38:45.740Z"
   },
   {
    "duration": 0,
    "start_time": "2023-04-05T13:38:45.743Z"
   },
   {
    "duration": 0,
    "start_time": "2023-04-05T13:38:45.744Z"
   },
   {
    "duration": 0,
    "start_time": "2023-04-05T13:38:45.747Z"
   },
   {
    "duration": 0,
    "start_time": "2023-04-05T13:38:45.748Z"
   },
   {
    "duration": 0,
    "start_time": "2023-04-05T13:38:45.749Z"
   },
   {
    "duration": 0,
    "start_time": "2023-04-05T13:38:45.750Z"
   },
   {
    "duration": 225,
    "start_time": "2023-04-05T13:40:59.854Z"
   },
   {
    "duration": 3,
    "start_time": "2023-04-05T13:41:05.804Z"
   },
   {
    "duration": 86,
    "start_time": "2023-04-05T13:41:05.810Z"
   },
   {
    "duration": 17,
    "start_time": "2023-04-05T13:41:05.898Z"
   },
   {
    "duration": 21,
    "start_time": "2023-04-05T13:41:05.918Z"
   },
   {
    "duration": 37,
    "start_time": "2023-04-05T13:41:05.943Z"
   },
   {
    "duration": 124,
    "start_time": "2023-04-05T13:41:05.982Z"
   },
   {
    "duration": 14,
    "start_time": "2023-04-05T13:41:06.107Z"
   },
   {
    "duration": 26,
    "start_time": "2023-04-05T13:41:06.123Z"
   },
   {
    "duration": 20,
    "start_time": "2023-04-05T13:41:06.151Z"
   },
   {
    "duration": 15,
    "start_time": "2023-04-05T13:41:06.173Z"
   },
   {
    "duration": 36,
    "start_time": "2023-04-05T13:41:06.190Z"
   },
   {
    "duration": 556,
    "start_time": "2023-04-05T13:41:06.228Z"
   },
   {
    "duration": 246,
    "start_time": "2023-04-05T13:41:06.794Z"
   },
   {
    "duration": 353,
    "start_time": "2023-04-05T13:41:07.042Z"
   },
   {
    "duration": 247,
    "start_time": "2023-04-05T13:41:07.404Z"
   },
   {
    "duration": 414,
    "start_time": "2023-04-05T13:41:07.653Z"
   },
   {
    "duration": 177,
    "start_time": "2023-04-05T13:41:08.069Z"
   },
   {
    "duration": 6,
    "start_time": "2023-04-05T13:41:08.250Z"
   },
   {
    "duration": 219,
    "start_time": "2023-04-05T13:41:08.258Z"
   },
   {
    "duration": 18,
    "start_time": "2023-04-05T13:41:08.479Z"
   },
   {
    "duration": 272,
    "start_time": "2023-04-05T13:41:08.499Z"
   },
   {
    "duration": 376,
    "start_time": "2023-04-05T13:41:08.773Z"
   },
   {
    "duration": 12,
    "start_time": "2023-04-05T13:41:09.151Z"
   },
   {
    "duration": 11,
    "start_time": "2023-04-05T13:41:09.165Z"
   },
   {
    "duration": 35,
    "start_time": "2023-04-05T13:41:09.191Z"
   },
   {
    "duration": 18,
    "start_time": "2023-04-05T13:41:09.228Z"
   },
   {
    "duration": 567,
    "start_time": "2023-04-05T13:44:25.008Z"
   },
   {
    "duration": 572,
    "start_time": "2023-04-05T13:45:02.387Z"
   },
   {
    "duration": 569,
    "start_time": "2023-04-05T13:45:11.242Z"
   },
   {
    "duration": 494,
    "start_time": "2023-04-05T13:48:35.682Z"
   },
   {
    "duration": 662,
    "start_time": "2023-04-05T13:49:20.249Z"
   },
   {
    "duration": 487,
    "start_time": "2023-04-05T13:49:49.315Z"
   },
   {
    "duration": 500,
    "start_time": "2023-04-05T13:52:08.617Z"
   },
   {
    "duration": 630,
    "start_time": "2023-04-05T13:55:16.291Z"
   },
   {
    "duration": 652,
    "start_time": "2023-04-05T13:55:47.482Z"
   },
   {
    "duration": 655,
    "start_time": "2023-04-05T13:55:54.976Z"
   },
   {
    "duration": 668,
    "start_time": "2023-04-05T13:56:03.250Z"
   },
   {
    "duration": 670,
    "start_time": "2023-04-05T13:56:07.960Z"
   },
   {
    "duration": 644,
    "start_time": "2023-04-05T13:58:23.592Z"
   },
   {
    "duration": 671,
    "start_time": "2023-04-05T13:58:54.664Z"
   },
   {
    "duration": 8,
    "start_time": "2023-04-05T13:59:55.826Z"
   },
   {
    "duration": 11,
    "start_time": "2023-04-05T14:00:34.015Z"
   },
   {
    "duration": 200,
    "start_time": "2023-04-05T14:00:59.552Z"
   },
   {
    "duration": 56,
    "start_time": "2023-04-05T14:01:21.064Z"
   },
   {
    "duration": 365,
    "start_time": "2023-04-05T14:02:40.695Z"
   },
   {
    "duration": 477,
    "start_time": "2023-04-05T14:02:54.848Z"
   },
   {
    "duration": 381,
    "start_time": "2023-04-05T14:03:07.039Z"
   },
   {
    "duration": 368,
    "start_time": "2023-04-05T14:03:42.402Z"
   },
   {
    "duration": 462,
    "start_time": "2023-04-05T14:05:16.856Z"
   },
   {
    "duration": 402,
    "start_time": "2023-04-05T14:05:24.787Z"
   },
   {
    "duration": 407,
    "start_time": "2023-04-05T14:05:28.575Z"
   },
   {
    "duration": 439,
    "start_time": "2023-04-05T14:05:37.680Z"
   },
   {
    "duration": 448,
    "start_time": "2023-04-05T14:05:45.040Z"
   },
   {
    "duration": 535,
    "start_time": "2023-04-05T14:05:57.976Z"
   },
   {
    "duration": 379,
    "start_time": "2023-04-05T14:06:40.457Z"
   },
   {
    "duration": 581,
    "start_time": "2023-04-05T14:07:32.263Z"
   },
   {
    "duration": 313,
    "start_time": "2023-04-05T14:08:34.456Z"
   },
   {
    "duration": 274,
    "start_time": "2023-04-05T14:10:05.895Z"
   },
   {
    "duration": 3,
    "start_time": "2023-04-05T14:10:31.388Z"
   },
   {
    "duration": 106,
    "start_time": "2023-04-05T14:10:31.393Z"
   },
   {
    "duration": 16,
    "start_time": "2023-04-05T14:10:31.501Z"
   },
   {
    "duration": 40,
    "start_time": "2023-04-05T14:10:31.519Z"
   },
   {
    "duration": 40,
    "start_time": "2023-04-05T14:10:31.561Z"
   },
   {
    "duration": 160,
    "start_time": "2023-04-05T14:10:31.603Z"
   },
   {
    "duration": 28,
    "start_time": "2023-04-05T14:10:31.765Z"
   },
   {
    "duration": 48,
    "start_time": "2023-04-05T14:10:31.795Z"
   },
   {
    "duration": 20,
    "start_time": "2023-04-05T14:10:31.846Z"
   },
   {
    "duration": 21,
    "start_time": "2023-04-05T14:10:31.868Z"
   },
   {
    "duration": 19,
    "start_time": "2023-04-05T14:10:31.891Z"
   },
   {
    "duration": 652,
    "start_time": "2023-04-05T14:10:31.912Z"
   },
   {
    "duration": 365,
    "start_time": "2023-04-05T14:10:32.566Z"
   },
   {
    "duration": 439,
    "start_time": "2023-04-05T14:10:32.933Z"
   },
   {
    "duration": 349,
    "start_time": "2023-04-05T14:10:33.374Z"
   },
   {
    "duration": 487,
    "start_time": "2023-04-05T14:10:33.725Z"
   },
   {
    "duration": 277,
    "start_time": "2023-04-05T14:10:34.214Z"
   },
   {
    "duration": 5,
    "start_time": "2023-04-05T14:10:34.493Z"
   },
   {
    "duration": 299,
    "start_time": "2023-04-05T14:10:34.500Z"
   },
   {
    "duration": 6,
    "start_time": "2023-04-05T14:10:34.802Z"
   },
   {
    "duration": 249,
    "start_time": "2023-04-05T14:10:34.810Z"
   },
   {
    "duration": 299,
    "start_time": "2023-04-05T14:10:35.060Z"
   },
   {
    "duration": 10,
    "start_time": "2023-04-05T14:10:35.361Z"
   },
   {
    "duration": 8,
    "start_time": "2023-04-05T14:10:35.387Z"
   },
   {
    "duration": 55,
    "start_time": "2023-04-05T14:10:35.397Z"
   },
   {
    "duration": 13,
    "start_time": "2023-04-05T14:10:35.454Z"
   },
   {
    "duration": 3,
    "start_time": "2023-04-05T14:13:21.251Z"
   },
   {
    "duration": 79,
    "start_time": "2023-04-05T14:13:21.256Z"
   },
   {
    "duration": 16,
    "start_time": "2023-04-05T14:13:21.337Z"
   },
   {
    "duration": 16,
    "start_time": "2023-04-05T14:13:21.356Z"
   },
   {
    "duration": 17,
    "start_time": "2023-04-05T14:13:21.373Z"
   },
   {
    "duration": 25,
    "start_time": "2023-04-05T14:13:21.392Z"
   },
   {
    "duration": 9,
    "start_time": "2023-04-05T14:13:21.418Z"
   },
   {
    "duration": 8,
    "start_time": "2023-04-05T14:13:21.429Z"
   },
   {
    "duration": 10,
    "start_time": "2023-04-05T14:13:21.438Z"
   },
   {
    "duration": 42,
    "start_time": "2023-04-05T14:13:21.451Z"
   },
   {
    "duration": 11,
    "start_time": "2023-04-05T14:13:21.494Z"
   },
   {
    "duration": 663,
    "start_time": "2023-04-05T14:13:21.506Z"
   },
   {
    "duration": 352,
    "start_time": "2023-04-05T14:13:22.171Z"
   },
   {
    "duration": 425,
    "start_time": "2023-04-05T14:13:22.525Z"
   },
   {
    "duration": 383,
    "start_time": "2023-04-05T14:13:22.952Z"
   },
   {
    "duration": 608,
    "start_time": "2023-04-05T14:13:23.336Z"
   },
   {
    "duration": 329,
    "start_time": "2023-04-05T14:13:23.946Z"
   },
   {
    "duration": 13,
    "start_time": "2023-04-05T14:13:24.277Z"
   },
   {
    "duration": 310,
    "start_time": "2023-04-05T14:13:24.291Z"
   },
   {
    "duration": 6,
    "start_time": "2023-04-05T14:13:24.603Z"
   },
   {
    "duration": 266,
    "start_time": "2023-04-05T14:13:24.611Z"
   },
   {
    "duration": 333,
    "start_time": "2023-04-05T14:13:24.879Z"
   },
   {
    "duration": 13,
    "start_time": "2023-04-05T14:13:25.214Z"
   },
   {
    "duration": 9,
    "start_time": "2023-04-05T14:13:25.229Z"
   },
   {
    "duration": 48,
    "start_time": "2023-04-05T14:13:25.240Z"
   },
   {
    "duration": 14,
    "start_time": "2023-04-05T14:13:25.290Z"
   },
   {
    "duration": 2003,
    "start_time": "2023-04-05T14:27:56.255Z"
   },
   {
    "duration": 8,
    "start_time": "2023-04-05T14:28:10.671Z"
   },
   {
    "duration": 7,
    "start_time": "2023-04-05T14:28:43.712Z"
   },
   {
    "duration": 6,
    "start_time": "2023-04-05T14:29:56.961Z"
   },
   {
    "duration": 6,
    "start_time": "2023-04-05T14:37:38.127Z"
   },
   {
    "duration": 52,
    "start_time": "2023-04-05T14:38:25.552Z"
   },
   {
    "duration": 10,
    "start_time": "2023-04-05T14:38:33.574Z"
   },
   {
    "duration": 9,
    "start_time": "2023-04-05T14:39:34.639Z"
   },
   {
    "duration": 10,
    "start_time": "2023-04-05T14:39:45.118Z"
   },
   {
    "duration": 8,
    "start_time": "2023-04-05T14:39:59.463Z"
   },
   {
    "duration": 9,
    "start_time": "2023-04-05T14:40:05.359Z"
   },
   {
    "duration": 10,
    "start_time": "2023-04-05T14:40:12.878Z"
   },
   {
    "duration": 11,
    "start_time": "2023-04-05T14:40:19.686Z"
   },
   {
    "duration": 12,
    "start_time": "2023-04-05T14:40:29.695Z"
   },
   {
    "duration": 11,
    "start_time": "2023-04-05T14:40:35.143Z"
   },
   {
    "duration": 11,
    "start_time": "2023-04-05T14:40:39.286Z"
   },
   {
    "duration": 11,
    "start_time": "2023-04-05T14:40:43.359Z"
   },
   {
    "duration": 3,
    "start_time": "2023-04-05T14:43:43.053Z"
   },
   {
    "duration": 91,
    "start_time": "2023-04-05T14:43:43.058Z"
   },
   {
    "duration": 16,
    "start_time": "2023-04-05T14:43:43.150Z"
   },
   {
    "duration": 25,
    "start_time": "2023-04-05T14:43:43.168Z"
   },
   {
    "duration": 14,
    "start_time": "2023-04-05T14:43:43.194Z"
   },
   {
    "duration": 26,
    "start_time": "2023-04-05T14:43:43.210Z"
   },
   {
    "duration": 10,
    "start_time": "2023-04-05T14:43:43.237Z"
   },
   {
    "duration": 6,
    "start_time": "2023-04-05T14:43:43.249Z"
   },
   {
    "duration": 39,
    "start_time": "2023-04-05T14:43:43.257Z"
   },
   {
    "duration": 7,
    "start_time": "2023-04-05T14:43:43.298Z"
   },
   {
    "duration": 14,
    "start_time": "2023-04-05T14:43:43.307Z"
   },
   {
    "duration": 16,
    "start_time": "2023-04-05T14:43:43.322Z"
   },
   {
    "duration": 676,
    "start_time": "2023-04-05T14:43:43.340Z"
   },
   {
    "duration": 390,
    "start_time": "2023-04-05T14:43:44.018Z"
   },
   {
    "duration": 434,
    "start_time": "2023-04-05T14:43:44.409Z"
   },
   {
    "duration": 383,
    "start_time": "2023-04-05T14:43:44.845Z"
   },
   {
    "duration": 483,
    "start_time": "2023-04-05T14:43:45.230Z"
   },
   {
    "duration": 284,
    "start_time": "2023-04-05T14:43:45.715Z"
   },
   {
    "duration": 6,
    "start_time": "2023-04-05T14:43:46.000Z"
   },
   {
    "duration": 376,
    "start_time": "2023-04-05T14:43:46.007Z"
   },
   {
    "duration": 5,
    "start_time": "2023-04-05T14:43:46.385Z"
   },
   {
    "duration": 267,
    "start_time": "2023-04-05T14:43:46.392Z"
   },
   {
    "duration": 341,
    "start_time": "2023-04-05T14:43:46.661Z"
   },
   {
    "duration": 11,
    "start_time": "2023-04-05T14:43:47.003Z"
   },
   {
    "duration": 18,
    "start_time": "2023-04-05T14:43:47.015Z"
   },
   {
    "duration": 36,
    "start_time": "2023-04-05T14:43:47.035Z"
   },
   {
    "duration": 25,
    "start_time": "2023-04-05T14:43:47.073Z"
   },
   {
    "duration": 1138,
    "start_time": "2023-04-05T14:44:15.452Z"
   },
   {
    "duration": 72,
    "start_time": "2023-04-05T14:44:16.592Z"
   },
   {
    "duration": 23,
    "start_time": "2023-04-05T14:44:16.666Z"
   },
   {
    "duration": 15,
    "start_time": "2023-04-05T14:44:16.691Z"
   },
   {
    "duration": 17,
    "start_time": "2023-04-05T14:44:16.708Z"
   },
   {
    "duration": 23,
    "start_time": "2023-04-05T14:44:16.727Z"
   },
   {
    "duration": 10,
    "start_time": "2023-04-05T14:44:16.752Z"
   },
   {
    "duration": 11,
    "start_time": "2023-04-05T14:44:16.765Z"
   },
   {
    "duration": 17,
    "start_time": "2023-04-05T14:44:16.778Z"
   },
   {
    "duration": 12,
    "start_time": "2023-04-05T14:44:16.798Z"
   },
   {
    "duration": 15,
    "start_time": "2023-04-05T14:44:16.813Z"
   },
   {
    "duration": 9,
    "start_time": "2023-04-05T14:44:16.830Z"
   },
   {
    "duration": 873,
    "start_time": "2023-04-05T14:44:16.841Z"
   },
   {
    "duration": 386,
    "start_time": "2023-04-05T14:44:17.716Z"
   },
   {
    "duration": 462,
    "start_time": "2023-04-05T14:44:18.104Z"
   },
   {
    "duration": 367,
    "start_time": "2023-04-05T14:44:18.568Z"
   },
   {
    "duration": 528,
    "start_time": "2023-04-05T14:44:18.937Z"
   },
   {
    "duration": 322,
    "start_time": "2023-04-05T14:44:19.467Z"
   },
   {
    "duration": 6,
    "start_time": "2023-04-05T14:44:19.791Z"
   },
   {
    "duration": 308,
    "start_time": "2023-04-05T14:44:19.799Z"
   },
   {
    "duration": 7,
    "start_time": "2023-04-05T14:44:20.109Z"
   },
   {
    "duration": 271,
    "start_time": "2023-04-05T14:44:20.117Z"
   },
   {
    "duration": 360,
    "start_time": "2023-04-05T14:44:20.391Z"
   },
   {
    "duration": 12,
    "start_time": "2023-04-05T14:44:20.753Z"
   },
   {
    "duration": 32,
    "start_time": "2023-04-05T14:44:20.767Z"
   },
   {
    "duration": 49,
    "start_time": "2023-04-05T14:44:20.801Z"
   },
   {
    "duration": 14,
    "start_time": "2023-04-05T14:44:20.852Z"
   },
   {
    "duration": 1241,
    "start_time": "2023-04-06T08:16:40.948Z"
   },
   {
    "duration": 235,
    "start_time": "2023-04-06T08:16:42.192Z"
   },
   {
    "duration": 25,
    "start_time": "2023-04-06T08:16:42.429Z"
   },
   {
    "duration": 26,
    "start_time": "2023-04-06T08:16:42.463Z"
   },
   {
    "duration": 23,
    "start_time": "2023-04-06T08:16:42.490Z"
   },
   {
    "duration": 38,
    "start_time": "2023-04-06T08:16:42.515Z"
   },
   {
    "duration": 19,
    "start_time": "2023-04-06T08:16:42.555Z"
   },
   {
    "duration": 12,
    "start_time": "2023-04-06T08:16:42.576Z"
   },
   {
    "duration": 13,
    "start_time": "2023-04-06T08:16:42.591Z"
   },
   {
    "duration": 10,
    "start_time": "2023-04-06T08:16:42.607Z"
   },
   {
    "duration": 39,
    "start_time": "2023-04-06T08:16:42.618Z"
   },
   {
    "duration": 18,
    "start_time": "2023-04-06T08:16:42.660Z"
   },
   {
    "duration": 864,
    "start_time": "2023-04-06T08:16:42.680Z"
   },
   {
    "duration": 356,
    "start_time": "2023-04-06T08:16:43.546Z"
   },
   {
    "duration": 522,
    "start_time": "2023-04-06T08:16:43.903Z"
   },
   {
    "duration": 539,
    "start_time": "2023-04-06T08:16:44.427Z"
   },
   {
    "duration": 528,
    "start_time": "2023-04-06T08:16:44.972Z"
   },
   {
    "duration": 359,
    "start_time": "2023-04-06T08:16:45.502Z"
   },
   {
    "duration": 6,
    "start_time": "2023-04-06T08:16:45.865Z"
   },
   {
    "duration": 367,
    "start_time": "2023-04-06T08:16:45.873Z"
   },
   {
    "duration": 17,
    "start_time": "2023-04-06T08:16:46.242Z"
   },
   {
    "duration": 255,
    "start_time": "2023-04-06T08:16:46.269Z"
   },
   {
    "duration": 357,
    "start_time": "2023-04-06T08:16:46.527Z"
   },
   {
    "duration": 14,
    "start_time": "2023-04-06T08:16:46.886Z"
   },
   {
    "duration": 10,
    "start_time": "2023-04-06T08:16:46.901Z"
   },
   {
    "duration": 64,
    "start_time": "2023-04-06T08:16:46.912Z"
   },
   {
    "duration": 20,
    "start_time": "2023-04-06T08:16:46.977Z"
   },
   {
    "duration": 1139,
    "start_time": "2023-04-06T08:40:54.559Z"
   },
   {
    "duration": 86,
    "start_time": "2023-04-06T08:40:55.699Z"
   },
   {
    "duration": 18,
    "start_time": "2023-04-06T08:40:55.787Z"
   },
   {
    "duration": 14,
    "start_time": "2023-04-06T08:40:55.807Z"
   },
   {
    "duration": 21,
    "start_time": "2023-04-06T08:40:55.823Z"
   },
   {
    "duration": 33,
    "start_time": "2023-04-06T08:40:55.845Z"
   },
   {
    "duration": 14,
    "start_time": "2023-04-06T08:40:55.881Z"
   },
   {
    "duration": 13,
    "start_time": "2023-04-06T08:40:55.897Z"
   },
   {
    "duration": 13,
    "start_time": "2023-04-06T08:40:55.911Z"
   },
   {
    "duration": 7,
    "start_time": "2023-04-06T08:40:55.926Z"
   },
   {
    "duration": 25,
    "start_time": "2023-04-06T08:40:55.934Z"
   },
   {
    "duration": 25,
    "start_time": "2023-04-06T08:40:55.960Z"
   },
   {
    "duration": 768,
    "start_time": "2023-04-06T08:40:55.987Z"
   },
   {
    "duration": 373,
    "start_time": "2023-04-06T08:40:56.756Z"
   },
   {
    "duration": 432,
    "start_time": "2023-04-06T08:40:57.131Z"
   },
   {
    "duration": 378,
    "start_time": "2023-04-06T08:40:57.564Z"
   },
   {
    "duration": 460,
    "start_time": "2023-04-06T08:40:57.943Z"
   },
   {
    "duration": 317,
    "start_time": "2023-04-06T08:40:58.404Z"
   },
   {
    "duration": 5,
    "start_time": "2023-04-06T08:40:58.723Z"
   },
   {
    "duration": 299,
    "start_time": "2023-04-06T08:40:58.729Z"
   },
   {
    "duration": 5,
    "start_time": "2023-04-06T08:40:59.030Z"
   },
   {
    "duration": 281,
    "start_time": "2023-04-06T08:40:59.049Z"
   },
   {
    "duration": 357,
    "start_time": "2023-04-06T08:40:59.332Z"
   },
   {
    "duration": 10,
    "start_time": "2023-04-06T08:40:59.691Z"
   },
   {
    "duration": 15,
    "start_time": "2023-04-06T08:40:59.703Z"
   },
   {
    "duration": 56,
    "start_time": "2023-04-06T08:40:59.721Z"
   },
   {
    "duration": 15,
    "start_time": "2023-04-06T08:40:59.780Z"
   },
   {
    "duration": 56,
    "start_time": "2023-04-06T09:01:15.969Z"
   },
   {
    "duration": 1194,
    "start_time": "2023-04-06T09:01:25.356Z"
   },
   {
    "duration": 180,
    "start_time": "2023-04-06T09:01:26.552Z"
   },
   {
    "duration": 19,
    "start_time": "2023-04-06T09:01:26.733Z"
   },
   {
    "duration": 25,
    "start_time": "2023-04-06T09:01:26.754Z"
   },
   {
    "duration": 29,
    "start_time": "2023-04-06T09:01:26.781Z"
   },
   {
    "duration": 49,
    "start_time": "2023-04-06T09:01:26.811Z"
   },
   {
    "duration": 8,
    "start_time": "2023-04-06T09:01:26.862Z"
   },
   {
    "duration": 5,
    "start_time": "2023-04-06T09:01:26.872Z"
   },
   {
    "duration": 17,
    "start_time": "2023-04-06T09:01:26.879Z"
   },
   {
    "duration": 23,
    "start_time": "2023-04-06T09:01:26.899Z"
   },
   {
    "duration": 32,
    "start_time": "2023-04-06T09:01:26.924Z"
   },
   {
    "duration": 10,
    "start_time": "2023-04-06T09:01:26.958Z"
   },
   {
    "duration": 872,
    "start_time": "2023-04-06T09:01:26.970Z"
   },
   {
    "duration": 362,
    "start_time": "2023-04-06T09:01:27.844Z"
   },
   {
    "duration": 473,
    "start_time": "2023-04-06T09:01:28.210Z"
   },
   {
    "duration": 350,
    "start_time": "2023-04-06T09:01:28.689Z"
   },
   {
    "duration": 468,
    "start_time": "2023-04-06T09:01:29.041Z"
   },
   {
    "duration": 258,
    "start_time": "2023-04-06T09:01:29.511Z"
   },
   {
    "duration": 26,
    "start_time": "2023-04-06T09:01:29.771Z"
   },
   {
    "duration": 304,
    "start_time": "2023-04-06T09:01:29.801Z"
   },
   {
    "duration": 6,
    "start_time": "2023-04-06T09:01:30.106Z"
   },
   {
    "duration": 264,
    "start_time": "2023-04-06T09:01:30.113Z"
   },
   {
    "duration": 348,
    "start_time": "2023-04-06T09:01:30.379Z"
   },
   {
    "duration": 11,
    "start_time": "2023-04-06T09:01:30.729Z"
   },
   {
    "duration": 62,
    "start_time": "2023-04-06T09:01:30.741Z"
   },
   {
    "duration": 54,
    "start_time": "2023-04-06T09:01:30.805Z"
   },
   {
    "duration": 46,
    "start_time": "2023-04-06T09:01:30.861Z"
   },
   {
    "duration": 8,
    "start_time": "2023-04-06T09:03:16.518Z"
   },
   {
    "duration": 36,
    "start_time": "2023-04-06T09:03:26.285Z"
   },
   {
    "duration": 9,
    "start_time": "2023-04-06T09:03:52.549Z"
   },
   {
    "duration": 15,
    "start_time": "2023-04-06T09:08:44.287Z"
   },
   {
    "duration": 66,
    "start_time": "2023-04-06T09:09:41.158Z"
   },
   {
    "duration": 14,
    "start_time": "2023-04-06T09:11:16.918Z"
   },
   {
    "duration": 8,
    "start_time": "2023-04-06T09:12:01.415Z"
   },
   {
    "duration": 18,
    "start_time": "2023-04-06T09:12:56.453Z"
   },
   {
    "duration": 8,
    "start_time": "2023-04-06T09:13:49.918Z"
   },
   {
    "duration": 9,
    "start_time": "2023-04-06T09:14:20.269Z"
   },
   {
    "duration": 16,
    "start_time": "2023-04-06T09:14:32.222Z"
   },
   {
    "duration": 13,
    "start_time": "2023-04-06T09:15:31.725Z"
   },
   {
    "duration": 18,
    "start_time": "2023-04-06T09:19:46.132Z"
   },
   {
    "duration": 13,
    "start_time": "2023-04-06T09:21:50.273Z"
   },
   {
    "duration": 18,
    "start_time": "2023-04-06T09:22:21.589Z"
   },
   {
    "duration": 19,
    "start_time": "2023-04-06T09:22:44.645Z"
   },
   {
    "duration": 21,
    "start_time": "2023-04-06T09:24:00.669Z"
   },
   {
    "duration": 1575,
    "start_time": "2023-04-06T09:25:03.900Z"
   },
   {
    "duration": 4,
    "start_time": "2023-04-06T09:25:26.334Z"
   },
   {
    "duration": 27,
    "start_time": "2023-04-06T09:25:37.420Z"
   },
   {
    "duration": 1884,
    "start_time": "2023-04-06T09:26:04.758Z"
   },
   {
    "duration": 1127,
    "start_time": "2023-04-06T09:26:32.045Z"
   },
   {
    "duration": 18,
    "start_time": "2023-04-06T09:26:46.597Z"
   },
   {
    "duration": 21,
    "start_time": "2023-04-06T09:26:56.092Z"
   },
   {
    "duration": 19,
    "start_time": "2023-04-06T09:27:29.948Z"
   },
   {
    "duration": 6,
    "start_time": "2023-04-06T09:31:58.212Z"
   },
   {
    "duration": 6,
    "start_time": "2023-04-06T09:32:01.948Z"
   },
   {
    "duration": 10,
    "start_time": "2023-04-06T09:32:10.133Z"
   },
   {
    "duration": 19,
    "start_time": "2023-04-06T09:33:18.812Z"
   },
   {
    "duration": 18,
    "start_time": "2023-04-06T09:35:03.828Z"
   },
   {
    "duration": 17,
    "start_time": "2023-04-06T09:43:27.732Z"
   },
   {
    "duration": 25,
    "start_time": "2023-04-06T09:45:27.068Z"
   },
   {
    "duration": 28,
    "start_time": "2023-04-06T09:45:57.948Z"
   },
   {
    "duration": 22,
    "start_time": "2023-04-06T09:46:33.752Z"
   },
   {
    "duration": 39,
    "start_time": "2023-04-06T09:47:04.212Z"
   },
   {
    "duration": 18,
    "start_time": "2023-04-06T09:47:55.580Z"
   },
   {
    "duration": 26,
    "start_time": "2023-04-06T09:48:21.316Z"
   },
   {
    "duration": 26,
    "start_time": "2023-04-06T09:49:05.868Z"
   },
   {
    "duration": 104,
    "start_time": "2023-04-06T09:49:41.237Z"
   },
   {
    "duration": 23,
    "start_time": "2023-04-06T09:50:06.378Z"
   },
   {
    "duration": 29,
    "start_time": "2023-04-06T09:51:09.468Z"
   },
   {
    "duration": 908,
    "start_time": "2023-04-06T09:53:04.179Z"
   },
   {
    "duration": 40,
    "start_time": "2023-04-06T09:53:22.572Z"
   },
   {
    "duration": 1167,
    "start_time": "2023-04-06T09:54:12.165Z"
   },
   {
    "duration": 26,
    "start_time": "2023-04-06T09:54:24.564Z"
   },
   {
    "duration": 46,
    "start_time": "2023-04-06T09:55:06.470Z"
   },
   {
    "duration": 12,
    "start_time": "2023-04-06T10:31:26.403Z"
   },
   {
    "duration": 16,
    "start_time": "2023-04-06T10:31:46.562Z"
   },
   {
    "duration": 7,
    "start_time": "2023-04-06T10:47:27.211Z"
   },
   {
    "duration": 13,
    "start_time": "2023-04-06T10:47:35.649Z"
   },
   {
    "duration": 4,
    "start_time": "2023-04-06T10:48:04.633Z"
   },
   {
    "duration": 77,
    "start_time": "2023-04-06T10:48:04.640Z"
   },
   {
    "duration": 18,
    "start_time": "2023-04-06T10:48:04.718Z"
   },
   {
    "duration": 24,
    "start_time": "2023-04-06T10:48:04.738Z"
   },
   {
    "duration": 21,
    "start_time": "2023-04-06T10:48:04.764Z"
   },
   {
    "duration": 27,
    "start_time": "2023-04-06T10:48:04.787Z"
   },
   {
    "duration": 15,
    "start_time": "2023-04-06T10:48:04.816Z"
   },
   {
    "duration": 9,
    "start_time": "2023-04-06T10:48:04.833Z"
   },
   {
    "duration": 111,
    "start_time": "2023-04-06T10:48:04.845Z"
   },
   {
    "duration": 7,
    "start_time": "2023-04-06T10:48:04.958Z"
   },
   {
    "duration": 27,
    "start_time": "2023-04-06T10:48:04.967Z"
   },
   {
    "duration": 19,
    "start_time": "2023-04-06T10:48:04.996Z"
   },
   {
    "duration": 14,
    "start_time": "2023-04-06T10:48:05.017Z"
   },
   {
    "duration": 17,
    "start_time": "2023-04-06T10:48:05.033Z"
   },
   {
    "duration": 0,
    "start_time": "2023-04-06T10:48:05.051Z"
   },
   {
    "duration": 0,
    "start_time": "2023-04-06T10:48:05.053Z"
   },
   {
    "duration": 0,
    "start_time": "2023-04-06T10:48:05.054Z"
   },
   {
    "duration": 0,
    "start_time": "2023-04-06T10:48:05.055Z"
   },
   {
    "duration": 0,
    "start_time": "2023-04-06T10:48:05.056Z"
   },
   {
    "duration": 0,
    "start_time": "2023-04-06T10:48:05.057Z"
   },
   {
    "duration": 0,
    "start_time": "2023-04-06T10:48:05.058Z"
   },
   {
    "duration": 0,
    "start_time": "2023-04-06T10:48:05.059Z"
   },
   {
    "duration": 1,
    "start_time": "2023-04-06T10:48:05.060Z"
   },
   {
    "duration": 0,
    "start_time": "2023-04-06T10:48:05.090Z"
   },
   {
    "duration": 0,
    "start_time": "2023-04-06T10:48:05.091Z"
   },
   {
    "duration": 0,
    "start_time": "2023-04-06T10:48:05.092Z"
   },
   {
    "duration": 0,
    "start_time": "2023-04-06T10:48:05.093Z"
   },
   {
    "duration": 0,
    "start_time": "2023-04-06T10:48:05.094Z"
   },
   {
    "duration": 16,
    "start_time": "2023-04-06T10:48:37.627Z"
   },
   {
    "duration": 13,
    "start_time": "2023-04-06T10:50:19.827Z"
   },
   {
    "duration": 9,
    "start_time": "2023-04-06T10:51:16.395Z"
   },
   {
    "duration": 10,
    "start_time": "2023-04-06T10:51:20.737Z"
   },
   {
    "duration": 3,
    "start_time": "2023-04-06T10:51:28.069Z"
   },
   {
    "duration": 83,
    "start_time": "2023-04-06T10:51:28.075Z"
   },
   {
    "duration": 23,
    "start_time": "2023-04-06T10:51:28.160Z"
   },
   {
    "duration": 27,
    "start_time": "2023-04-06T10:51:28.185Z"
   },
   {
    "duration": 28,
    "start_time": "2023-04-06T10:51:28.216Z"
   },
   {
    "duration": 43,
    "start_time": "2023-04-06T10:51:28.247Z"
   },
   {
    "duration": 16,
    "start_time": "2023-04-06T10:51:28.293Z"
   },
   {
    "duration": 11,
    "start_time": "2023-04-06T10:51:28.311Z"
   },
   {
    "duration": 25,
    "start_time": "2023-04-06T10:51:28.324Z"
   },
   {
    "duration": 18,
    "start_time": "2023-04-06T10:51:28.351Z"
   },
   {
    "duration": 27,
    "start_time": "2023-04-06T10:51:28.371Z"
   },
   {
    "duration": 19,
    "start_time": "2023-04-06T10:51:28.401Z"
   },
   {
    "duration": 20,
    "start_time": "2023-04-06T10:51:28.422Z"
   },
   {
    "duration": 19,
    "start_time": "2023-04-06T10:51:28.446Z"
   },
   {
    "duration": 0,
    "start_time": "2023-04-06T10:51:28.467Z"
   },
   {
    "duration": 0,
    "start_time": "2023-04-06T10:51:28.469Z"
   },
   {
    "duration": 0,
    "start_time": "2023-04-06T10:51:28.470Z"
   },
   {
    "duration": 0,
    "start_time": "2023-04-06T10:51:28.471Z"
   },
   {
    "duration": 0,
    "start_time": "2023-04-06T10:51:28.473Z"
   },
   {
    "duration": 0,
    "start_time": "2023-04-06T10:51:28.489Z"
   },
   {
    "duration": 0,
    "start_time": "2023-04-06T10:51:28.491Z"
   },
   {
    "duration": 0,
    "start_time": "2023-04-06T10:51:28.493Z"
   },
   {
    "duration": 0,
    "start_time": "2023-04-06T10:51:28.495Z"
   },
   {
    "duration": 0,
    "start_time": "2023-04-06T10:51:28.496Z"
   },
   {
    "duration": 0,
    "start_time": "2023-04-06T10:51:28.498Z"
   },
   {
    "duration": 0,
    "start_time": "2023-04-06T10:51:28.499Z"
   },
   {
    "duration": 0,
    "start_time": "2023-04-06T10:51:28.500Z"
   },
   {
    "duration": 0,
    "start_time": "2023-04-06T10:51:28.502Z"
   },
   {
    "duration": 1206,
    "start_time": "2023-04-06T10:51:53.852Z"
   },
   {
    "duration": 64,
    "start_time": "2023-04-06T10:51:55.060Z"
   },
   {
    "duration": 27,
    "start_time": "2023-04-06T10:51:55.127Z"
   },
   {
    "duration": 15,
    "start_time": "2023-04-06T10:51:55.156Z"
   },
   {
    "duration": 18,
    "start_time": "2023-04-06T10:51:55.173Z"
   },
   {
    "duration": 27,
    "start_time": "2023-04-06T10:51:55.192Z"
   },
   {
    "duration": 10,
    "start_time": "2023-04-06T10:51:55.222Z"
   },
   {
    "duration": 7,
    "start_time": "2023-04-06T10:51:55.234Z"
   },
   {
    "duration": 55,
    "start_time": "2023-04-06T10:51:55.243Z"
   },
   {
    "duration": 7,
    "start_time": "2023-04-06T10:51:55.300Z"
   },
   {
    "duration": 15,
    "start_time": "2023-04-06T10:51:55.309Z"
   },
   {
    "duration": 12,
    "start_time": "2023-04-06T10:51:55.325Z"
   },
   {
    "duration": 10,
    "start_time": "2023-04-06T10:51:55.339Z"
   },
   {
    "duration": 139,
    "start_time": "2023-04-06T10:51:55.352Z"
   },
   {
    "duration": 0,
    "start_time": "2023-04-06T10:51:55.493Z"
   },
   {
    "duration": 0,
    "start_time": "2023-04-06T10:51:55.494Z"
   },
   {
    "duration": 0,
    "start_time": "2023-04-06T10:51:55.497Z"
   },
   {
    "duration": 0,
    "start_time": "2023-04-06T10:51:55.498Z"
   },
   {
    "duration": 0,
    "start_time": "2023-04-06T10:51:55.500Z"
   },
   {
    "duration": 0,
    "start_time": "2023-04-06T10:51:55.502Z"
   },
   {
    "duration": 0,
    "start_time": "2023-04-06T10:51:55.504Z"
   },
   {
    "duration": 0,
    "start_time": "2023-04-06T10:51:55.506Z"
   },
   {
    "duration": 0,
    "start_time": "2023-04-06T10:51:55.507Z"
   },
   {
    "duration": 0,
    "start_time": "2023-04-06T10:51:55.509Z"
   },
   {
    "duration": 0,
    "start_time": "2023-04-06T10:51:55.511Z"
   },
   {
    "duration": 0,
    "start_time": "2023-04-06T10:51:55.512Z"
   },
   {
    "duration": 0,
    "start_time": "2023-04-06T10:51:55.514Z"
   },
   {
    "duration": 0,
    "start_time": "2023-04-06T10:51:55.515Z"
   },
   {
    "duration": 12,
    "start_time": "2023-04-06T10:52:28.410Z"
   },
   {
    "duration": 10,
    "start_time": "2023-04-06T10:53:39.243Z"
   },
   {
    "duration": 1255,
    "start_time": "2023-04-06T10:54:06.575Z"
   },
   {
    "duration": 63,
    "start_time": "2023-04-06T10:54:07.833Z"
   },
   {
    "duration": 24,
    "start_time": "2023-04-06T10:54:07.898Z"
   },
   {
    "duration": 18,
    "start_time": "2023-04-06T10:54:07.924Z"
   },
   {
    "duration": 17,
    "start_time": "2023-04-06T10:54:07.944Z"
   },
   {
    "duration": 46,
    "start_time": "2023-04-06T10:54:07.964Z"
   },
   {
    "duration": 11,
    "start_time": "2023-04-06T10:54:08.012Z"
   },
   {
    "duration": 7,
    "start_time": "2023-04-06T10:54:08.024Z"
   },
   {
    "duration": 21,
    "start_time": "2023-04-06T10:54:08.033Z"
   },
   {
    "duration": 8,
    "start_time": "2023-04-06T10:54:08.090Z"
   },
   {
    "duration": 19,
    "start_time": "2023-04-06T10:54:08.099Z"
   },
   {
    "duration": 26,
    "start_time": "2023-04-06T10:54:08.119Z"
   },
   {
    "duration": 23,
    "start_time": "2023-04-06T10:54:08.147Z"
   },
   {
    "duration": 114,
    "start_time": "2023-04-06T10:54:08.172Z"
   },
   {
    "duration": 0,
    "start_time": "2023-04-06T10:54:08.288Z"
   },
   {
    "duration": 0,
    "start_time": "2023-04-06T10:54:08.289Z"
   },
   {
    "duration": 0,
    "start_time": "2023-04-06T10:54:08.291Z"
   },
   {
    "duration": 0,
    "start_time": "2023-04-06T10:54:08.292Z"
   },
   {
    "duration": 1,
    "start_time": "2023-04-06T10:54:08.293Z"
   },
   {
    "duration": 0,
    "start_time": "2023-04-06T10:54:08.294Z"
   },
   {
    "duration": 0,
    "start_time": "2023-04-06T10:54:08.295Z"
   },
   {
    "duration": 0,
    "start_time": "2023-04-06T10:54:08.297Z"
   },
   {
    "duration": 0,
    "start_time": "2023-04-06T10:54:08.298Z"
   },
   {
    "duration": 0,
    "start_time": "2023-04-06T10:54:08.299Z"
   },
   {
    "duration": 0,
    "start_time": "2023-04-06T10:54:08.300Z"
   },
   {
    "duration": 0,
    "start_time": "2023-04-06T10:54:08.301Z"
   },
   {
    "duration": 0,
    "start_time": "2023-04-06T10:54:08.302Z"
   },
   {
    "duration": 0,
    "start_time": "2023-04-06T10:54:08.303Z"
   },
   {
    "duration": 11,
    "start_time": "2023-04-06T10:57:46.205Z"
   },
   {
    "duration": 1324,
    "start_time": "2023-04-06T10:57:57.597Z"
   },
   {
    "duration": 79,
    "start_time": "2023-04-06T10:57:58.924Z"
   },
   {
    "duration": 22,
    "start_time": "2023-04-06T10:57:59.005Z"
   },
   {
    "duration": 19,
    "start_time": "2023-04-06T10:57:59.029Z"
   },
   {
    "duration": 16,
    "start_time": "2023-04-06T10:57:59.051Z"
   },
   {
    "duration": 25,
    "start_time": "2023-04-06T10:57:59.090Z"
   },
   {
    "duration": 15,
    "start_time": "2023-04-06T10:57:59.117Z"
   },
   {
    "duration": 7,
    "start_time": "2023-04-06T10:57:59.134Z"
   },
   {
    "duration": 47,
    "start_time": "2023-04-06T10:57:59.143Z"
   },
   {
    "duration": 7,
    "start_time": "2023-04-06T10:57:59.191Z"
   },
   {
    "duration": 13,
    "start_time": "2023-04-06T10:57:59.200Z"
   },
   {
    "duration": 12,
    "start_time": "2023-04-06T10:57:59.215Z"
   },
   {
    "duration": 11,
    "start_time": "2023-04-06T10:57:59.229Z"
   },
   {
    "duration": 146,
    "start_time": "2023-04-06T10:57:59.243Z"
   },
   {
    "duration": 0,
    "start_time": "2023-04-06T10:57:59.391Z"
   },
   {
    "duration": 0,
    "start_time": "2023-04-06T10:57:59.393Z"
   },
   {
    "duration": 0,
    "start_time": "2023-04-06T10:57:59.394Z"
   },
   {
    "duration": 0,
    "start_time": "2023-04-06T10:57:59.395Z"
   },
   {
    "duration": 1,
    "start_time": "2023-04-06T10:57:59.396Z"
   },
   {
    "duration": 0,
    "start_time": "2023-04-06T10:57:59.398Z"
   },
   {
    "duration": 0,
    "start_time": "2023-04-06T10:57:59.399Z"
   },
   {
    "duration": 0,
    "start_time": "2023-04-06T10:57:59.400Z"
   },
   {
    "duration": 0,
    "start_time": "2023-04-06T10:57:59.401Z"
   },
   {
    "duration": 0,
    "start_time": "2023-04-06T10:57:59.402Z"
   },
   {
    "duration": 0,
    "start_time": "2023-04-06T10:57:59.403Z"
   },
   {
    "duration": 0,
    "start_time": "2023-04-06T10:57:59.405Z"
   },
   {
    "duration": 0,
    "start_time": "2023-04-06T10:57:59.406Z"
   },
   {
    "duration": 0,
    "start_time": "2023-04-06T10:57:59.407Z"
   },
   {
    "duration": 1257,
    "start_time": "2023-04-06T10:58:37.315Z"
   },
   {
    "duration": 65,
    "start_time": "2023-04-06T10:58:38.574Z"
   },
   {
    "duration": 24,
    "start_time": "2023-04-06T10:58:38.641Z"
   },
   {
    "duration": 25,
    "start_time": "2023-04-06T10:58:38.666Z"
   },
   {
    "duration": 16,
    "start_time": "2023-04-06T10:58:38.693Z"
   },
   {
    "duration": 27,
    "start_time": "2023-04-06T10:58:38.710Z"
   },
   {
    "duration": 11,
    "start_time": "2023-04-06T10:58:38.738Z"
   },
   {
    "duration": 16,
    "start_time": "2023-04-06T10:58:38.750Z"
   },
   {
    "duration": 23,
    "start_time": "2023-04-06T10:58:38.790Z"
   },
   {
    "duration": 9,
    "start_time": "2023-04-06T10:58:38.814Z"
   },
   {
    "duration": 13,
    "start_time": "2023-04-06T10:58:38.825Z"
   },
   {
    "duration": 9,
    "start_time": "2023-04-06T10:58:38.840Z"
   },
   {
    "duration": 809,
    "start_time": "2023-04-06T10:58:38.851Z"
   },
   {
    "duration": 432,
    "start_time": "2023-04-06T10:58:39.663Z"
   },
   {
    "duration": 512,
    "start_time": "2023-04-06T10:58:40.097Z"
   },
   {
    "duration": 426,
    "start_time": "2023-04-06T10:58:40.611Z"
   },
   {
    "duration": 478,
    "start_time": "2023-04-06T10:58:41.039Z"
   },
   {
    "duration": 352,
    "start_time": "2023-04-06T10:58:41.519Z"
   },
   {
    "duration": 17,
    "start_time": "2023-04-06T10:58:41.873Z"
   },
   {
    "duration": 346,
    "start_time": "2023-04-06T10:58:41.892Z"
   },
   {
    "duration": 5,
    "start_time": "2023-04-06T10:58:42.240Z"
   },
   {
    "duration": 243,
    "start_time": "2023-04-06T10:58:42.247Z"
   },
   {
    "duration": 323,
    "start_time": "2023-04-06T10:58:42.493Z"
   },
   {
    "duration": 12,
    "start_time": "2023-04-06T10:58:42.818Z"
   },
   {
    "duration": 13,
    "start_time": "2023-04-06T10:58:42.832Z"
   },
   {
    "duration": 57,
    "start_time": "2023-04-06T10:58:42.846Z"
   },
   {
    "duration": 17,
    "start_time": "2023-04-06T10:58:42.906Z"
   },
   {
    "duration": 26,
    "start_time": "2023-04-06T10:59:12.794Z"
   },
   {
    "duration": 21,
    "start_time": "2023-04-06T10:59:56.298Z"
   },
   {
    "duration": 1210,
    "start_time": "2023-04-06T11:00:23.347Z"
   },
   {
    "duration": 64,
    "start_time": "2023-04-06T11:00:24.559Z"
   },
   {
    "duration": 25,
    "start_time": "2023-04-06T11:00:24.631Z"
   },
   {
    "duration": 18,
    "start_time": "2023-04-06T11:00:24.659Z"
   },
   {
    "duration": 25,
    "start_time": "2023-04-06T11:00:24.678Z"
   },
   {
    "duration": 26,
    "start_time": "2023-04-06T11:00:24.704Z"
   },
   {
    "duration": 11,
    "start_time": "2023-04-06T11:00:24.732Z"
   },
   {
    "duration": 12,
    "start_time": "2023-04-06T11:00:24.745Z"
   },
   {
    "duration": 45,
    "start_time": "2023-04-06T11:00:24.758Z"
   },
   {
    "duration": 8,
    "start_time": "2023-04-06T11:00:24.807Z"
   },
   {
    "duration": 13,
    "start_time": "2023-04-06T11:00:24.818Z"
   },
   {
    "duration": 13,
    "start_time": "2023-04-06T11:00:24.833Z"
   },
   {
    "duration": 781,
    "start_time": "2023-04-06T11:00:24.847Z"
   },
   {
    "duration": 400,
    "start_time": "2023-04-06T11:00:25.630Z"
   },
   {
    "duration": 466,
    "start_time": "2023-04-06T11:00:26.031Z"
   },
   {
    "duration": 409,
    "start_time": "2023-04-06T11:00:26.499Z"
   },
   {
    "duration": 529,
    "start_time": "2023-04-06T11:00:26.910Z"
   },
   {
    "duration": 367,
    "start_time": "2023-04-06T11:00:27.441Z"
   },
   {
    "duration": 5,
    "start_time": "2023-04-06T11:00:27.810Z"
   },
   {
    "duration": 357,
    "start_time": "2023-04-06T11:00:27.817Z"
   },
   {
    "duration": 5,
    "start_time": "2023-04-06T11:00:28.176Z"
   },
   {
    "duration": 244,
    "start_time": "2023-04-06T11:00:28.183Z"
   },
   {
    "duration": 301,
    "start_time": "2023-04-06T11:00:28.429Z"
   },
   {
    "duration": 10,
    "start_time": "2023-04-06T11:00:28.732Z"
   },
   {
    "duration": 18,
    "start_time": "2023-04-06T11:00:28.744Z"
   },
   {
    "duration": 48,
    "start_time": "2023-04-06T11:00:28.763Z"
   },
   {
    "duration": 14,
    "start_time": "2023-04-06T11:00:28.813Z"
   },
   {
    "duration": 25,
    "start_time": "2023-04-06T11:01:06.627Z"
   },
   {
    "duration": 1119,
    "start_time": "2023-04-06T11:01:23.945Z"
   },
   {
    "duration": 61,
    "start_time": "2023-04-06T11:01:25.066Z"
   },
   {
    "duration": 22,
    "start_time": "2023-04-06T11:01:25.129Z"
   },
   {
    "duration": 16,
    "start_time": "2023-04-06T11:01:25.154Z"
   },
   {
    "duration": 16,
    "start_time": "2023-04-06T11:01:25.172Z"
   },
   {
    "duration": 22,
    "start_time": "2023-04-06T11:01:25.190Z"
   },
   {
    "duration": 9,
    "start_time": "2023-04-06T11:01:25.214Z"
   },
   {
    "duration": 7,
    "start_time": "2023-04-06T11:01:25.225Z"
   },
   {
    "duration": 55,
    "start_time": "2023-04-06T11:01:25.234Z"
   },
   {
    "duration": 8,
    "start_time": "2023-04-06T11:01:25.292Z"
   },
   {
    "duration": 12,
    "start_time": "2023-04-06T11:01:25.301Z"
   },
   {
    "duration": 12,
    "start_time": "2023-04-06T11:01:25.314Z"
   },
   {
    "duration": 807,
    "start_time": "2023-04-06T11:01:25.328Z"
   },
   {
    "duration": 400,
    "start_time": "2023-04-06T11:01:26.137Z"
   },
   {
    "duration": 478,
    "start_time": "2023-04-06T11:01:26.539Z"
   },
   {
    "duration": 389,
    "start_time": "2023-04-06T11:01:27.018Z"
   },
   {
    "duration": 546,
    "start_time": "2023-04-06T11:01:27.410Z"
   },
   {
    "duration": 321,
    "start_time": "2023-04-06T11:01:27.958Z"
   },
   {
    "duration": 10,
    "start_time": "2023-04-06T11:01:28.281Z"
   },
   {
    "duration": 305,
    "start_time": "2023-04-06T11:01:28.293Z"
   },
   {
    "duration": 6,
    "start_time": "2023-04-06T11:01:28.600Z"
   },
   {
    "duration": 241,
    "start_time": "2023-04-06T11:01:28.608Z"
   },
   {
    "duration": 276,
    "start_time": "2023-04-06T11:01:28.851Z"
   },
   {
    "duration": 11,
    "start_time": "2023-04-06T11:01:29.128Z"
   },
   {
    "duration": 17,
    "start_time": "2023-04-06T11:01:29.140Z"
   },
   {
    "duration": 41,
    "start_time": "2023-04-06T11:01:29.159Z"
   },
   {
    "duration": 14,
    "start_time": "2023-04-06T11:01:29.202Z"
   },
   {
    "duration": 70,
    "start_time": "2023-04-06T11:02:28.282Z"
   },
   {
    "duration": 350,
    "start_time": "2023-04-06T11:04:26.723Z"
   },
   {
    "duration": 305,
    "start_time": "2023-04-06T11:04:36.211Z"
   },
   {
    "duration": 100,
    "start_time": "2023-04-06T11:13:28.762Z"
   },
   {
    "duration": 400,
    "start_time": "2023-04-06T11:16:01.260Z"
   },
   {
    "duration": 333,
    "start_time": "2023-04-06T11:16:16.835Z"
   },
   {
    "duration": 301,
    "start_time": "2023-04-06T11:17:10.105Z"
   },
   {
    "duration": 85,
    "start_time": "2023-04-06T11:17:33.563Z"
   },
   {
    "duration": 1135,
    "start_time": "2023-04-06T11:19:25.539Z"
   },
   {
    "duration": 64,
    "start_time": "2023-04-06T11:19:26.676Z"
   },
   {
    "duration": 20,
    "start_time": "2023-04-06T11:19:26.742Z"
   },
   {
    "duration": 40,
    "start_time": "2023-04-06T11:19:26.764Z"
   },
   {
    "duration": 16,
    "start_time": "2023-04-06T11:19:26.806Z"
   },
   {
    "duration": 23,
    "start_time": "2023-04-06T11:19:26.824Z"
   },
   {
    "duration": 41,
    "start_time": "2023-04-06T11:19:26.849Z"
   },
   {
    "duration": 8,
    "start_time": "2023-04-06T11:19:26.892Z"
   },
   {
    "duration": 27,
    "start_time": "2023-04-06T11:19:26.902Z"
   },
   {
    "duration": 9,
    "start_time": "2023-04-06T11:19:26.931Z"
   },
   {
    "duration": 21,
    "start_time": "2023-04-06T11:19:26.942Z"
   },
   {
    "duration": 45,
    "start_time": "2023-04-06T11:19:26.965Z"
   },
   {
    "duration": 852,
    "start_time": "2023-04-06T11:19:27.013Z"
   },
   {
    "duration": 390,
    "start_time": "2023-04-06T11:19:27.867Z"
   },
   {
    "duration": 478,
    "start_time": "2023-04-06T11:19:28.258Z"
   },
   {
    "duration": 394,
    "start_time": "2023-04-06T11:19:28.737Z"
   },
   {
    "duration": 489,
    "start_time": "2023-04-06T11:19:29.133Z"
   },
   {
    "duration": 376,
    "start_time": "2023-04-06T11:19:29.624Z"
   },
   {
    "duration": 6,
    "start_time": "2023-04-06T11:19:30.002Z"
   },
   {
    "duration": 400,
    "start_time": "2023-04-06T11:19:30.010Z"
   },
   {
    "duration": 5,
    "start_time": "2023-04-06T11:19:30.412Z"
   },
   {
    "duration": 271,
    "start_time": "2023-04-06T11:19:30.420Z"
   },
   {
    "duration": 282,
    "start_time": "2023-04-06T11:19:30.693Z"
   },
   {
    "duration": 23,
    "start_time": "2023-04-06T11:19:30.977Z"
   },
   {
    "duration": 40,
    "start_time": "2023-04-06T11:19:31.002Z"
   },
   {
    "duration": 54,
    "start_time": "2023-04-06T11:19:31.044Z"
   },
   {
    "duration": 17,
    "start_time": "2023-04-06T11:19:31.100Z"
   },
   {
    "duration": 1018,
    "start_time": "2023-04-07T06:20:39.979Z"
   },
   {
    "duration": 76,
    "start_time": "2023-04-07T06:20:40.999Z"
   },
   {
    "duration": 19,
    "start_time": "2023-04-07T06:20:41.076Z"
   },
   {
    "duration": 26,
    "start_time": "2023-04-07T06:20:41.097Z"
   },
   {
    "duration": 27,
    "start_time": "2023-04-07T06:20:41.124Z"
   },
   {
    "duration": 23,
    "start_time": "2023-04-07T06:20:41.152Z"
   },
   {
    "duration": 23,
    "start_time": "2023-04-07T06:20:41.177Z"
   },
   {
    "duration": 6,
    "start_time": "2023-04-07T06:20:41.202Z"
   },
   {
    "duration": 19,
    "start_time": "2023-04-07T06:20:41.210Z"
   },
   {
    "duration": 6,
    "start_time": "2023-04-07T06:20:41.231Z"
   },
   {
    "duration": 10,
    "start_time": "2023-04-07T06:20:41.238Z"
   },
   {
    "duration": 24,
    "start_time": "2023-04-07T06:20:41.249Z"
   },
   {
    "duration": 631,
    "start_time": "2023-04-07T06:20:41.275Z"
   },
   {
    "duration": 346,
    "start_time": "2023-04-07T06:20:41.908Z"
   },
   {
    "duration": 418,
    "start_time": "2023-04-07T06:20:42.256Z"
   },
   {
    "duration": 313,
    "start_time": "2023-04-07T06:20:42.676Z"
   },
   {
    "duration": 384,
    "start_time": "2023-04-07T06:20:42.990Z"
   },
   {
    "duration": 264,
    "start_time": "2023-04-07T06:20:43.375Z"
   },
   {
    "duration": 4,
    "start_time": "2023-04-07T06:20:43.641Z"
   },
   {
    "duration": 292,
    "start_time": "2023-04-07T06:20:43.646Z"
   },
   {
    "duration": 4,
    "start_time": "2023-04-07T06:20:43.940Z"
   },
   {
    "duration": 214,
    "start_time": "2023-04-07T06:20:43.946Z"
   },
   {
    "duration": 252,
    "start_time": "2023-04-07T06:20:44.161Z"
   },
   {
    "duration": 9,
    "start_time": "2023-04-07T06:20:44.415Z"
   },
   {
    "duration": 26,
    "start_time": "2023-04-07T06:20:44.426Z"
   },
   {
    "duration": 31,
    "start_time": "2023-04-07T06:20:44.453Z"
   },
   {
    "duration": 11,
    "start_time": "2023-04-07T06:20:44.485Z"
   }
  ],
  "kernelspec": {
   "display_name": "Python 3 (ipykernel)",
   "language": "python",
   "name": "python3"
  },
  "language_info": {
   "codemirror_mode": {
    "name": "ipython",
    "version": 3
   },
   "file_extension": ".py",
   "mimetype": "text/x-python",
   "name": "python",
   "nbconvert_exporter": "python",
   "pygments_lexer": "ipython3",
   "version": "3.9.13"
  },
  "toc": {
   "base_numbering": 1,
   "nav_menu": {},
   "number_sections": true,
   "sideBar": true,
   "skip_h1_title": true,
   "title_cell": "Table of Contents",
   "title_sidebar": "Contents",
   "toc_cell": false,
   "toc_position": {},
   "toc_section_display": true,
   "toc_window_display": false
  }
 },
 "nbformat": 4,
 "nbformat_minor": 2
}
